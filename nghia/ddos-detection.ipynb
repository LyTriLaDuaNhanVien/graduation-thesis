{
 "cells": [
  {
   "cell_type": "markdown",
   "id": "54f7081e",
   "metadata": {
    "papermill": {
     "duration": 0.021574,
     "end_time": "2022-10-20T08:02:12.385228",
     "exception": false,
     "start_time": "2022-10-20T08:02:12.363654",
     "status": "completed"
    },
    "tags": []
   },
   "source": [
    "# DDoS Detection on CSE-CIC-IDS2018 AWS Dataset"
   ]
  },
  {
   "cell_type": "markdown",
   "id": "a47eb8cf",
   "metadata": {
    "papermill": {
     "duration": 0.019221,
     "end_time": "2022-10-20T08:02:12.424063",
     "exception": false,
     "start_time": "2022-10-20T08:02:12.404842",
     "status": "completed"
    },
    "tags": []
   },
   "source": [
    "This project aims to create a DDoS Detection Classifier trained on labelled network traffic data."
   ]
  },
  {
   "cell_type": "markdown",
   "id": "4fdca0f8",
   "metadata": {
    "papermill": {
     "duration": 0.019833,
     "end_time": "2022-10-20T08:02:12.463504",
     "exception": false,
     "start_time": "2022-10-20T08:02:12.443671",
     "status": "completed"
    },
    "tags": []
   },
   "source": [
    "We start by importing a few libraries:"
   ]
  },
  {
   "cell_type": "code",
   "execution_count": 1,
   "id": "9cf265c9",
   "metadata": {
    "execution": {
     "iopub.execute_input": "2022-10-20T08:02:12.509360Z",
     "iopub.status.busy": "2022-10-20T08:02:12.508281Z",
     "iopub.status.idle": "2022-10-20T08:02:13.875826Z",
     "shell.execute_reply": "2022-10-20T08:02:13.874699Z"
    },
    "papermill": {
     "duration": 1.394947,
     "end_time": "2022-10-20T08:02:13.878728",
     "exception": false,
     "start_time": "2022-10-20T08:02:12.483781",
     "status": "completed"
    },
    "tags": []
   },
   "outputs": [],
   "source": [
    "import pandas as pd\n",
    "import numpy as np\n",
    "import matplotlib.pyplot as plt\n",
    "import joblib\n",
    "import pickle\n",
    "import sklearn\n",
    "from sklearn.preprocessing import MinMaxScaler\n",
    "from sklearn.ensemble import RandomForestClassifier\n",
    "from sklearn.model_selection import GridSearchCV, train_test_split\n",
    "from sklearn.metrics import accuracy_score, classification_report, confusion_matrix\n",
    "from sklearn.metrics import ConfusionMatrixDisplay\n",
    "from sklearn.utils import class_weight\n",
    "\n",
    "RANDOM_STATE_SEED = 12"
   ]
  },
  {
   "cell_type": "code",
   "execution_count": 2,
   "id": "611883c8",
   "metadata": {
    "execution": {
     "iopub.execute_input": "2022-10-20T08:02:13.918546Z",
     "iopub.status.busy": "2022-10-20T08:02:13.918134Z",
     "iopub.status.idle": "2022-10-20T08:02:27.494196Z",
     "shell.execute_reply": "2022-10-20T08:02:27.492942Z"
    },
    "papermill": {
     "duration": 13.59917,
     "end_time": "2022-10-20T08:02:27.496948",
     "exception": false,
     "start_time": "2022-10-20T08:02:13.897778",
     "status": "completed"
    },
    "tags": []
   },
   "outputs": [],
   "source": [
    "# read the data\n",
    "# file chay dc: 02-14-2018.csv\n",
    "df_dataset = pd.read_csv(\"ddos_detection/02-14-2018.csv\")"
   ]
  },
  {
   "cell_type": "code",
   "execution_count": 3,
   "id": "32981221",
   "metadata": {
    "execution": {
     "iopub.execute_input": "2022-10-20T08:02:27.537296Z",
     "iopub.status.busy": "2022-10-20T08:02:27.536876Z",
     "iopub.status.idle": "2022-10-20T08:02:27.835220Z",
     "shell.execute_reply": "2022-10-20T08:02:27.833958Z"
    },
    "papermill": {
     "duration": 0.322201,
     "end_time": "2022-10-20T08:02:27.838319",
     "exception": false,
     "start_time": "2022-10-20T08:02:27.516118",
     "status": "completed"
    },
    "tags": []
   },
   "outputs": [
    {
     "data": {
      "text/html": [
       "<div>\n",
       "<style scoped>\n",
       "    .dataframe tbody tr th:only-of-type {\n",
       "        vertical-align: middle;\n",
       "    }\n",
       "\n",
       "    .dataframe tbody tr th {\n",
       "        vertical-align: top;\n",
       "    }\n",
       "\n",
       "    .dataframe thead th {\n",
       "        text-align: right;\n",
       "    }\n",
       "</style>\n",
       "<table border=\"1\" class=\"dataframe\">\n",
       "  <thead>\n",
       "    <tr style=\"text-align: right;\">\n",
       "      <th></th>\n",
       "      <th>Dst Port</th>\n",
       "      <th>Protocol</th>\n",
       "      <th>Timestamp</th>\n",
       "      <th>Flow Duration</th>\n",
       "      <th>Tot Fwd Pkts</th>\n",
       "      <th>Tot Bwd Pkts</th>\n",
       "      <th>TotLen Fwd Pkts</th>\n",
       "      <th>TotLen Bwd Pkts</th>\n",
       "      <th>Fwd Pkt Len Max</th>\n",
       "      <th>Fwd Pkt Len Min</th>\n",
       "      <th>...</th>\n",
       "      <th>Fwd Seg Size Min</th>\n",
       "      <th>Active Mean</th>\n",
       "      <th>Active Std</th>\n",
       "      <th>Active Max</th>\n",
       "      <th>Active Min</th>\n",
       "      <th>Idle Mean</th>\n",
       "      <th>Idle Std</th>\n",
       "      <th>Idle Max</th>\n",
       "      <th>Idle Min</th>\n",
       "      <th>Label</th>\n",
       "    </tr>\n",
       "  </thead>\n",
       "  <tbody>\n",
       "    <tr>\n",
       "      <th>0</th>\n",
       "      <td>0</td>\n",
       "      <td>0</td>\n",
       "      <td>14/02/2018 08:31:01</td>\n",
       "      <td>112641719</td>\n",
       "      <td>3</td>\n",
       "      <td>0</td>\n",
       "      <td>0</td>\n",
       "      <td>0</td>\n",
       "      <td>0</td>\n",
       "      <td>0</td>\n",
       "      <td>...</td>\n",
       "      <td>0</td>\n",
       "      <td>0.0</td>\n",
       "      <td>0.0</td>\n",
       "      <td>0</td>\n",
       "      <td>0</td>\n",
       "      <td>56320859.5</td>\n",
       "      <td>139.300036</td>\n",
       "      <td>56320958</td>\n",
       "      <td>56320761</td>\n",
       "      <td>Benign</td>\n",
       "    </tr>\n",
       "    <tr>\n",
       "      <th>1</th>\n",
       "      <td>0</td>\n",
       "      <td>0</td>\n",
       "      <td>14/02/2018 08:33:50</td>\n",
       "      <td>112641466</td>\n",
       "      <td>3</td>\n",
       "      <td>0</td>\n",
       "      <td>0</td>\n",
       "      <td>0</td>\n",
       "      <td>0</td>\n",
       "      <td>0</td>\n",
       "      <td>...</td>\n",
       "      <td>0</td>\n",
       "      <td>0.0</td>\n",
       "      <td>0.0</td>\n",
       "      <td>0</td>\n",
       "      <td>0</td>\n",
       "      <td>56320733.0</td>\n",
       "      <td>114.551299</td>\n",
       "      <td>56320814</td>\n",
       "      <td>56320652</td>\n",
       "      <td>Benign</td>\n",
       "    </tr>\n",
       "    <tr>\n",
       "      <th>2</th>\n",
       "      <td>0</td>\n",
       "      <td>0</td>\n",
       "      <td>14/02/2018 08:36:39</td>\n",
       "      <td>112638623</td>\n",
       "      <td>3</td>\n",
       "      <td>0</td>\n",
       "      <td>0</td>\n",
       "      <td>0</td>\n",
       "      <td>0</td>\n",
       "      <td>0</td>\n",
       "      <td>...</td>\n",
       "      <td>0</td>\n",
       "      <td>0.0</td>\n",
       "      <td>0.0</td>\n",
       "      <td>0</td>\n",
       "      <td>0</td>\n",
       "      <td>56319311.5</td>\n",
       "      <td>301.934596</td>\n",
       "      <td>56319525</td>\n",
       "      <td>56319098</td>\n",
       "      <td>Benign</td>\n",
       "    </tr>\n",
       "    <tr>\n",
       "      <th>3</th>\n",
       "      <td>22</td>\n",
       "      <td>6</td>\n",
       "      <td>14/02/2018 08:40:13</td>\n",
       "      <td>6453966</td>\n",
       "      <td>15</td>\n",
       "      <td>10</td>\n",
       "      <td>1239</td>\n",
       "      <td>2273</td>\n",
       "      <td>744</td>\n",
       "      <td>0</td>\n",
       "      <td>...</td>\n",
       "      <td>32</td>\n",
       "      <td>0.0</td>\n",
       "      <td>0.0</td>\n",
       "      <td>0</td>\n",
       "      <td>0</td>\n",
       "      <td>0.0</td>\n",
       "      <td>0.000000</td>\n",
       "      <td>0</td>\n",
       "      <td>0</td>\n",
       "      <td>Benign</td>\n",
       "    </tr>\n",
       "    <tr>\n",
       "      <th>4</th>\n",
       "      <td>22</td>\n",
       "      <td>6</td>\n",
       "      <td>14/02/2018 08:40:23</td>\n",
       "      <td>8804066</td>\n",
       "      <td>14</td>\n",
       "      <td>11</td>\n",
       "      <td>1143</td>\n",
       "      <td>2209</td>\n",
       "      <td>744</td>\n",
       "      <td>0</td>\n",
       "      <td>...</td>\n",
       "      <td>32</td>\n",
       "      <td>0.0</td>\n",
       "      <td>0.0</td>\n",
       "      <td>0</td>\n",
       "      <td>0</td>\n",
       "      <td>0.0</td>\n",
       "      <td>0.000000</td>\n",
       "      <td>0</td>\n",
       "      <td>0</td>\n",
       "      <td>Benign</td>\n",
       "    </tr>\n",
       "    <tr>\n",
       "      <th>...</th>\n",
       "      <td>...</td>\n",
       "      <td>...</td>\n",
       "      <td>...</td>\n",
       "      <td>...</td>\n",
       "      <td>...</td>\n",
       "      <td>...</td>\n",
       "      <td>...</td>\n",
       "      <td>...</td>\n",
       "      <td>...</td>\n",
       "      <td>...</td>\n",
       "      <td>...</td>\n",
       "      <td>...</td>\n",
       "      <td>...</td>\n",
       "      <td>...</td>\n",
       "      <td>...</td>\n",
       "      <td>...</td>\n",
       "      <td>...</td>\n",
       "      <td>...</td>\n",
       "      <td>...</td>\n",
       "      <td>...</td>\n",
       "      <td>...</td>\n",
       "    </tr>\n",
       "    <tr>\n",
       "      <th>1048570</th>\n",
       "      <td>80</td>\n",
       "      <td>6</td>\n",
       "      <td>14/02/2018 10:53:23</td>\n",
       "      <td>10156986</td>\n",
       "      <td>5</td>\n",
       "      <td>5</td>\n",
       "      <td>1089</td>\n",
       "      <td>1923</td>\n",
       "      <td>587</td>\n",
       "      <td>0</td>\n",
       "      <td>...</td>\n",
       "      <td>20</td>\n",
       "      <td>0.0</td>\n",
       "      <td>0.0</td>\n",
       "      <td>0</td>\n",
       "      <td>0</td>\n",
       "      <td>0.0</td>\n",
       "      <td>0.000000</td>\n",
       "      <td>0</td>\n",
       "      <td>0</td>\n",
       "      <td>Benign</td>\n",
       "    </tr>\n",
       "    <tr>\n",
       "      <th>1048571</th>\n",
       "      <td>80</td>\n",
       "      <td>6</td>\n",
       "      <td>14/02/2018 10:53:33</td>\n",
       "      <td>117</td>\n",
       "      <td>2</td>\n",
       "      <td>0</td>\n",
       "      <td>0</td>\n",
       "      <td>0</td>\n",
       "      <td>0</td>\n",
       "      <td>0</td>\n",
       "      <td>...</td>\n",
       "      <td>20</td>\n",
       "      <td>0.0</td>\n",
       "      <td>0.0</td>\n",
       "      <td>0</td>\n",
       "      <td>0</td>\n",
       "      <td>0.0</td>\n",
       "      <td>0.000000</td>\n",
       "      <td>0</td>\n",
       "      <td>0</td>\n",
       "      <td>Benign</td>\n",
       "    </tr>\n",
       "    <tr>\n",
       "      <th>1048572</th>\n",
       "      <td>80</td>\n",
       "      <td>6</td>\n",
       "      <td>14/02/2018 10:53:28</td>\n",
       "      <td>5095331</td>\n",
       "      <td>3</td>\n",
       "      <td>1</td>\n",
       "      <td>0</td>\n",
       "      <td>0</td>\n",
       "      <td>0</td>\n",
       "      <td>0</td>\n",
       "      <td>...</td>\n",
       "      <td>20</td>\n",
       "      <td>0.0</td>\n",
       "      <td>0.0</td>\n",
       "      <td>0</td>\n",
       "      <td>0</td>\n",
       "      <td>0.0</td>\n",
       "      <td>0.000000</td>\n",
       "      <td>0</td>\n",
       "      <td>0</td>\n",
       "      <td>Benign</td>\n",
       "    </tr>\n",
       "    <tr>\n",
       "      <th>1048573</th>\n",
       "      <td>80</td>\n",
       "      <td>6</td>\n",
       "      <td>14/02/2018 10:53:28</td>\n",
       "      <td>5235511</td>\n",
       "      <td>3</td>\n",
       "      <td>1</td>\n",
       "      <td>0</td>\n",
       "      <td>0</td>\n",
       "      <td>0</td>\n",
       "      <td>0</td>\n",
       "      <td>...</td>\n",
       "      <td>20</td>\n",
       "      <td>0.0</td>\n",
       "      <td>0.0</td>\n",
       "      <td>0</td>\n",
       "      <td>0</td>\n",
       "      <td>0.0</td>\n",
       "      <td>0.000000</td>\n",
       "      <td>0</td>\n",
       "      <td>0</td>\n",
       "      <td>Benign</td>\n",
       "    </tr>\n",
       "    <tr>\n",
       "      <th>1048574</th>\n",
       "      <td>443</td>\n",
       "      <td>6</td>\n",
       "      <td>14/02/2018 10:53:28</td>\n",
       "      <td>5807256</td>\n",
       "      <td>6</td>\n",
       "      <td>4</td>\n",
       "      <td>327</td>\n",
       "      <td>145</td>\n",
       "      <td>245</td>\n",
       "      <td>0</td>\n",
       "      <td>...</td>\n",
       "      <td>20</td>\n",
       "      <td>291569.0</td>\n",
       "      <td>0.0</td>\n",
       "      <td>291569</td>\n",
       "      <td>291569</td>\n",
       "      <td>5515650.0</td>\n",
       "      <td>0.000000</td>\n",
       "      <td>5515650</td>\n",
       "      <td>5515650</td>\n",
       "      <td>Benign</td>\n",
       "    </tr>\n",
       "  </tbody>\n",
       "</table>\n",
       "<p>1048575 rows × 80 columns</p>\n",
       "</div>"
      ],
      "text/plain": [
       "         Dst Port  Protocol            Timestamp  Flow Duration  Tot Fwd Pkts  \\\n",
       "0               0         0  14/02/2018 08:31:01      112641719             3   \n",
       "1               0         0  14/02/2018 08:33:50      112641466             3   \n",
       "2               0         0  14/02/2018 08:36:39      112638623             3   \n",
       "3              22         6  14/02/2018 08:40:13        6453966            15   \n",
       "4              22         6  14/02/2018 08:40:23        8804066            14   \n",
       "...           ...       ...                  ...            ...           ...   \n",
       "1048570        80         6  14/02/2018 10:53:23       10156986             5   \n",
       "1048571        80         6  14/02/2018 10:53:33            117             2   \n",
       "1048572        80         6  14/02/2018 10:53:28        5095331             3   \n",
       "1048573        80         6  14/02/2018 10:53:28        5235511             3   \n",
       "1048574       443         6  14/02/2018 10:53:28        5807256             6   \n",
       "\n",
       "         Tot Bwd Pkts  TotLen Fwd Pkts  TotLen Bwd Pkts  Fwd Pkt Len Max  \\\n",
       "0                   0                0                0                0   \n",
       "1                   0                0                0                0   \n",
       "2                   0                0                0                0   \n",
       "3                  10             1239             2273              744   \n",
       "4                  11             1143             2209              744   \n",
       "...               ...              ...              ...              ...   \n",
       "1048570             5             1089             1923              587   \n",
       "1048571             0                0                0                0   \n",
       "1048572             1                0                0                0   \n",
       "1048573             1                0                0                0   \n",
       "1048574             4              327              145              245   \n",
       "\n",
       "         Fwd Pkt Len Min  ...  Fwd Seg Size Min  Active Mean  Active Std  \\\n",
       "0                      0  ...                 0          0.0         0.0   \n",
       "1                      0  ...                 0          0.0         0.0   \n",
       "2                      0  ...                 0          0.0         0.0   \n",
       "3                      0  ...                32          0.0         0.0   \n",
       "4                      0  ...                32          0.0         0.0   \n",
       "...                  ...  ...               ...          ...         ...   \n",
       "1048570                0  ...                20          0.0         0.0   \n",
       "1048571                0  ...                20          0.0         0.0   \n",
       "1048572                0  ...                20          0.0         0.0   \n",
       "1048573                0  ...                20          0.0         0.0   \n",
       "1048574                0  ...                20     291569.0         0.0   \n",
       "\n",
       "         Active Max  Active Min   Idle Mean    Idle Std  Idle Max  Idle Min  \\\n",
       "0                 0           0  56320859.5  139.300036  56320958  56320761   \n",
       "1                 0           0  56320733.0  114.551299  56320814  56320652   \n",
       "2                 0           0  56319311.5  301.934596  56319525  56319098   \n",
       "3                 0           0         0.0    0.000000         0         0   \n",
       "4                 0           0         0.0    0.000000         0         0   \n",
       "...             ...         ...         ...         ...       ...       ...   \n",
       "1048570           0           0         0.0    0.000000         0         0   \n",
       "1048571           0           0         0.0    0.000000         0         0   \n",
       "1048572           0           0         0.0    0.000000         0         0   \n",
       "1048573           0           0         0.0    0.000000         0         0   \n",
       "1048574      291569      291569   5515650.0    0.000000   5515650   5515650   \n",
       "\n",
       "          Label  \n",
       "0        Benign  \n",
       "1        Benign  \n",
       "2        Benign  \n",
       "3        Benign  \n",
       "4        Benign  \n",
       "...         ...  \n",
       "1048570  Benign  \n",
       "1048571  Benign  \n",
       "1048572  Benign  \n",
       "1048573  Benign  \n",
       "1048574  Benign  \n",
       "\n",
       "[1048575 rows x 80 columns]"
      ]
     },
     "execution_count": 3,
     "metadata": {},
     "output_type": "execute_result"
    }
   ],
   "source": [
    "# display data\n",
    "df_dataset"
   ]
  },
  {
   "cell_type": "code",
   "execution_count": 4,
   "id": "77bc0cb1",
   "metadata": {
    "execution": {
     "iopub.execute_input": "2022-10-20T08:02:27.880983Z",
     "iopub.status.busy": "2022-10-20T08:02:27.880573Z",
     "iopub.status.idle": "2022-10-20T08:02:28.158805Z",
     "shell.execute_reply": "2022-10-20T08:02:28.157844Z"
    },
    "papermill": {
     "duration": 0.303408,
     "end_time": "2022-10-20T08:02:28.162079",
     "exception": false,
     "start_time": "2022-10-20T08:02:27.858671",
     "status": "completed"
    },
    "tags": []
   },
   "outputs": [
    {
     "name": "stdout",
     "output_type": "stream",
     "text": [
      "<class 'pandas.core.frame.DataFrame'>\n",
      "RangeIndex: 1048575 entries, 0 to 1048574\n",
      "Data columns (total 80 columns):\n",
      " #   Column             Non-Null Count    Dtype  \n",
      "---  ------             --------------    -----  \n",
      " 0   Dst Port           1048575 non-null  int64  \n",
      " 1   Protocol           1048575 non-null  int64  \n",
      " 2   Timestamp          1048575 non-null  object \n",
      " 3   Flow Duration      1048575 non-null  int64  \n",
      " 4   Tot Fwd Pkts       1048575 non-null  int64  \n",
      " 5   Tot Bwd Pkts       1048575 non-null  int64  \n",
      " 6   TotLen Fwd Pkts    1048575 non-null  int64  \n",
      " 7   TotLen Bwd Pkts    1048575 non-null  int64  \n",
      " 8   Fwd Pkt Len Max    1048575 non-null  int64  \n",
      " 9   Fwd Pkt Len Min    1048575 non-null  int64  \n",
      " 10  Fwd Pkt Len Mean   1048575 non-null  float64\n",
      " 11  Fwd Pkt Len Std    1048575 non-null  float64\n",
      " 12  Bwd Pkt Len Max    1048575 non-null  int64  \n",
      " 13  Bwd Pkt Len Min    1048575 non-null  int64  \n",
      " 14  Bwd Pkt Len Mean   1048575 non-null  float64\n",
      " 15  Bwd Pkt Len Std    1048575 non-null  float64\n",
      " 16  Flow Byts/s        1046298 non-null  float64\n",
      " 17  Flow Pkts/s        1048575 non-null  float64\n",
      " 18  Flow IAT Mean      1048575 non-null  float64\n",
      " 19  Flow IAT Std       1048575 non-null  float64\n",
      " 20  Flow IAT Max       1048575 non-null  int64  \n",
      " 21  Flow IAT Min       1048575 non-null  int64  \n",
      " 22  Fwd IAT Tot        1048575 non-null  int64  \n",
      " 23  Fwd IAT Mean       1048575 non-null  float64\n",
      " 24  Fwd IAT Std        1048575 non-null  float64\n",
      " 25  Fwd IAT Max        1048575 non-null  int64  \n",
      " 26  Fwd IAT Min        1048575 non-null  int64  \n",
      " 27  Bwd IAT Tot        1048575 non-null  int64  \n",
      " 28  Bwd IAT Mean       1048575 non-null  float64\n",
      " 29  Bwd IAT Std        1048575 non-null  float64\n",
      " 30  Bwd IAT Max        1048575 non-null  int64  \n",
      " 31  Bwd IAT Min        1048575 non-null  int64  \n",
      " 32  Fwd PSH Flags      1048575 non-null  int64  \n",
      " 33  Bwd PSH Flags      1048575 non-null  int64  \n",
      " 34  Fwd URG Flags      1048575 non-null  int64  \n",
      " 35  Bwd URG Flags      1048575 non-null  int64  \n",
      " 36  Fwd Header Len     1048575 non-null  int64  \n",
      " 37  Bwd Header Len     1048575 non-null  int64  \n",
      " 38  Fwd Pkts/s         1048575 non-null  float64\n",
      " 39  Bwd Pkts/s         1048575 non-null  float64\n",
      " 40  Pkt Len Min        1048575 non-null  int64  \n",
      " 41  Pkt Len Max        1048575 non-null  int64  \n",
      " 42  Pkt Len Mean       1048575 non-null  float64\n",
      " 43  Pkt Len Std        1048575 non-null  float64\n",
      " 44  Pkt Len Var        1048575 non-null  float64\n",
      " 45  FIN Flag Cnt       1048575 non-null  int64  \n",
      " 46  SYN Flag Cnt       1048575 non-null  int64  \n",
      " 47  RST Flag Cnt       1048575 non-null  int64  \n",
      " 48  PSH Flag Cnt       1048575 non-null  int64  \n",
      " 49  ACK Flag Cnt       1048575 non-null  int64  \n",
      " 50  URG Flag Cnt       1048575 non-null  int64  \n",
      " 51  CWE Flag Count     1048575 non-null  int64  \n",
      " 52  ECE Flag Cnt       1048575 non-null  int64  \n",
      " 53  Down/Up Ratio      1048575 non-null  int64  \n",
      " 54  Pkt Size Avg       1048575 non-null  float64\n",
      " 55  Fwd Seg Size Avg   1048575 non-null  float64\n",
      " 56  Bwd Seg Size Avg   1048575 non-null  float64\n",
      " 57  Fwd Byts/b Avg     1048575 non-null  int64  \n",
      " 58  Fwd Pkts/b Avg     1048575 non-null  int64  \n",
      " 59  Fwd Blk Rate Avg   1048575 non-null  int64  \n",
      " 60  Bwd Byts/b Avg     1048575 non-null  int64  \n",
      " 61  Bwd Pkts/b Avg     1048575 non-null  int64  \n",
      " 62  Bwd Blk Rate Avg   1048575 non-null  int64  \n",
      " 63  Subflow Fwd Pkts   1048575 non-null  int64  \n",
      " 64  Subflow Fwd Byts   1048575 non-null  int64  \n",
      " 65  Subflow Bwd Pkts   1048575 non-null  int64  \n",
      " 66  Subflow Bwd Byts   1048575 non-null  int64  \n",
      " 67  Init Fwd Win Byts  1048575 non-null  int64  \n",
      " 68  Init Bwd Win Byts  1048575 non-null  int64  \n",
      " 69  Fwd Act Data Pkts  1048575 non-null  int64  \n",
      " 70  Fwd Seg Size Min   1048575 non-null  int64  \n",
      " 71  Active Mean        1048575 non-null  float64\n",
      " 72  Active Std         1048575 non-null  float64\n",
      " 73  Active Max         1048575 non-null  int64  \n",
      " 74  Active Min         1048575 non-null  int64  \n",
      " 75  Idle Mean          1048575 non-null  float64\n",
      " 76  Idle Std           1048575 non-null  float64\n",
      " 77  Idle Max           1048575 non-null  int64  \n",
      " 78  Idle Min           1048575 non-null  int64  \n",
      " 79  Label              1048575 non-null  object \n",
      "dtypes: float64(24), int64(54), object(2)\n",
      "memory usage: 640.0+ MB\n"
     ]
    }
   ],
   "source": [
    "# feature information\n",
    "df_dataset.info()"
   ]
  },
  {
   "cell_type": "code",
   "execution_count": 5,
   "id": "70d00848",
   "metadata": {
    "execution": {
     "iopub.execute_input": "2022-10-20T08:02:28.205928Z",
     "iopub.status.busy": "2022-10-20T08:02:28.204871Z",
     "iopub.status.idle": "2022-10-20T08:02:28.609426Z",
     "shell.execute_reply": "2022-10-20T08:02:28.608310Z"
    },
    "papermill": {
     "duration": 0.429205,
     "end_time": "2022-10-20T08:02:28.612165",
     "exception": false,
     "start_time": "2022-10-20T08:02:28.182960",
     "status": "completed"
    },
    "tags": []
   },
   "outputs": [],
   "source": [
    "# replace +ve and -ve infinity with NaN\n",
    "df_dataset.replace([np.inf, -np.inf], np.nan, inplace=True)"
   ]
  },
  {
   "cell_type": "code",
   "execution_count": 6,
   "id": "1a9351df",
   "metadata": {
    "execution": {
     "iopub.execute_input": "2022-10-20T08:02:28.653290Z",
     "iopub.status.busy": "2022-10-20T08:02:28.652854Z",
     "iopub.status.idle": "2022-10-20T08:02:32.255895Z",
     "shell.execute_reply": "2022-10-20T08:02:32.254874Z"
    },
    "papermill": {
     "duration": 3.627403,
     "end_time": "2022-10-20T08:02:32.259176",
     "exception": false,
     "start_time": "2022-10-20T08:02:28.631773",
     "status": "completed"
    },
    "tags": []
   },
   "outputs": [
    {
     "data": {
      "text/html": [
       "<div>\n",
       "<style scoped>\n",
       "    .dataframe tbody tr th:only-of-type {\n",
       "        vertical-align: middle;\n",
       "    }\n",
       "\n",
       "    .dataframe tbody tr th {\n",
       "        vertical-align: top;\n",
       "    }\n",
       "\n",
       "    .dataframe thead th {\n",
       "        text-align: right;\n",
       "    }\n",
       "</style>\n",
       "<table border=\"1\" class=\"dataframe\">\n",
       "  <thead>\n",
       "    <tr style=\"text-align: right;\">\n",
       "      <th></th>\n",
       "      <th>Dst Port</th>\n",
       "      <th>Protocol</th>\n",
       "      <th>Flow Duration</th>\n",
       "      <th>Tot Fwd Pkts</th>\n",
       "      <th>Tot Bwd Pkts</th>\n",
       "      <th>TotLen Fwd Pkts</th>\n",
       "      <th>TotLen Bwd Pkts</th>\n",
       "      <th>Fwd Pkt Len Max</th>\n",
       "      <th>Fwd Pkt Len Min</th>\n",
       "      <th>Fwd Pkt Len Mean</th>\n",
       "      <th>...</th>\n",
       "      <th>Fwd Act Data Pkts</th>\n",
       "      <th>Fwd Seg Size Min</th>\n",
       "      <th>Active Mean</th>\n",
       "      <th>Active Std</th>\n",
       "      <th>Active Max</th>\n",
       "      <th>Active Min</th>\n",
       "      <th>Idle Mean</th>\n",
       "      <th>Idle Std</th>\n",
       "      <th>Idle Max</th>\n",
       "      <th>Idle Min</th>\n",
       "    </tr>\n",
       "  </thead>\n",
       "  <tbody>\n",
       "    <tr>\n",
       "      <th>count</th>\n",
       "      <td>1.048575e+06</td>\n",
       "      <td>1.048575e+06</td>\n",
       "      <td>1.048575e+06</td>\n",
       "      <td>1.048575e+06</td>\n",
       "      <td>1.048575e+06</td>\n",
       "      <td>1.048575e+06</td>\n",
       "      <td>1.048575e+06</td>\n",
       "      <td>1.048575e+06</td>\n",
       "      <td>1.048575e+06</td>\n",
       "      <td>1.048575e+06</td>\n",
       "      <td>...</td>\n",
       "      <td>1.048575e+06</td>\n",
       "      <td>1.048575e+06</td>\n",
       "      <td>1.048575e+06</td>\n",
       "      <td>1.048575e+06</td>\n",
       "      <td>1.048575e+06</td>\n",
       "      <td>1.048575e+06</td>\n",
       "      <td>1.048575e+06</td>\n",
       "      <td>1.048575e+06</td>\n",
       "      <td>1.048575e+06</td>\n",
       "      <td>1.048575e+06</td>\n",
       "    </tr>\n",
       "    <tr>\n",
       "      <th>mean</th>\n",
       "      <td>4.876262e+03</td>\n",
       "      <td>8.107557e+00</td>\n",
       "      <td>6.255555e+06</td>\n",
       "      <td>6.206622e+00</td>\n",
       "      <td>7.211191e+00</td>\n",
       "      <td>4.479936e+02</td>\n",
       "      <td>4.521803e+03</td>\n",
       "      <td>1.745736e+02</td>\n",
       "      <td>8.389535e+00</td>\n",
       "      <td>3.879579e+01</td>\n",
       "      <td>...</td>\n",
       "      <td>2.793536e+00</td>\n",
       "      <td>2.327970e+01</td>\n",
       "      <td>5.152449e+04</td>\n",
       "      <td>2.136151e+04</td>\n",
       "      <td>8.789157e+04</td>\n",
       "      <td>3.995477e+04</td>\n",
       "      <td>3.101206e+06</td>\n",
       "      <td>7.297218e+05</td>\n",
       "      <td>4.812391e+06</td>\n",
       "      <td>2.126920e+06</td>\n",
       "    </tr>\n",
       "    <tr>\n",
       "      <th>std</th>\n",
       "      <td>1.444344e+04</td>\n",
       "      <td>4.460625e+00</td>\n",
       "      <td>1.260291e+09</td>\n",
       "      <td>4.447851e+01</td>\n",
       "      <td>1.048682e+02</td>\n",
       "      <td>1.573541e+04</td>\n",
       "      <td>1.515021e+05</td>\n",
       "      <td>2.876713e+02</td>\n",
       "      <td>1.948279e+01</td>\n",
       "      <td>5.331882e+01</td>\n",
       "      <td>...</td>\n",
       "      <td>5.557106e+00</td>\n",
       "      <td>1.106185e+01</td>\n",
       "      <td>5.815586e+05</td>\n",
       "      <td>2.186405e+05</td>\n",
       "      <td>7.395725e+05</td>\n",
       "      <td>5.602693e+05</td>\n",
       "      <td>5.414780e+08</td>\n",
       "      <td>3.820031e+08</td>\n",
       "      <td>1.522117e+09</td>\n",
       "      <td>1.817013e+07</td>\n",
       "    </tr>\n",
       "    <tr>\n",
       "      <th>min</th>\n",
       "      <td>0.000000e+00</td>\n",
       "      <td>0.000000e+00</td>\n",
       "      <td>-9.190110e+11</td>\n",
       "      <td>1.000000e+00</td>\n",
       "      <td>0.000000e+00</td>\n",
       "      <td>0.000000e+00</td>\n",
       "      <td>0.000000e+00</td>\n",
       "      <td>0.000000e+00</td>\n",
       "      <td>0.000000e+00</td>\n",
       "      <td>0.000000e+00</td>\n",
       "      <td>...</td>\n",
       "      <td>0.000000e+00</td>\n",
       "      <td>0.000000e+00</td>\n",
       "      <td>0.000000e+00</td>\n",
       "      <td>0.000000e+00</td>\n",
       "      <td>0.000000e+00</td>\n",
       "      <td>0.000000e+00</td>\n",
       "      <td>0.000000e+00</td>\n",
       "      <td>0.000000e+00</td>\n",
       "      <td>0.000000e+00</td>\n",
       "      <td>0.000000e+00</td>\n",
       "    </tr>\n",
       "    <tr>\n",
       "      <th>25%</th>\n",
       "      <td>2.200000e+01</td>\n",
       "      <td>6.000000e+00</td>\n",
       "      <td>7.000000e+00</td>\n",
       "      <td>1.000000e+00</td>\n",
       "      <td>1.000000e+00</td>\n",
       "      <td>0.000000e+00</td>\n",
       "      <td>0.000000e+00</td>\n",
       "      <td>0.000000e+00</td>\n",
       "      <td>0.000000e+00</td>\n",
       "      <td>0.000000e+00</td>\n",
       "      <td>...</td>\n",
       "      <td>0.000000e+00</td>\n",
       "      <td>2.000000e+01</td>\n",
       "      <td>0.000000e+00</td>\n",
       "      <td>0.000000e+00</td>\n",
       "      <td>0.000000e+00</td>\n",
       "      <td>0.000000e+00</td>\n",
       "      <td>0.000000e+00</td>\n",
       "      <td>0.000000e+00</td>\n",
       "      <td>0.000000e+00</td>\n",
       "      <td>0.000000e+00</td>\n",
       "    </tr>\n",
       "    <tr>\n",
       "      <th>50%</th>\n",
       "      <td>5.300000e+01</td>\n",
       "      <td>6.000000e+00</td>\n",
       "      <td>1.023000e+03</td>\n",
       "      <td>2.000000e+00</td>\n",
       "      <td>1.000000e+00</td>\n",
       "      <td>3.600000e+01</td>\n",
       "      <td>5.500000e+01</td>\n",
       "      <td>3.400000e+01</td>\n",
       "      <td>0.000000e+00</td>\n",
       "      <td>2.566667e+01</td>\n",
       "      <td>...</td>\n",
       "      <td>0.000000e+00</td>\n",
       "      <td>2.000000e+01</td>\n",
       "      <td>0.000000e+00</td>\n",
       "      <td>0.000000e+00</td>\n",
       "      <td>0.000000e+00</td>\n",
       "      <td>0.000000e+00</td>\n",
       "      <td>0.000000e+00</td>\n",
       "      <td>0.000000e+00</td>\n",
       "      <td>0.000000e+00</td>\n",
       "      <td>0.000000e+00</td>\n",
       "    </tr>\n",
       "    <tr>\n",
       "      <th>75%</th>\n",
       "      <td>4.430000e+02</td>\n",
       "      <td>6.000000e+00</td>\n",
       "      <td>4.066690e+05</td>\n",
       "      <td>7.000000e+00</td>\n",
       "      <td>6.000000e+00</td>\n",
       "      <td>4.550000e+02</td>\n",
       "      <td>7.680000e+02</td>\n",
       "      <td>1.990000e+02</td>\n",
       "      <td>0.000000e+00</td>\n",
       "      <td>5.550000e+01</td>\n",
       "      <td>...</td>\n",
       "      <td>4.000000e+00</td>\n",
       "      <td>3.200000e+01</td>\n",
       "      <td>0.000000e+00</td>\n",
       "      <td>0.000000e+00</td>\n",
       "      <td>0.000000e+00</td>\n",
       "      <td>0.000000e+00</td>\n",
       "      <td>0.000000e+00</td>\n",
       "      <td>0.000000e+00</td>\n",
       "      <td>0.000000e+00</td>\n",
       "      <td>0.000000e+00</td>\n",
       "    </tr>\n",
       "    <tr>\n",
       "      <th>max</th>\n",
       "      <td>6.553300e+04</td>\n",
       "      <td>1.700000e+01</td>\n",
       "      <td>1.200000e+08</td>\n",
       "      <td>5.115000e+03</td>\n",
       "      <td>9.198000e+03</td>\n",
       "      <td>8.591554e+06</td>\n",
       "      <td>1.339773e+07</td>\n",
       "      <td>6.444000e+04</td>\n",
       "      <td>1.460000e+03</td>\n",
       "      <td>1.121703e+04</td>\n",
       "      <td>...</td>\n",
       "      <td>1.031000e+03</td>\n",
       "      <td>4.800000e+01</td>\n",
       "      <td>1.102401e+08</td>\n",
       "      <td>5.723446e+07</td>\n",
       "      <td>1.102401e+08</td>\n",
       "      <td>1.102401e+08</td>\n",
       "      <td>3.394503e+11</td>\n",
       "      <td>2.432682e+11</td>\n",
       "      <td>9.797810e+11</td>\n",
       "      <td>1.260300e+10</td>\n",
       "    </tr>\n",
       "  </tbody>\n",
       "</table>\n",
       "<p>8 rows × 78 columns</p>\n",
       "</div>"
      ],
      "text/plain": [
       "           Dst Port      Protocol  Flow Duration  Tot Fwd Pkts  Tot Bwd Pkts  \\\n",
       "count  1.048575e+06  1.048575e+06   1.048575e+06  1.048575e+06  1.048575e+06   \n",
       "mean   4.876262e+03  8.107557e+00   6.255555e+06  6.206622e+00  7.211191e+00   \n",
       "std    1.444344e+04  4.460625e+00   1.260291e+09  4.447851e+01  1.048682e+02   \n",
       "min    0.000000e+00  0.000000e+00  -9.190110e+11  1.000000e+00  0.000000e+00   \n",
       "25%    2.200000e+01  6.000000e+00   7.000000e+00  1.000000e+00  1.000000e+00   \n",
       "50%    5.300000e+01  6.000000e+00   1.023000e+03  2.000000e+00  1.000000e+00   \n",
       "75%    4.430000e+02  6.000000e+00   4.066690e+05  7.000000e+00  6.000000e+00   \n",
       "max    6.553300e+04  1.700000e+01   1.200000e+08  5.115000e+03  9.198000e+03   \n",
       "\n",
       "       TotLen Fwd Pkts  TotLen Bwd Pkts  Fwd Pkt Len Max  Fwd Pkt Len Min  \\\n",
       "count     1.048575e+06     1.048575e+06     1.048575e+06     1.048575e+06   \n",
       "mean      4.479936e+02     4.521803e+03     1.745736e+02     8.389535e+00   \n",
       "std       1.573541e+04     1.515021e+05     2.876713e+02     1.948279e+01   \n",
       "min       0.000000e+00     0.000000e+00     0.000000e+00     0.000000e+00   \n",
       "25%       0.000000e+00     0.000000e+00     0.000000e+00     0.000000e+00   \n",
       "50%       3.600000e+01     5.500000e+01     3.400000e+01     0.000000e+00   \n",
       "75%       4.550000e+02     7.680000e+02     1.990000e+02     0.000000e+00   \n",
       "max       8.591554e+06     1.339773e+07     6.444000e+04     1.460000e+03   \n",
       "\n",
       "       Fwd Pkt Len Mean  ...  Fwd Act Data Pkts  Fwd Seg Size Min  \\\n",
       "count      1.048575e+06  ...       1.048575e+06      1.048575e+06   \n",
       "mean       3.879579e+01  ...       2.793536e+00      2.327970e+01   \n",
       "std        5.331882e+01  ...       5.557106e+00      1.106185e+01   \n",
       "min        0.000000e+00  ...       0.000000e+00      0.000000e+00   \n",
       "25%        0.000000e+00  ...       0.000000e+00      2.000000e+01   \n",
       "50%        2.566667e+01  ...       0.000000e+00      2.000000e+01   \n",
       "75%        5.550000e+01  ...       4.000000e+00      3.200000e+01   \n",
       "max        1.121703e+04  ...       1.031000e+03      4.800000e+01   \n",
       "\n",
       "        Active Mean    Active Std    Active Max    Active Min     Idle Mean  \\\n",
       "count  1.048575e+06  1.048575e+06  1.048575e+06  1.048575e+06  1.048575e+06   \n",
       "mean   5.152449e+04  2.136151e+04  8.789157e+04  3.995477e+04  3.101206e+06   \n",
       "std    5.815586e+05  2.186405e+05  7.395725e+05  5.602693e+05  5.414780e+08   \n",
       "min    0.000000e+00  0.000000e+00  0.000000e+00  0.000000e+00  0.000000e+00   \n",
       "25%    0.000000e+00  0.000000e+00  0.000000e+00  0.000000e+00  0.000000e+00   \n",
       "50%    0.000000e+00  0.000000e+00  0.000000e+00  0.000000e+00  0.000000e+00   \n",
       "75%    0.000000e+00  0.000000e+00  0.000000e+00  0.000000e+00  0.000000e+00   \n",
       "max    1.102401e+08  5.723446e+07  1.102401e+08  1.102401e+08  3.394503e+11   \n",
       "\n",
       "           Idle Std      Idle Max      Idle Min  \n",
       "count  1.048575e+06  1.048575e+06  1.048575e+06  \n",
       "mean   7.297218e+05  4.812391e+06  2.126920e+06  \n",
       "std    3.820031e+08  1.522117e+09  1.817013e+07  \n",
       "min    0.000000e+00  0.000000e+00  0.000000e+00  \n",
       "25%    0.000000e+00  0.000000e+00  0.000000e+00  \n",
       "50%    0.000000e+00  0.000000e+00  0.000000e+00  \n",
       "75%    0.000000e+00  0.000000e+00  0.000000e+00  \n",
       "max    2.432682e+11  9.797810e+11  1.260300e+10  \n",
       "\n",
       "[8 rows x 78 columns]"
      ]
     },
     "execution_count": 6,
     "metadata": {},
     "output_type": "execute_result"
    }
   ],
   "source": [
    "df_dataset.describe()"
   ]
  },
  {
   "cell_type": "code",
   "execution_count": 7,
   "id": "ad16a18a",
   "metadata": {
    "execution": {
     "iopub.execute_input": "2022-10-20T08:02:32.302842Z",
     "iopub.status.busy": "2022-10-20T08:02:32.301932Z",
     "iopub.status.idle": "2022-10-20T08:02:33.196418Z",
     "shell.execute_reply": "2022-10-20T08:02:33.195148Z"
    },
    "papermill": {
     "duration": 0.919159,
     "end_time": "2022-10-20T08:02:33.199042",
     "exception": false,
     "start_time": "2022-10-20T08:02:32.279883",
     "status": "completed"
    },
    "tags": []
   },
   "outputs": [],
   "source": [
    "# drop missing values\n",
    "df_dataset.dropna(inplace=True)"
   ]
  },
  {
   "cell_type": "code",
   "execution_count": 8,
   "id": "07f9196d",
   "metadata": {
    "execution": {
     "iopub.execute_input": "2022-10-20T08:02:33.245250Z",
     "iopub.status.busy": "2022-10-20T08:02:33.244469Z",
     "iopub.status.idle": "2022-10-20T08:02:33.535495Z",
     "shell.execute_reply": "2022-10-20T08:02:33.534397Z"
    },
    "papermill": {
     "duration": 0.316069,
     "end_time": "2022-10-20T08:02:33.538024",
     "exception": false,
     "start_time": "2022-10-20T08:02:33.221955",
     "status": "completed"
    },
    "tags": []
   },
   "outputs": [
    {
     "data": {
      "text/html": [
       "<div>\n",
       "<style scoped>\n",
       "    .dataframe tbody tr th:only-of-type {\n",
       "        vertical-align: middle;\n",
       "    }\n",
       "\n",
       "    .dataframe tbody tr th {\n",
       "        vertical-align: top;\n",
       "    }\n",
       "\n",
       "    .dataframe thead th {\n",
       "        text-align: right;\n",
       "    }\n",
       "</style>\n",
       "<table border=\"1\" class=\"dataframe\">\n",
       "  <thead>\n",
       "    <tr style=\"text-align: right;\">\n",
       "      <th></th>\n",
       "      <th>Dst Port</th>\n",
       "      <th>Protocol</th>\n",
       "      <th>Timestamp</th>\n",
       "      <th>Flow Duration</th>\n",
       "      <th>Tot Fwd Pkts</th>\n",
       "      <th>Tot Bwd Pkts</th>\n",
       "      <th>TotLen Fwd Pkts</th>\n",
       "      <th>TotLen Bwd Pkts</th>\n",
       "      <th>Fwd Pkt Len Max</th>\n",
       "      <th>Fwd Pkt Len Min</th>\n",
       "      <th>...</th>\n",
       "      <th>Fwd Seg Size Min</th>\n",
       "      <th>Active Mean</th>\n",
       "      <th>Active Std</th>\n",
       "      <th>Active Max</th>\n",
       "      <th>Active Min</th>\n",
       "      <th>Idle Mean</th>\n",
       "      <th>Idle Std</th>\n",
       "      <th>Idle Max</th>\n",
       "      <th>Idle Min</th>\n",
       "      <th>Label</th>\n",
       "    </tr>\n",
       "  </thead>\n",
       "  <tbody>\n",
       "    <tr>\n",
       "      <th>0</th>\n",
       "      <td>0</td>\n",
       "      <td>0</td>\n",
       "      <td>14/02/2018 08:31:01</td>\n",
       "      <td>112641719</td>\n",
       "      <td>3</td>\n",
       "      <td>0</td>\n",
       "      <td>0</td>\n",
       "      <td>0</td>\n",
       "      <td>0</td>\n",
       "      <td>0</td>\n",
       "      <td>...</td>\n",
       "      <td>0</td>\n",
       "      <td>0.0</td>\n",
       "      <td>0.0</td>\n",
       "      <td>0</td>\n",
       "      <td>0</td>\n",
       "      <td>56320859.5</td>\n",
       "      <td>139.300036</td>\n",
       "      <td>56320958</td>\n",
       "      <td>56320761</td>\n",
       "      <td>Benign</td>\n",
       "    </tr>\n",
       "    <tr>\n",
       "      <th>1</th>\n",
       "      <td>0</td>\n",
       "      <td>0</td>\n",
       "      <td>14/02/2018 08:33:50</td>\n",
       "      <td>112641466</td>\n",
       "      <td>3</td>\n",
       "      <td>0</td>\n",
       "      <td>0</td>\n",
       "      <td>0</td>\n",
       "      <td>0</td>\n",
       "      <td>0</td>\n",
       "      <td>...</td>\n",
       "      <td>0</td>\n",
       "      <td>0.0</td>\n",
       "      <td>0.0</td>\n",
       "      <td>0</td>\n",
       "      <td>0</td>\n",
       "      <td>56320733.0</td>\n",
       "      <td>114.551299</td>\n",
       "      <td>56320814</td>\n",
       "      <td>56320652</td>\n",
       "      <td>Benign</td>\n",
       "    </tr>\n",
       "    <tr>\n",
       "      <th>2</th>\n",
       "      <td>0</td>\n",
       "      <td>0</td>\n",
       "      <td>14/02/2018 08:36:39</td>\n",
       "      <td>112638623</td>\n",
       "      <td>3</td>\n",
       "      <td>0</td>\n",
       "      <td>0</td>\n",
       "      <td>0</td>\n",
       "      <td>0</td>\n",
       "      <td>0</td>\n",
       "      <td>...</td>\n",
       "      <td>0</td>\n",
       "      <td>0.0</td>\n",
       "      <td>0.0</td>\n",
       "      <td>0</td>\n",
       "      <td>0</td>\n",
       "      <td>56319311.5</td>\n",
       "      <td>301.934596</td>\n",
       "      <td>56319525</td>\n",
       "      <td>56319098</td>\n",
       "      <td>Benign</td>\n",
       "    </tr>\n",
       "    <tr>\n",
       "      <th>3</th>\n",
       "      <td>22</td>\n",
       "      <td>6</td>\n",
       "      <td>14/02/2018 08:40:13</td>\n",
       "      <td>6453966</td>\n",
       "      <td>15</td>\n",
       "      <td>10</td>\n",
       "      <td>1239</td>\n",
       "      <td>2273</td>\n",
       "      <td>744</td>\n",
       "      <td>0</td>\n",
       "      <td>...</td>\n",
       "      <td>32</td>\n",
       "      <td>0.0</td>\n",
       "      <td>0.0</td>\n",
       "      <td>0</td>\n",
       "      <td>0</td>\n",
       "      <td>0.0</td>\n",
       "      <td>0.000000</td>\n",
       "      <td>0</td>\n",
       "      <td>0</td>\n",
       "      <td>Benign</td>\n",
       "    </tr>\n",
       "    <tr>\n",
       "      <th>4</th>\n",
       "      <td>22</td>\n",
       "      <td>6</td>\n",
       "      <td>14/02/2018 08:40:23</td>\n",
       "      <td>8804066</td>\n",
       "      <td>14</td>\n",
       "      <td>11</td>\n",
       "      <td>1143</td>\n",
       "      <td>2209</td>\n",
       "      <td>744</td>\n",
       "      <td>0</td>\n",
       "      <td>...</td>\n",
       "      <td>32</td>\n",
       "      <td>0.0</td>\n",
       "      <td>0.0</td>\n",
       "      <td>0</td>\n",
       "      <td>0</td>\n",
       "      <td>0.0</td>\n",
       "      <td>0.000000</td>\n",
       "      <td>0</td>\n",
       "      <td>0</td>\n",
       "      <td>Benign</td>\n",
       "    </tr>\n",
       "    <tr>\n",
       "      <th>...</th>\n",
       "      <td>...</td>\n",
       "      <td>...</td>\n",
       "      <td>...</td>\n",
       "      <td>...</td>\n",
       "      <td>...</td>\n",
       "      <td>...</td>\n",
       "      <td>...</td>\n",
       "      <td>...</td>\n",
       "      <td>...</td>\n",
       "      <td>...</td>\n",
       "      <td>...</td>\n",
       "      <td>...</td>\n",
       "      <td>...</td>\n",
       "      <td>...</td>\n",
       "      <td>...</td>\n",
       "      <td>...</td>\n",
       "      <td>...</td>\n",
       "      <td>...</td>\n",
       "      <td>...</td>\n",
       "      <td>...</td>\n",
       "      <td>...</td>\n",
       "    </tr>\n",
       "    <tr>\n",
       "      <th>1048570</th>\n",
       "      <td>80</td>\n",
       "      <td>6</td>\n",
       "      <td>14/02/2018 10:53:23</td>\n",
       "      <td>10156986</td>\n",
       "      <td>5</td>\n",
       "      <td>5</td>\n",
       "      <td>1089</td>\n",
       "      <td>1923</td>\n",
       "      <td>587</td>\n",
       "      <td>0</td>\n",
       "      <td>...</td>\n",
       "      <td>20</td>\n",
       "      <td>0.0</td>\n",
       "      <td>0.0</td>\n",
       "      <td>0</td>\n",
       "      <td>0</td>\n",
       "      <td>0.0</td>\n",
       "      <td>0.000000</td>\n",
       "      <td>0</td>\n",
       "      <td>0</td>\n",
       "      <td>Benign</td>\n",
       "    </tr>\n",
       "    <tr>\n",
       "      <th>1048571</th>\n",
       "      <td>80</td>\n",
       "      <td>6</td>\n",
       "      <td>14/02/2018 10:53:33</td>\n",
       "      <td>117</td>\n",
       "      <td>2</td>\n",
       "      <td>0</td>\n",
       "      <td>0</td>\n",
       "      <td>0</td>\n",
       "      <td>0</td>\n",
       "      <td>0</td>\n",
       "      <td>...</td>\n",
       "      <td>20</td>\n",
       "      <td>0.0</td>\n",
       "      <td>0.0</td>\n",
       "      <td>0</td>\n",
       "      <td>0</td>\n",
       "      <td>0.0</td>\n",
       "      <td>0.000000</td>\n",
       "      <td>0</td>\n",
       "      <td>0</td>\n",
       "      <td>Benign</td>\n",
       "    </tr>\n",
       "    <tr>\n",
       "      <th>1048572</th>\n",
       "      <td>80</td>\n",
       "      <td>6</td>\n",
       "      <td>14/02/2018 10:53:28</td>\n",
       "      <td>5095331</td>\n",
       "      <td>3</td>\n",
       "      <td>1</td>\n",
       "      <td>0</td>\n",
       "      <td>0</td>\n",
       "      <td>0</td>\n",
       "      <td>0</td>\n",
       "      <td>...</td>\n",
       "      <td>20</td>\n",
       "      <td>0.0</td>\n",
       "      <td>0.0</td>\n",
       "      <td>0</td>\n",
       "      <td>0</td>\n",
       "      <td>0.0</td>\n",
       "      <td>0.000000</td>\n",
       "      <td>0</td>\n",
       "      <td>0</td>\n",
       "      <td>Benign</td>\n",
       "    </tr>\n",
       "    <tr>\n",
       "      <th>1048573</th>\n",
       "      <td>80</td>\n",
       "      <td>6</td>\n",
       "      <td>14/02/2018 10:53:28</td>\n",
       "      <td>5235511</td>\n",
       "      <td>3</td>\n",
       "      <td>1</td>\n",
       "      <td>0</td>\n",
       "      <td>0</td>\n",
       "      <td>0</td>\n",
       "      <td>0</td>\n",
       "      <td>...</td>\n",
       "      <td>20</td>\n",
       "      <td>0.0</td>\n",
       "      <td>0.0</td>\n",
       "      <td>0</td>\n",
       "      <td>0</td>\n",
       "      <td>0.0</td>\n",
       "      <td>0.000000</td>\n",
       "      <td>0</td>\n",
       "      <td>0</td>\n",
       "      <td>Benign</td>\n",
       "    </tr>\n",
       "    <tr>\n",
       "      <th>1048574</th>\n",
       "      <td>443</td>\n",
       "      <td>6</td>\n",
       "      <td>14/02/2018 10:53:28</td>\n",
       "      <td>5807256</td>\n",
       "      <td>6</td>\n",
       "      <td>4</td>\n",
       "      <td>327</td>\n",
       "      <td>145</td>\n",
       "      <td>245</td>\n",
       "      <td>0</td>\n",
       "      <td>...</td>\n",
       "      <td>20</td>\n",
       "      <td>291569.0</td>\n",
       "      <td>0.0</td>\n",
       "      <td>291569</td>\n",
       "      <td>291569</td>\n",
       "      <td>5515650.0</td>\n",
       "      <td>0.000000</td>\n",
       "      <td>5515650</td>\n",
       "      <td>5515650</td>\n",
       "      <td>Benign</td>\n",
       "    </tr>\n",
       "  </tbody>\n",
       "</table>\n",
       "<p>1044751 rows × 80 columns</p>\n",
       "</div>"
      ],
      "text/plain": [
       "         Dst Port  Protocol            Timestamp  Flow Duration  Tot Fwd Pkts  \\\n",
       "0               0         0  14/02/2018 08:31:01      112641719             3   \n",
       "1               0         0  14/02/2018 08:33:50      112641466             3   \n",
       "2               0         0  14/02/2018 08:36:39      112638623             3   \n",
       "3              22         6  14/02/2018 08:40:13        6453966            15   \n",
       "4              22         6  14/02/2018 08:40:23        8804066            14   \n",
       "...           ...       ...                  ...            ...           ...   \n",
       "1048570        80         6  14/02/2018 10:53:23       10156986             5   \n",
       "1048571        80         6  14/02/2018 10:53:33            117             2   \n",
       "1048572        80         6  14/02/2018 10:53:28        5095331             3   \n",
       "1048573        80         6  14/02/2018 10:53:28        5235511             3   \n",
       "1048574       443         6  14/02/2018 10:53:28        5807256             6   \n",
       "\n",
       "         Tot Bwd Pkts  TotLen Fwd Pkts  TotLen Bwd Pkts  Fwd Pkt Len Max  \\\n",
       "0                   0                0                0                0   \n",
       "1                   0                0                0                0   \n",
       "2                   0                0                0                0   \n",
       "3                  10             1239             2273              744   \n",
       "4                  11             1143             2209              744   \n",
       "...               ...              ...              ...              ...   \n",
       "1048570             5             1089             1923              587   \n",
       "1048571             0                0                0                0   \n",
       "1048572             1                0                0                0   \n",
       "1048573             1                0                0                0   \n",
       "1048574             4              327              145              245   \n",
       "\n",
       "         Fwd Pkt Len Min  ...  Fwd Seg Size Min  Active Mean  Active Std  \\\n",
       "0                      0  ...                 0          0.0         0.0   \n",
       "1                      0  ...                 0          0.0         0.0   \n",
       "2                      0  ...                 0          0.0         0.0   \n",
       "3                      0  ...                32          0.0         0.0   \n",
       "4                      0  ...                32          0.0         0.0   \n",
       "...                  ...  ...               ...          ...         ...   \n",
       "1048570                0  ...                20          0.0         0.0   \n",
       "1048571                0  ...                20          0.0         0.0   \n",
       "1048572                0  ...                20          0.0         0.0   \n",
       "1048573                0  ...                20          0.0         0.0   \n",
       "1048574                0  ...                20     291569.0         0.0   \n",
       "\n",
       "         Active Max  Active Min   Idle Mean    Idle Std  Idle Max  Idle Min  \\\n",
       "0                 0           0  56320859.5  139.300036  56320958  56320761   \n",
       "1                 0           0  56320733.0  114.551299  56320814  56320652   \n",
       "2                 0           0  56319311.5  301.934596  56319525  56319098   \n",
       "3                 0           0         0.0    0.000000         0         0   \n",
       "4                 0           0         0.0    0.000000         0         0   \n",
       "...             ...         ...         ...         ...       ...       ...   \n",
       "1048570           0           0         0.0    0.000000         0         0   \n",
       "1048571           0           0         0.0    0.000000         0         0   \n",
       "1048572           0           0         0.0    0.000000         0         0   \n",
       "1048573           0           0         0.0    0.000000         0         0   \n",
       "1048574      291569      291569   5515650.0    0.000000   5515650   5515650   \n",
       "\n",
       "          Label  \n",
       "0        Benign  \n",
       "1        Benign  \n",
       "2        Benign  \n",
       "3        Benign  \n",
       "4        Benign  \n",
       "...         ...  \n",
       "1048570  Benign  \n",
       "1048571  Benign  \n",
       "1048572  Benign  \n",
       "1048573  Benign  \n",
       "1048574  Benign  \n",
       "\n",
       "[1044751 rows x 80 columns]"
      ]
     },
     "execution_count": 8,
     "metadata": {},
     "output_type": "execute_result"
    }
   ],
   "source": [
    "df_dataset"
   ]
  },
  {
   "cell_type": "code",
   "execution_count": 9,
   "id": "83de4e49",
   "metadata": {
    "execution": {
     "iopub.execute_input": "2022-10-20T08:02:33.583344Z",
     "iopub.status.busy": "2022-10-20T08:02:33.582551Z",
     "iopub.status.idle": "2022-10-20T08:02:33.654814Z",
     "shell.execute_reply": "2022-10-20T08:02:33.653574Z"
    },
    "papermill": {
     "duration": 0.098186,
     "end_time": "2022-10-20T08:02:33.657546",
     "exception": false,
     "start_time": "2022-10-20T08:02:33.559360",
     "status": "completed"
    },
    "tags": []
   },
   "outputs": [
    {
     "data": {
      "text/plain": [
       "Benign            663808\n",
       "FTP-BruteForce    193354\n",
       "SSH-Bruteforce    187589\n",
       "Name: Label, dtype: int64"
      ]
     },
     "execution_count": 9,
     "metadata": {},
     "output_type": "execute_result"
    }
   ],
   "source": [
    "df_dataset[\"Label\"].value_counts()"
   ]
  },
  {
   "cell_type": "code",
   "execution_count": 10,
   "id": "769a9c2e",
   "metadata": {
    "execution": {
     "iopub.execute_input": "2022-10-20T08:02:33.703472Z",
     "iopub.status.busy": "2022-10-20T08:02:33.702971Z",
     "iopub.status.idle": "2022-10-20T08:02:33.708016Z",
     "shell.execute_reply": "2022-10-20T08:02:33.706758Z"
    },
    "papermill": {
     "duration": 0.030857,
     "end_time": "2022-10-20T08:02:33.710217",
     "exception": false,
     "start_time": "2022-10-20T08:02:33.679360",
     "status": "completed"
    },
    "tags": []
   },
   "outputs": [],
   "source": [
    "df = df_dataset"
   ]
  },
  {
   "cell_type": "markdown",
   "id": "ffa768be",
   "metadata": {
    "papermill": {
     "duration": 0.021036,
     "end_time": "2022-10-20T08:02:33.752440",
     "exception": false,
     "start_time": "2022-10-20T08:02:33.731404",
     "status": "completed"
    },
    "tags": []
   },
   "source": [
    "We will now try to visualize the target feature's class distribution."
   ]
  },
  {
   "cell_type": "code",
   "execution_count": 11,
   "id": "28ed9d75",
   "metadata": {
    "execution": {
     "iopub.execute_input": "2022-10-20T08:02:33.797075Z",
     "iopub.status.busy": "2022-10-20T08:02:33.796626Z",
     "iopub.status.idle": "2022-10-20T08:02:36.355718Z",
     "shell.execute_reply": "2022-10-20T08:02:36.354530Z"
    },
    "papermill": {
     "duration": 2.584522,
     "end_time": "2022-10-20T08:02:36.358249",
     "exception": false,
     "start_time": "2022-10-20T08:02:33.773727",
     "status": "completed"
    },
    "tags": []
   },
   "outputs": [
    {
     "data": {
      "text/html": [
       "        <script type=\"text/javascript\">\n",
       "        window.PlotlyConfig = {MathJaxConfig: 'local'};\n",
       "        if (window.MathJax) {MathJax.Hub.Config({SVG: {font: \"STIX-Web\"}});}\n",
       "        if (typeof require !== 'undefined') {\n",
       "        require.undef(\"plotly\");\n",
       "        requirejs.config({\n",
       "            paths: {\n",
       "                'plotly': ['https://cdn.plot.ly/plotly-2.8.3.min']\n",
       "            }\n",
       "        });\n",
       "        require(['plotly'], function(Plotly) {\n",
       "            window._Plotly = Plotly;\n",
       "        });\n",
       "        }\n",
       "        </script>\n",
       "        "
      ]
     },
     "metadata": {},
     "output_type": "display_data"
    },
    {
     "data": {
      "application/vnd.plotly.v1+json": {
       "config": {
        "linkText": "Export to plot.ly",
        "plotlyServerURL": "https://plot.ly",
        "showLink": false
       },
       "data": [
        {
         "name": "Benign",
         "orientation": "v",
         "text": [
          663808
         ],
         "textposition": "outside",
         "type": "bar",
         "x": [
          "Benign"
         ],
         "y": [
          663808
         ]
        },
        {
         "name": "FTP-BruteForce",
         "orientation": "v",
         "text": [
          193354
         ],
         "textposition": "outside",
         "type": "bar",
         "x": [
          "FTP-BruteForce"
         ],
         "y": [
          193354
         ]
        },
        {
         "name": "SSH-Bruteforce",
         "orientation": "v",
         "text": [
          187589
         ],
         "textposition": "outside",
         "type": "bar",
         "x": [
          "SSH-Bruteforce"
         ],
         "y": [
          187589
         ]
        }
       ],
       "layout": {
        "height": 600,
        "template": {
         "data": {
          "bar": [
           {
            "error_x": {
             "color": "#2a3f5f"
            },
            "error_y": {
             "color": "#2a3f5f"
            },
            "marker": {
             "line": {
              "color": "#E5ECF6",
              "width": 0.5
             },
             "pattern": {
              "fillmode": "overlay",
              "size": 10,
              "solidity": 0.2
             }
            },
            "type": "bar"
           }
          ],
          "barpolar": [
           {
            "marker": {
             "line": {
              "color": "#E5ECF6",
              "width": 0.5
             },
             "pattern": {
              "fillmode": "overlay",
              "size": 10,
              "solidity": 0.2
             }
            },
            "type": "barpolar"
           }
          ],
          "carpet": [
           {
            "aaxis": {
             "endlinecolor": "#2a3f5f",
             "gridcolor": "white",
             "linecolor": "white",
             "minorgridcolor": "white",
             "startlinecolor": "#2a3f5f"
            },
            "baxis": {
             "endlinecolor": "#2a3f5f",
             "gridcolor": "white",
             "linecolor": "white",
             "minorgridcolor": "white",
             "startlinecolor": "#2a3f5f"
            },
            "type": "carpet"
           }
          ],
          "choropleth": [
           {
            "colorbar": {
             "outlinewidth": 0,
             "ticks": ""
            },
            "type": "choropleth"
           }
          ],
          "contour": [
           {
            "colorbar": {
             "outlinewidth": 0,
             "ticks": ""
            },
            "colorscale": [
             [
              0,
              "#0d0887"
             ],
             [
              0.1111111111111111,
              "#46039f"
             ],
             [
              0.2222222222222222,
              "#7201a8"
             ],
             [
              0.3333333333333333,
              "#9c179e"
             ],
             [
              0.4444444444444444,
              "#bd3786"
             ],
             [
              0.5555555555555556,
              "#d8576b"
             ],
             [
              0.6666666666666666,
              "#ed7953"
             ],
             [
              0.7777777777777778,
              "#fb9f3a"
             ],
             [
              0.8888888888888888,
              "#fdca26"
             ],
             [
              1,
              "#f0f921"
             ]
            ],
            "type": "contour"
           }
          ],
          "contourcarpet": [
           {
            "colorbar": {
             "outlinewidth": 0,
             "ticks": ""
            },
            "type": "contourcarpet"
           }
          ],
          "heatmap": [
           {
            "colorbar": {
             "outlinewidth": 0,
             "ticks": ""
            },
            "colorscale": [
             [
              0,
              "#0d0887"
             ],
             [
              0.1111111111111111,
              "#46039f"
             ],
             [
              0.2222222222222222,
              "#7201a8"
             ],
             [
              0.3333333333333333,
              "#9c179e"
             ],
             [
              0.4444444444444444,
              "#bd3786"
             ],
             [
              0.5555555555555556,
              "#d8576b"
             ],
             [
              0.6666666666666666,
              "#ed7953"
             ],
             [
              0.7777777777777778,
              "#fb9f3a"
             ],
             [
              0.8888888888888888,
              "#fdca26"
             ],
             [
              1,
              "#f0f921"
             ]
            ],
            "type": "heatmap"
           }
          ],
          "heatmapgl": [
           {
            "colorbar": {
             "outlinewidth": 0,
             "ticks": ""
            },
            "colorscale": [
             [
              0,
              "#0d0887"
             ],
             [
              0.1111111111111111,
              "#46039f"
             ],
             [
              0.2222222222222222,
              "#7201a8"
             ],
             [
              0.3333333333333333,
              "#9c179e"
             ],
             [
              0.4444444444444444,
              "#bd3786"
             ],
             [
              0.5555555555555556,
              "#d8576b"
             ],
             [
              0.6666666666666666,
              "#ed7953"
             ],
             [
              0.7777777777777778,
              "#fb9f3a"
             ],
             [
              0.8888888888888888,
              "#fdca26"
             ],
             [
              1,
              "#f0f921"
             ]
            ],
            "type": "heatmapgl"
           }
          ],
          "histogram": [
           {
            "marker": {
             "pattern": {
              "fillmode": "overlay",
              "size": 10,
              "solidity": 0.2
             }
            },
            "type": "histogram"
           }
          ],
          "histogram2d": [
           {
            "colorbar": {
             "outlinewidth": 0,
             "ticks": ""
            },
            "colorscale": [
             [
              0,
              "#0d0887"
             ],
             [
              0.1111111111111111,
              "#46039f"
             ],
             [
              0.2222222222222222,
              "#7201a8"
             ],
             [
              0.3333333333333333,
              "#9c179e"
             ],
             [
              0.4444444444444444,
              "#bd3786"
             ],
             [
              0.5555555555555556,
              "#d8576b"
             ],
             [
              0.6666666666666666,
              "#ed7953"
             ],
             [
              0.7777777777777778,
              "#fb9f3a"
             ],
             [
              0.8888888888888888,
              "#fdca26"
             ],
             [
              1,
              "#f0f921"
             ]
            ],
            "type": "histogram2d"
           }
          ],
          "histogram2dcontour": [
           {
            "colorbar": {
             "outlinewidth": 0,
             "ticks": ""
            },
            "colorscale": [
             [
              0,
              "#0d0887"
             ],
             [
              0.1111111111111111,
              "#46039f"
             ],
             [
              0.2222222222222222,
              "#7201a8"
             ],
             [
              0.3333333333333333,
              "#9c179e"
             ],
             [
              0.4444444444444444,
              "#bd3786"
             ],
             [
              0.5555555555555556,
              "#d8576b"
             ],
             [
              0.6666666666666666,
              "#ed7953"
             ],
             [
              0.7777777777777778,
              "#fb9f3a"
             ],
             [
              0.8888888888888888,
              "#fdca26"
             ],
             [
              1,
              "#f0f921"
             ]
            ],
            "type": "histogram2dcontour"
           }
          ],
          "mesh3d": [
           {
            "colorbar": {
             "outlinewidth": 0,
             "ticks": ""
            },
            "type": "mesh3d"
           }
          ],
          "parcoords": [
           {
            "line": {
             "colorbar": {
              "outlinewidth": 0,
              "ticks": ""
             }
            },
            "type": "parcoords"
           }
          ],
          "pie": [
           {
            "automargin": true,
            "type": "pie"
           }
          ],
          "scatter": [
           {
            "marker": {
             "colorbar": {
              "outlinewidth": 0,
              "ticks": ""
             }
            },
            "type": "scatter"
           }
          ],
          "scatter3d": [
           {
            "line": {
             "colorbar": {
              "outlinewidth": 0,
              "ticks": ""
             }
            },
            "marker": {
             "colorbar": {
              "outlinewidth": 0,
              "ticks": ""
             }
            },
            "type": "scatter3d"
           }
          ],
          "scattercarpet": [
           {
            "marker": {
             "colorbar": {
              "outlinewidth": 0,
              "ticks": ""
             }
            },
            "type": "scattercarpet"
           }
          ],
          "scattergeo": [
           {
            "marker": {
             "colorbar": {
              "outlinewidth": 0,
              "ticks": ""
             }
            },
            "type": "scattergeo"
           }
          ],
          "scattergl": [
           {
            "marker": {
             "colorbar": {
              "outlinewidth": 0,
              "ticks": ""
             }
            },
            "type": "scattergl"
           }
          ],
          "scattermapbox": [
           {
            "marker": {
             "colorbar": {
              "outlinewidth": 0,
              "ticks": ""
             }
            },
            "type": "scattermapbox"
           }
          ],
          "scatterpolar": [
           {
            "marker": {
             "colorbar": {
              "outlinewidth": 0,
              "ticks": ""
             }
            },
            "type": "scatterpolar"
           }
          ],
          "scatterpolargl": [
           {
            "marker": {
             "colorbar": {
              "outlinewidth": 0,
              "ticks": ""
             }
            },
            "type": "scatterpolargl"
           }
          ],
          "scatterternary": [
           {
            "marker": {
             "colorbar": {
              "outlinewidth": 0,
              "ticks": ""
             }
            },
            "type": "scatterternary"
           }
          ],
          "surface": [
           {
            "colorbar": {
             "outlinewidth": 0,
             "ticks": ""
            },
            "colorscale": [
             [
              0,
              "#0d0887"
             ],
             [
              0.1111111111111111,
              "#46039f"
             ],
             [
              0.2222222222222222,
              "#7201a8"
             ],
             [
              0.3333333333333333,
              "#9c179e"
             ],
             [
              0.4444444444444444,
              "#bd3786"
             ],
             [
              0.5555555555555556,
              "#d8576b"
             ],
             [
              0.6666666666666666,
              "#ed7953"
             ],
             [
              0.7777777777777778,
              "#fb9f3a"
             ],
             [
              0.8888888888888888,
              "#fdca26"
             ],
             [
              1,
              "#f0f921"
             ]
            ],
            "type": "surface"
           }
          ],
          "table": [
           {
            "cells": {
             "fill": {
              "color": "#EBF0F8"
             },
             "line": {
              "color": "white"
             }
            },
            "header": {
             "fill": {
              "color": "#C8D4E3"
             },
             "line": {
              "color": "white"
             }
            },
            "type": "table"
           }
          ]
         },
         "layout": {
          "annotationdefaults": {
           "arrowcolor": "#2a3f5f",
           "arrowhead": 0,
           "arrowwidth": 1
          },
          "autotypenumbers": "strict",
          "coloraxis": {
           "colorbar": {
            "outlinewidth": 0,
            "ticks": ""
           }
          },
          "colorscale": {
           "diverging": [
            [
             0,
             "#8e0152"
            ],
            [
             0.1,
             "#c51b7d"
            ],
            [
             0.2,
             "#de77ae"
            ],
            [
             0.3,
             "#f1b6da"
            ],
            [
             0.4,
             "#fde0ef"
            ],
            [
             0.5,
             "#f7f7f7"
            ],
            [
             0.6,
             "#e6f5d0"
            ],
            [
             0.7,
             "#b8e186"
            ],
            [
             0.8,
             "#7fbc41"
            ],
            [
             0.9,
             "#4d9221"
            ],
            [
             1,
             "#276419"
            ]
           ],
           "sequential": [
            [
             0,
             "#0d0887"
            ],
            [
             0.1111111111111111,
             "#46039f"
            ],
            [
             0.2222222222222222,
             "#7201a8"
            ],
            [
             0.3333333333333333,
             "#9c179e"
            ],
            [
             0.4444444444444444,
             "#bd3786"
            ],
            [
             0.5555555555555556,
             "#d8576b"
            ],
            [
             0.6666666666666666,
             "#ed7953"
            ],
            [
             0.7777777777777778,
             "#fb9f3a"
            ],
            [
             0.8888888888888888,
             "#fdca26"
            ],
            [
             1,
             "#f0f921"
            ]
           ],
           "sequentialminus": [
            [
             0,
             "#0d0887"
            ],
            [
             0.1111111111111111,
             "#46039f"
            ],
            [
             0.2222222222222222,
             "#7201a8"
            ],
            [
             0.3333333333333333,
             "#9c179e"
            ],
            [
             0.4444444444444444,
             "#bd3786"
            ],
            [
             0.5555555555555556,
             "#d8576b"
            ],
            [
             0.6666666666666666,
             "#ed7953"
            ],
            [
             0.7777777777777778,
             "#fb9f3a"
            ],
            [
             0.8888888888888888,
             "#fdca26"
            ],
            [
             1,
             "#f0f921"
            ]
           ]
          },
          "colorway": [
           "#636efa",
           "#EF553B",
           "#00cc96",
           "#ab63fa",
           "#FFA15A",
           "#19d3f3",
           "#FF6692",
           "#B6E880",
           "#FF97FF",
           "#FECB52"
          ],
          "font": {
           "color": "#2a3f5f"
          },
          "geo": {
           "bgcolor": "white",
           "lakecolor": "white",
           "landcolor": "#E5ECF6",
           "showlakes": true,
           "showland": true,
           "subunitcolor": "white"
          },
          "hoverlabel": {
           "align": "left"
          },
          "hovermode": "closest",
          "mapbox": {
           "style": "light"
          },
          "paper_bgcolor": "white",
          "plot_bgcolor": "#E5ECF6",
          "polar": {
           "angularaxis": {
            "gridcolor": "white",
            "linecolor": "white",
            "ticks": ""
           },
           "bgcolor": "#E5ECF6",
           "radialaxis": {
            "gridcolor": "white",
            "linecolor": "white",
            "ticks": ""
           }
          },
          "scene": {
           "xaxis": {
            "backgroundcolor": "#E5ECF6",
            "gridcolor": "white",
            "gridwidth": 2,
            "linecolor": "white",
            "showbackground": true,
            "ticks": "",
            "zerolinecolor": "white"
           },
           "yaxis": {
            "backgroundcolor": "#E5ECF6",
            "gridcolor": "white",
            "gridwidth": 2,
            "linecolor": "white",
            "showbackground": true,
            "ticks": "",
            "zerolinecolor": "white"
           },
           "zaxis": {
            "backgroundcolor": "#E5ECF6",
            "gridcolor": "white",
            "gridwidth": 2,
            "linecolor": "white",
            "showbackground": true,
            "ticks": "",
            "zerolinecolor": "white"
           }
          },
          "shapedefaults": {
           "line": {
            "color": "#2a3f5f"
           }
          },
          "ternary": {
           "aaxis": {
            "gridcolor": "white",
            "linecolor": "white",
            "ticks": ""
           },
           "baxis": {
            "gridcolor": "white",
            "linecolor": "white",
            "ticks": ""
           },
           "bgcolor": "#E5ECF6",
           "caxis": {
            "gridcolor": "white",
            "linecolor": "white",
            "ticks": ""
           }
          },
          "title": {
           "x": 0.05
          },
          "xaxis": {
           "automargin": true,
           "gridcolor": "white",
           "linecolor": "white",
           "ticks": "",
           "title": {
            "standoff": 15
           },
           "zerolinecolor": "white",
           "zerolinewidth": 2
          },
          "yaxis": {
           "automargin": true,
           "gridcolor": "white",
           "linecolor": "white",
           "ticks": "",
           "title": {
            "standoff": 15
           },
           "zerolinecolor": "white",
           "zerolinewidth": 2
          }
         }
        },
        "title": {
         "text": "Class Distribution"
        },
        "width": 800,
        "xaxis": {
         "title": {
          "text": "Attack Name"
         }
        },
        "yaxis": {
         "title": {
          "text": "Number of attacks"
         }
        }
       }
      },
      "text/html": [
       "<div>                            <div id=\"c5fa3068-40b9-409a-8037-f4e16a144b5a\" class=\"plotly-graph-div\" style=\"height:600px; width:800px;\"></div>            <script type=\"text/javascript\">                require([\"plotly\"], function(Plotly) {                    window.PLOTLYENV=window.PLOTLYENV || {};                                    if (document.getElementById(\"c5fa3068-40b9-409a-8037-f4e16a144b5a\")) {                    Plotly.newPlot(                        \"c5fa3068-40b9-409a-8037-f4e16a144b5a\",                        [{\"name\":\"Benign\",\"orientation\":\"v\",\"text\":[663808.0],\"textposition\":\"outside\",\"x\":[\"Benign\"],\"y\":[663808],\"type\":\"bar\"},{\"name\":\"FTP-BruteForce\",\"orientation\":\"v\",\"text\":[193354.0],\"textposition\":\"outside\",\"x\":[\"FTP-BruteForce\"],\"y\":[193354],\"type\":\"bar\"},{\"name\":\"SSH-Bruteforce\",\"orientation\":\"v\",\"text\":[187589.0],\"textposition\":\"outside\",\"x\":[\"SSH-Bruteforce\"],\"y\":[187589],\"type\":\"bar\"}],                        {\"height\":600,\"template\":{\"data\":{\"barpolar\":[{\"marker\":{\"line\":{\"color\":\"#E5ECF6\",\"width\":0.5},\"pattern\":{\"fillmode\":\"overlay\",\"size\":10,\"solidity\":0.2}},\"type\":\"barpolar\"}],\"bar\":[{\"error_x\":{\"color\":\"#2a3f5f\"},\"error_y\":{\"color\":\"#2a3f5f\"},\"marker\":{\"line\":{\"color\":\"#E5ECF6\",\"width\":0.5},\"pattern\":{\"fillmode\":\"overlay\",\"size\":10,\"solidity\":0.2}},\"type\":\"bar\"}],\"carpet\":[{\"aaxis\":{\"endlinecolor\":\"#2a3f5f\",\"gridcolor\":\"white\",\"linecolor\":\"white\",\"minorgridcolor\":\"white\",\"startlinecolor\":\"#2a3f5f\"},\"baxis\":{\"endlinecolor\":\"#2a3f5f\",\"gridcolor\":\"white\",\"linecolor\":\"white\",\"minorgridcolor\":\"white\",\"startlinecolor\":\"#2a3f5f\"},\"type\":\"carpet\"}],\"choropleth\":[{\"colorbar\":{\"outlinewidth\":0,\"ticks\":\"\"},\"type\":\"choropleth\"}],\"contourcarpet\":[{\"colorbar\":{\"outlinewidth\":0,\"ticks\":\"\"},\"type\":\"contourcarpet\"}],\"contour\":[{\"colorbar\":{\"outlinewidth\":0,\"ticks\":\"\"},\"colorscale\":[[0.0,\"#0d0887\"],[0.1111111111111111,\"#46039f\"],[0.2222222222222222,\"#7201a8\"],[0.3333333333333333,\"#9c179e\"],[0.4444444444444444,\"#bd3786\"],[0.5555555555555556,\"#d8576b\"],[0.6666666666666666,\"#ed7953\"],[0.7777777777777778,\"#fb9f3a\"],[0.8888888888888888,\"#fdca26\"],[1.0,\"#f0f921\"]],\"type\":\"contour\"}],\"heatmapgl\":[{\"colorbar\":{\"outlinewidth\":0,\"ticks\":\"\"},\"colorscale\":[[0.0,\"#0d0887\"],[0.1111111111111111,\"#46039f\"],[0.2222222222222222,\"#7201a8\"],[0.3333333333333333,\"#9c179e\"],[0.4444444444444444,\"#bd3786\"],[0.5555555555555556,\"#d8576b\"],[0.6666666666666666,\"#ed7953\"],[0.7777777777777778,\"#fb9f3a\"],[0.8888888888888888,\"#fdca26\"],[1.0,\"#f0f921\"]],\"type\":\"heatmapgl\"}],\"heatmap\":[{\"colorbar\":{\"outlinewidth\":0,\"ticks\":\"\"},\"colorscale\":[[0.0,\"#0d0887\"],[0.1111111111111111,\"#46039f\"],[0.2222222222222222,\"#7201a8\"],[0.3333333333333333,\"#9c179e\"],[0.4444444444444444,\"#bd3786\"],[0.5555555555555556,\"#d8576b\"],[0.6666666666666666,\"#ed7953\"],[0.7777777777777778,\"#fb9f3a\"],[0.8888888888888888,\"#fdca26\"],[1.0,\"#f0f921\"]],\"type\":\"heatmap\"}],\"histogram2dcontour\":[{\"colorbar\":{\"outlinewidth\":0,\"ticks\":\"\"},\"colorscale\":[[0.0,\"#0d0887\"],[0.1111111111111111,\"#46039f\"],[0.2222222222222222,\"#7201a8\"],[0.3333333333333333,\"#9c179e\"],[0.4444444444444444,\"#bd3786\"],[0.5555555555555556,\"#d8576b\"],[0.6666666666666666,\"#ed7953\"],[0.7777777777777778,\"#fb9f3a\"],[0.8888888888888888,\"#fdca26\"],[1.0,\"#f0f921\"]],\"type\":\"histogram2dcontour\"}],\"histogram2d\":[{\"colorbar\":{\"outlinewidth\":0,\"ticks\":\"\"},\"colorscale\":[[0.0,\"#0d0887\"],[0.1111111111111111,\"#46039f\"],[0.2222222222222222,\"#7201a8\"],[0.3333333333333333,\"#9c179e\"],[0.4444444444444444,\"#bd3786\"],[0.5555555555555556,\"#d8576b\"],[0.6666666666666666,\"#ed7953\"],[0.7777777777777778,\"#fb9f3a\"],[0.8888888888888888,\"#fdca26\"],[1.0,\"#f0f921\"]],\"type\":\"histogram2d\"}],\"histogram\":[{\"marker\":{\"pattern\":{\"fillmode\":\"overlay\",\"size\":10,\"solidity\":0.2}},\"type\":\"histogram\"}],\"mesh3d\":[{\"colorbar\":{\"outlinewidth\":0,\"ticks\":\"\"},\"type\":\"mesh3d\"}],\"parcoords\":[{\"line\":{\"colorbar\":{\"outlinewidth\":0,\"ticks\":\"\"}},\"type\":\"parcoords\"}],\"pie\":[{\"automargin\":true,\"type\":\"pie\"}],\"scatter3d\":[{\"line\":{\"colorbar\":{\"outlinewidth\":0,\"ticks\":\"\"}},\"marker\":{\"colorbar\":{\"outlinewidth\":0,\"ticks\":\"\"}},\"type\":\"scatter3d\"}],\"scattercarpet\":[{\"marker\":{\"colorbar\":{\"outlinewidth\":0,\"ticks\":\"\"}},\"type\":\"scattercarpet\"}],\"scattergeo\":[{\"marker\":{\"colorbar\":{\"outlinewidth\":0,\"ticks\":\"\"}},\"type\":\"scattergeo\"}],\"scattergl\":[{\"marker\":{\"colorbar\":{\"outlinewidth\":0,\"ticks\":\"\"}},\"type\":\"scattergl\"}],\"scattermapbox\":[{\"marker\":{\"colorbar\":{\"outlinewidth\":0,\"ticks\":\"\"}},\"type\":\"scattermapbox\"}],\"scatterpolargl\":[{\"marker\":{\"colorbar\":{\"outlinewidth\":0,\"ticks\":\"\"}},\"type\":\"scatterpolargl\"}],\"scatterpolar\":[{\"marker\":{\"colorbar\":{\"outlinewidth\":0,\"ticks\":\"\"}},\"type\":\"scatterpolar\"}],\"scatter\":[{\"marker\":{\"colorbar\":{\"outlinewidth\":0,\"ticks\":\"\"}},\"type\":\"scatter\"}],\"scatterternary\":[{\"marker\":{\"colorbar\":{\"outlinewidth\":0,\"ticks\":\"\"}},\"type\":\"scatterternary\"}],\"surface\":[{\"colorbar\":{\"outlinewidth\":0,\"ticks\":\"\"},\"colorscale\":[[0.0,\"#0d0887\"],[0.1111111111111111,\"#46039f\"],[0.2222222222222222,\"#7201a8\"],[0.3333333333333333,\"#9c179e\"],[0.4444444444444444,\"#bd3786\"],[0.5555555555555556,\"#d8576b\"],[0.6666666666666666,\"#ed7953\"],[0.7777777777777778,\"#fb9f3a\"],[0.8888888888888888,\"#fdca26\"],[1.0,\"#f0f921\"]],\"type\":\"surface\"}],\"table\":[{\"cells\":{\"fill\":{\"color\":\"#EBF0F8\"},\"line\":{\"color\":\"white\"}},\"header\":{\"fill\":{\"color\":\"#C8D4E3\"},\"line\":{\"color\":\"white\"}},\"type\":\"table\"}]},\"layout\":{\"annotationdefaults\":{\"arrowcolor\":\"#2a3f5f\",\"arrowhead\":0,\"arrowwidth\":1},\"autotypenumbers\":\"strict\",\"coloraxis\":{\"colorbar\":{\"outlinewidth\":0,\"ticks\":\"\"}},\"colorscale\":{\"diverging\":[[0,\"#8e0152\"],[0.1,\"#c51b7d\"],[0.2,\"#de77ae\"],[0.3,\"#f1b6da\"],[0.4,\"#fde0ef\"],[0.5,\"#f7f7f7\"],[0.6,\"#e6f5d0\"],[0.7,\"#b8e186\"],[0.8,\"#7fbc41\"],[0.9,\"#4d9221\"],[1,\"#276419\"]],\"sequential\":[[0.0,\"#0d0887\"],[0.1111111111111111,\"#46039f\"],[0.2222222222222222,\"#7201a8\"],[0.3333333333333333,\"#9c179e\"],[0.4444444444444444,\"#bd3786\"],[0.5555555555555556,\"#d8576b\"],[0.6666666666666666,\"#ed7953\"],[0.7777777777777778,\"#fb9f3a\"],[0.8888888888888888,\"#fdca26\"],[1.0,\"#f0f921\"]],\"sequentialminus\":[[0.0,\"#0d0887\"],[0.1111111111111111,\"#46039f\"],[0.2222222222222222,\"#7201a8\"],[0.3333333333333333,\"#9c179e\"],[0.4444444444444444,\"#bd3786\"],[0.5555555555555556,\"#d8576b\"],[0.6666666666666666,\"#ed7953\"],[0.7777777777777778,\"#fb9f3a\"],[0.8888888888888888,\"#fdca26\"],[1.0,\"#f0f921\"]]},\"colorway\":[\"#636efa\",\"#EF553B\",\"#00cc96\",\"#ab63fa\",\"#FFA15A\",\"#19d3f3\",\"#FF6692\",\"#B6E880\",\"#FF97FF\",\"#FECB52\"],\"font\":{\"color\":\"#2a3f5f\"},\"geo\":{\"bgcolor\":\"white\",\"lakecolor\":\"white\",\"landcolor\":\"#E5ECF6\",\"showlakes\":true,\"showland\":true,\"subunitcolor\":\"white\"},\"hoverlabel\":{\"align\":\"left\"},\"hovermode\":\"closest\",\"mapbox\":{\"style\":\"light\"},\"paper_bgcolor\":\"white\",\"plot_bgcolor\":\"#E5ECF6\",\"polar\":{\"angularaxis\":{\"gridcolor\":\"white\",\"linecolor\":\"white\",\"ticks\":\"\"},\"bgcolor\":\"#E5ECF6\",\"radialaxis\":{\"gridcolor\":\"white\",\"linecolor\":\"white\",\"ticks\":\"\"}},\"scene\":{\"xaxis\":{\"backgroundcolor\":\"#E5ECF6\",\"gridcolor\":\"white\",\"gridwidth\":2,\"linecolor\":\"white\",\"showbackground\":true,\"ticks\":\"\",\"zerolinecolor\":\"white\"},\"yaxis\":{\"backgroundcolor\":\"#E5ECF6\",\"gridcolor\":\"white\",\"gridwidth\":2,\"linecolor\":\"white\",\"showbackground\":true,\"ticks\":\"\",\"zerolinecolor\":\"white\"},\"zaxis\":{\"backgroundcolor\":\"#E5ECF6\",\"gridcolor\":\"white\",\"gridwidth\":2,\"linecolor\":\"white\",\"showbackground\":true,\"ticks\":\"\",\"zerolinecolor\":\"white\"}},\"shapedefaults\":{\"line\":{\"color\":\"#2a3f5f\"}},\"ternary\":{\"aaxis\":{\"gridcolor\":\"white\",\"linecolor\":\"white\",\"ticks\":\"\"},\"baxis\":{\"gridcolor\":\"white\",\"linecolor\":\"white\",\"ticks\":\"\"},\"bgcolor\":\"#E5ECF6\",\"caxis\":{\"gridcolor\":\"white\",\"linecolor\":\"white\",\"ticks\":\"\"}},\"title\":{\"x\":0.05},\"xaxis\":{\"automargin\":true,\"gridcolor\":\"white\",\"linecolor\":\"white\",\"ticks\":\"\",\"title\":{\"standoff\":15},\"zerolinecolor\":\"white\",\"zerolinewidth\":2},\"yaxis\":{\"automargin\":true,\"gridcolor\":\"white\",\"linecolor\":\"white\",\"ticks\":\"\",\"title\":{\"standoff\":15},\"zerolinecolor\":\"white\",\"zerolinewidth\":2}}},\"title\":{\"text\":\"Class Distribution\"},\"width\":800,\"xaxis\":{\"title\":{\"text\":\"Attack Name\"}},\"yaxis\":{\"title\":{\"text\":\"Number of attacks\"}}},                        {\"responsive\": true}                    ).then(function(){\n",
       "                            \n",
       "var gd = document.getElementById('c5fa3068-40b9-409a-8037-f4e16a144b5a');\n",
       "var x = new MutationObserver(function (mutations, observer) {{\n",
       "        var display = window.getComputedStyle(gd).display;\n",
       "        if (!display || display === 'none') {{\n",
       "            console.log([gd, 'removed!']);\n",
       "            Plotly.purge(gd);\n",
       "            observer.disconnect();\n",
       "        }}\n",
       "}});\n",
       "\n",
       "// Listen for the removal of the full notebook cells\n",
       "var notebookContainer = gd.closest('#notebook-container');\n",
       "if (notebookContainer) {{\n",
       "    x.observe(notebookContainer, {childList: true});\n",
       "}}\n",
       "\n",
       "// Listen for the clearing of the current output cell\n",
       "var outputEl = gd.closest('.output');\n",
       "if (outputEl) {{\n",
       "    x.observe(outputEl, {childList: true});\n",
       "}}\n",
       "\n",
       "                        })                };                });            </script>        </div>"
      ]
     },
     "metadata": {},
     "output_type": "display_data"
    }
   ],
   "source": [
    "from plotly.offline import init_notebook_mode, iplot, plot\n",
    "import plotly as py\n",
    "import plotly.express as px\n",
    "init_notebook_mode(connected=True)\n",
    "import plotly.graph_objs as go\n",
    "\n",
    "fig = go.Figure(data=[\n",
    "    go.Bar(name='Benign', \n",
    "           y=df[\"Label\"].value_counts().values[0:1],\n",
    "           x=['Benign'],\n",
    "           text = df[\"Label\"].value_counts()[0:1],\n",
    "           orientation='v',\n",
    "           textposition='outside',),\n",
    "    go.Bar(name='FTP-BruteForce', \n",
    "           y=df[\"Label\"].value_counts().values[1:2],\n",
    "           x=['FTP-BruteForce'],\n",
    "           text = df[\"Label\"].value_counts()[1:2],\n",
    "           orientation='v',\n",
    "           textposition='outside',),\n",
    "    go.Bar(name='SSH-Bruteforce', \n",
    "           y=df[\"Label\"].value_counts().values[2:],\n",
    "           x=['SSH-Bruteforce'],\n",
    "           text = df[\"Label\"].value_counts()[2:],\n",
    "           orientation='v',\n",
    "           textposition='outside',)\n",
    "])\n",
    "# Change the bar mode\n",
    "fig.update_layout(\n",
    "                  width=800,\n",
    "                  height=600,\n",
    "                  title=f'Class Distribution',\n",
    "                  yaxis_title='Number of attacks',\n",
    "                  xaxis_title='Attack Name',)\n",
    "iplot(fig)"
   ]
  },
  {
   "cell_type": "markdown",
   "id": "fcbcdebd",
   "metadata": {
    "papermill": {
     "duration": 0.026837,
     "end_time": "2022-10-20T08:02:36.412410",
     "exception": false,
     "start_time": "2022-10-20T08:02:36.385573",
     "status": "completed"
    },
    "tags": []
   },
   "source": [
    "As expected, most of the traffic is benign.\n",
    "\n",
    "Since our goal is binary classification (\"attack\" vs \"not attack\"), we can group FTP and SSH brute force attacks under one name instead of keeping them separate. Let's name them \"Malicious\"."
   ]
  },
  {
   "cell_type": "code",
   "execution_count": 12,
   "id": "b8f4ca64",
   "metadata": {
    "execution": {
     "iopub.execute_input": "2022-10-20T08:02:36.467315Z",
     "iopub.status.busy": "2022-10-20T08:02:36.466882Z",
     "iopub.status.idle": "2022-10-20T08:02:36.729246Z",
     "shell.execute_reply": "2022-10-20T08:02:36.727979Z"
    },
    "papermill": {
     "duration": 0.292683,
     "end_time": "2022-10-20T08:02:36.732155",
     "exception": false,
     "start_time": "2022-10-20T08:02:36.439472",
     "status": "completed"
    },
    "tags": []
   },
   "outputs": [],
   "source": [
    "df.replace(to_replace=[\"FTP-BruteForce\", \"SSH-Bruteforce\"], value=\"Malicious\", inplace=True)"
   ]
  },
  {
   "cell_type": "code",
   "execution_count": 13,
   "id": "6d63bd9f",
   "metadata": {
    "execution": {
     "iopub.execute_input": "2022-10-20T08:02:36.787157Z",
     "iopub.status.busy": "2022-10-20T08:02:36.786742Z",
     "iopub.status.idle": "2022-10-20T08:02:36.852810Z",
     "shell.execute_reply": "2022-10-20T08:02:36.851650Z"
    },
    "papermill": {
     "duration": 0.096625,
     "end_time": "2022-10-20T08:02:36.855072",
     "exception": false,
     "start_time": "2022-10-20T08:02:36.758447",
     "status": "completed"
    },
    "tags": []
   },
   "outputs": [
    {
     "data": {
      "text/plain": [
       "Benign       663808\n",
       "Malicious    380943\n",
       "Name: Label, dtype: int64"
      ]
     },
     "execution_count": 13,
     "metadata": {},
     "output_type": "execute_result"
    }
   ],
   "source": [
    "df_dataset[\"Label\"].value_counts()"
   ]
  },
  {
   "cell_type": "code",
   "execution_count": 14,
   "id": "faff139f",
   "metadata": {
    "execution": {
     "iopub.execute_input": "2022-10-20T08:02:36.910276Z",
     "iopub.status.busy": "2022-10-20T08:02:36.909838Z",
     "iopub.status.idle": "2022-10-20T08:02:37.181611Z",
     "shell.execute_reply": "2022-10-20T08:02:37.180471Z"
    },
    "papermill": {
     "duration": 0.302533,
     "end_time": "2022-10-20T08:02:37.184071",
     "exception": false,
     "start_time": "2022-10-20T08:02:36.881538",
     "status": "completed"
    },
    "tags": []
   },
   "outputs": [
    {
     "data": {
      "application/vnd.plotly.v1+json": {
       "config": {
        "linkText": "Export to plot.ly",
        "plotlyServerURL": "https://plot.ly",
        "showLink": false
       },
       "data": [
        {
         "name": "Benign",
         "orientation": "v",
         "text": [
          663808
         ],
         "textposition": "outside",
         "type": "bar",
         "x": [
          "Benign"
         ],
         "y": [
          663808
         ]
        },
        {
         "name": "Malicious",
         "orientation": "v",
         "text": [
          380943
         ],
         "textposition": "outside",
         "type": "bar",
         "x": [
          "Malicious"
         ],
         "y": [
          380943
         ]
        }
       ],
       "layout": {
        "height": 600,
        "template": {
         "data": {
          "bar": [
           {
            "error_x": {
             "color": "#2a3f5f"
            },
            "error_y": {
             "color": "#2a3f5f"
            },
            "marker": {
             "line": {
              "color": "#E5ECF6",
              "width": 0.5
             },
             "pattern": {
              "fillmode": "overlay",
              "size": 10,
              "solidity": 0.2
             }
            },
            "type": "bar"
           }
          ],
          "barpolar": [
           {
            "marker": {
             "line": {
              "color": "#E5ECF6",
              "width": 0.5
             },
             "pattern": {
              "fillmode": "overlay",
              "size": 10,
              "solidity": 0.2
             }
            },
            "type": "barpolar"
           }
          ],
          "carpet": [
           {
            "aaxis": {
             "endlinecolor": "#2a3f5f",
             "gridcolor": "white",
             "linecolor": "white",
             "minorgridcolor": "white",
             "startlinecolor": "#2a3f5f"
            },
            "baxis": {
             "endlinecolor": "#2a3f5f",
             "gridcolor": "white",
             "linecolor": "white",
             "minorgridcolor": "white",
             "startlinecolor": "#2a3f5f"
            },
            "type": "carpet"
           }
          ],
          "choropleth": [
           {
            "colorbar": {
             "outlinewidth": 0,
             "ticks": ""
            },
            "type": "choropleth"
           }
          ],
          "contour": [
           {
            "colorbar": {
             "outlinewidth": 0,
             "ticks": ""
            },
            "colorscale": [
             [
              0,
              "#0d0887"
             ],
             [
              0.1111111111111111,
              "#46039f"
             ],
             [
              0.2222222222222222,
              "#7201a8"
             ],
             [
              0.3333333333333333,
              "#9c179e"
             ],
             [
              0.4444444444444444,
              "#bd3786"
             ],
             [
              0.5555555555555556,
              "#d8576b"
             ],
             [
              0.6666666666666666,
              "#ed7953"
             ],
             [
              0.7777777777777778,
              "#fb9f3a"
             ],
             [
              0.8888888888888888,
              "#fdca26"
             ],
             [
              1,
              "#f0f921"
             ]
            ],
            "type": "contour"
           }
          ],
          "contourcarpet": [
           {
            "colorbar": {
             "outlinewidth": 0,
             "ticks": ""
            },
            "type": "contourcarpet"
           }
          ],
          "heatmap": [
           {
            "colorbar": {
             "outlinewidth": 0,
             "ticks": ""
            },
            "colorscale": [
             [
              0,
              "#0d0887"
             ],
             [
              0.1111111111111111,
              "#46039f"
             ],
             [
              0.2222222222222222,
              "#7201a8"
             ],
             [
              0.3333333333333333,
              "#9c179e"
             ],
             [
              0.4444444444444444,
              "#bd3786"
             ],
             [
              0.5555555555555556,
              "#d8576b"
             ],
             [
              0.6666666666666666,
              "#ed7953"
             ],
             [
              0.7777777777777778,
              "#fb9f3a"
             ],
             [
              0.8888888888888888,
              "#fdca26"
             ],
             [
              1,
              "#f0f921"
             ]
            ],
            "type": "heatmap"
           }
          ],
          "heatmapgl": [
           {
            "colorbar": {
             "outlinewidth": 0,
             "ticks": ""
            },
            "colorscale": [
             [
              0,
              "#0d0887"
             ],
             [
              0.1111111111111111,
              "#46039f"
             ],
             [
              0.2222222222222222,
              "#7201a8"
             ],
             [
              0.3333333333333333,
              "#9c179e"
             ],
             [
              0.4444444444444444,
              "#bd3786"
             ],
             [
              0.5555555555555556,
              "#d8576b"
             ],
             [
              0.6666666666666666,
              "#ed7953"
             ],
             [
              0.7777777777777778,
              "#fb9f3a"
             ],
             [
              0.8888888888888888,
              "#fdca26"
             ],
             [
              1,
              "#f0f921"
             ]
            ],
            "type": "heatmapgl"
           }
          ],
          "histogram": [
           {
            "marker": {
             "pattern": {
              "fillmode": "overlay",
              "size": 10,
              "solidity": 0.2
             }
            },
            "type": "histogram"
           }
          ],
          "histogram2d": [
           {
            "colorbar": {
             "outlinewidth": 0,
             "ticks": ""
            },
            "colorscale": [
             [
              0,
              "#0d0887"
             ],
             [
              0.1111111111111111,
              "#46039f"
             ],
             [
              0.2222222222222222,
              "#7201a8"
             ],
             [
              0.3333333333333333,
              "#9c179e"
             ],
             [
              0.4444444444444444,
              "#bd3786"
             ],
             [
              0.5555555555555556,
              "#d8576b"
             ],
             [
              0.6666666666666666,
              "#ed7953"
             ],
             [
              0.7777777777777778,
              "#fb9f3a"
             ],
             [
              0.8888888888888888,
              "#fdca26"
             ],
             [
              1,
              "#f0f921"
             ]
            ],
            "type": "histogram2d"
           }
          ],
          "histogram2dcontour": [
           {
            "colorbar": {
             "outlinewidth": 0,
             "ticks": ""
            },
            "colorscale": [
             [
              0,
              "#0d0887"
             ],
             [
              0.1111111111111111,
              "#46039f"
             ],
             [
              0.2222222222222222,
              "#7201a8"
             ],
             [
              0.3333333333333333,
              "#9c179e"
             ],
             [
              0.4444444444444444,
              "#bd3786"
             ],
             [
              0.5555555555555556,
              "#d8576b"
             ],
             [
              0.6666666666666666,
              "#ed7953"
             ],
             [
              0.7777777777777778,
              "#fb9f3a"
             ],
             [
              0.8888888888888888,
              "#fdca26"
             ],
             [
              1,
              "#f0f921"
             ]
            ],
            "type": "histogram2dcontour"
           }
          ],
          "mesh3d": [
           {
            "colorbar": {
             "outlinewidth": 0,
             "ticks": ""
            },
            "type": "mesh3d"
           }
          ],
          "parcoords": [
           {
            "line": {
             "colorbar": {
              "outlinewidth": 0,
              "ticks": ""
             }
            },
            "type": "parcoords"
           }
          ],
          "pie": [
           {
            "automargin": true,
            "type": "pie"
           }
          ],
          "scatter": [
           {
            "marker": {
             "colorbar": {
              "outlinewidth": 0,
              "ticks": ""
             }
            },
            "type": "scatter"
           }
          ],
          "scatter3d": [
           {
            "line": {
             "colorbar": {
              "outlinewidth": 0,
              "ticks": ""
             }
            },
            "marker": {
             "colorbar": {
              "outlinewidth": 0,
              "ticks": ""
             }
            },
            "type": "scatter3d"
           }
          ],
          "scattercarpet": [
           {
            "marker": {
             "colorbar": {
              "outlinewidth": 0,
              "ticks": ""
             }
            },
            "type": "scattercarpet"
           }
          ],
          "scattergeo": [
           {
            "marker": {
             "colorbar": {
              "outlinewidth": 0,
              "ticks": ""
             }
            },
            "type": "scattergeo"
           }
          ],
          "scattergl": [
           {
            "marker": {
             "colorbar": {
              "outlinewidth": 0,
              "ticks": ""
             }
            },
            "type": "scattergl"
           }
          ],
          "scattermapbox": [
           {
            "marker": {
             "colorbar": {
              "outlinewidth": 0,
              "ticks": ""
             }
            },
            "type": "scattermapbox"
           }
          ],
          "scatterpolar": [
           {
            "marker": {
             "colorbar": {
              "outlinewidth": 0,
              "ticks": ""
             }
            },
            "type": "scatterpolar"
           }
          ],
          "scatterpolargl": [
           {
            "marker": {
             "colorbar": {
              "outlinewidth": 0,
              "ticks": ""
             }
            },
            "type": "scatterpolargl"
           }
          ],
          "scatterternary": [
           {
            "marker": {
             "colorbar": {
              "outlinewidth": 0,
              "ticks": ""
             }
            },
            "type": "scatterternary"
           }
          ],
          "surface": [
           {
            "colorbar": {
             "outlinewidth": 0,
             "ticks": ""
            },
            "colorscale": [
             [
              0,
              "#0d0887"
             ],
             [
              0.1111111111111111,
              "#46039f"
             ],
             [
              0.2222222222222222,
              "#7201a8"
             ],
             [
              0.3333333333333333,
              "#9c179e"
             ],
             [
              0.4444444444444444,
              "#bd3786"
             ],
             [
              0.5555555555555556,
              "#d8576b"
             ],
             [
              0.6666666666666666,
              "#ed7953"
             ],
             [
              0.7777777777777778,
              "#fb9f3a"
             ],
             [
              0.8888888888888888,
              "#fdca26"
             ],
             [
              1,
              "#f0f921"
             ]
            ],
            "type": "surface"
           }
          ],
          "table": [
           {
            "cells": {
             "fill": {
              "color": "#EBF0F8"
             },
             "line": {
              "color": "white"
             }
            },
            "header": {
             "fill": {
              "color": "#C8D4E3"
             },
             "line": {
              "color": "white"
             }
            },
            "type": "table"
           }
          ]
         },
         "layout": {
          "annotationdefaults": {
           "arrowcolor": "#2a3f5f",
           "arrowhead": 0,
           "arrowwidth": 1
          },
          "autotypenumbers": "strict",
          "coloraxis": {
           "colorbar": {
            "outlinewidth": 0,
            "ticks": ""
           }
          },
          "colorscale": {
           "diverging": [
            [
             0,
             "#8e0152"
            ],
            [
             0.1,
             "#c51b7d"
            ],
            [
             0.2,
             "#de77ae"
            ],
            [
             0.3,
             "#f1b6da"
            ],
            [
             0.4,
             "#fde0ef"
            ],
            [
             0.5,
             "#f7f7f7"
            ],
            [
             0.6,
             "#e6f5d0"
            ],
            [
             0.7,
             "#b8e186"
            ],
            [
             0.8,
             "#7fbc41"
            ],
            [
             0.9,
             "#4d9221"
            ],
            [
             1,
             "#276419"
            ]
           ],
           "sequential": [
            [
             0,
             "#0d0887"
            ],
            [
             0.1111111111111111,
             "#46039f"
            ],
            [
             0.2222222222222222,
             "#7201a8"
            ],
            [
             0.3333333333333333,
             "#9c179e"
            ],
            [
             0.4444444444444444,
             "#bd3786"
            ],
            [
             0.5555555555555556,
             "#d8576b"
            ],
            [
             0.6666666666666666,
             "#ed7953"
            ],
            [
             0.7777777777777778,
             "#fb9f3a"
            ],
            [
             0.8888888888888888,
             "#fdca26"
            ],
            [
             1,
             "#f0f921"
            ]
           ],
           "sequentialminus": [
            [
             0,
             "#0d0887"
            ],
            [
             0.1111111111111111,
             "#46039f"
            ],
            [
             0.2222222222222222,
             "#7201a8"
            ],
            [
             0.3333333333333333,
             "#9c179e"
            ],
            [
             0.4444444444444444,
             "#bd3786"
            ],
            [
             0.5555555555555556,
             "#d8576b"
            ],
            [
             0.6666666666666666,
             "#ed7953"
            ],
            [
             0.7777777777777778,
             "#fb9f3a"
            ],
            [
             0.8888888888888888,
             "#fdca26"
            ],
            [
             1,
             "#f0f921"
            ]
           ]
          },
          "colorway": [
           "#636efa",
           "#EF553B",
           "#00cc96",
           "#ab63fa",
           "#FFA15A",
           "#19d3f3",
           "#FF6692",
           "#B6E880",
           "#FF97FF",
           "#FECB52"
          ],
          "font": {
           "color": "#2a3f5f"
          },
          "geo": {
           "bgcolor": "white",
           "lakecolor": "white",
           "landcolor": "#E5ECF6",
           "showlakes": true,
           "showland": true,
           "subunitcolor": "white"
          },
          "hoverlabel": {
           "align": "left"
          },
          "hovermode": "closest",
          "mapbox": {
           "style": "light"
          },
          "paper_bgcolor": "white",
          "plot_bgcolor": "#E5ECF6",
          "polar": {
           "angularaxis": {
            "gridcolor": "white",
            "linecolor": "white",
            "ticks": ""
           },
           "bgcolor": "#E5ECF6",
           "radialaxis": {
            "gridcolor": "white",
            "linecolor": "white",
            "ticks": ""
           }
          },
          "scene": {
           "xaxis": {
            "backgroundcolor": "#E5ECF6",
            "gridcolor": "white",
            "gridwidth": 2,
            "linecolor": "white",
            "showbackground": true,
            "ticks": "",
            "zerolinecolor": "white"
           },
           "yaxis": {
            "backgroundcolor": "#E5ECF6",
            "gridcolor": "white",
            "gridwidth": 2,
            "linecolor": "white",
            "showbackground": true,
            "ticks": "",
            "zerolinecolor": "white"
           },
           "zaxis": {
            "backgroundcolor": "#E5ECF6",
            "gridcolor": "white",
            "gridwidth": 2,
            "linecolor": "white",
            "showbackground": true,
            "ticks": "",
            "zerolinecolor": "white"
           }
          },
          "shapedefaults": {
           "line": {
            "color": "#2a3f5f"
           }
          },
          "ternary": {
           "aaxis": {
            "gridcolor": "white",
            "linecolor": "white",
            "ticks": ""
           },
           "baxis": {
            "gridcolor": "white",
            "linecolor": "white",
            "ticks": ""
           },
           "bgcolor": "#E5ECF6",
           "caxis": {
            "gridcolor": "white",
            "linecolor": "white",
            "ticks": ""
           }
          },
          "title": {
           "x": 0.05
          },
          "xaxis": {
           "automargin": true,
           "gridcolor": "white",
           "linecolor": "white",
           "ticks": "",
           "title": {
            "standoff": 15
           },
           "zerolinecolor": "white",
           "zerolinewidth": 2
          },
          "yaxis": {
           "automargin": true,
           "gridcolor": "white",
           "linecolor": "white",
           "ticks": "",
           "title": {
            "standoff": 15
           },
           "zerolinecolor": "white",
           "zerolinewidth": 2
          }
         }
        },
        "title": {
         "text": "Class Distribution"
        },
        "width": 800,
        "xaxis": {
         "title": {
          "text": "Attack Name"
         }
        },
        "yaxis": {
         "title": {
          "text": "Number of attacks"
         }
        }
       }
      },
      "text/html": [
       "<div>                            <div id=\"b9c22b2c-3ff4-4f8d-ae55-00d7763b9270\" class=\"plotly-graph-div\" style=\"height:600px; width:800px;\"></div>            <script type=\"text/javascript\">                require([\"plotly\"], function(Plotly) {                    window.PLOTLYENV=window.PLOTLYENV || {};                                    if (document.getElementById(\"b9c22b2c-3ff4-4f8d-ae55-00d7763b9270\")) {                    Plotly.newPlot(                        \"b9c22b2c-3ff4-4f8d-ae55-00d7763b9270\",                        [{\"name\":\"Benign\",\"orientation\":\"v\",\"text\":[663808.0],\"textposition\":\"outside\",\"x\":[\"Benign\"],\"y\":[663808],\"type\":\"bar\"},{\"name\":\"Malicious\",\"orientation\":\"v\",\"text\":[380943.0],\"textposition\":\"outside\",\"x\":[\"Malicious\"],\"y\":[380943],\"type\":\"bar\"}],                        {\"height\":600,\"template\":{\"data\":{\"barpolar\":[{\"marker\":{\"line\":{\"color\":\"#E5ECF6\",\"width\":0.5},\"pattern\":{\"fillmode\":\"overlay\",\"size\":10,\"solidity\":0.2}},\"type\":\"barpolar\"}],\"bar\":[{\"error_x\":{\"color\":\"#2a3f5f\"},\"error_y\":{\"color\":\"#2a3f5f\"},\"marker\":{\"line\":{\"color\":\"#E5ECF6\",\"width\":0.5},\"pattern\":{\"fillmode\":\"overlay\",\"size\":10,\"solidity\":0.2}},\"type\":\"bar\"}],\"carpet\":[{\"aaxis\":{\"endlinecolor\":\"#2a3f5f\",\"gridcolor\":\"white\",\"linecolor\":\"white\",\"minorgridcolor\":\"white\",\"startlinecolor\":\"#2a3f5f\"},\"baxis\":{\"endlinecolor\":\"#2a3f5f\",\"gridcolor\":\"white\",\"linecolor\":\"white\",\"minorgridcolor\":\"white\",\"startlinecolor\":\"#2a3f5f\"},\"type\":\"carpet\"}],\"choropleth\":[{\"colorbar\":{\"outlinewidth\":0,\"ticks\":\"\"},\"type\":\"choropleth\"}],\"contourcarpet\":[{\"colorbar\":{\"outlinewidth\":0,\"ticks\":\"\"},\"type\":\"contourcarpet\"}],\"contour\":[{\"colorbar\":{\"outlinewidth\":0,\"ticks\":\"\"},\"colorscale\":[[0.0,\"#0d0887\"],[0.1111111111111111,\"#46039f\"],[0.2222222222222222,\"#7201a8\"],[0.3333333333333333,\"#9c179e\"],[0.4444444444444444,\"#bd3786\"],[0.5555555555555556,\"#d8576b\"],[0.6666666666666666,\"#ed7953\"],[0.7777777777777778,\"#fb9f3a\"],[0.8888888888888888,\"#fdca26\"],[1.0,\"#f0f921\"]],\"type\":\"contour\"}],\"heatmapgl\":[{\"colorbar\":{\"outlinewidth\":0,\"ticks\":\"\"},\"colorscale\":[[0.0,\"#0d0887\"],[0.1111111111111111,\"#46039f\"],[0.2222222222222222,\"#7201a8\"],[0.3333333333333333,\"#9c179e\"],[0.4444444444444444,\"#bd3786\"],[0.5555555555555556,\"#d8576b\"],[0.6666666666666666,\"#ed7953\"],[0.7777777777777778,\"#fb9f3a\"],[0.8888888888888888,\"#fdca26\"],[1.0,\"#f0f921\"]],\"type\":\"heatmapgl\"}],\"heatmap\":[{\"colorbar\":{\"outlinewidth\":0,\"ticks\":\"\"},\"colorscale\":[[0.0,\"#0d0887\"],[0.1111111111111111,\"#46039f\"],[0.2222222222222222,\"#7201a8\"],[0.3333333333333333,\"#9c179e\"],[0.4444444444444444,\"#bd3786\"],[0.5555555555555556,\"#d8576b\"],[0.6666666666666666,\"#ed7953\"],[0.7777777777777778,\"#fb9f3a\"],[0.8888888888888888,\"#fdca26\"],[1.0,\"#f0f921\"]],\"type\":\"heatmap\"}],\"histogram2dcontour\":[{\"colorbar\":{\"outlinewidth\":0,\"ticks\":\"\"},\"colorscale\":[[0.0,\"#0d0887\"],[0.1111111111111111,\"#46039f\"],[0.2222222222222222,\"#7201a8\"],[0.3333333333333333,\"#9c179e\"],[0.4444444444444444,\"#bd3786\"],[0.5555555555555556,\"#d8576b\"],[0.6666666666666666,\"#ed7953\"],[0.7777777777777778,\"#fb9f3a\"],[0.8888888888888888,\"#fdca26\"],[1.0,\"#f0f921\"]],\"type\":\"histogram2dcontour\"}],\"histogram2d\":[{\"colorbar\":{\"outlinewidth\":0,\"ticks\":\"\"},\"colorscale\":[[0.0,\"#0d0887\"],[0.1111111111111111,\"#46039f\"],[0.2222222222222222,\"#7201a8\"],[0.3333333333333333,\"#9c179e\"],[0.4444444444444444,\"#bd3786\"],[0.5555555555555556,\"#d8576b\"],[0.6666666666666666,\"#ed7953\"],[0.7777777777777778,\"#fb9f3a\"],[0.8888888888888888,\"#fdca26\"],[1.0,\"#f0f921\"]],\"type\":\"histogram2d\"}],\"histogram\":[{\"marker\":{\"pattern\":{\"fillmode\":\"overlay\",\"size\":10,\"solidity\":0.2}},\"type\":\"histogram\"}],\"mesh3d\":[{\"colorbar\":{\"outlinewidth\":0,\"ticks\":\"\"},\"type\":\"mesh3d\"}],\"parcoords\":[{\"line\":{\"colorbar\":{\"outlinewidth\":0,\"ticks\":\"\"}},\"type\":\"parcoords\"}],\"pie\":[{\"automargin\":true,\"type\":\"pie\"}],\"scatter3d\":[{\"line\":{\"colorbar\":{\"outlinewidth\":0,\"ticks\":\"\"}},\"marker\":{\"colorbar\":{\"outlinewidth\":0,\"ticks\":\"\"}},\"type\":\"scatter3d\"}],\"scattercarpet\":[{\"marker\":{\"colorbar\":{\"outlinewidth\":0,\"ticks\":\"\"}},\"type\":\"scattercarpet\"}],\"scattergeo\":[{\"marker\":{\"colorbar\":{\"outlinewidth\":0,\"ticks\":\"\"}},\"type\":\"scattergeo\"}],\"scattergl\":[{\"marker\":{\"colorbar\":{\"outlinewidth\":0,\"ticks\":\"\"}},\"type\":\"scattergl\"}],\"scattermapbox\":[{\"marker\":{\"colorbar\":{\"outlinewidth\":0,\"ticks\":\"\"}},\"type\":\"scattermapbox\"}],\"scatterpolargl\":[{\"marker\":{\"colorbar\":{\"outlinewidth\":0,\"ticks\":\"\"}},\"type\":\"scatterpolargl\"}],\"scatterpolar\":[{\"marker\":{\"colorbar\":{\"outlinewidth\":0,\"ticks\":\"\"}},\"type\":\"scatterpolar\"}],\"scatter\":[{\"marker\":{\"colorbar\":{\"outlinewidth\":0,\"ticks\":\"\"}},\"type\":\"scatter\"}],\"scatterternary\":[{\"marker\":{\"colorbar\":{\"outlinewidth\":0,\"ticks\":\"\"}},\"type\":\"scatterternary\"}],\"surface\":[{\"colorbar\":{\"outlinewidth\":0,\"ticks\":\"\"},\"colorscale\":[[0.0,\"#0d0887\"],[0.1111111111111111,\"#46039f\"],[0.2222222222222222,\"#7201a8\"],[0.3333333333333333,\"#9c179e\"],[0.4444444444444444,\"#bd3786\"],[0.5555555555555556,\"#d8576b\"],[0.6666666666666666,\"#ed7953\"],[0.7777777777777778,\"#fb9f3a\"],[0.8888888888888888,\"#fdca26\"],[1.0,\"#f0f921\"]],\"type\":\"surface\"}],\"table\":[{\"cells\":{\"fill\":{\"color\":\"#EBF0F8\"},\"line\":{\"color\":\"white\"}},\"header\":{\"fill\":{\"color\":\"#C8D4E3\"},\"line\":{\"color\":\"white\"}},\"type\":\"table\"}]},\"layout\":{\"annotationdefaults\":{\"arrowcolor\":\"#2a3f5f\",\"arrowhead\":0,\"arrowwidth\":1},\"autotypenumbers\":\"strict\",\"coloraxis\":{\"colorbar\":{\"outlinewidth\":0,\"ticks\":\"\"}},\"colorscale\":{\"diverging\":[[0,\"#8e0152\"],[0.1,\"#c51b7d\"],[0.2,\"#de77ae\"],[0.3,\"#f1b6da\"],[0.4,\"#fde0ef\"],[0.5,\"#f7f7f7\"],[0.6,\"#e6f5d0\"],[0.7,\"#b8e186\"],[0.8,\"#7fbc41\"],[0.9,\"#4d9221\"],[1,\"#276419\"]],\"sequential\":[[0.0,\"#0d0887\"],[0.1111111111111111,\"#46039f\"],[0.2222222222222222,\"#7201a8\"],[0.3333333333333333,\"#9c179e\"],[0.4444444444444444,\"#bd3786\"],[0.5555555555555556,\"#d8576b\"],[0.6666666666666666,\"#ed7953\"],[0.7777777777777778,\"#fb9f3a\"],[0.8888888888888888,\"#fdca26\"],[1.0,\"#f0f921\"]],\"sequentialminus\":[[0.0,\"#0d0887\"],[0.1111111111111111,\"#46039f\"],[0.2222222222222222,\"#7201a8\"],[0.3333333333333333,\"#9c179e\"],[0.4444444444444444,\"#bd3786\"],[0.5555555555555556,\"#d8576b\"],[0.6666666666666666,\"#ed7953\"],[0.7777777777777778,\"#fb9f3a\"],[0.8888888888888888,\"#fdca26\"],[1.0,\"#f0f921\"]]},\"colorway\":[\"#636efa\",\"#EF553B\",\"#00cc96\",\"#ab63fa\",\"#FFA15A\",\"#19d3f3\",\"#FF6692\",\"#B6E880\",\"#FF97FF\",\"#FECB52\"],\"font\":{\"color\":\"#2a3f5f\"},\"geo\":{\"bgcolor\":\"white\",\"lakecolor\":\"white\",\"landcolor\":\"#E5ECF6\",\"showlakes\":true,\"showland\":true,\"subunitcolor\":\"white\"},\"hoverlabel\":{\"align\":\"left\"},\"hovermode\":\"closest\",\"mapbox\":{\"style\":\"light\"},\"paper_bgcolor\":\"white\",\"plot_bgcolor\":\"#E5ECF6\",\"polar\":{\"angularaxis\":{\"gridcolor\":\"white\",\"linecolor\":\"white\",\"ticks\":\"\"},\"bgcolor\":\"#E5ECF6\",\"radialaxis\":{\"gridcolor\":\"white\",\"linecolor\":\"white\",\"ticks\":\"\"}},\"scene\":{\"xaxis\":{\"backgroundcolor\":\"#E5ECF6\",\"gridcolor\":\"white\",\"gridwidth\":2,\"linecolor\":\"white\",\"showbackground\":true,\"ticks\":\"\",\"zerolinecolor\":\"white\"},\"yaxis\":{\"backgroundcolor\":\"#E5ECF6\",\"gridcolor\":\"white\",\"gridwidth\":2,\"linecolor\":\"white\",\"showbackground\":true,\"ticks\":\"\",\"zerolinecolor\":\"white\"},\"zaxis\":{\"backgroundcolor\":\"#E5ECF6\",\"gridcolor\":\"white\",\"gridwidth\":2,\"linecolor\":\"white\",\"showbackground\":true,\"ticks\":\"\",\"zerolinecolor\":\"white\"}},\"shapedefaults\":{\"line\":{\"color\":\"#2a3f5f\"}},\"ternary\":{\"aaxis\":{\"gridcolor\":\"white\",\"linecolor\":\"white\",\"ticks\":\"\"},\"baxis\":{\"gridcolor\":\"white\",\"linecolor\":\"white\",\"ticks\":\"\"},\"bgcolor\":\"#E5ECF6\",\"caxis\":{\"gridcolor\":\"white\",\"linecolor\":\"white\",\"ticks\":\"\"}},\"title\":{\"x\":0.05},\"xaxis\":{\"automargin\":true,\"gridcolor\":\"white\",\"linecolor\":\"white\",\"ticks\":\"\",\"title\":{\"standoff\":15},\"zerolinecolor\":\"white\",\"zerolinewidth\":2},\"yaxis\":{\"automargin\":true,\"gridcolor\":\"white\",\"linecolor\":\"white\",\"ticks\":\"\",\"title\":{\"standoff\":15},\"zerolinecolor\":\"white\",\"zerolinewidth\":2}}},\"title\":{\"text\":\"Class Distribution\"},\"width\":800,\"xaxis\":{\"title\":{\"text\":\"Attack Name\"}},\"yaxis\":{\"title\":{\"text\":\"Number of attacks\"}}},                        {\"responsive\": true}                    ).then(function(){\n",
       "                            \n",
       "var gd = document.getElementById('b9c22b2c-3ff4-4f8d-ae55-00d7763b9270');\n",
       "var x = new MutationObserver(function (mutations, observer) {{\n",
       "        var display = window.getComputedStyle(gd).display;\n",
       "        if (!display || display === 'none') {{\n",
       "            console.log([gd, 'removed!']);\n",
       "            Plotly.purge(gd);\n",
       "            observer.disconnect();\n",
       "        }}\n",
       "}});\n",
       "\n",
       "// Listen for the removal of the full notebook cells\n",
       "var notebookContainer = gd.closest('#notebook-container');\n",
       "if (notebookContainer) {{\n",
       "    x.observe(notebookContainer, {childList: true});\n",
       "}}\n",
       "\n",
       "// Listen for the clearing of the current output cell\n",
       "var outputEl = gd.closest('.output');\n",
       "if (outputEl) {{\n",
       "    x.observe(outputEl, {childList: true});\n",
       "}}\n",
       "\n",
       "                        })                };                });            </script>        </div>"
      ]
     },
     "metadata": {},
     "output_type": "display_data"
    }
   ],
   "source": [
    "fig = go.Figure(data=[\n",
    "    go.Bar(name='Benign', \n",
    "           y=df[\"Label\"].value_counts().values[0:1],\n",
    "           x=['Benign'],\n",
    "           text = df[\"Label\"].value_counts()[0:1],\n",
    "           orientation='v',\n",
    "           textposition='outside',),\n",
    "    go.Bar(name='Malicious', \n",
    "           y=df[\"Label\"].value_counts().values[1:2],\n",
    "           x=['Malicious'],\n",
    "           text = df[\"Label\"].value_counts()[1:2],\n",
    "           orientation='v',\n",
    "           textposition='outside',)\n",
    "])\n",
    "# Change the bar mode\n",
    "fig.update_layout(\n",
    "                  width=800,\n",
    "                  height=600,\n",
    "                  title=f'Class Distribution',\n",
    "                  yaxis_title='Number of attacks',\n",
    "                  xaxis_title='Attack Name',)\n",
    "iplot(fig)"
   ]
  },
  {
   "cell_type": "markdown",
   "id": "350bf7ae",
   "metadata": {
    "papermill": {
     "duration": 0.032359,
     "end_time": "2022-10-20T08:02:37.249178",
     "exception": false,
     "start_time": "2022-10-20T08:02:37.216819",
     "status": "completed"
    },
    "tags": []
   },
   "source": [
    "To prevent our classification model from being biased, we should make sure that the class distribution is even (i.e. 50% benign and 50% malicious).\n",
    "\n",
    "Since there are 380493 instances of Malicious and 663808 instances of Benign, we can take 380493 instances of both Malicious and Benign to train our model with an even class distribution."
   ]
  },
  {
   "cell_type": "code",
   "execution_count": 15,
   "id": "a9e96fe4",
   "metadata": {
    "execution": {
     "iopub.execute_input": "2022-10-20T08:02:37.316396Z",
     "iopub.status.busy": "2022-10-20T08:02:37.315375Z",
     "iopub.status.idle": "2022-10-20T08:02:38.600553Z",
     "shell.execute_reply": "2022-10-20T08:02:38.599412Z"
    },
    "papermill": {
     "duration": 1.322526,
     "end_time": "2022-10-20T08:02:38.603319",
     "exception": false,
     "start_time": "2022-10-20T08:02:37.280793",
     "status": "completed"
    },
    "tags": []
   },
   "outputs": [],
   "source": [
    "df1 = df[df[\"Label\"] == \"Benign\"][:380943]\n",
    "df2 = df[df[\"Label\"] == \"Malicious\"][:380943]\n",
    "df_equal = pd.concat([ df1,df2], axis =0)"
   ]
  },
  {
   "cell_type": "markdown",
   "id": "b88ae733",
   "metadata": {
    "papermill": {
     "duration": 0.033207,
     "end_time": "2022-10-20T08:02:38.669751",
     "exception": false,
     "start_time": "2022-10-20T08:02:38.636544",
     "status": "completed"
    },
    "tags": []
   },
   "source": [
    "We now encode our class labels to integer values for the model to use."
   ]
  },
  {
   "cell_type": "code",
   "execution_count": 16,
   "id": "83b1ccf5",
   "metadata": {
    "execution": {
     "iopub.execute_input": "2022-10-20T08:02:38.736110Z",
     "iopub.status.busy": "2022-10-20T08:02:38.735688Z",
     "iopub.status.idle": "2022-10-20T08:02:39.761615Z",
     "shell.execute_reply": "2022-10-20T08:02:39.760266Z"
    },
    "papermill": {
     "duration": 1.062385,
     "end_time": "2022-10-20T08:02:39.764398",
     "exception": false,
     "start_time": "2022-10-20T08:02:38.702013",
     "status": "completed"
    },
    "tags": []
   },
   "outputs": [],
   "source": [
    "df_equal.replace(to_replace=\"Benign\", value=0, inplace=True)\n",
    "df_equal.replace(to_replace=\"Malicious\", value=1, inplace=True)"
   ]
  },
  {
   "cell_type": "markdown",
   "id": "6e4338dd",
   "metadata": {
    "papermill": {
     "duration": 0.031425,
     "end_time": "2022-10-20T08:02:39.828815",
     "exception": false,
     "start_time": "2022-10-20T08:02:39.797390",
     "status": "completed"
    },
    "tags": []
   },
   "source": [
    "We split the data into training and testing sets."
   ]
  },
  {
   "cell_type": "code",
   "execution_count": 17,
   "id": "3fb093d0",
   "metadata": {
    "execution": {
     "iopub.execute_input": "2022-10-20T08:02:39.894498Z",
     "iopub.status.busy": "2022-10-20T08:02:39.894071Z",
     "iopub.status.idle": "2022-10-20T08:02:41.437111Z",
     "shell.execute_reply": "2022-10-20T08:02:41.436192Z"
    },
    "papermill": {
     "duration": 1.578502,
     "end_time": "2022-10-20T08:02:41.439602",
     "exception": false,
     "start_time": "2022-10-20T08:02:39.861100",
     "status": "completed"
    },
    "tags": []
   },
   "outputs": [],
   "source": [
    "train, test = train_test_split(df_equal, test_size=0.3, random_state=RANDOM_STATE_SEED)"
   ]
  },
  {
   "cell_type": "code",
   "execution_count": 18,
   "id": "a987059a",
   "metadata": {
    "execution": {
     "iopub.execute_input": "2022-10-20T08:02:41.505249Z",
     "iopub.status.busy": "2022-10-20T08:02:41.504764Z",
     "iopub.status.idle": "2022-10-20T08:02:41.513214Z",
     "shell.execute_reply": "2022-10-20T08:02:41.512168Z"
    },
    "papermill": {
     "duration": 0.0441,
     "end_time": "2022-10-20T08:02:41.515317",
     "exception": false,
     "start_time": "2022-10-20T08:02:41.471217",
     "status": "completed"
    },
    "tags": []
   },
   "outputs": [
    {
     "data": {
      "text/plain": [
       "Index(['Dst Port', 'Protocol', 'Timestamp', 'Flow Duration', 'Tot Fwd Pkts',\n",
       "       'Tot Bwd Pkts', 'TotLen Fwd Pkts', 'TotLen Bwd Pkts', 'Fwd Pkt Len Max',\n",
       "       'Fwd Pkt Len Min', 'Fwd Pkt Len Mean', 'Fwd Pkt Len Std',\n",
       "       'Bwd Pkt Len Max', 'Bwd Pkt Len Min', 'Bwd Pkt Len Mean',\n",
       "       'Bwd Pkt Len Std', 'Flow Byts/s', 'Flow Pkts/s', 'Flow IAT Mean',\n",
       "       'Flow IAT Std', 'Flow IAT Max', 'Flow IAT Min', 'Fwd IAT Tot',\n",
       "       'Fwd IAT Mean', 'Fwd IAT Std', 'Fwd IAT Max', 'Fwd IAT Min',\n",
       "       'Bwd IAT Tot', 'Bwd IAT Mean', 'Bwd IAT Std', 'Bwd IAT Max',\n",
       "       'Bwd IAT Min', 'Fwd PSH Flags', 'Bwd PSH Flags', 'Fwd URG Flags',\n",
       "       'Bwd URG Flags', 'Fwd Header Len', 'Bwd Header Len', 'Fwd Pkts/s',\n",
       "       'Bwd Pkts/s', 'Pkt Len Min', 'Pkt Len Max', 'Pkt Len Mean',\n",
       "       'Pkt Len Std', 'Pkt Len Var', 'FIN Flag Cnt', 'SYN Flag Cnt',\n",
       "       'RST Flag Cnt', 'PSH Flag Cnt', 'ACK Flag Cnt', 'URG Flag Cnt',\n",
       "       'CWE Flag Count', 'ECE Flag Cnt', 'Down/Up Ratio', 'Pkt Size Avg',\n",
       "       'Fwd Seg Size Avg', 'Bwd Seg Size Avg', 'Fwd Byts/b Avg',\n",
       "       'Fwd Pkts/b Avg', 'Fwd Blk Rate Avg', 'Bwd Byts/b Avg',\n",
       "       'Bwd Pkts/b Avg', 'Bwd Blk Rate Avg', 'Subflow Fwd Pkts',\n",
       "       'Subflow Fwd Byts', 'Subflow Bwd Pkts', 'Subflow Bwd Byts',\n",
       "       'Init Fwd Win Byts', 'Init Bwd Win Byts', 'Fwd Act Data Pkts',\n",
       "       'Fwd Seg Size Min', 'Active Mean', 'Active Std', 'Active Max',\n",
       "       'Active Min', 'Idle Mean', 'Idle Std', 'Idle Max', 'Idle Min', 'Label'],\n",
       "      dtype='object')"
      ]
     },
     "execution_count": 18,
     "metadata": {},
     "output_type": "execute_result"
    }
   ],
   "source": [
    "# display columns\n",
    "train.columns"
   ]
  },
  {
   "cell_type": "code",
   "execution_count": 19,
   "id": "52317546",
   "metadata": {
    "execution": {
     "iopub.execute_input": "2022-10-20T08:02:41.581710Z",
     "iopub.status.busy": "2022-10-20T08:02:41.581276Z",
     "iopub.status.idle": "2022-10-20T08:02:41.726521Z",
     "shell.execute_reply": "2022-10-20T08:02:41.724153Z"
    },
    "papermill": {
     "duration": 0.18105,
     "end_time": "2022-10-20T08:02:41.729429",
     "exception": false,
     "start_time": "2022-10-20T08:02:41.548379",
     "status": "completed"
    },
    "tags": []
   },
   "outputs": [
    {
     "name": "stdout",
     "output_type": "stream",
     "text": [
      "<class 'pandas.core.frame.DataFrame'>\n",
      "Int64Index: 533320 entries, 677869 to 92080\n",
      "Data columns (total 80 columns):\n",
      " #   Column             Non-Null Count   Dtype  \n",
      "---  ------             --------------   -----  \n",
      " 0   Dst Port           533320 non-null  int64  \n",
      " 1   Protocol           533320 non-null  int64  \n",
      " 2   Timestamp          533320 non-null  object \n",
      " 3   Flow Duration      533320 non-null  int64  \n",
      " 4   Tot Fwd Pkts       533320 non-null  int64  \n",
      " 5   Tot Bwd Pkts       533320 non-null  int64  \n",
      " 6   TotLen Fwd Pkts    533320 non-null  int64  \n",
      " 7   TotLen Bwd Pkts    533320 non-null  int64  \n",
      " 8   Fwd Pkt Len Max    533320 non-null  int64  \n",
      " 9   Fwd Pkt Len Min    533320 non-null  int64  \n",
      " 10  Fwd Pkt Len Mean   533320 non-null  float64\n",
      " 11  Fwd Pkt Len Std    533320 non-null  float64\n",
      " 12  Bwd Pkt Len Max    533320 non-null  int64  \n",
      " 13  Bwd Pkt Len Min    533320 non-null  int64  \n",
      " 14  Bwd Pkt Len Mean   533320 non-null  float64\n",
      " 15  Bwd Pkt Len Std    533320 non-null  float64\n",
      " 16  Flow Byts/s        533320 non-null  float64\n",
      " 17  Flow Pkts/s        533320 non-null  float64\n",
      " 18  Flow IAT Mean      533320 non-null  float64\n",
      " 19  Flow IAT Std       533320 non-null  float64\n",
      " 20  Flow IAT Max       533320 non-null  int64  \n",
      " 21  Flow IAT Min       533320 non-null  int64  \n",
      " 22  Fwd IAT Tot        533320 non-null  int64  \n",
      " 23  Fwd IAT Mean       533320 non-null  float64\n",
      " 24  Fwd IAT Std        533320 non-null  float64\n",
      " 25  Fwd IAT Max        533320 non-null  int64  \n",
      " 26  Fwd IAT Min        533320 non-null  int64  \n",
      " 27  Bwd IAT Tot        533320 non-null  int64  \n",
      " 28  Bwd IAT Mean       533320 non-null  float64\n",
      " 29  Bwd IAT Std        533320 non-null  float64\n",
      " 30  Bwd IAT Max        533320 non-null  int64  \n",
      " 31  Bwd IAT Min        533320 non-null  int64  \n",
      " 32  Fwd PSH Flags      533320 non-null  int64  \n",
      " 33  Bwd PSH Flags      533320 non-null  int64  \n",
      " 34  Fwd URG Flags      533320 non-null  int64  \n",
      " 35  Bwd URG Flags      533320 non-null  int64  \n",
      " 36  Fwd Header Len     533320 non-null  int64  \n",
      " 37  Bwd Header Len     533320 non-null  int64  \n",
      " 38  Fwd Pkts/s         533320 non-null  float64\n",
      " 39  Bwd Pkts/s         533320 non-null  float64\n",
      " 40  Pkt Len Min        533320 non-null  int64  \n",
      " 41  Pkt Len Max        533320 non-null  int64  \n",
      " 42  Pkt Len Mean       533320 non-null  float64\n",
      " 43  Pkt Len Std        533320 non-null  float64\n",
      " 44  Pkt Len Var        533320 non-null  float64\n",
      " 45  FIN Flag Cnt       533320 non-null  int64  \n",
      " 46  SYN Flag Cnt       533320 non-null  int64  \n",
      " 47  RST Flag Cnt       533320 non-null  int64  \n",
      " 48  PSH Flag Cnt       533320 non-null  int64  \n",
      " 49  ACK Flag Cnt       533320 non-null  int64  \n",
      " 50  URG Flag Cnt       533320 non-null  int64  \n",
      " 51  CWE Flag Count     533320 non-null  int64  \n",
      " 52  ECE Flag Cnt       533320 non-null  int64  \n",
      " 53  Down/Up Ratio      533320 non-null  int64  \n",
      " 54  Pkt Size Avg       533320 non-null  float64\n",
      " 55  Fwd Seg Size Avg   533320 non-null  float64\n",
      " 56  Bwd Seg Size Avg   533320 non-null  float64\n",
      " 57  Fwd Byts/b Avg     533320 non-null  int64  \n",
      " 58  Fwd Pkts/b Avg     533320 non-null  int64  \n",
      " 59  Fwd Blk Rate Avg   533320 non-null  int64  \n",
      " 60  Bwd Byts/b Avg     533320 non-null  int64  \n",
      " 61  Bwd Pkts/b Avg     533320 non-null  int64  \n",
      " 62  Bwd Blk Rate Avg   533320 non-null  int64  \n",
      " 63  Subflow Fwd Pkts   533320 non-null  int64  \n",
      " 64  Subflow Fwd Byts   533320 non-null  int64  \n",
      " 65  Subflow Bwd Pkts   533320 non-null  int64  \n",
      " 66  Subflow Bwd Byts   533320 non-null  int64  \n",
      " 67  Init Fwd Win Byts  533320 non-null  int64  \n",
      " 68  Init Bwd Win Byts  533320 non-null  int64  \n",
      " 69  Fwd Act Data Pkts  533320 non-null  int64  \n",
      " 70  Fwd Seg Size Min   533320 non-null  int64  \n",
      " 71  Active Mean        533320 non-null  float64\n",
      " 72  Active Std         533320 non-null  float64\n",
      " 73  Active Max         533320 non-null  int64  \n",
      " 74  Active Min         533320 non-null  int64  \n",
      " 75  Idle Mean          533320 non-null  float64\n",
      " 76  Idle Std           533320 non-null  float64\n",
      " 77  Idle Max           533320 non-null  int64  \n",
      " 78  Idle Min           533320 non-null  int64  \n",
      " 79  Label              533320 non-null  int64  \n",
      "dtypes: float64(24), int64(55), object(1)\n",
      "memory usage: 329.6+ MB\n"
     ]
    }
   ],
   "source": [
    "# feature info\n",
    "train.info()"
   ]
  },
  {
   "cell_type": "markdown",
   "id": "8984dab2",
   "metadata": {
    "papermill": {
     "duration": 0.031645,
     "end_time": "2022-10-20T08:02:41.793458",
     "exception": false,
     "start_time": "2022-10-20T08:02:41.761813",
     "status": "completed"
    },
    "tags": []
   },
   "source": [
    "All of our data except the 'Timestamp' column is numerical. These numerical columns contain different ranges of values, which can confuse our model.\n",
    "Thus, we must normalize our data."
   ]
  },
  {
   "cell_type": "code",
   "execution_count": 20,
   "id": "841c7fc4",
   "metadata": {
    "execution": {
     "iopub.execute_input": "2022-10-20T08:02:41.859397Z",
     "iopub.status.busy": "2022-10-20T08:02:41.859010Z",
     "iopub.status.idle": "2022-10-20T08:02:42.474192Z",
     "shell.execute_reply": "2022-10-20T08:02:42.472943Z"
    },
    "papermill": {
     "duration": 0.651665,
     "end_time": "2022-10-20T08:02:42.477117",
     "exception": false,
     "start_time": "2022-10-20T08:02:41.825452",
     "status": "completed"
    },
    "tags": []
   },
   "outputs": [],
   "source": [
    "min_max_scaler = MinMaxScaler().fit(train[['Flow Duration', 'Tot Fwd Pkts',\n",
    "       'Tot Bwd Pkts', 'TotLen Fwd Pkts', 'TotLen Bwd Pkts', 'Fwd Pkt Len Max',\n",
    "       'Fwd Pkt Len Min', 'Fwd Pkt Len Mean', 'Fwd Pkt Len Std',\n",
    "       'Bwd Pkt Len Max', 'Bwd Pkt Len Min', 'Bwd Pkt Len Mean',\n",
    "       'Bwd Pkt Len Std', 'Flow Byts/s', 'Flow Pkts/s', 'Flow IAT Mean',\n",
    "       'Flow IAT Std', 'Flow IAT Max', 'Flow IAT Min', 'Fwd IAT Tot',\n",
    "       'Fwd IAT Mean', 'Fwd IAT Std', 'Fwd IAT Max', 'Fwd IAT Min',\n",
    "       'Bwd IAT Tot', 'Bwd IAT Mean', 'Bwd IAT Std', 'Bwd IAT Max',\n",
    "       'Bwd IAT Min', 'Fwd PSH Flags', 'Bwd PSH Flags', 'Fwd URG Flags',\n",
    "       'Bwd URG Flags', 'Fwd Header Len', 'Bwd Header Len', 'Fwd Pkts/s',\n",
    "       'Bwd Pkts/s', 'Pkt Len Min', 'Pkt Len Max', 'Pkt Len Mean',\n",
    "       'Pkt Len Std', 'Pkt Len Var', 'FIN Flag Cnt', 'SYN Flag Cnt',\n",
    "       'RST Flag Cnt', 'PSH Flag Cnt', 'ACK Flag Cnt', 'URG Flag Cnt',\n",
    "       'CWE Flag Count', 'ECE Flag Cnt', 'Down/Up Ratio', 'Pkt Size Avg',\n",
    "       'Fwd Seg Size Avg', 'Bwd Seg Size Avg', 'Fwd Byts/b Avg',\n",
    "       'Fwd Pkts/b Avg', 'Fwd Blk Rate Avg', 'Bwd Byts/b Avg',\n",
    "       'Bwd Pkts/b Avg', 'Bwd Blk Rate Avg', 'Subflow Fwd Pkts',\n",
    "       'Subflow Fwd Byts', 'Subflow Bwd Pkts', 'Subflow Bwd Byts',\n",
    "       'Init Fwd Win Byts', 'Init Bwd Win Byts', 'Fwd Act Data Pkts',\n",
    "       'Fwd Seg Size Min', 'Active Mean', 'Active Std', 'Active Max',\n",
    "       'Active Min', 'Idle Mean', 'Idle Std', 'Idle Max', 'Idle Min']])"
   ]
  },
  {
   "cell_type": "code",
   "execution_count": 21,
   "id": "d687d9da",
   "metadata": {
    "execution": {
     "iopub.execute_input": "2022-10-20T08:02:42.542577Z",
     "iopub.status.busy": "2022-10-20T08:02:42.542186Z",
     "iopub.status.idle": "2022-10-20T08:02:42.550229Z",
     "shell.execute_reply": "2022-10-20T08:02:42.549157Z"
    },
    "papermill": {
     "duration": 0.043564,
     "end_time": "2022-10-20T08:02:42.552610",
     "exception": false,
     "start_time": "2022-10-20T08:02:42.509046",
     "status": "completed"
    },
    "tags": []
   },
   "outputs": [],
   "source": [
    "numerical_columns = ['Flow Duration', 'Tot Fwd Pkts',\n",
    "       'Tot Bwd Pkts', 'TotLen Fwd Pkts', 'TotLen Bwd Pkts', 'Fwd Pkt Len Max',\n",
    "       'Fwd Pkt Len Min', 'Fwd Pkt Len Mean', 'Fwd Pkt Len Std',\n",
    "       'Bwd Pkt Len Max', 'Bwd Pkt Len Min', 'Bwd Pkt Len Mean',\n",
    "       'Bwd Pkt Len Std', 'Flow Byts/s', 'Flow Pkts/s', 'Flow IAT Mean',\n",
    "       'Flow IAT Std', 'Flow IAT Max', 'Flow IAT Min', 'Fwd IAT Tot',\n",
    "       'Fwd IAT Mean', 'Fwd IAT Std', 'Fwd IAT Max', 'Fwd IAT Min',\n",
    "       'Bwd IAT Tot', 'Bwd IAT Mean', 'Bwd IAT Std', 'Bwd IAT Max',\n",
    "       'Bwd IAT Min', 'Fwd PSH Flags', 'Bwd PSH Flags', 'Fwd URG Flags',\n",
    "       'Bwd URG Flags', 'Fwd Header Len', 'Bwd Header Len', 'Fwd Pkts/s',\n",
    "       'Bwd Pkts/s', 'Pkt Len Min', 'Pkt Len Max', 'Pkt Len Mean',\n",
    "       'Pkt Len Std', 'Pkt Len Var', 'FIN Flag Cnt', 'SYN Flag Cnt',\n",
    "       'RST Flag Cnt', 'PSH Flag Cnt', 'ACK Flag Cnt', 'URG Flag Cnt',\n",
    "       'CWE Flag Count', 'ECE Flag Cnt', 'Down/Up Ratio', 'Pkt Size Avg',\n",
    "       'Fwd Seg Size Avg', 'Bwd Seg Size Avg', 'Fwd Byts/b Avg',\n",
    "       'Fwd Pkts/b Avg', 'Fwd Blk Rate Avg', 'Bwd Byts/b Avg',\n",
    "       'Bwd Pkts/b Avg', 'Bwd Blk Rate Avg', 'Subflow Fwd Pkts',\n",
    "       'Subflow Fwd Byts', 'Subflow Bwd Pkts', 'Subflow Bwd Byts',\n",
    "       'Init Fwd Win Byts', 'Init Bwd Win Byts', 'Fwd Act Data Pkts',\n",
    "       'Fwd Seg Size Min', 'Active Mean', 'Active Std', 'Active Max',\n",
    "       'Active Min', 'Idle Mean', 'Idle Std', 'Idle Max', 'Idle Min']"
   ]
  },
  {
   "cell_type": "code",
   "execution_count": 22,
   "id": "935b30e4",
   "metadata": {
    "execution": {
     "iopub.execute_input": "2022-10-20T08:02:42.619412Z",
     "iopub.status.busy": "2022-10-20T08:02:42.618533Z",
     "iopub.status.idle": "2022-10-20T08:02:46.899323Z",
     "shell.execute_reply": "2022-10-20T08:02:46.898404Z"
    },
    "papermill": {
     "duration": 4.317425,
     "end_time": "2022-10-20T08:02:46.901872",
     "exception": false,
     "start_time": "2022-10-20T08:02:42.584447",
     "status": "completed"
    },
    "tags": []
   },
   "outputs": [],
   "source": [
    "train[numerical_columns] = min_max_scaler.transform(train[numerical_columns])"
   ]
  },
  {
   "cell_type": "code",
   "execution_count": 23,
   "id": "c67c38ad",
   "metadata": {
    "execution": {
     "iopub.execute_input": "2022-10-20T08:02:46.967670Z",
     "iopub.status.busy": "2022-10-20T08:02:46.967206Z",
     "iopub.status.idle": "2022-10-20T08:02:47.339463Z",
     "shell.execute_reply": "2022-10-20T08:02:47.338314Z"
    },
    "papermill": {
     "duration": 0.408041,
     "end_time": "2022-10-20T08:02:47.342127",
     "exception": false,
     "start_time": "2022-10-20T08:02:46.934086",
     "status": "completed"
    },
    "tags": []
   },
   "outputs": [
    {
     "data": {
      "text/html": [
       "<div>\n",
       "<style scoped>\n",
       "    .dataframe tbody tr th:only-of-type {\n",
       "        vertical-align: middle;\n",
       "    }\n",
       "\n",
       "    .dataframe tbody tr th {\n",
       "        vertical-align: top;\n",
       "    }\n",
       "\n",
       "    .dataframe thead th {\n",
       "        text-align: right;\n",
       "    }\n",
       "</style>\n",
       "<table border=\"1\" class=\"dataframe\">\n",
       "  <thead>\n",
       "    <tr style=\"text-align: right;\">\n",
       "      <th></th>\n",
       "      <th>Dst Port</th>\n",
       "      <th>Protocol</th>\n",
       "      <th>Timestamp</th>\n",
       "      <th>Flow Duration</th>\n",
       "      <th>Tot Fwd Pkts</th>\n",
       "      <th>Tot Bwd Pkts</th>\n",
       "      <th>TotLen Fwd Pkts</th>\n",
       "      <th>TotLen Bwd Pkts</th>\n",
       "      <th>Fwd Pkt Len Max</th>\n",
       "      <th>Fwd Pkt Len Min</th>\n",
       "      <th>...</th>\n",
       "      <th>Fwd Seg Size Min</th>\n",
       "      <th>Active Mean</th>\n",
       "      <th>Active Std</th>\n",
       "      <th>Active Max</th>\n",
       "      <th>Active Min</th>\n",
       "      <th>Idle Mean</th>\n",
       "      <th>Idle Std</th>\n",
       "      <th>Idle Max</th>\n",
       "      <th>Idle Min</th>\n",
       "      <th>Label</th>\n",
       "    </tr>\n",
       "  </thead>\n",
       "  <tbody>\n",
       "    <tr>\n",
       "      <th>677869</th>\n",
       "      <td>53</td>\n",
       "      <td>17</td>\n",
       "      <td>14/02/2018 04:13:13</td>\n",
       "      <td>0.999869</td>\n",
       "      <td>0.000000</td>\n",
       "      <td>0.000111</td>\n",
       "      <td>0.000005</td>\n",
       "      <td>0.000008</td>\n",
       "      <td>0.000667</td>\n",
       "      <td>0.036565</td>\n",
       "      <td>...</td>\n",
       "      <td>0.166667</td>\n",
       "      <td>0.0</td>\n",
       "      <td>0.0</td>\n",
       "      <td>0.0</td>\n",
       "      <td>0.0</td>\n",
       "      <td>0.0</td>\n",
       "      <td>0.0</td>\n",
       "      <td>0.0</td>\n",
       "      <td>0.0</td>\n",
       "      <td>0</td>\n",
       "    </tr>\n",
       "    <tr>\n",
       "      <th>429458</th>\n",
       "      <td>53</td>\n",
       "      <td>17</td>\n",
       "      <td>14/02/2018 08:45:12</td>\n",
       "      <td>0.999869</td>\n",
       "      <td>0.000000</td>\n",
       "      <td>0.000111</td>\n",
       "      <td>0.000006</td>\n",
       "      <td>0.000012</td>\n",
       "      <td>0.000791</td>\n",
       "      <td>0.043367</td>\n",
       "      <td>...</td>\n",
       "      <td>0.166667</td>\n",
       "      <td>0.0</td>\n",
       "      <td>0.0</td>\n",
       "      <td>0.0</td>\n",
       "      <td>0.0</td>\n",
       "      <td>0.0</td>\n",
       "      <td>0.0</td>\n",
       "      <td>0.0</td>\n",
       "      <td>0.0</td>\n",
       "      <td>0</td>\n",
       "    </tr>\n",
       "    <tr>\n",
       "      <th>636880</th>\n",
       "      <td>49965</td>\n",
       "      <td>6</td>\n",
       "      <td>14/02/2018 09:21:42</td>\n",
       "      <td>0.999869</td>\n",
       "      <td>0.000204</td>\n",
       "      <td>0.000000</td>\n",
       "      <td>0.000000</td>\n",
       "      <td>0.000000</td>\n",
       "      <td>0.000000</td>\n",
       "      <td>0.000000</td>\n",
       "      <td>...</td>\n",
       "      <td>0.416667</td>\n",
       "      <td>0.0</td>\n",
       "      <td>0.0</td>\n",
       "      <td>0.0</td>\n",
       "      <td>0.0</td>\n",
       "      <td>0.0</td>\n",
       "      <td>0.0</td>\n",
       "      <td>0.0</td>\n",
       "      <td>0.0</td>\n",
       "      <td>0</td>\n",
       "    </tr>\n",
       "    <tr>\n",
       "      <th>760015</th>\n",
       "      <td>51970</td>\n",
       "      <td>6</td>\n",
       "      <td>14/02/2018 01:57:08</td>\n",
       "      <td>0.999869</td>\n",
       "      <td>0.000000</td>\n",
       "      <td>0.000111</td>\n",
       "      <td>0.000000</td>\n",
       "      <td>0.000000</td>\n",
       "      <td>0.000000</td>\n",
       "      <td>0.000000</td>\n",
       "      <td>...</td>\n",
       "      <td>0.416667</td>\n",
       "      <td>0.0</td>\n",
       "      <td>0.0</td>\n",
       "      <td>0.0</td>\n",
       "      <td>0.0</td>\n",
       "      <td>0.0</td>\n",
       "      <td>0.0</td>\n",
       "      <td>0.0</td>\n",
       "      <td>0.0</td>\n",
       "      <td>0</td>\n",
       "    </tr>\n",
       "    <tr>\n",
       "      <th>362516</th>\n",
       "      <td>22</td>\n",
       "      <td>6</td>\n",
       "      <td>14/02/2018 03:19:01</td>\n",
       "      <td>0.999869</td>\n",
       "      <td>0.000000</td>\n",
       "      <td>0.000111</td>\n",
       "      <td>0.000000</td>\n",
       "      <td>0.000000</td>\n",
       "      <td>0.000000</td>\n",
       "      <td>0.000000</td>\n",
       "      <td>...</td>\n",
       "      <td>0.666667</td>\n",
       "      <td>0.0</td>\n",
       "      <td>0.0</td>\n",
       "      <td>0.0</td>\n",
       "      <td>0.0</td>\n",
       "      <td>0.0</td>\n",
       "      <td>0.0</td>\n",
       "      <td>0.0</td>\n",
       "      <td>0.0</td>\n",
       "      <td>1</td>\n",
       "    </tr>\n",
       "    <tr>\n",
       "      <th>...</th>\n",
       "      <td>...</td>\n",
       "      <td>...</td>\n",
       "      <td>...</td>\n",
       "      <td>...</td>\n",
       "      <td>...</td>\n",
       "      <td>...</td>\n",
       "      <td>...</td>\n",
       "      <td>...</td>\n",
       "      <td>...</td>\n",
       "      <td>...</td>\n",
       "      <td>...</td>\n",
       "      <td>...</td>\n",
       "      <td>...</td>\n",
       "      <td>...</td>\n",
       "      <td>...</td>\n",
       "      <td>...</td>\n",
       "      <td>...</td>\n",
       "      <td>...</td>\n",
       "      <td>...</td>\n",
       "      <td>...</td>\n",
       "      <td>...</td>\n",
       "    </tr>\n",
       "    <tr>\n",
       "      <th>183725</th>\n",
       "      <td>22</td>\n",
       "      <td>6</td>\n",
       "      <td>14/02/2018 02:05:58</td>\n",
       "      <td>0.999870</td>\n",
       "      <td>0.004279</td>\n",
       "      <td>0.002433</td>\n",
       "      <td>0.000234</td>\n",
       "      <td>0.000202</td>\n",
       "      <td>0.009932</td>\n",
       "      <td>0.000000</td>\n",
       "      <td>...</td>\n",
       "      <td>0.666667</td>\n",
       "      <td>0.0</td>\n",
       "      <td>0.0</td>\n",
       "      <td>0.0</td>\n",
       "      <td>0.0</td>\n",
       "      <td>0.0</td>\n",
       "      <td>0.0</td>\n",
       "      <td>0.0</td>\n",
       "      <td>0.0</td>\n",
       "      <td>1</td>\n",
       "    </tr>\n",
       "    <tr>\n",
       "      <th>32083</th>\n",
       "      <td>21</td>\n",
       "      <td>6</td>\n",
       "      <td>14/02/2018 10:49:29</td>\n",
       "      <td>0.999869</td>\n",
       "      <td>0.000000</td>\n",
       "      <td>0.000111</td>\n",
       "      <td>0.000000</td>\n",
       "      <td>0.000000</td>\n",
       "      <td>0.000000</td>\n",
       "      <td>0.000000</td>\n",
       "      <td>...</td>\n",
       "      <td>0.833333</td>\n",
       "      <td>0.0</td>\n",
       "      <td>0.0</td>\n",
       "      <td>0.0</td>\n",
       "      <td>0.0</td>\n",
       "      <td>0.0</td>\n",
       "      <td>0.0</td>\n",
       "      <td>0.0</td>\n",
       "      <td>0.0</td>\n",
       "      <td>1</td>\n",
       "    </tr>\n",
       "    <tr>\n",
       "      <th>637768</th>\n",
       "      <td>80</td>\n",
       "      <td>6</td>\n",
       "      <td>14/02/2018 10:49:13</td>\n",
       "      <td>0.999929</td>\n",
       "      <td>0.000204</td>\n",
       "      <td>0.000000</td>\n",
       "      <td>0.000000</td>\n",
       "      <td>0.000000</td>\n",
       "      <td>0.000000</td>\n",
       "      <td>0.000000</td>\n",
       "      <td>...</td>\n",
       "      <td>0.416667</td>\n",
       "      <td>0.0</td>\n",
       "      <td>0.0</td>\n",
       "      <td>0.0</td>\n",
       "      <td>0.0</td>\n",
       "      <td>0.0</td>\n",
       "      <td>0.0</td>\n",
       "      <td>0.0</td>\n",
       "      <td>0.0</td>\n",
       "      <td>0</td>\n",
       "    </tr>\n",
       "    <tr>\n",
       "      <th>380644</th>\n",
       "      <td>21</td>\n",
       "      <td>6</td>\n",
       "      <td>14/02/2018 12:10:06</td>\n",
       "      <td>0.999869</td>\n",
       "      <td>0.000000</td>\n",
       "      <td>0.000111</td>\n",
       "      <td>0.000000</td>\n",
       "      <td>0.000000</td>\n",
       "      <td>0.000000</td>\n",
       "      <td>0.000000</td>\n",
       "      <td>...</td>\n",
       "      <td>0.833333</td>\n",
       "      <td>0.0</td>\n",
       "      <td>0.0</td>\n",
       "      <td>0.0</td>\n",
       "      <td>0.0</td>\n",
       "      <td>0.0</td>\n",
       "      <td>0.0</td>\n",
       "      <td>0.0</td>\n",
       "      <td>0.0</td>\n",
       "      <td>1</td>\n",
       "    </tr>\n",
       "    <tr>\n",
       "      <th>92080</th>\n",
       "      <td>21</td>\n",
       "      <td>6</td>\n",
       "      <td>14/02/2018 11:19:37</td>\n",
       "      <td>0.999869</td>\n",
       "      <td>0.000000</td>\n",
       "      <td>0.000111</td>\n",
       "      <td>0.000000</td>\n",
       "      <td>0.000000</td>\n",
       "      <td>0.000000</td>\n",
       "      <td>0.000000</td>\n",
       "      <td>...</td>\n",
       "      <td>0.833333</td>\n",
       "      <td>0.0</td>\n",
       "      <td>0.0</td>\n",
       "      <td>0.0</td>\n",
       "      <td>0.0</td>\n",
       "      <td>0.0</td>\n",
       "      <td>0.0</td>\n",
       "      <td>0.0</td>\n",
       "      <td>0.0</td>\n",
       "      <td>1</td>\n",
       "    </tr>\n",
       "  </tbody>\n",
       "</table>\n",
       "<p>533320 rows × 80 columns</p>\n",
       "</div>"
      ],
      "text/plain": [
       "        Dst Port  Protocol            Timestamp  Flow Duration  Tot Fwd Pkts  \\\n",
       "677869        53        17  14/02/2018 04:13:13       0.999869      0.000000   \n",
       "429458        53        17  14/02/2018 08:45:12       0.999869      0.000000   \n",
       "636880     49965         6  14/02/2018 09:21:42       0.999869      0.000204   \n",
       "760015     51970         6  14/02/2018 01:57:08       0.999869      0.000000   \n",
       "362516        22         6  14/02/2018 03:19:01       0.999869      0.000000   \n",
       "...          ...       ...                  ...            ...           ...   \n",
       "183725        22         6  14/02/2018 02:05:58       0.999870      0.004279   \n",
       "32083         21         6  14/02/2018 10:49:29       0.999869      0.000000   \n",
       "637768        80         6  14/02/2018 10:49:13       0.999929      0.000204   \n",
       "380644        21         6  14/02/2018 12:10:06       0.999869      0.000000   \n",
       "92080         21         6  14/02/2018 11:19:37       0.999869      0.000000   \n",
       "\n",
       "        Tot Bwd Pkts  TotLen Fwd Pkts  TotLen Bwd Pkts  Fwd Pkt Len Max  \\\n",
       "677869      0.000111         0.000005         0.000008         0.000667   \n",
       "429458      0.000111         0.000006         0.000012         0.000791   \n",
       "636880      0.000000         0.000000         0.000000         0.000000   \n",
       "760015      0.000111         0.000000         0.000000         0.000000   \n",
       "362516      0.000111         0.000000         0.000000         0.000000   \n",
       "...              ...              ...              ...              ...   \n",
       "183725      0.002433         0.000234         0.000202         0.009932   \n",
       "32083       0.000111         0.000000         0.000000         0.000000   \n",
       "637768      0.000000         0.000000         0.000000         0.000000   \n",
       "380644      0.000111         0.000000         0.000000         0.000000   \n",
       "92080       0.000111         0.000000         0.000000         0.000000   \n",
       "\n",
       "        Fwd Pkt Len Min  ...  Fwd Seg Size Min  Active Mean  Active Std  \\\n",
       "677869         0.036565  ...          0.166667          0.0         0.0   \n",
       "429458         0.043367  ...          0.166667          0.0         0.0   \n",
       "636880         0.000000  ...          0.416667          0.0         0.0   \n",
       "760015         0.000000  ...          0.416667          0.0         0.0   \n",
       "362516         0.000000  ...          0.666667          0.0         0.0   \n",
       "...                 ...  ...               ...          ...         ...   \n",
       "183725         0.000000  ...          0.666667          0.0         0.0   \n",
       "32083          0.000000  ...          0.833333          0.0         0.0   \n",
       "637768         0.000000  ...          0.416667          0.0         0.0   \n",
       "380644         0.000000  ...          0.833333          0.0         0.0   \n",
       "92080          0.000000  ...          0.833333          0.0         0.0   \n",
       "\n",
       "        Active Max  Active Min  Idle Mean  Idle Std  Idle Max  Idle Min  Label  \n",
       "677869         0.0         0.0        0.0       0.0       0.0       0.0      0  \n",
       "429458         0.0         0.0        0.0       0.0       0.0       0.0      0  \n",
       "636880         0.0         0.0        0.0       0.0       0.0       0.0      0  \n",
       "760015         0.0         0.0        0.0       0.0       0.0       0.0      0  \n",
       "362516         0.0         0.0        0.0       0.0       0.0       0.0      1  \n",
       "...            ...         ...        ...       ...       ...       ...    ...  \n",
       "183725         0.0         0.0        0.0       0.0       0.0       0.0      1  \n",
       "32083          0.0         0.0        0.0       0.0       0.0       0.0      1  \n",
       "637768         0.0         0.0        0.0       0.0       0.0       0.0      0  \n",
       "380644         0.0         0.0        0.0       0.0       0.0       0.0      1  \n",
       "92080          0.0         0.0        0.0       0.0       0.0       0.0      1  \n",
       "\n",
       "[533320 rows x 80 columns]"
      ]
     },
     "execution_count": 23,
     "metadata": {},
     "output_type": "execute_result"
    }
   ],
   "source": [
    "train"
   ]
  },
  {
   "cell_type": "code",
   "execution_count": 24,
   "id": "71b5d98b",
   "metadata": {
    "execution": {
     "iopub.execute_input": "2022-10-20T08:02:47.408022Z",
     "iopub.status.busy": "2022-10-20T08:02:47.407163Z",
     "iopub.status.idle": "2022-10-20T08:02:49.843082Z",
     "shell.execute_reply": "2022-10-20T08:02:49.842023Z"
    },
    "papermill": {
     "duration": 2.472012,
     "end_time": "2022-10-20T08:02:49.846120",
     "exception": false,
     "start_time": "2022-10-20T08:02:47.374108",
     "status": "completed"
    },
    "tags": []
   },
   "outputs": [
    {
     "data": {
      "text/html": [
       "<div>\n",
       "<style scoped>\n",
       "    .dataframe tbody tr th:only-of-type {\n",
       "        vertical-align: middle;\n",
       "    }\n",
       "\n",
       "    .dataframe tbody tr th {\n",
       "        vertical-align: top;\n",
       "    }\n",
       "\n",
       "    .dataframe thead th {\n",
       "        text-align: right;\n",
       "    }\n",
       "</style>\n",
       "<table border=\"1\" class=\"dataframe\">\n",
       "  <thead>\n",
       "    <tr style=\"text-align: right;\">\n",
       "      <th></th>\n",
       "      <th>Dst Port</th>\n",
       "      <th>Protocol</th>\n",
       "      <th>Flow Duration</th>\n",
       "      <th>Tot Fwd Pkts</th>\n",
       "      <th>Tot Bwd Pkts</th>\n",
       "      <th>TotLen Fwd Pkts</th>\n",
       "      <th>TotLen Bwd Pkts</th>\n",
       "      <th>Fwd Pkt Len Max</th>\n",
       "      <th>Fwd Pkt Len Min</th>\n",
       "      <th>Fwd Pkt Len Mean</th>\n",
       "      <th>...</th>\n",
       "      <th>Fwd Seg Size Min</th>\n",
       "      <th>Active Mean</th>\n",
       "      <th>Active Std</th>\n",
       "      <th>Active Max</th>\n",
       "      <th>Active Min</th>\n",
       "      <th>Idle Mean</th>\n",
       "      <th>Idle Std</th>\n",
       "      <th>Idle Max</th>\n",
       "      <th>Idle Min</th>\n",
       "      <th>Label</th>\n",
       "    </tr>\n",
       "  </thead>\n",
       "  <tbody>\n",
       "    <tr>\n",
       "      <th>count</th>\n",
       "      <td>533320.000000</td>\n",
       "      <td>533320.000000</td>\n",
       "      <td>533320.000000</td>\n",
       "      <td>533320.000000</td>\n",
       "      <td>533320.000000</td>\n",
       "      <td>5.333200e+05</td>\n",
       "      <td>533320.000000</td>\n",
       "      <td>533320.000000</td>\n",
       "      <td>533320.000000</td>\n",
       "      <td>533320.000000</td>\n",
       "      <td>...</td>\n",
       "      <td>533320.000000</td>\n",
       "      <td>533320.000000</td>\n",
       "      <td>533320.000000</td>\n",
       "      <td>533320.000000</td>\n",
       "      <td>533320.000000</td>\n",
       "      <td>533320.000000</td>\n",
       "      <td>533320.000000</td>\n",
       "      <td>533320.000000</td>\n",
       "      <td>533320.000000</td>\n",
       "      <td>533320.000000</td>\n",
       "    </tr>\n",
       "    <tr>\n",
       "      <th>mean</th>\n",
       "      <td>3626.720260</td>\n",
       "      <td>7.611832</td>\n",
       "      <td>0.999873</td>\n",
       "      <td>0.001052</td>\n",
       "      <td>0.000750</td>\n",
       "      <td>5.893228e-05</td>\n",
       "      <td>0.000252</td>\n",
       "      <td>0.002818</td>\n",
       "      <td>0.005449</td>\n",
       "      <td>0.003284</td>\n",
       "      <td>...</td>\n",
       "      <td>0.543590</td>\n",
       "      <td>0.000579</td>\n",
       "      <td>0.000295</td>\n",
       "      <td>0.000854</td>\n",
       "      <td>0.000449</td>\n",
       "      <td>0.000008</td>\n",
       "      <td>0.000004</td>\n",
       "      <td>0.000005</td>\n",
       "      <td>0.000133</td>\n",
       "      <td>0.500051</td>\n",
       "    </tr>\n",
       "    <tr>\n",
       "      <th>std</th>\n",
       "      <td>12468.804317</td>\n",
       "      <td>4.000155</td>\n",
       "      <td>0.001753</td>\n",
       "      <td>0.006889</td>\n",
       "      <td>0.009476</td>\n",
       "      <td>2.564790e-03</td>\n",
       "      <td>0.009352</td>\n",
       "      <td>0.004789</td>\n",
       "      <td>0.014728</td>\n",
       "      <td>0.004958</td>\n",
       "      <td>...</td>\n",
       "      <td>0.233554</td>\n",
       "      <td>0.006671</td>\n",
       "      <td>0.003658</td>\n",
       "      <td>0.007835</td>\n",
       "      <td>0.006333</td>\n",
       "      <td>0.001786</td>\n",
       "      <td>0.001748</td>\n",
       "      <td>0.001729</td>\n",
       "      <td>0.001754</td>\n",
       "      <td>0.500000</td>\n",
       "    </tr>\n",
       "    <tr>\n",
       "      <th>min</th>\n",
       "      <td>0.000000</td>\n",
       "      <td>0.000000</td>\n",
       "      <td>0.000000</td>\n",
       "      <td>0.000000</td>\n",
       "      <td>0.000000</td>\n",
       "      <td>0.000000e+00</td>\n",
       "      <td>0.000000</td>\n",
       "      <td>0.000000</td>\n",
       "      <td>0.000000</td>\n",
       "      <td>0.000000</td>\n",
       "      <td>...</td>\n",
       "      <td>0.000000</td>\n",
       "      <td>0.000000</td>\n",
       "      <td>0.000000</td>\n",
       "      <td>0.000000</td>\n",
       "      <td>0.000000</td>\n",
       "      <td>0.000000</td>\n",
       "      <td>0.000000</td>\n",
       "      <td>0.000000</td>\n",
       "      <td>0.000000</td>\n",
       "      <td>0.000000</td>\n",
       "    </tr>\n",
       "    <tr>\n",
       "      <th>25%</th>\n",
       "      <td>21.000000</td>\n",
       "      <td>6.000000</td>\n",
       "      <td>0.999869</td>\n",
       "      <td>0.000000</td>\n",
       "      <td>0.000111</td>\n",
       "      <td>0.000000e+00</td>\n",
       "      <td>0.000000</td>\n",
       "      <td>0.000000</td>\n",
       "      <td>0.000000</td>\n",
       "      <td>0.000000</td>\n",
       "      <td>...</td>\n",
       "      <td>0.416667</td>\n",
       "      <td>0.000000</td>\n",
       "      <td>0.000000</td>\n",
       "      <td>0.000000</td>\n",
       "      <td>0.000000</td>\n",
       "      <td>0.000000</td>\n",
       "      <td>0.000000</td>\n",
       "      <td>0.000000</td>\n",
       "      <td>0.000000</td>\n",
       "      <td>0.000000</td>\n",
       "    </tr>\n",
       "    <tr>\n",
       "      <th>50%</th>\n",
       "      <td>22.000000</td>\n",
       "      <td>6.000000</td>\n",
       "      <td>0.999869</td>\n",
       "      <td>0.000000</td>\n",
       "      <td>0.000111</td>\n",
       "      <td>1.163934e-07</td>\n",
       "      <td>0.000000</td>\n",
       "      <td>0.000016</td>\n",
       "      <td>0.000000</td>\n",
       "      <td>0.000045</td>\n",
       "      <td>...</td>\n",
       "      <td>0.666667</td>\n",
       "      <td>0.000000</td>\n",
       "      <td>0.000000</td>\n",
       "      <td>0.000000</td>\n",
       "      <td>0.000000</td>\n",
       "      <td>0.000000</td>\n",
       "      <td>0.000000</td>\n",
       "      <td>0.000000</td>\n",
       "      <td>0.000000</td>\n",
       "      <td>1.000000</td>\n",
       "    </tr>\n",
       "    <tr>\n",
       "      <th>75%</th>\n",
       "      <td>137.000000</td>\n",
       "      <td>6.000000</td>\n",
       "      <td>0.999870</td>\n",
       "      <td>0.001426</td>\n",
       "      <td>0.000774</td>\n",
       "      <td>6.774095e-05</td>\n",
       "      <td>0.000120</td>\n",
       "      <td>0.005307</td>\n",
       "      <td>0.000000</td>\n",
       "      <td>0.005745</td>\n",
       "      <td>...</td>\n",
       "      <td>0.833333</td>\n",
       "      <td>0.000000</td>\n",
       "      <td>0.000000</td>\n",
       "      <td>0.000000</td>\n",
       "      <td>0.000000</td>\n",
       "      <td>0.000000</td>\n",
       "      <td>0.000000</td>\n",
       "      <td>0.000000</td>\n",
       "      <td>0.000000</td>\n",
       "      <td>1.000000</td>\n",
       "    </tr>\n",
       "    <tr>\n",
       "      <th>max</th>\n",
       "      <td>65532.000000</td>\n",
       "      <td>17.000000</td>\n",
       "      <td>1.000000</td>\n",
       "      <td>1.000000</td>\n",
       "      <td>1.000000</td>\n",
       "      <td>1.000000e+00</td>\n",
       "      <td>1.000000</td>\n",
       "      <td>1.000000</td>\n",
       "      <td>1.000000</td>\n",
       "      <td>1.000000</td>\n",
       "      <td>...</td>\n",
       "      <td>1.000000</td>\n",
       "      <td>1.000000</td>\n",
       "      <td>1.000000</td>\n",
       "      <td>1.000000</td>\n",
       "      <td>1.000000</td>\n",
       "      <td>1.000000</td>\n",
       "      <td>1.000000</td>\n",
       "      <td>1.000000</td>\n",
       "      <td>1.000000</td>\n",
       "      <td>1.000000</td>\n",
       "    </tr>\n",
       "  </tbody>\n",
       "</table>\n",
       "<p>8 rows × 79 columns</p>\n",
       "</div>"
      ],
      "text/plain": [
       "            Dst Port       Protocol  Flow Duration   Tot Fwd Pkts  \\\n",
       "count  533320.000000  533320.000000  533320.000000  533320.000000   \n",
       "mean     3626.720260       7.611832       0.999873       0.001052   \n",
       "std     12468.804317       4.000155       0.001753       0.006889   \n",
       "min         0.000000       0.000000       0.000000       0.000000   \n",
       "25%        21.000000       6.000000       0.999869       0.000000   \n",
       "50%        22.000000       6.000000       0.999869       0.000000   \n",
       "75%       137.000000       6.000000       0.999870       0.001426   \n",
       "max     65532.000000      17.000000       1.000000       1.000000   \n",
       "\n",
       "        Tot Bwd Pkts  TotLen Fwd Pkts  TotLen Bwd Pkts  Fwd Pkt Len Max  \\\n",
       "count  533320.000000     5.333200e+05    533320.000000    533320.000000   \n",
       "mean        0.000750     5.893228e-05         0.000252         0.002818   \n",
       "std         0.009476     2.564790e-03         0.009352         0.004789   \n",
       "min         0.000000     0.000000e+00         0.000000         0.000000   \n",
       "25%         0.000111     0.000000e+00         0.000000         0.000000   \n",
       "50%         0.000111     1.163934e-07         0.000000         0.000016   \n",
       "75%         0.000774     6.774095e-05         0.000120         0.005307   \n",
       "max         1.000000     1.000000e+00         1.000000         1.000000   \n",
       "\n",
       "       Fwd Pkt Len Min  Fwd Pkt Len Mean  ...  Fwd Seg Size Min  \\\n",
       "count    533320.000000     533320.000000  ...     533320.000000   \n",
       "mean          0.005449          0.003284  ...          0.543590   \n",
       "std           0.014728          0.004958  ...          0.233554   \n",
       "min           0.000000          0.000000  ...          0.000000   \n",
       "25%           0.000000          0.000000  ...          0.416667   \n",
       "50%           0.000000          0.000045  ...          0.666667   \n",
       "75%           0.000000          0.005745  ...          0.833333   \n",
       "max           1.000000          1.000000  ...          1.000000   \n",
       "\n",
       "         Active Mean     Active Std     Active Max     Active Min  \\\n",
       "count  533320.000000  533320.000000  533320.000000  533320.000000   \n",
       "mean        0.000579       0.000295       0.000854       0.000449   \n",
       "std         0.006671       0.003658       0.007835       0.006333   \n",
       "min         0.000000       0.000000       0.000000       0.000000   \n",
       "25%         0.000000       0.000000       0.000000       0.000000   \n",
       "50%         0.000000       0.000000       0.000000       0.000000   \n",
       "75%         0.000000       0.000000       0.000000       0.000000   \n",
       "max         1.000000       1.000000       1.000000       1.000000   \n",
       "\n",
       "           Idle Mean       Idle Std       Idle Max       Idle Min  \\\n",
       "count  533320.000000  533320.000000  533320.000000  533320.000000   \n",
       "mean        0.000008       0.000004       0.000005       0.000133   \n",
       "std         0.001786       0.001748       0.001729       0.001754   \n",
       "min         0.000000       0.000000       0.000000       0.000000   \n",
       "25%         0.000000       0.000000       0.000000       0.000000   \n",
       "50%         0.000000       0.000000       0.000000       0.000000   \n",
       "75%         0.000000       0.000000       0.000000       0.000000   \n",
       "max         1.000000       1.000000       1.000000       1.000000   \n",
       "\n",
       "               Label  \n",
       "count  533320.000000  \n",
       "mean        0.500051  \n",
       "std         0.500000  \n",
       "min         0.000000  \n",
       "25%         0.000000  \n",
       "50%         1.000000  \n",
       "75%         1.000000  \n",
       "max         1.000000  \n",
       "\n",
       "[8 rows x 79 columns]"
      ]
     },
     "execution_count": 24,
     "metadata": {},
     "output_type": "execute_result"
    }
   ],
   "source": [
    "train.describe()"
   ]
  },
  {
   "cell_type": "code",
   "execution_count": 25,
   "id": "f04ea552",
   "metadata": {
    "execution": {
     "iopub.execute_input": "2022-10-20T08:02:49.920542Z",
     "iopub.status.busy": "2022-10-20T08:02:49.919605Z",
     "iopub.status.idle": "2022-10-20T08:02:50.115938Z",
     "shell.execute_reply": "2022-10-20T08:02:50.114511Z"
    },
    "papermill": {
     "duration": 0.234014,
     "end_time": "2022-10-20T08:02:50.118903",
     "exception": false,
     "start_time": "2022-10-20T08:02:49.884889",
     "status": "completed"
    },
    "tags": []
   },
   "outputs": [
    {
     "name": "stdout",
     "output_type": "stream",
     "text": [
      "<class 'pandas.core.frame.DataFrame'>\n",
      "Int64Index: 533320 entries, 677869 to 92080\n",
      "Data columns (total 80 columns):\n",
      " #   Column             Non-Null Count   Dtype  \n",
      "---  ------             --------------   -----  \n",
      " 0   Dst Port           533320 non-null  int64  \n",
      " 1   Protocol           533320 non-null  int64  \n",
      " 2   Timestamp          533320 non-null  object \n",
      " 3   Flow Duration      533320 non-null  float64\n",
      " 4   Tot Fwd Pkts       533320 non-null  float64\n",
      " 5   Tot Bwd Pkts       533320 non-null  float64\n",
      " 6   TotLen Fwd Pkts    533320 non-null  float64\n",
      " 7   TotLen Bwd Pkts    533320 non-null  float64\n",
      " 8   Fwd Pkt Len Max    533320 non-null  float64\n",
      " 9   Fwd Pkt Len Min    533320 non-null  float64\n",
      " 10  Fwd Pkt Len Mean   533320 non-null  float64\n",
      " 11  Fwd Pkt Len Std    533320 non-null  float64\n",
      " 12  Bwd Pkt Len Max    533320 non-null  float64\n",
      " 13  Bwd Pkt Len Min    533320 non-null  float64\n",
      " 14  Bwd Pkt Len Mean   533320 non-null  float64\n",
      " 15  Bwd Pkt Len Std    533320 non-null  float64\n",
      " 16  Flow Byts/s        533320 non-null  float64\n",
      " 17  Flow Pkts/s        533320 non-null  float64\n",
      " 18  Flow IAT Mean      533320 non-null  float64\n",
      " 19  Flow IAT Std       533320 non-null  float64\n",
      " 20  Flow IAT Max       533320 non-null  float64\n",
      " 21  Flow IAT Min       533320 non-null  float64\n",
      " 22  Fwd IAT Tot        533320 non-null  float64\n",
      " 23  Fwd IAT Mean       533320 non-null  float64\n",
      " 24  Fwd IAT Std        533320 non-null  float64\n",
      " 25  Fwd IAT Max        533320 non-null  float64\n",
      " 26  Fwd IAT Min        533320 non-null  float64\n",
      " 27  Bwd IAT Tot        533320 non-null  float64\n",
      " 28  Bwd IAT Mean       533320 non-null  float64\n",
      " 29  Bwd IAT Std        533320 non-null  float64\n",
      " 30  Bwd IAT Max        533320 non-null  float64\n",
      " 31  Bwd IAT Min        533320 non-null  float64\n",
      " 32  Fwd PSH Flags      533320 non-null  float64\n",
      " 33  Bwd PSH Flags      533320 non-null  float64\n",
      " 34  Fwd URG Flags      533320 non-null  float64\n",
      " 35  Bwd URG Flags      533320 non-null  float64\n",
      " 36  Fwd Header Len     533320 non-null  float64\n",
      " 37  Bwd Header Len     533320 non-null  float64\n",
      " 38  Fwd Pkts/s         533320 non-null  float64\n",
      " 39  Bwd Pkts/s         533320 non-null  float64\n",
      " 40  Pkt Len Min        533320 non-null  float64\n",
      " 41  Pkt Len Max        533320 non-null  float64\n",
      " 42  Pkt Len Mean       533320 non-null  float64\n",
      " 43  Pkt Len Std        533320 non-null  float64\n",
      " 44  Pkt Len Var        533320 non-null  float64\n",
      " 45  FIN Flag Cnt       533320 non-null  float64\n",
      " 46  SYN Flag Cnt       533320 non-null  float64\n",
      " 47  RST Flag Cnt       533320 non-null  float64\n",
      " 48  PSH Flag Cnt       533320 non-null  float64\n",
      " 49  ACK Flag Cnt       533320 non-null  float64\n",
      " 50  URG Flag Cnt       533320 non-null  float64\n",
      " 51  CWE Flag Count     533320 non-null  float64\n",
      " 52  ECE Flag Cnt       533320 non-null  float64\n",
      " 53  Down/Up Ratio      533320 non-null  float64\n",
      " 54  Pkt Size Avg       533320 non-null  float64\n",
      " 55  Fwd Seg Size Avg   533320 non-null  float64\n",
      " 56  Bwd Seg Size Avg   533320 non-null  float64\n",
      " 57  Fwd Byts/b Avg     533320 non-null  float64\n",
      " 58  Fwd Pkts/b Avg     533320 non-null  float64\n",
      " 59  Fwd Blk Rate Avg   533320 non-null  float64\n",
      " 60  Bwd Byts/b Avg     533320 non-null  float64\n",
      " 61  Bwd Pkts/b Avg     533320 non-null  float64\n",
      " 62  Bwd Blk Rate Avg   533320 non-null  float64\n",
      " 63  Subflow Fwd Pkts   533320 non-null  float64\n",
      " 64  Subflow Fwd Byts   533320 non-null  float64\n",
      " 65  Subflow Bwd Pkts   533320 non-null  float64\n",
      " 66  Subflow Bwd Byts   533320 non-null  float64\n",
      " 67  Init Fwd Win Byts  533320 non-null  float64\n",
      " 68  Init Bwd Win Byts  533320 non-null  float64\n",
      " 69  Fwd Act Data Pkts  533320 non-null  float64\n",
      " 70  Fwd Seg Size Min   533320 non-null  float64\n",
      " 71  Active Mean        533320 non-null  float64\n",
      " 72  Active Std         533320 non-null  float64\n",
      " 73  Active Max         533320 non-null  float64\n",
      " 74  Active Min         533320 non-null  float64\n",
      " 75  Idle Mean          533320 non-null  float64\n",
      " 76  Idle Std           533320 non-null  float64\n",
      " 77  Idle Max           533320 non-null  float64\n",
      " 78  Idle Min           533320 non-null  float64\n",
      " 79  Label              533320 non-null  int64  \n",
      "dtypes: float64(76), int64(3), object(1)\n",
      "memory usage: 329.6+ MB\n"
     ]
    }
   ],
   "source": [
    "train.info()"
   ]
  },
  {
   "cell_type": "code",
   "execution_count": 26,
   "id": "61a7817d",
   "metadata": {
    "execution": {
     "iopub.execute_input": "2022-10-20T08:02:50.202144Z",
     "iopub.status.busy": "2022-10-20T08:02:50.201179Z",
     "iopub.status.idle": "2022-10-20T08:02:50.441388Z",
     "shell.execute_reply": "2022-10-20T08:02:50.440487Z"
    },
    "papermill": {
     "duration": 0.283688,
     "end_time": "2022-10-20T08:02:50.444411",
     "exception": false,
     "start_time": "2022-10-20T08:02:50.160723",
     "status": "completed"
    },
    "tags": []
   },
   "outputs": [],
   "source": [
    "train.drop(['Timestamp'], axis=1,inplace=True)\n",
    "test.drop(['Timestamp'],axis=1,inplace=True)"
   ]
  },
  {
   "cell_type": "code",
   "execution_count": 27,
   "id": "c3b06f4f",
   "metadata": {
    "execution": {
     "iopub.execute_input": "2022-10-20T08:02:50.518204Z",
     "iopub.status.busy": "2022-10-20T08:02:50.517309Z",
     "iopub.status.idle": "2022-10-20T08:02:50.639861Z",
     "shell.execute_reply": "2022-10-20T08:02:50.639095Z"
    },
    "papermill": {
     "duration": 0.161417,
     "end_time": "2022-10-20T08:02:50.642972",
     "exception": false,
     "start_time": "2022-10-20T08:02:50.481555",
     "status": "completed"
    },
    "tags": []
   },
   "outputs": [
    {
     "name": "stdout",
     "output_type": "stream",
     "text": [
      "<class 'pandas.core.frame.DataFrame'>\n",
      "Int64Index: 533320 entries, 677869 to 92080\n",
      "Data columns (total 79 columns):\n",
      " #   Column             Non-Null Count   Dtype  \n",
      "---  ------             --------------   -----  \n",
      " 0   Dst Port           533320 non-null  int64  \n",
      " 1   Protocol           533320 non-null  int64  \n",
      " 2   Flow Duration      533320 non-null  float64\n",
      " 3   Tot Fwd Pkts       533320 non-null  float64\n",
      " 4   Tot Bwd Pkts       533320 non-null  float64\n",
      " 5   TotLen Fwd Pkts    533320 non-null  float64\n",
      " 6   TotLen Bwd Pkts    533320 non-null  float64\n",
      " 7   Fwd Pkt Len Max    533320 non-null  float64\n",
      " 8   Fwd Pkt Len Min    533320 non-null  float64\n",
      " 9   Fwd Pkt Len Mean   533320 non-null  float64\n",
      " 10  Fwd Pkt Len Std    533320 non-null  float64\n",
      " 11  Bwd Pkt Len Max    533320 non-null  float64\n",
      " 12  Bwd Pkt Len Min    533320 non-null  float64\n",
      " 13  Bwd Pkt Len Mean   533320 non-null  float64\n",
      " 14  Bwd Pkt Len Std    533320 non-null  float64\n",
      " 15  Flow Byts/s        533320 non-null  float64\n",
      " 16  Flow Pkts/s        533320 non-null  float64\n",
      " 17  Flow IAT Mean      533320 non-null  float64\n",
      " 18  Flow IAT Std       533320 non-null  float64\n",
      " 19  Flow IAT Max       533320 non-null  float64\n",
      " 20  Flow IAT Min       533320 non-null  float64\n",
      " 21  Fwd IAT Tot        533320 non-null  float64\n",
      " 22  Fwd IAT Mean       533320 non-null  float64\n",
      " 23  Fwd IAT Std        533320 non-null  float64\n",
      " 24  Fwd IAT Max        533320 non-null  float64\n",
      " 25  Fwd IAT Min        533320 non-null  float64\n",
      " 26  Bwd IAT Tot        533320 non-null  float64\n",
      " 27  Bwd IAT Mean       533320 non-null  float64\n",
      " 28  Bwd IAT Std        533320 non-null  float64\n",
      " 29  Bwd IAT Max        533320 non-null  float64\n",
      " 30  Bwd IAT Min        533320 non-null  float64\n",
      " 31  Fwd PSH Flags      533320 non-null  float64\n",
      " 32  Bwd PSH Flags      533320 non-null  float64\n",
      " 33  Fwd URG Flags      533320 non-null  float64\n",
      " 34  Bwd URG Flags      533320 non-null  float64\n",
      " 35  Fwd Header Len     533320 non-null  float64\n",
      " 36  Bwd Header Len     533320 non-null  float64\n",
      " 37  Fwd Pkts/s         533320 non-null  float64\n",
      " 38  Bwd Pkts/s         533320 non-null  float64\n",
      " 39  Pkt Len Min        533320 non-null  float64\n",
      " 40  Pkt Len Max        533320 non-null  float64\n",
      " 41  Pkt Len Mean       533320 non-null  float64\n",
      " 42  Pkt Len Std        533320 non-null  float64\n",
      " 43  Pkt Len Var        533320 non-null  float64\n",
      " 44  FIN Flag Cnt       533320 non-null  float64\n",
      " 45  SYN Flag Cnt       533320 non-null  float64\n",
      " 46  RST Flag Cnt       533320 non-null  float64\n",
      " 47  PSH Flag Cnt       533320 non-null  float64\n",
      " 48  ACK Flag Cnt       533320 non-null  float64\n",
      " 49  URG Flag Cnt       533320 non-null  float64\n",
      " 50  CWE Flag Count     533320 non-null  float64\n",
      " 51  ECE Flag Cnt       533320 non-null  float64\n",
      " 52  Down/Up Ratio      533320 non-null  float64\n",
      " 53  Pkt Size Avg       533320 non-null  float64\n",
      " 54  Fwd Seg Size Avg   533320 non-null  float64\n",
      " 55  Bwd Seg Size Avg   533320 non-null  float64\n",
      " 56  Fwd Byts/b Avg     533320 non-null  float64\n",
      " 57  Fwd Pkts/b Avg     533320 non-null  float64\n",
      " 58  Fwd Blk Rate Avg   533320 non-null  float64\n",
      " 59  Bwd Byts/b Avg     533320 non-null  float64\n",
      " 60  Bwd Pkts/b Avg     533320 non-null  float64\n",
      " 61  Bwd Blk Rate Avg   533320 non-null  float64\n",
      " 62  Subflow Fwd Pkts   533320 non-null  float64\n",
      " 63  Subflow Fwd Byts   533320 non-null  float64\n",
      " 64  Subflow Bwd Pkts   533320 non-null  float64\n",
      " 65  Subflow Bwd Byts   533320 non-null  float64\n",
      " 66  Init Fwd Win Byts  533320 non-null  float64\n",
      " 67  Init Bwd Win Byts  533320 non-null  float64\n",
      " 68  Fwd Act Data Pkts  533320 non-null  float64\n",
      " 69  Fwd Seg Size Min   533320 non-null  float64\n",
      " 70  Active Mean        533320 non-null  float64\n",
      " 71  Active Std         533320 non-null  float64\n",
      " 72  Active Max         533320 non-null  float64\n",
      " 73  Active Min         533320 non-null  float64\n",
      " 74  Idle Mean          533320 non-null  float64\n",
      " 75  Idle Std           533320 non-null  float64\n",
      " 76  Idle Max           533320 non-null  float64\n",
      " 77  Idle Min           533320 non-null  float64\n",
      " 78  Label              533320 non-null  int64  \n",
      "dtypes: float64(76), int64(3)\n",
      "memory usage: 325.5 MB\n"
     ]
    }
   ],
   "source": [
    "train.info()"
   ]
  },
  {
   "cell_type": "code",
   "execution_count": 28,
   "id": "1f8e7c18",
   "metadata": {
    "execution": {
     "iopub.execute_input": "2022-10-20T08:02:50.720427Z",
     "iopub.status.busy": "2022-10-20T08:02:50.719845Z",
     "iopub.status.idle": "2022-10-20T08:02:51.936255Z",
     "shell.execute_reply": "2022-10-20T08:02:51.935131Z"
    },
    "papermill": {
     "duration": 1.257215,
     "end_time": "2022-10-20T08:02:51.939013",
     "exception": false,
     "start_time": "2022-10-20T08:02:50.681798",
     "status": "completed"
    },
    "tags": []
   },
   "outputs": [],
   "source": [
    "test[numerical_columns] = min_max_scaler.transform(test[numerical_columns])"
   ]
  },
  {
   "cell_type": "code",
   "execution_count": 29,
   "id": "bbba481f",
   "metadata": {
    "execution": {
     "iopub.execute_input": "2022-10-20T08:02:52.011884Z",
     "iopub.status.busy": "2022-10-20T08:02:52.011465Z",
     "iopub.status.idle": "2022-10-20T08:02:52.310617Z",
     "shell.execute_reply": "2022-10-20T08:02:52.309775Z"
    },
    "papermill": {
     "duration": 0.3378,
     "end_time": "2022-10-20T08:02:52.313006",
     "exception": false,
     "start_time": "2022-10-20T08:02:51.975206",
     "status": "completed"
    },
    "tags": []
   },
   "outputs": [
    {
     "data": {
      "text/html": [
       "<div>\n",
       "<style scoped>\n",
       "    .dataframe tbody tr th:only-of-type {\n",
       "        vertical-align: middle;\n",
       "    }\n",
       "\n",
       "    .dataframe tbody tr th {\n",
       "        vertical-align: top;\n",
       "    }\n",
       "\n",
       "    .dataframe thead th {\n",
       "        text-align: right;\n",
       "    }\n",
       "</style>\n",
       "<table border=\"1\" class=\"dataframe\">\n",
       "  <thead>\n",
       "    <tr style=\"text-align: right;\">\n",
       "      <th></th>\n",
       "      <th>Flow Duration</th>\n",
       "      <th>Tot Fwd Pkts</th>\n",
       "      <th>Tot Bwd Pkts</th>\n",
       "      <th>TotLen Fwd Pkts</th>\n",
       "      <th>TotLen Bwd Pkts</th>\n",
       "      <th>Fwd Pkt Len Max</th>\n",
       "      <th>Fwd Pkt Len Min</th>\n",
       "      <th>Fwd Pkt Len Mean</th>\n",
       "      <th>Fwd Pkt Len Std</th>\n",
       "      <th>Bwd Pkt Len Max</th>\n",
       "      <th>...</th>\n",
       "      <th>Fwd Act Data Pkts</th>\n",
       "      <th>Fwd Seg Size Min</th>\n",
       "      <th>Active Mean</th>\n",
       "      <th>Active Std</th>\n",
       "      <th>Active Max</th>\n",
       "      <th>Active Min</th>\n",
       "      <th>Idle Mean</th>\n",
       "      <th>Idle Std</th>\n",
       "      <th>Idle Max</th>\n",
       "      <th>Idle Min</th>\n",
       "    </tr>\n",
       "  </thead>\n",
       "  <tbody>\n",
       "    <tr>\n",
       "      <th>15923</th>\n",
       "      <td>0.999869</td>\n",
       "      <td>0.000000</td>\n",
       "      <td>0.000111</td>\n",
       "      <td>0.000000</td>\n",
       "      <td>0.000000</td>\n",
       "      <td>0.000000</td>\n",
       "      <td>0.00000</td>\n",
       "      <td>0.000000</td>\n",
       "      <td>0.000000</td>\n",
       "      <td>0.000000</td>\n",
       "      <td>...</td>\n",
       "      <td>0.000000</td>\n",
       "      <td>0.833333</td>\n",
       "      <td>0.0</td>\n",
       "      <td>0.0</td>\n",
       "      <td>0.0</td>\n",
       "      <td>0.0</td>\n",
       "      <td>0.0</td>\n",
       "      <td>0.0</td>\n",
       "      <td>0.0</td>\n",
       "      <td>0.0</td>\n",
       "    </tr>\n",
       "    <tr>\n",
       "      <th>252010</th>\n",
       "      <td>0.999870</td>\n",
       "      <td>0.003871</td>\n",
       "      <td>0.002433</td>\n",
       "      <td>0.000226</td>\n",
       "      <td>0.000202</td>\n",
       "      <td>0.009932</td>\n",
       "      <td>0.00000</td>\n",
       "      <td>0.008665</td>\n",
       "      <td>0.008996</td>\n",
       "      <td>0.668493</td>\n",
       "      <td>...</td>\n",
       "      <td>0.015519</td>\n",
       "      <td>0.666667</td>\n",
       "      <td>0.0</td>\n",
       "      <td>0.0</td>\n",
       "      <td>0.0</td>\n",
       "      <td>0.0</td>\n",
       "      <td>0.0</td>\n",
       "      <td>0.0</td>\n",
       "      <td>0.0</td>\n",
       "      <td>0.0</td>\n",
       "    </tr>\n",
       "    <tr>\n",
       "      <th>386370</th>\n",
       "      <td>0.999876</td>\n",
       "      <td>0.000611</td>\n",
       "      <td>0.000442</td>\n",
       "      <td>0.000011</td>\n",
       "      <td>0.000018</td>\n",
       "      <td>0.001505</td>\n",
       "      <td>0.00000</td>\n",
       "      <td>0.002162</td>\n",
       "      <td>0.003077</td>\n",
       "      <td>0.158904</td>\n",
       "      <td>...</td>\n",
       "      <td>0.000970</td>\n",
       "      <td>0.416667</td>\n",
       "      <td>0.0</td>\n",
       "      <td>0.0</td>\n",
       "      <td>0.0</td>\n",
       "      <td>0.0</td>\n",
       "      <td>0.0</td>\n",
       "      <td>0.0</td>\n",
       "      <td>0.0</td>\n",
       "      <td>0.0</td>\n",
       "    </tr>\n",
       "    <tr>\n",
       "      <th>309066</th>\n",
       "      <td>0.999870</td>\n",
       "      <td>0.004279</td>\n",
       "      <td>0.002433</td>\n",
       "      <td>0.000223</td>\n",
       "      <td>0.000202</td>\n",
       "      <td>0.009932</td>\n",
       "      <td>0.00000</td>\n",
       "      <td>0.007748</td>\n",
       "      <td>0.008736</td>\n",
       "      <td>0.668493</td>\n",
       "      <td>...</td>\n",
       "      <td>0.015519</td>\n",
       "      <td>0.666667</td>\n",
       "      <td>0.0</td>\n",
       "      <td>0.0</td>\n",
       "      <td>0.0</td>\n",
       "      <td>0.0</td>\n",
       "      <td>0.0</td>\n",
       "      <td>0.0</td>\n",
       "      <td>0.0</td>\n",
       "      <td>0.0</td>\n",
       "    </tr>\n",
       "    <tr>\n",
       "      <th>498655</th>\n",
       "      <td>0.999869</td>\n",
       "      <td>0.000000</td>\n",
       "      <td>0.000111</td>\n",
       "      <td>0.000003</td>\n",
       "      <td>0.000003</td>\n",
       "      <td>0.000466</td>\n",
       "      <td>0.02551</td>\n",
       "      <td>0.002675</td>\n",
       "      <td>0.000000</td>\n",
       "      <td>0.031507</td>\n",
       "      <td>...</td>\n",
       "      <td>0.000000</td>\n",
       "      <td>0.166667</td>\n",
       "      <td>0.0</td>\n",
       "      <td>0.0</td>\n",
       "      <td>0.0</td>\n",
       "      <td>0.0</td>\n",
       "      <td>0.0</td>\n",
       "      <td>0.0</td>\n",
       "      <td>0.0</td>\n",
       "      <td>0.0</td>\n",
       "    </tr>\n",
       "    <tr>\n",
       "      <th>...</th>\n",
       "      <td>...</td>\n",
       "      <td>...</td>\n",
       "      <td>...</td>\n",
       "      <td>...</td>\n",
       "      <td>...</td>\n",
       "      <td>...</td>\n",
       "      <td>...</td>\n",
       "      <td>...</td>\n",
       "      <td>...</td>\n",
       "      <td>...</td>\n",
       "      <td>...</td>\n",
       "      <td>...</td>\n",
       "      <td>...</td>\n",
       "      <td>...</td>\n",
       "      <td>...</td>\n",
       "      <td>...</td>\n",
       "      <td>...</td>\n",
       "      <td>...</td>\n",
       "      <td>...</td>\n",
       "      <td>...</td>\n",
       "      <td>...</td>\n",
       "    </tr>\n",
       "    <tr>\n",
       "      <th>582416</th>\n",
       "      <td>0.999872</td>\n",
       "      <td>0.001019</td>\n",
       "      <td>0.000553</td>\n",
       "      <td>0.000053</td>\n",
       "      <td>0.000026</td>\n",
       "      <td>0.002173</td>\n",
       "      <td>0.00000</td>\n",
       "      <td>0.006761</td>\n",
       "      <td>0.003993</td>\n",
       "      <td>0.099315</td>\n",
       "      <td>...</td>\n",
       "      <td>0.003880</td>\n",
       "      <td>0.416667</td>\n",
       "      <td>0.0</td>\n",
       "      <td>0.0</td>\n",
       "      <td>0.0</td>\n",
       "      <td>0.0</td>\n",
       "      <td>0.0</td>\n",
       "      <td>0.0</td>\n",
       "      <td>0.0</td>\n",
       "      <td>0.0</td>\n",
       "    </tr>\n",
       "    <tr>\n",
       "      <th>664673</th>\n",
       "      <td>0.999869</td>\n",
       "      <td>0.000407</td>\n",
       "      <td>0.000442</td>\n",
       "      <td>0.000017</td>\n",
       "      <td>0.000018</td>\n",
       "      <td>0.002297</td>\n",
       "      <td>0.00000</td>\n",
       "      <td>0.004398</td>\n",
       "      <td>0.005422</td>\n",
       "      <td>0.166438</td>\n",
       "      <td>...</td>\n",
       "      <td>0.000970</td>\n",
       "      <td>0.416667</td>\n",
       "      <td>0.0</td>\n",
       "      <td>0.0</td>\n",
       "      <td>0.0</td>\n",
       "      <td>0.0</td>\n",
       "      <td>0.0</td>\n",
       "      <td>0.0</td>\n",
       "      <td>0.0</td>\n",
       "      <td>0.0</td>\n",
       "    </tr>\n",
       "    <tr>\n",
       "      <th>92708</th>\n",
       "      <td>0.999869</td>\n",
       "      <td>0.000000</td>\n",
       "      <td>0.000111</td>\n",
       "      <td>0.000000</td>\n",
       "      <td>0.000000</td>\n",
       "      <td>0.000000</td>\n",
       "      <td>0.00000</td>\n",
       "      <td>0.000000</td>\n",
       "      <td>0.000000</td>\n",
       "      <td>0.000000</td>\n",
       "      <td>...</td>\n",
       "      <td>0.000000</td>\n",
       "      <td>0.833333</td>\n",
       "      <td>0.0</td>\n",
       "      <td>0.0</td>\n",
       "      <td>0.0</td>\n",
       "      <td>0.0</td>\n",
       "      <td>0.0</td>\n",
       "      <td>0.0</td>\n",
       "      <td>0.0</td>\n",
       "      <td>0.0</td>\n",
       "    </tr>\n",
       "    <tr>\n",
       "      <th>381015</th>\n",
       "      <td>0.999869</td>\n",
       "      <td>0.000000</td>\n",
       "      <td>0.000111</td>\n",
       "      <td>0.000000</td>\n",
       "      <td>0.000000</td>\n",
       "      <td>0.000000</td>\n",
       "      <td>0.00000</td>\n",
       "      <td>0.000000</td>\n",
       "      <td>0.000000</td>\n",
       "      <td>0.000000</td>\n",
       "      <td>...</td>\n",
       "      <td>0.000000</td>\n",
       "      <td>0.833333</td>\n",
       "      <td>0.0</td>\n",
       "      <td>0.0</td>\n",
       "      <td>0.0</td>\n",
       "      <td>0.0</td>\n",
       "      <td>0.0</td>\n",
       "      <td>0.0</td>\n",
       "      <td>0.0</td>\n",
       "      <td>0.0</td>\n",
       "    </tr>\n",
       "    <tr>\n",
       "      <th>330356</th>\n",
       "      <td>0.999870</td>\n",
       "      <td>0.004279</td>\n",
       "      <td>0.002212</td>\n",
       "      <td>0.000224</td>\n",
       "      <td>0.000202</td>\n",
       "      <td>0.009932</td>\n",
       "      <td>0.00000</td>\n",
       "      <td>0.007813</td>\n",
       "      <td>0.008742</td>\n",
       "      <td>0.668493</td>\n",
       "      <td>...</td>\n",
       "      <td>0.015519</td>\n",
       "      <td>0.666667</td>\n",
       "      <td>0.0</td>\n",
       "      <td>0.0</td>\n",
       "      <td>0.0</td>\n",
       "      <td>0.0</td>\n",
       "      <td>0.0</td>\n",
       "      <td>0.0</td>\n",
       "      <td>0.0</td>\n",
       "      <td>0.0</td>\n",
       "    </tr>\n",
       "  </tbody>\n",
       "</table>\n",
       "<p>228566 rows × 76 columns</p>\n",
       "</div>"
      ],
      "text/plain": [
       "        Flow Duration  Tot Fwd Pkts  Tot Bwd Pkts  TotLen Fwd Pkts  \\\n",
       "15923        0.999869      0.000000      0.000111         0.000000   \n",
       "252010       0.999870      0.003871      0.002433         0.000226   \n",
       "386370       0.999876      0.000611      0.000442         0.000011   \n",
       "309066       0.999870      0.004279      0.002433         0.000223   \n",
       "498655       0.999869      0.000000      0.000111         0.000003   \n",
       "...               ...           ...           ...              ...   \n",
       "582416       0.999872      0.001019      0.000553         0.000053   \n",
       "664673       0.999869      0.000407      0.000442         0.000017   \n",
       "92708        0.999869      0.000000      0.000111         0.000000   \n",
       "381015       0.999869      0.000000      0.000111         0.000000   \n",
       "330356       0.999870      0.004279      0.002212         0.000224   \n",
       "\n",
       "        TotLen Bwd Pkts  Fwd Pkt Len Max  Fwd Pkt Len Min  Fwd Pkt Len Mean  \\\n",
       "15923          0.000000         0.000000          0.00000          0.000000   \n",
       "252010         0.000202         0.009932          0.00000          0.008665   \n",
       "386370         0.000018         0.001505          0.00000          0.002162   \n",
       "309066         0.000202         0.009932          0.00000          0.007748   \n",
       "498655         0.000003         0.000466          0.02551          0.002675   \n",
       "...                 ...              ...              ...               ...   \n",
       "582416         0.000026         0.002173          0.00000          0.006761   \n",
       "664673         0.000018         0.002297          0.00000          0.004398   \n",
       "92708          0.000000         0.000000          0.00000          0.000000   \n",
       "381015         0.000000         0.000000          0.00000          0.000000   \n",
       "330356         0.000202         0.009932          0.00000          0.007813   \n",
       "\n",
       "        Fwd Pkt Len Std  Bwd Pkt Len Max  ...  Fwd Act Data Pkts  \\\n",
       "15923          0.000000         0.000000  ...           0.000000   \n",
       "252010         0.008996         0.668493  ...           0.015519   \n",
       "386370         0.003077         0.158904  ...           0.000970   \n",
       "309066         0.008736         0.668493  ...           0.015519   \n",
       "498655         0.000000         0.031507  ...           0.000000   \n",
       "...                 ...              ...  ...                ...   \n",
       "582416         0.003993         0.099315  ...           0.003880   \n",
       "664673         0.005422         0.166438  ...           0.000970   \n",
       "92708          0.000000         0.000000  ...           0.000000   \n",
       "381015         0.000000         0.000000  ...           0.000000   \n",
       "330356         0.008742         0.668493  ...           0.015519   \n",
       "\n",
       "        Fwd Seg Size Min  Active Mean  Active Std  Active Max  Active Min  \\\n",
       "15923           0.833333          0.0         0.0         0.0         0.0   \n",
       "252010          0.666667          0.0         0.0         0.0         0.0   \n",
       "386370          0.416667          0.0         0.0         0.0         0.0   \n",
       "309066          0.666667          0.0         0.0         0.0         0.0   \n",
       "498655          0.166667          0.0         0.0         0.0         0.0   \n",
       "...                  ...          ...         ...         ...         ...   \n",
       "582416          0.416667          0.0         0.0         0.0         0.0   \n",
       "664673          0.416667          0.0         0.0         0.0         0.0   \n",
       "92708           0.833333          0.0         0.0         0.0         0.0   \n",
       "381015          0.833333          0.0         0.0         0.0         0.0   \n",
       "330356          0.666667          0.0         0.0         0.0         0.0   \n",
       "\n",
       "        Idle Mean  Idle Std  Idle Max  Idle Min  \n",
       "15923         0.0       0.0       0.0       0.0  \n",
       "252010        0.0       0.0       0.0       0.0  \n",
       "386370        0.0       0.0       0.0       0.0  \n",
       "309066        0.0       0.0       0.0       0.0  \n",
       "498655        0.0       0.0       0.0       0.0  \n",
       "...           ...       ...       ...       ...  \n",
       "582416        0.0       0.0       0.0       0.0  \n",
       "664673        0.0       0.0       0.0       0.0  \n",
       "92708         0.0       0.0       0.0       0.0  \n",
       "381015        0.0       0.0       0.0       0.0  \n",
       "330356        0.0       0.0       0.0       0.0  \n",
       "\n",
       "[228566 rows x 76 columns]"
      ]
     },
     "execution_count": 29,
     "metadata": {},
     "output_type": "execute_result"
    }
   ],
   "source": [
    "test[numerical_columns]"
   ]
  },
  {
   "cell_type": "code",
   "execution_count": 30,
   "id": "29093d06",
   "metadata": {
    "execution": {
     "iopub.execute_input": "2022-10-20T08:02:52.384075Z",
     "iopub.status.busy": "2022-10-20T08:02:52.383393Z",
     "iopub.status.idle": "2022-10-20T08:02:52.427540Z",
     "shell.execute_reply": "2022-10-20T08:02:52.425868Z"
    },
    "papermill": {
     "duration": 0.082745,
     "end_time": "2022-10-20T08:02:52.430476",
     "exception": false,
     "start_time": "2022-10-20T08:02:52.347731",
     "status": "completed"
    },
    "tags": []
   },
   "outputs": [
    {
     "name": "stdout",
     "output_type": "stream",
     "text": [
      "Full dataset:\n",
      "\n",
      "Benign: 380943\n",
      "Malicious: 380943\n",
      "---------------\n",
      "Training set:\n",
      "\n",
      "Benign: 266633\n",
      "Malicious: 266687\n",
      "---------------\n",
      "Test set:\n",
      "\n",
      "Benign: 114310\n",
      "Malicious: 114256\n"
     ]
    }
   ],
   "source": [
    "print(\"Full dataset:\\n\")\n",
    "print(\"Benign: \" + str(df_equal[\"Label\"].value_counts()[[0]].sum()))\n",
    "print(\"Malicious: \" + str(df_equal[\"Label\"].value_counts()[[1]].sum()))\n",
    "print(\"---------------\")\n",
    "\n",
    "print(\"Training set:\\n\")\n",
    "print(\"Benign: \" + str(train[\"Label\"].value_counts()[[0]].sum()))\n",
    "print(\"Malicious: \" + str(train[\"Label\"].value_counts()[[1]].sum()))\n",
    "print(\"---------------\")\n",
    "\n",
    "print(\"Test set:\\n\")\n",
    "print(\"Benign: \" + str(test[\"Label\"].value_counts()[[0]].sum()))\n",
    "print(\"Malicious: \" + str(test[\"Label\"].value_counts()[[1]].sum()))"
   ]
  },
  {
   "cell_type": "code",
   "execution_count": 31,
   "id": "7c3deebb",
   "metadata": {
    "execution": {
     "iopub.execute_input": "2022-10-20T08:02:52.501618Z",
     "iopub.status.busy": "2022-10-20T08:02:52.500930Z",
     "iopub.status.idle": "2022-10-20T08:02:52.765904Z",
     "shell.execute_reply": "2022-10-20T08:02:52.764489Z"
    },
    "papermill": {
     "duration": 0.302967,
     "end_time": "2022-10-20T08:02:52.768426",
     "exception": false,
     "start_time": "2022-10-20T08:02:52.465459",
     "status": "completed"
    },
    "tags": []
   },
   "outputs": [
    {
     "name": "stdout",
     "output_type": "stream",
     "text": [
      "<class 'numpy.ndarray'>\n",
      "<class 'numpy.ndarray'>\n",
      "(533320, 78)\n",
      "(533320,)\n"
     ]
    }
   ],
   "source": [
    "y_train = np.array(train.pop(\"Label\"))# pop removes \"Label\" from the dataframe\n",
    "#y_train = np.array(train.pop(\"Timestamp\"))\n",
    "X_train = train.values\n",
    "\n",
    "print(type(X_train))\n",
    "print(type(y_train))\n",
    "print(X_train.shape)\n",
    "print(y_train.shape)"
   ]
  },
  {
   "cell_type": "code",
   "execution_count": 32,
   "id": "335da276",
   "metadata": {
    "execution": {
     "iopub.execute_input": "2022-10-20T08:02:52.838752Z",
     "iopub.status.busy": "2022-10-20T08:02:52.838313Z",
     "iopub.status.idle": "2022-10-20T08:02:52.942788Z",
     "shell.execute_reply": "2022-10-20T08:02:52.941543Z"
    },
    "papermill": {
     "duration": 0.142536,
     "end_time": "2022-10-20T08:02:52.945042",
     "exception": false,
     "start_time": "2022-10-20T08:02:52.802506",
     "status": "completed"
    },
    "tags": []
   },
   "outputs": [
    {
     "name": "stdout",
     "output_type": "stream",
     "text": [
      "<class 'numpy.ndarray'>\n",
      "<class 'numpy.ndarray'>\n",
      "(228566, 78)\n",
      "(228566,)\n"
     ]
    }
   ],
   "source": [
    "y_test = np.array(test.pop(\"Label\")) # pop removes \"Label\" from the dataframe\n",
    "#y_test = np.array(test.pop(\"Timestamp\"))\n",
    "X_test = test.values\n",
    "\n",
    "print(type(X_test))\n",
    "print(type(y_test))\n",
    "print(X_test.shape)\n",
    "print(y_test.shape)"
   ]
  },
  {
   "cell_type": "code",
   "execution_count": null,
   "id": "73a61dc9",
   "metadata": {
    "execution": {
     "iopub.execute_input": "2022-10-20T08:02:53.015774Z",
     "iopub.status.busy": "2022-10-20T08:02:53.015064Z",
     "iopub.status.idle": "2022-10-20T08:02:53.021577Z",
     "shell.execute_reply": "2022-10-20T08:02:53.020533Z"
    },
    "papermill": {
     "duration": 0.044738,
     "end_time": "2022-10-20T08:02:53.024164",
     "exception": false,
     "start_time": "2022-10-20T08:02:52.979426",
     "status": "completed"
    },
    "tags": []
   },
   "outputs": [],
   "source": [
    "model = RandomForestClassifier(\n",
    "    n_estimators=100,\n",
    "    criterion='gini',\n",
    "    max_depth=None,\n",
    "    min_samples_split=2,\n",
    "    min_samples_leaf=1,\n",
    "    min_weight_fraction_leaf=0.0,\n",
    "    max_features=1,\n",
    "    max_leaf_nodes=None,\n",
    "    min_impurity_decrease=0.0,\n",
    "    bootstrap=True,\n",
    "    oob_score=False,\n",
    "    n_jobs=None,\n",
    "    random_state=None,\n",
    "    verbose=0,\n",
    "    warm_start=False,\n",
    "    ccp_alpha=0.0,\n",
    "    max_samples=None\n",
    ")\n",
    "\n",
    "hyperparameters = {\n",
    "    'n_estimators': [50, 75, 100, 125, 150]\n",
    "}"
   ]
  },
  {
   "cell_type": "code",
   "execution_count": null,
   "id": "a2c299ed",
   "metadata": {
    "execution": {
     "iopub.execute_input": "2022-10-20T08:02:53.094322Z",
     "iopub.status.busy": "2022-10-20T08:02:53.093927Z",
     "iopub.status.idle": "2022-10-20T08:02:53.098518Z",
     "shell.execute_reply": "2022-10-20T08:02:53.097668Z"
    },
    "papermill": {
     "duration": 0.042481,
     "end_time": "2022-10-20T08:02:53.100850",
     "exception": false,
     "start_time": "2022-10-20T08:02:53.058369",
     "status": "completed"
    },
    "tags": []
   },
   "outputs": [],
   "source": [
    "clf = GridSearchCV(\n",
    "    estimator=model,\n",
    "    param_grid=hyperparameters,\n",
    "    cv=5,\n",
    "    verbose=1,\n",
    "    n_jobs=-1  # Use all available CPU cores\n",
    ")"
   ]
  },
  {
   "cell_type": "code",
   "execution_count": null,
   "id": "119de75f",
   "metadata": {
    "execution": {
     "iopub.execute_input": "2022-10-20T08:02:53.171629Z",
     "iopub.status.busy": "2022-10-20T08:02:53.170343Z",
     "iopub.status.idle": "2022-10-20T08:18:55.666012Z",
     "shell.execute_reply": "2022-10-20T08:18:55.664466Z"
    },
    "papermill": {
     "duration": 962.570131,
     "end_time": "2022-10-20T08:18:55.705061",
     "exception": false,
     "start_time": "2022-10-20T08:02:53.134930",
     "status": "completed"
    },
    "tags": []
   },
   "outputs": [
    {
     "name": "stdout",
     "output_type": "stream",
     "text": [
      "Fitting 5 folds for each of 5 candidates, totalling 25 fits\n"
     ]
    },
    {
     "data": {
      "text/html": [
       "<style>#sk-container-id-1 {color: black;}#sk-container-id-1 pre{padding: 0;}#sk-container-id-1 div.sk-toggleable {background-color: white;}#sk-container-id-1 label.sk-toggleable__label {cursor: pointer;display: block;width: 100%;margin-bottom: 0;padding: 0.3em;box-sizing: border-box;text-align: center;}#sk-container-id-1 label.sk-toggleable__label-arrow:before {content: \"▸\";float: left;margin-right: 0.25em;color: #696969;}#sk-container-id-1 label.sk-toggleable__label-arrow:hover:before {color: black;}#sk-container-id-1 div.sk-estimator:hover label.sk-toggleable__label-arrow:before {color: black;}#sk-container-id-1 div.sk-toggleable__content {max-height: 0;max-width: 0;overflow: hidden;text-align: left;background-color: #f0f8ff;}#sk-container-id-1 div.sk-toggleable__content pre {margin: 0.2em;color: black;border-radius: 0.25em;background-color: #f0f8ff;}#sk-container-id-1 input.sk-toggleable__control:checked~div.sk-toggleable__content {max-height: 200px;max-width: 100%;overflow: auto;}#sk-container-id-1 input.sk-toggleable__control:checked~label.sk-toggleable__label-arrow:before {content: \"▾\";}#sk-container-id-1 div.sk-estimator input.sk-toggleable__control:checked~label.sk-toggleable__label {background-color: #d4ebff;}#sk-container-id-1 div.sk-label input.sk-toggleable__control:checked~label.sk-toggleable__label {background-color: #d4ebff;}#sk-container-id-1 input.sk-hidden--visually {border: 0;clip: rect(1px 1px 1px 1px);clip: rect(1px, 1px, 1px, 1px);height: 1px;margin: -1px;overflow: hidden;padding: 0;position: absolute;width: 1px;}#sk-container-id-1 div.sk-estimator {font-family: monospace;background-color: #f0f8ff;border: 1px dotted black;border-radius: 0.25em;box-sizing: border-box;margin-bottom: 0.5em;}#sk-container-id-1 div.sk-estimator:hover {background-color: #d4ebff;}#sk-container-id-1 div.sk-parallel-item::after {content: \"\";width: 100%;border-bottom: 1px solid gray;flex-grow: 1;}#sk-container-id-1 div.sk-label:hover label.sk-toggleable__label {background-color: #d4ebff;}#sk-container-id-1 div.sk-serial::before {content: \"\";position: absolute;border-left: 1px solid gray;box-sizing: border-box;top: 0;bottom: 0;left: 50%;z-index: 0;}#sk-container-id-1 div.sk-serial {display: flex;flex-direction: column;align-items: center;background-color: white;padding-right: 0.2em;padding-left: 0.2em;position: relative;}#sk-container-id-1 div.sk-item {position: relative;z-index: 1;}#sk-container-id-1 div.sk-parallel {display: flex;align-items: stretch;justify-content: center;background-color: white;position: relative;}#sk-container-id-1 div.sk-item::before, #sk-container-id-1 div.sk-parallel-item::before {content: \"\";position: absolute;border-left: 1px solid gray;box-sizing: border-box;top: 0;bottom: 0;left: 50%;z-index: -1;}#sk-container-id-1 div.sk-parallel-item {display: flex;flex-direction: column;z-index: 1;position: relative;background-color: white;}#sk-container-id-1 div.sk-parallel-item:first-child::after {align-self: flex-end;width: 50%;}#sk-container-id-1 div.sk-parallel-item:last-child::after {align-self: flex-start;width: 50%;}#sk-container-id-1 div.sk-parallel-item:only-child::after {width: 0;}#sk-container-id-1 div.sk-dashed-wrapped {border: 1px dashed gray;margin: 0 0.4em 0.5em 0.4em;box-sizing: border-box;padding-bottom: 0.4em;background-color: white;}#sk-container-id-1 div.sk-label label {font-family: monospace;font-weight: bold;display: inline-block;line-height: 1.2em;}#sk-container-id-1 div.sk-label-container {text-align: center;}#sk-container-id-1 div.sk-container {/* jupyter's `normalize.less` sets `[hidden] { display: none; }` but bootstrap.min.css set `[hidden] { display: none !important; }` so we also need the `!important` here to be able to override the default hidden behavior on the sphinx rendered scikit-learn.org. See: https://github.com/scikit-learn/scikit-learn/issues/21755 */display: inline-block !important;position: relative;}#sk-container-id-1 div.sk-text-repr-fallback {display: none;}</style><div id=\"sk-container-id-1\" class=\"sk-top-container\"><div class=\"sk-text-repr-fallback\"><pre>GridSearchCV(cv=5, estimator=RandomForestClassifier(max_features=1), n_jobs=-1,\n",
       "             param_grid={&#x27;n_estimators&#x27;: [50, 75, 100, 125, 150]}, verbose=1)</pre><b>In a Jupyter environment, please rerun this cell to show the HTML representation or trust the notebook. <br />On GitHub, the HTML representation is unable to render, please try loading this page with nbviewer.org.</b></div><div class=\"sk-container\" hidden><div class=\"sk-item sk-dashed-wrapped\"><div class=\"sk-label-container\"><div class=\"sk-label sk-toggleable\"><input class=\"sk-toggleable__control sk-hidden--visually\" id=\"sk-estimator-id-1\" type=\"checkbox\" ><label for=\"sk-estimator-id-1\" class=\"sk-toggleable__label sk-toggleable__label-arrow\">GridSearchCV</label><div class=\"sk-toggleable__content\"><pre>GridSearchCV(cv=5, estimator=RandomForestClassifier(max_features=1), n_jobs=-1,\n",
       "             param_grid={&#x27;n_estimators&#x27;: [50, 75, 100, 125, 150]}, verbose=1)</pre></div></div></div><div class=\"sk-parallel\"><div class=\"sk-parallel-item\"><div class=\"sk-item\"><div class=\"sk-label-container\"><div class=\"sk-label sk-toggleable\"><input class=\"sk-toggleable__control sk-hidden--visually\" id=\"sk-estimator-id-2\" type=\"checkbox\" ><label for=\"sk-estimator-id-2\" class=\"sk-toggleable__label sk-toggleable__label-arrow\">estimator: RandomForestClassifier</label><div class=\"sk-toggleable__content\"><pre>RandomForestClassifier(max_features=1)</pre></div></div></div><div class=\"sk-serial\"><div class=\"sk-item\"><div class=\"sk-estimator sk-toggleable\"><input class=\"sk-toggleable__control sk-hidden--visually\" id=\"sk-estimator-id-3\" type=\"checkbox\" ><label for=\"sk-estimator-id-3\" class=\"sk-toggleable__label sk-toggleable__label-arrow\">RandomForestClassifier</label><div class=\"sk-toggleable__content\"><pre>RandomForestClassifier(max_features=1)</pre></div></div></div></div></div></div></div></div></div></div>"
      ],
      "text/plain": [
       "GridSearchCV(cv=5, estimator=RandomForestClassifier(max_features=1), n_jobs=-1,\n",
       "             param_grid={'n_estimators': [50, 75, 100, 125, 150]}, verbose=1)"
      ]
     },
     "execution_count": 38,
     "metadata": {},
     "output_type": "execute_result"
    }
   ],
   "source": [
    "clf.fit(X=X_train, y=y_train)"
   ]
  },
  {
   "cell_type": "code",
   "execution_count": null,
   "id": "35940ff3",
   "metadata": {
    "execution": {
     "iopub.execute_input": "2022-10-20T08:18:55.777464Z",
     "iopub.status.busy": "2022-10-20T08:18:55.777011Z",
     "iopub.status.idle": "2022-10-20T08:18:55.785858Z",
     "shell.execute_reply": "2022-10-20T08:18:55.784320Z"
    },
    "papermill": {
     "duration": 0.047847,
     "end_time": "2022-10-20T08:18:55.788420",
     "exception": false,
     "start_time": "2022-10-20T08:18:55.740573",
     "status": "completed"
    },
    "tags": []
   },
   "outputs": [
    {
     "name": "stdout",
     "output_type": "stream",
     "text": [
      "Accuracy score on Validation set: \n",
      "\n",
      "0.9999962499062477\n",
      "---------------\n",
      "Best performing hyperparameters on Validation set: \n",
      "{'n_estimators': 75}\n",
      "---------------\n",
      "RandomForestClassifier(max_features=1, n_estimators=75)\n"
     ]
    }
   ],
   "source": [
    "print(\"Accuracy score on Validation set: \\n\")\n",
    "print(clf.best_score_ )\n",
    "print(\"---------------\")\n",
    "print(\"Best performing hyperparameters on Validation set: \")\n",
    "print(clf.best_params_)\n",
    "print(\"---------------\")\n",
    "print(clf.best_estimator_)"
   ]
  },
  {
   "cell_type": "code",
   "execution_count": null,
   "id": "e39abaec",
   "metadata": {
    "execution": {
     "iopub.execute_input": "2022-10-20T08:18:55.861090Z",
     "iopub.status.busy": "2022-10-20T08:18:55.860643Z",
     "iopub.status.idle": "2022-10-20T08:18:55.865639Z",
     "shell.execute_reply": "2022-10-20T08:18:55.864675Z"
    },
    "papermill": {
     "duration": 0.044603,
     "end_time": "2022-10-20T08:18:55.867983",
     "exception": false,
     "start_time": "2022-10-20T08:18:55.823380",
     "status": "completed"
    },
    "tags": []
   },
   "outputs": [],
   "source": [
    "model = clf.best_estimator_"
   ]
  },
  {
   "cell_type": "code",
   "execution_count": null,
   "id": "491b41e4",
   "metadata": {
    "execution": {
     "iopub.execute_input": "2022-10-20T08:18:55.940384Z",
     "iopub.status.busy": "2022-10-20T08:18:55.939964Z",
     "iopub.status.idle": "2022-10-20T08:18:55.948322Z",
     "shell.execute_reply": "2022-10-20T08:18:55.947001Z"
    },
    "papermill": {
     "duration": 0.047599,
     "end_time": "2022-10-20T08:18:55.950945",
     "exception": false,
     "start_time": "2022-10-20T08:18:55.903346",
     "status": "completed"
    },
    "tags": []
   },
   "outputs": [
    {
     "data": {
      "text/html": [
       "<style>#sk-container-id-2 {color: black;}#sk-container-id-2 pre{padding: 0;}#sk-container-id-2 div.sk-toggleable {background-color: white;}#sk-container-id-2 label.sk-toggleable__label {cursor: pointer;display: block;width: 100%;margin-bottom: 0;padding: 0.3em;box-sizing: border-box;text-align: center;}#sk-container-id-2 label.sk-toggleable__label-arrow:before {content: \"▸\";float: left;margin-right: 0.25em;color: #696969;}#sk-container-id-2 label.sk-toggleable__label-arrow:hover:before {color: black;}#sk-container-id-2 div.sk-estimator:hover label.sk-toggleable__label-arrow:before {color: black;}#sk-container-id-2 div.sk-toggleable__content {max-height: 0;max-width: 0;overflow: hidden;text-align: left;background-color: #f0f8ff;}#sk-container-id-2 div.sk-toggleable__content pre {margin: 0.2em;color: black;border-radius: 0.25em;background-color: #f0f8ff;}#sk-container-id-2 input.sk-toggleable__control:checked~div.sk-toggleable__content {max-height: 200px;max-width: 100%;overflow: auto;}#sk-container-id-2 input.sk-toggleable__control:checked~label.sk-toggleable__label-arrow:before {content: \"▾\";}#sk-container-id-2 div.sk-estimator input.sk-toggleable__control:checked~label.sk-toggleable__label {background-color: #d4ebff;}#sk-container-id-2 div.sk-label input.sk-toggleable__control:checked~label.sk-toggleable__label {background-color: #d4ebff;}#sk-container-id-2 input.sk-hidden--visually {border: 0;clip: rect(1px 1px 1px 1px);clip: rect(1px, 1px, 1px, 1px);height: 1px;margin: -1px;overflow: hidden;padding: 0;position: absolute;width: 1px;}#sk-container-id-2 div.sk-estimator {font-family: monospace;background-color: #f0f8ff;border: 1px dotted black;border-radius: 0.25em;box-sizing: border-box;margin-bottom: 0.5em;}#sk-container-id-2 div.sk-estimator:hover {background-color: #d4ebff;}#sk-container-id-2 div.sk-parallel-item::after {content: \"\";width: 100%;border-bottom: 1px solid gray;flex-grow: 1;}#sk-container-id-2 div.sk-label:hover label.sk-toggleable__label {background-color: #d4ebff;}#sk-container-id-2 div.sk-serial::before {content: \"\";position: absolute;border-left: 1px solid gray;box-sizing: border-box;top: 0;bottom: 0;left: 50%;z-index: 0;}#sk-container-id-2 div.sk-serial {display: flex;flex-direction: column;align-items: center;background-color: white;padding-right: 0.2em;padding-left: 0.2em;position: relative;}#sk-container-id-2 div.sk-item {position: relative;z-index: 1;}#sk-container-id-2 div.sk-parallel {display: flex;align-items: stretch;justify-content: center;background-color: white;position: relative;}#sk-container-id-2 div.sk-item::before, #sk-container-id-2 div.sk-parallel-item::before {content: \"\";position: absolute;border-left: 1px solid gray;box-sizing: border-box;top: 0;bottom: 0;left: 50%;z-index: -1;}#sk-container-id-2 div.sk-parallel-item {display: flex;flex-direction: column;z-index: 1;position: relative;background-color: white;}#sk-container-id-2 div.sk-parallel-item:first-child::after {align-self: flex-end;width: 50%;}#sk-container-id-2 div.sk-parallel-item:last-child::after {align-self: flex-start;width: 50%;}#sk-container-id-2 div.sk-parallel-item:only-child::after {width: 0;}#sk-container-id-2 div.sk-dashed-wrapped {border: 1px dashed gray;margin: 0 0.4em 0.5em 0.4em;box-sizing: border-box;padding-bottom: 0.4em;background-color: white;}#sk-container-id-2 div.sk-label label {font-family: monospace;font-weight: bold;display: inline-block;line-height: 1.2em;}#sk-container-id-2 div.sk-label-container {text-align: center;}#sk-container-id-2 div.sk-container {/* jupyter's `normalize.less` sets `[hidden] { display: none; }` but bootstrap.min.css set `[hidden] { display: none !important; }` so we also need the `!important` here to be able to override the default hidden behavior on the sphinx rendered scikit-learn.org. See: https://github.com/scikit-learn/scikit-learn/issues/21755 */display: inline-block !important;position: relative;}#sk-container-id-2 div.sk-text-repr-fallback {display: none;}</style><div id=\"sk-container-id-2\" class=\"sk-top-container\"><div class=\"sk-text-repr-fallback\"><pre>RandomForestClassifier(max_features=1, n_estimators=75)</pre><b>In a Jupyter environment, please rerun this cell to show the HTML representation or trust the notebook. <br />On GitHub, the HTML representation is unable to render, please try loading this page with nbviewer.org.</b></div><div class=\"sk-container\" hidden><div class=\"sk-item\"><div class=\"sk-estimator sk-toggleable\"><input class=\"sk-toggleable__control sk-hidden--visually\" id=\"sk-estimator-id-4\" type=\"checkbox\" checked><label for=\"sk-estimator-id-4\" class=\"sk-toggleable__label sk-toggleable__label-arrow\">RandomForestClassifier</label><div class=\"sk-toggleable__content\"><pre>RandomForestClassifier(max_features=1, n_estimators=75)</pre></div></div></div></div></div>"
      ],
      "text/plain": [
       "RandomForestClassifier(max_features=1, n_estimators=75)"
      ]
     },
     "execution_count": 41,
     "metadata": {},
     "output_type": "execute_result"
    }
   ],
   "source": [
    "model"
   ]
  },
  {
   "cell_type": "code",
   "execution_count": null,
   "id": "7fb088a5",
   "metadata": {
    "execution": {
     "iopub.execute_input": "2022-10-20T08:18:56.024165Z",
     "iopub.status.busy": "2022-10-20T08:18:56.023686Z",
     "iopub.status.idle": "2022-10-20T08:18:57.010006Z",
     "shell.execute_reply": "2022-10-20T08:18:57.008422Z"
    },
    "papermill": {
     "duration": 1.026513,
     "end_time": "2022-10-20T08:18:57.012949",
     "exception": false,
     "start_time": "2022-10-20T08:18:55.986436",
     "status": "completed"
    },
    "tags": []
   },
   "outputs": [],
   "source": [
    "predictions = model.predict(X_test)"
   ]
  },
  {
   "cell_type": "code",
   "execution_count": null,
   "id": "f84c92c7",
   "metadata": {
    "execution": {
     "iopub.execute_input": "2022-10-20T08:18:57.086122Z",
     "iopub.status.busy": "2022-10-20T08:18:57.085673Z",
     "iopub.status.idle": "2022-10-20T08:18:57.119407Z",
     "shell.execute_reply": "2022-10-20T08:18:57.118226Z"
    },
    "papermill": {
     "duration": 0.073086,
     "end_time": "2022-10-20T08:18:57.121965",
     "exception": false,
     "start_time": "2022-10-20T08:18:57.048879",
     "status": "completed"
    },
    "tags": []
   },
   "outputs": [
    {
     "name": "stdout",
     "output_type": "stream",
     "text": [
      "0.9999956248960913\n"
     ]
    }
   ],
   "source": [
    "print(accuracy_score(y_test, predictions))"
   ]
  },
  {
   "cell_type": "code",
   "execution_count": null,
   "id": "ad13e1a6",
   "metadata": {},
   "outputs": [],
   "source": [
    "joblib.dump(model, 'RandomForest.joblib')"
   ]
  },
  {
   "cell_type": "code",
   "execution_count": null,
   "id": "37f49eec",
   "metadata": {
    "execution": {
     "iopub.execute_input": "2022-10-20T08:18:57.192688Z",
     "iopub.status.busy": "2022-10-20T08:18:57.192236Z",
     "iopub.status.idle": "2022-10-20T08:18:57.736497Z",
     "shell.execute_reply": "2022-10-20T08:18:57.735406Z"
    },
    "papermill": {
     "duration": 0.582472,
     "end_time": "2022-10-20T08:18:57.738894",
     "exception": false,
     "start_time": "2022-10-20T08:18:57.156422",
     "status": "completed"
    },
    "tags": []
   },
   "outputs": [
    {
     "data": {
      "text/plain": [
       "<AxesSubplot:>"
      ]
     },
     "execution_count": 44,
     "metadata": {},
     "output_type": "execute_result"
    },
    {
     "data": {
      "image/png": "[encoded data removed]",
      "text/plain": [
       "<Figure size 432x288 with 2 Axes>"
      ]
     },
     "metadata": {
      "needs_background": "light"
     },
     "output_type": "display_data"
    }
   ],
   "source": [
    "from sklearn.metrics import confusion_matrix\n",
    "cf_matrix = confusion_matrix(y_test, predictions)\n",
    "import seaborn as sns\n",
    "sns.heatmap(cf_matrix, annot=True)"
   ]
  },
  {
   "cell_type": "markdown",
   "id": "a9d590d8",
   "metadata": {
    "papermill": {
     "duration": 0.035639,
     "end_time": "2022-10-20T08:18:57.879948",
     "exception": false,
     "start_time": "2022-10-20T08:18:57.844309",
     "status": "completed"
    },
    "tags": []
   },
   "source": [
    "Let us also try making a Neural Network model using Keras."
   ]
  },
  {
   "cell_type": "code",
   "execution_count": null,
   "id": "5b6175fa",
   "metadata": {
    "execution": {
     "iopub.execute_input": "2022-10-20T08:18:57.953365Z",
     "iopub.status.busy": "2022-10-20T08:18:57.952284Z",
     "iopub.status.idle": "2022-10-20T08:19:05.188632Z",
     "shell.execute_reply": "2022-10-20T08:19:05.187216Z"
    },
    "papermill": {
     "duration": 7.276031,
     "end_time": "2022-10-20T08:19:05.191547",
     "exception": false,
     "start_time": "2022-10-20T08:18:57.915516",
     "status": "completed"
    },
    "tags": []
   },
   "outputs": [],
   "source": [
    "import tensorflow as tf\n",
    "from tensorflow import keras\n",
    "from tensorflow.keras import layers\n"
   ]
  },
  {
   "cell_type": "code",
   "execution_count": null,
   "id": "b1097acd",
   "metadata": {
    "execution": {
     "iopub.execute_input": "2022-10-20T08:19:05.265377Z",
     "iopub.status.busy": "2022-10-20T08:19:05.264413Z",
     "iopub.status.idle": "2022-10-20T08:19:05.772969Z",
     "shell.execute_reply": "2022-10-20T08:19:05.771640Z"
    },
    "papermill": {
     "duration": 0.547622,
     "end_time": "2022-10-20T08:19:05.775325",
     "exception": false,
     "start_time": "2022-10-20T08:19:05.227703",
     "status": "completed"
    },
    "tags": []
   },
   "outputs": [
    {
     "name": "stdout",
     "output_type": "stream",
     "text": [
      "Model: \"sequential_1\"\n",
      "_________________________________________________________________\n",
      " Layer (type)                Output Shape              Param #   \n",
      "=================================================================\n",
      " batch_normalization_3 (Bat  (None, 78)                546       \n",
      " chNormalization)                                                \n",
      "                                                                 \n",
      " dense_4 (Dense)             (None, 128)               10112     \n",
      "                                                                 \n",
      " dropout_3 (Dropout)         (None, 128)               0         \n",
      "                                                                 \n",
      " batch_normalization_4 (Bat  (None, 128)               896       \n",
      " chNormalization)                                                \n",
      "                                                                 \n",
      " dense_5 (Dense)             (None, 64)                8256      \n",
      "                                                                 \n",
      " dropout_4 (Dropout)         (None, 64)                0         \n",
      "                                                                 \n",
      " batch_normalization_5 (Bat  (None, 64)                448       \n",
      " chNormalization)                                                \n",
      "                                                                 \n",
      " dense_6 (Dense)             (None, 32)                2080      \n",
      "                                                                 \n",
      " dropout_5 (Dropout)         (None, 32)                0         \n",
      "                                                                 \n",
      " dense_7 (Dense)             (None, 1)                 33        \n",
      "                                                                 \n",
      "=================================================================\n",
      "Total params: 22371 (87.39 KB)\n",
      "Trainable params: 21021 (82.11 KB)\n",
      "Non-trainable params: 1350 (5.27 KB)\n",
      "_________________________________________________________________\n"
     ]
    }
   ],
   "source": [
    "neuralNetModel = keras.Sequential([\n",
    "    layers.InputLayer(input_shape=(78,)),\n",
    "       \n",
    "    layers.BatchNormalization(renorm=True),\n",
    "    layers.Dense(128, activation='relu'),\n",
    "    layers.Dropout(rate = 0.3),\n",
    "    layers.BatchNormalization(renorm=True),\n",
    "    layers.Dense(64, activation='relu'),\n",
    "    layers.Dropout(rate = 0.3),\n",
    "    layers.BatchNormalization(renorm=True),\n",
    "    layers.Dense(32, activation='relu'),\n",
    "    layers.Dropout(rate = 0.3),\n",
    "    layers.Dense(1, activation='sigmoid'),\n",
    "])\n",
    "\n",
    "neuralNetModel.summary()"
   ]
  },
  {
   "cell_type": "code",
   "execution_count": null,
   "id": "5cebc8e6",
   "metadata": {
    "execution": {
     "iopub.execute_input": "2022-10-20T08:19:05.849055Z",
     "iopub.status.busy": "2022-10-20T08:19:05.848609Z",
     "iopub.status.idle": "2022-10-20T08:30:34.313357Z",
     "shell.execute_reply": "2022-10-20T08:30:34.312320Z"
    },
    "papermill": {
     "duration": 688.50488,
     "end_time": "2022-10-20T08:30:34.315795",
     "exception": false,
     "start_time": "2022-10-20T08:19:05.810915",
     "status": "completed"
    },
    "tags": []
   },
   "outputs": [
    {
     "name": "stdout",
     "output_type": "stream",
     "text": [
      "Epoch 1/50\n",
      "WARNING:tensorflow:From C:\\Users\\Om\\AppData\\Roaming\\Python\\Python39\\site-packages\\keras\\src\\utils\\tf_utils.py:492: The name tf.ragged.RaggedTensorValue is deprecated. Please use tf.compat.v1.ragged.RaggedTensorValue instead.\n",
      "\n",
      "WARNING:tensorflow:From C:\\Users\\Om\\AppData\\Roaming\\Python\\Python39\\site-packages\\keras\\src\\engine\\base_layer_utils.py:384: The name tf.executing_eagerly_outside_functions is deprecated. Please use tf.compat.v1.executing_eagerly_outside_functions instead.\n",
      "\n",
      "2068/2084 [============================>.] - ETA: 0s - loss: 0.1727 - binary_accuracy: 0.9632WARNING:tensorflow:Early stopping conditioned on metric `val_loss` which is not available. Available metrics are: loss,binary_accuracy\n",
      "2084/2084 [==============================] - 8s 3ms/step - loss: 0.1714 - binary_accuracy: 0.9635\n",
      "Epoch 2/50\n",
      "2068/2084 [============================>.] - ETA: 0s - loss: 0.0042 - binary_accuracy: 0.9996WARNING:tensorflow:Early stopping conditioned on metric `val_loss` which is not available. Available metrics are: loss,binary_accuracy\n",
      "2084/2084 [==============================] - 6s 3ms/step - loss: 0.0042 - binary_accuracy: 0.9996\n",
      "Epoch 3/50\n",
      "2075/2084 [============================>.] - ETA: 0s - loss: 0.0026 - binary_accuracy: 0.9997WARNING:tensorflow:Early stopping conditioned on metric `val_loss` which is not available. Available metrics are: loss,binary_accuracy\n",
      "2084/2084 [==============================] - 6s 3ms/step - loss: 0.0026 - binary_accuracy: 0.9997\n",
      "Epoch 4/50\n",
      "2082/2084 [============================>.] - ETA: 0s - loss: 0.0016 - binary_accuracy: 0.9998WARNING:tensorflow:Early stopping conditioned on metric `val_loss` which is not available. Available metrics are: loss,binary_accuracy\n",
      "2084/2084 [==============================] - 6s 3ms/step - loss: 0.0016 - binary_accuracy: 0.9998\n",
      "Epoch 5/50\n",
      "2080/2084 [============================>.] - ETA: 0s - loss: 8.7054e-04 - binary_accuracy: 0.9999WARNING:tensorflow:Early stopping conditioned on metric `val_loss` which is not available. Available metrics are: loss,binary_accuracy\n",
      "2084/2084 [==============================] - 6s 3ms/step - loss: 8.6960e-04 - binary_accuracy: 0.9999\n",
      "Epoch 6/50\n",
      "2068/2084 [============================>.] - ETA: 0s - loss: 6.2637e-04 - binary_accuracy: 0.9999WARNING:tensorflow:Early stopping conditioned on metric `val_loss` which is not available. Available metrics are: loss,binary_accuracy\n",
      "2084/2084 [==============================] - 6s 3ms/step - loss: 6.2427e-04 - binary_accuracy: 0.9999\n",
      "Epoch 7/50\n",
      "2071/2084 [============================>.] - ETA: 0s - loss: 5.0538e-04 - binary_accuracy: 0.9999WARNING:tensorflow:Early stopping conditioned on metric `val_loss` which is not available. Available metrics are: loss,binary_accuracy\n",
      "2084/2084 [==============================] - 6s 3ms/step - loss: 5.0369e-04 - binary_accuracy: 0.9999\n",
      "Epoch 8/50\n",
      "2072/2084 [============================>.] - ETA: 0s - loss: 3.9987e-04 - binary_accuracy: 1.0000WARNING:tensorflow:Early stopping conditioned on metric `val_loss` which is not available. Available metrics are: loss,binary_accuracy\n",
      "2084/2084 [==============================] - 6s 3ms/step - loss: 3.9839e-04 - binary_accuracy: 1.0000\n",
      "Epoch 9/50\n",
      "2075/2084 [============================>.] - ETA: 0s - loss: 3.4086e-04 - binary_accuracy: 1.0000WARNING:tensorflow:Early stopping conditioned on metric `val_loss` which is not available. Available metrics are: loss,binary_accuracy\n",
      "2084/2084 [==============================] - 6s 3ms/step - loss: 3.3975e-04 - binary_accuracy: 1.0000\n",
      "Epoch 10/50\n",
      "2072/2084 [============================>.] - ETA: 0s - loss: 2.7688e-04 - binary_accuracy: 1.0000WARNING:tensorflow:Early stopping conditioned on metric `val_loss` which is not available. Available metrics are: loss,binary_accuracy\n",
      "2084/2084 [==============================] - 6s 3ms/step - loss: 2.7564e-04 - binary_accuracy: 1.0000\n",
      "Epoch 11/50\n",
      "2068/2084 [============================>.] - ETA: 0s - loss: 2.9762e-04 - binary_accuracy: 1.0000WARNING:tensorflow:Early stopping conditioned on metric `val_loss` which is not available. Available metrics are: loss,binary_accuracy\n",
      "2084/2084 [==============================] - 6s 3ms/step - loss: 2.9591e-04 - binary_accuracy: 1.0000\n",
      "Epoch 12/50\n",
      "2073/2084 [============================>.] - ETA: 0s - loss: 3.3692e-04 - binary_accuracy: 1.0000WARNING:tensorflow:Early stopping conditioned on metric `val_loss` which is not available. Available metrics are: loss,binary_accuracy\n",
      "2084/2084 [==============================] - 6s 3ms/step - loss: 3.3566e-04 - binary_accuracy: 1.0000\n",
      "Epoch 13/50\n",
      "2078/2084 [============================>.] - ETA: 0s - loss: 2.1968e-04 - binary_accuracy: 1.0000WARNING:tensorflow:Early stopping conditioned on metric `val_loss` which is not available. Available metrics are: loss,binary_accuracy\n",
      "2084/2084 [==============================] - 6s 3ms/step - loss: 2.1925e-04 - binary_accuracy: 1.0000\n",
      "Epoch 14/50\n",
      "2071/2084 [============================>.] - ETA: 0s - loss: 2.4313e-04 - binary_accuracy: 1.0000WARNING:tensorflow:Early stopping conditioned on metric `val_loss` which is not available. Available metrics are: loss,binary_accuracy\n",
      "2084/2084 [==============================] - 6s 3ms/step - loss: 2.4731e-04 - binary_accuracy: 1.0000\n",
      "Epoch 15/50\n",
      "2073/2084 [============================>.] - ETA: 0s - loss: 2.9517e-04 - binary_accuracy: 1.0000WARNING:tensorflow:Early stopping conditioned on metric `val_loss` which is not available. Available metrics are: loss,binary_accuracy\n",
      "2084/2084 [==============================] - 6s 3ms/step - loss: 2.9414e-04 - binary_accuracy: 1.0000\n",
      "Epoch 16/50\n",
      "2069/2084 [============================>.] - ETA: 0s - loss: 2.4308e-04 - binary_accuracy: 1.0000WARNING:tensorflow:Early stopping conditioned on metric `val_loss` which is not available. Available metrics are: loss,binary_accuracy\n",
      "2084/2084 [==============================] - 6s 3ms/step - loss: 2.4324e-04 - binary_accuracy: 1.0000\n",
      "Epoch 17/50\n",
      "2067/2084 [============================>.] - ETA: 0s - loss: 2.1718e-04 - binary_accuracy: 1.0000WARNING:tensorflow:Early stopping conditioned on metric `val_loss` which is not available. Available metrics are: loss,binary_accuracy\n",
      "2084/2084 [==============================] - 6s 3ms/step - loss: 2.1578e-04 - binary_accuracy: 1.0000\n",
      "Epoch 18/50\n",
      "2072/2084 [============================>.] - ETA: 0s - loss: 2.0696e-04 - binary_accuracy: 1.0000WARNING:tensorflow:Early stopping conditioned on metric `val_loss` which is not available. Available metrics are: loss,binary_accuracy\n",
      "2084/2084 [==============================] - 6s 3ms/step - loss: 2.0615e-04 - binary_accuracy: 1.0000\n",
      "Epoch 19/50\n",
      "2081/2084 [============================>.] - ETA: 0s - loss: 2.2994e-04 - binary_accuracy: 1.0000WARNING:tensorflow:Early stopping conditioned on metric `val_loss` which is not available. Available metrics are: loss,binary_accuracy\n",
      "2084/2084 [==============================] - 6s 3ms/step - loss: 2.2972e-04 - binary_accuracy: 1.0000\n",
      "Epoch 20/50\n",
      "2073/2084 [============================>.] - ETA: 0s - loss: 2.5085e-04 - binary_accuracy: 1.0000WARNING:tensorflow:Early stopping conditioned on metric `val_loss` which is not available. Available metrics are: loss,binary_accuracy\n",
      "2084/2084 [==============================] - 6s 3ms/step - loss: 2.4987e-04 - binary_accuracy: 1.0000\n",
      "Epoch 21/50\n",
      "2072/2084 [============================>.] - ETA: 0s - loss: 1.7375e-04 - binary_accuracy: 1.0000WARNING:tensorflow:Early stopping conditioned on metric `val_loss` which is not available. Available metrics are: loss,binary_accuracy\n",
      "2084/2084 [==============================] - 6s 3ms/step - loss: 1.7379e-04 - binary_accuracy: 1.0000\n",
      "Epoch 22/50\n",
      "2068/2084 [============================>.] - ETA: 0s - loss: 2.1885e-04 - binary_accuracy: 1.0000WARNING:tensorflow:Early stopping conditioned on metric `val_loss` which is not available. Available metrics are: loss,binary_accuracy\n",
      "2084/2084 [==============================] - 6s 3ms/step - loss: 2.2253e-04 - binary_accuracy: 1.0000\n",
      "Epoch 23/50\n",
      "2083/2084 [============================>.] - ETA: 0s - loss: 2.5960e-04 - binary_accuracy: 1.0000WARNING:tensorflow:Early stopping conditioned on metric `val_loss` which is not available. Available metrics are: loss,binary_accuracy\n",
      "2084/2084 [==============================] - 6s 3ms/step - loss: 2.5958e-04 - binary_accuracy: 1.0000\n",
      "Epoch 24/50\n",
      "2069/2084 [============================>.] - ETA: 0s - loss: 2.1037e-04 - binary_accuracy: 1.0000WARNING:tensorflow:Early stopping conditioned on metric `val_loss` which is not available. Available metrics are: loss,binary_accuracy\n",
      "2084/2084 [==============================] - 6s 3ms/step - loss: 2.0914e-04 - binary_accuracy: 1.0000\n",
      "Epoch 25/50\n",
      "2071/2084 [============================>.] - ETA: 0s - loss: 1.7058e-04 - binary_accuracy: 1.0000WARNING:tensorflow:Early stopping conditioned on metric `val_loss` which is not available. Available metrics are: loss,binary_accuracy\n",
      "2084/2084 [==============================] - 6s 3ms/step - loss: 1.6982e-04 - binary_accuracy: 1.0000\n",
      "Epoch 26/50\n",
      "2075/2084 [============================>.] - ETA: 0s - loss: 2.0158e-04 - binary_accuracy: 1.0000WARNING:tensorflow:Early stopping conditioned on metric `val_loss` which is not available. Available metrics are: loss,binary_accuracy\n",
      "2084/2084 [==============================] - 6s 3ms/step - loss: 2.0114e-04 - binary_accuracy: 1.0000\n",
      "Epoch 27/50\n",
      "2072/2084 [============================>.] - ETA: 0s - loss: 1.4421e-04 - binary_accuracy: 1.0000WARNING:tensorflow:Early stopping conditioned on metric `val_loss` which is not available. Available metrics are: loss,binary_accuracy\n",
      "2084/2084 [==============================] - 6s 3ms/step - loss: 1.4357e-04 - binary_accuracy: 1.0000\n",
      "Epoch 28/50\n",
      "2082/2084 [============================>.] - ETA: 0s - loss: 1.3793e-04 - binary_accuracy: 1.0000WARNING:tensorflow:Early stopping conditioned on metric `val_loss` which is not available. Available metrics are: loss,binary_accuracy\n",
      "2084/2084 [==============================] - 6s 3ms/step - loss: 1.3786e-04 - binary_accuracy: 1.0000\n",
      "Epoch 29/50\n",
      "2083/2084 [============================>.] - ETA: 0s - loss: 2.5550e-04 - binary_accuracy: 1.0000WARNING:tensorflow:Early stopping conditioned on metric `val_loss` which is not available. Available metrics are: loss,binary_accuracy\n",
      "2084/2084 [==============================] - 6s 3ms/step - loss: 2.5547e-04 - binary_accuracy: 1.0000\n",
      "Epoch 30/50\n",
      "2067/2084 [============================>.] - ETA: 0s - loss: 1.9231e-04 - binary_accuracy: 1.0000WARNING:tensorflow:Early stopping conditioned on metric `val_loss` which is not available. Available metrics are: loss,binary_accuracy\n",
      "2084/2084 [==============================] - 6s 3ms/step - loss: 1.9112e-04 - binary_accuracy: 1.0000\n",
      "Epoch 31/50\n",
      "2082/2084 [============================>.] - ETA: 0s - loss: 1.9410e-04 - binary_accuracy: 1.0000WARNING:tensorflow:Early stopping conditioned on metric `val_loss` which is not available. Available metrics are: loss,binary_accuracy\n",
      "2084/2084 [==============================] - 6s 3ms/step - loss: 1.9401e-04 - binary_accuracy: 1.0000\n",
      "Epoch 32/50\n",
      "2073/2084 [============================>.] - ETA: 0s - loss: 1.8319e-04 - binary_accuracy: 1.0000WARNING:tensorflow:Early stopping conditioned on metric `val_loss` which is not available. Available metrics are: loss,binary_accuracy\n",
      "2084/2084 [==============================] - 6s 3ms/step - loss: 1.8242e-04 - binary_accuracy: 1.0000\n",
      "Epoch 33/50\n",
      "2067/2084 [============================>.] - ETA: 0s - loss: 1.7960e-04 - binary_accuracy: 1.0000WARNING:tensorflow:Early stopping conditioned on metric `val_loss` which is not available. Available metrics are: loss,binary_accuracy\n",
      "2084/2084 [==============================] - 6s 3ms/step - loss: 1.7845e-04 - binary_accuracy: 1.0000\n",
      "Epoch 34/50\n",
      "2067/2084 [============================>.] - ETA: 0s - loss: 1.3528e-04 - binary_accuracy: 1.0000WARNING:tensorflow:Early stopping conditioned on metric `val_loss` which is not available. Available metrics are: loss,binary_accuracy\n",
      "2084/2084 [==============================] - 6s 3ms/step - loss: 1.3479e-04 - binary_accuracy: 1.0000\n",
      "Epoch 35/50\n",
      "2083/2084 [============================>.] - ETA: 0s - loss: 1.5294e-04 - binary_accuracy: 1.0000WARNING:tensorflow:Early stopping conditioned on metric `val_loss` which is not available. Available metrics are: loss,binary_accuracy\n",
      "2084/2084 [==============================] - 6s 3ms/step - loss: 1.5292e-04 - binary_accuracy: 1.0000\n",
      "Epoch 36/50\n",
      "2067/2084 [============================>.] - ETA: 0s - loss: 1.8631e-04 - binary_accuracy: 1.0000WARNING:tensorflow:Early stopping conditioned on metric `val_loss` which is not available. Available metrics are: loss,binary_accuracy\n",
      "2084/2084 [==============================] - 6s 3ms/step - loss: 1.8501e-04 - binary_accuracy: 1.0000\n",
      "Epoch 37/50\n",
      "2076/2084 [============================>.] - ETA: 0s - loss: 1.8111e-04 - binary_accuracy: 1.0000WARNING:tensorflow:Early stopping conditioned on metric `val_loss` which is not available. Available metrics are: loss,binary_accuracy\n",
      "2084/2084 [==============================] - 6s 3ms/step - loss: 1.8055e-04 - binary_accuracy: 1.0000\n",
      "Epoch 38/50\n",
      "2067/2084 [============================>.] - ETA: 0s - loss: 1.8859e-04 - binary_accuracy: 1.0000WARNING:tensorflow:Early stopping conditioned on metric `val_loss` which is not available. Available metrics are: loss,binary_accuracy\n",
      "2084/2084 [==============================] - 6s 3ms/step - loss: 1.8726e-04 - binary_accuracy: 1.0000\n",
      "Epoch 39/50\n",
      "2068/2084 [============================>.] - ETA: 0s - loss: 1.4922e-04 - binary_accuracy: 1.0000WARNING:tensorflow:Early stopping conditioned on metric `val_loss` which is not available. Available metrics are: loss,binary_accuracy\n",
      "2084/2084 [==============================] - 6s 3ms/step - loss: 1.4840e-04 - binary_accuracy: 1.0000\n",
      "Epoch 40/50\n",
      "2083/2084 [============================>.] - ETA: 0s - loss: 1.3738e-04 - binary_accuracy: 1.0000WARNING:tensorflow:Early stopping conditioned on metric `val_loss` which is not available. Available metrics are: loss,binary_accuracy\n",
      "2084/2084 [==============================] - 6s 3ms/step - loss: 1.3736e-04 - binary_accuracy: 1.0000\n",
      "Epoch 41/50\n",
      "2068/2084 [============================>.] - ETA: 0s - loss: 2.0297e-04 - binary_accuracy: 1.0000WARNING:tensorflow:Early stopping conditioned on metric `val_loss` which is not available. Available metrics are: loss,binary_accuracy\n",
      "2084/2084 [==============================] - 6s 3ms/step - loss: 2.0185e-04 - binary_accuracy: 1.0000\n",
      "Epoch 42/50\n",
      "2070/2084 [============================>.] - ETA: 0s - loss: 1.6144e-04 - binary_accuracy: 1.0000WARNING:tensorflow:Early stopping conditioned on metric `val_loss` which is not available. Available metrics are: loss,binary_accuracy\n",
      "2084/2084 [==============================] - 6s 3ms/step - loss: 1.6054e-04 - binary_accuracy: 1.0000\n",
      "Epoch 43/50\n",
      "2073/2084 [============================>.] - ETA: 0s - loss: 1.5269e-04 - binary_accuracy: 1.0000WARNING:tensorflow:Early stopping conditioned on metric `val_loss` which is not available. Available metrics are: loss,binary_accuracy\n",
      "2084/2084 [==============================] - 6s 3ms/step - loss: 1.5204e-04 - binary_accuracy: 1.0000\n",
      "Epoch 44/50\n",
      "2076/2084 [============================>.] - ETA: 0s - loss: 1.3490e-04 - binary_accuracy: 1.0000WARNING:tensorflow:Early stopping conditioned on metric `val_loss` which is not available. Available metrics are: loss,binary_accuracy\n",
      "2084/2084 [==============================] - 6s 3ms/step - loss: 1.3451e-04 - binary_accuracy: 1.0000\n",
      "Epoch 45/50\n",
      "2083/2084 [============================>.] - ETA: 0s - loss: 1.2978e-04 - binary_accuracy: 1.0000WARNING:tensorflow:Early stopping conditioned on metric `val_loss` which is not available. Available metrics are: loss,binary_accuracy\n",
      "2084/2084 [==============================] - 6s 3ms/step - loss: 1.2977e-04 - binary_accuracy: 1.0000\n",
      "Epoch 46/50\n",
      "2067/2084 [============================>.] - ETA: 0s - loss: 1.4386e-04 - binary_accuracy: 1.0000WARNING:tensorflow:Early stopping conditioned on metric `val_loss` which is not available. Available metrics are: loss,binary_accuracy\n",
      "2084/2084 [==============================] - 6s 3ms/step - loss: 1.4309e-04 - binary_accuracy: 1.0000\n",
      "Epoch 47/50\n",
      "2072/2084 [============================>.] - ETA: 0s - loss: 1.1912e-04 - binary_accuracy: 1.0000WARNING:tensorflow:Early stopping conditioned on metric `val_loss` which is not available. Available metrics are: loss,binary_accuracy\n",
      "2084/2084 [==============================] - 5s 3ms/step - loss: 1.1854e-04 - binary_accuracy: 1.0000\n",
      "Epoch 48/50\n",
      "2075/2084 [============================>.] - ETA: 0s - loss: 1.1485e-04 - binary_accuracy: 1.0000WARNING:tensorflow:Early stopping conditioned on metric `val_loss` which is not available. Available metrics are: loss,binary_accuracy\n",
      "2084/2084 [==============================] - 6s 3ms/step - loss: 1.1446e-04 - binary_accuracy: 1.0000\n",
      "Epoch 49/50\n",
      "2074/2084 [============================>.] - ETA: 0s - loss: 1.5328e-04 - binary_accuracy: 1.0000WARNING:tensorflow:Early stopping conditioned on metric `val_loss` which is not available. Available metrics are: loss,binary_accuracy\n",
      "2084/2084 [==============================] - 6s 3ms/step - loss: 1.5268e-04 - binary_accuracy: 1.0000\n",
      "Epoch 50/50\n",
      "2071/2084 [============================>.] - ETA: 0s - loss: 1.6086e-04 - binary_accuracy: 1.0000WARNING:tensorflow:Early stopping conditioned on metric `val_loss` which is not available. Available metrics are: loss,binary_accuracy\n",
      "2084/2084 [==============================] - 6s 3ms/step - loss: 1.6003e-04 - binary_accuracy: 1.0000\n"
     ]
    },
    {
     "data": {
      "image/png": "[encoded data removed]",
      "text/plain": [
       "<Figure size 432x288 with 1 Axes>"
      ]
     },
     "metadata": {
      "needs_background": "light"
     },
     "output_type": "display_data"
    },
    {
     "data": {
      "image/png": "[encoded data removed]",
      "text/plain": [
       "<Figure size 432x288 with 1 Axes>"
      ]
     },
     "metadata": {
      "needs_background": "light"
     },
     "output_type": "display_data"
    }
   ],
   "source": [
    "optimizer = tf.keras.optimizers.Adam(epsilon=0.01)\n",
    "\n",
    "from tensorflow.keras import callbacks\n",
    "\n",
    "early_stopping = callbacks.EarlyStopping(\n",
    "    min_delta = 0.001,\n",
    "    patience = 5,\n",
    "    restore_best_weights = True\n",
    ")\n",
    "\n",
    "neuralNetModel.compile(\n",
    "    optimizer=optimizer,\n",
    "    loss='binary_crossentropy',\n",
    "    metrics=['binary_accuracy'],\n",
    ")\n",
    "\n",
    "history = neuralNetModel.fit(\n",
    "    X_train, y_train,\n",
    "    epochs=50,\n",
    "    batch_size = 256,\n",
    "    callbacks=[early_stopping]\n",
    ")\n",
    "\n",
    "history_frame = pd.DataFrame(history.history)\n",
    "history_frame.loc[:, ['loss']].plot()\n",
    "history_frame.loc[:, ['binary_accuracy']].plot();"
   ]
  },
  {
   "cell_type": "code",
   "execution_count": null,
   "id": "bd8eb216",
   "metadata": {
    "execution": {
     "iopub.execute_input": "2022-10-20T08:30:36.131744Z",
     "iopub.status.busy": "2022-10-20T08:30:36.131285Z",
     "iopub.status.idle": "2022-10-20T08:30:46.213302Z",
     "shell.execute_reply": "2022-10-20T08:30:46.212087Z"
    },
    "papermill": {
     "duration": 10.946922,
     "end_time": "2022-10-20T08:30:46.216218",
     "exception": false,
     "start_time": "2022-10-20T08:30:35.269296",
     "status": "completed"
    },
    "tags": []
   },
   "outputs": [
    {
     "name": "stdout",
     "output_type": "stream",
     "text": [
      "7143/7143 [==============================] - 6s 829us/step\n"
     ]
    }
   ],
   "source": [
    "predictions=(neuralNetModel.predict(X_test) > 0.5).astype(\"int32\")\n"
   ]
  },
  {
   "cell_type": "code",
   "execution_count": null,
   "id": "549b57ee",
   "metadata": {
    "execution": {
     "iopub.execute_input": "2022-10-20T08:30:48.011548Z",
     "iopub.status.busy": "2022-10-20T08:30:48.011093Z",
     "iopub.status.idle": "2022-10-20T08:30:48.046429Z",
     "shell.execute_reply": "2022-10-20T08:30:48.045287Z"
    },
    "papermill": {
     "duration": 0.898291,
     "end_time": "2022-10-20T08:30:48.048858",
     "exception": false,
     "start_time": "2022-10-20T08:30:47.150567",
     "status": "completed"
    },
    "tags": []
   },
   "outputs": [
    {
     "name": "stdout",
     "output_type": "stream",
     "text": [
      "0.9999956248960913\n"
     ]
    }
   ],
   "source": [
    "print(accuracy_score(y_test, predictions))"
   ]
  },
  {
   "cell_type": "code",
   "execution_count": null,
   "id": "457e64ba",
   "metadata": {},
   "outputs": [],
   "source": [
    "joblib.dump(neuralNetModel, 'NeuralNet.joblib')"
   ]
  },
  {
   "cell_type": "code",
   "execution_count": null,
   "id": "fa566d23",
   "metadata": {
    "execution": {
     "iopub.execute_input": "2022-10-20T08:30:49.852828Z",
     "iopub.status.busy": "2022-10-20T08:30:49.851887Z",
     "iopub.status.idle": "2022-10-20T08:30:50.171092Z",
     "shell.execute_reply": "2022-10-20T08:30:50.169907Z"
    },
    "papermill": {
     "duration": 1.187984,
     "end_time": "2022-10-20T08:30:50.174226",
     "exception": false,
     "start_time": "2022-10-20T08:30:48.986242",
     "status": "completed"
    },
    "tags": []
   },
   "outputs": [
    {
     "data": {
      "text/plain": [
       "<AxesSubplot:>"
      ]
     },
     "execution_count": 50,
     "metadata": {},
     "output_type": "execute_result"
    },
    {
     "data": {
      "image/png": "[encoded data removed]",
      "text/plain": [
       "<Figure size 432x288 with 2 Axes>"
      ]
     },
     "metadata": {
      "needs_background": "light"
     },
     "output_type": "display_data"
    }
   ],
   "source": [
    "from sklearn.metrics import confusion_matrix\n",
    "cf_matrix = confusion_matrix(y_test, predictions)\n",
    "import seaborn as sns\n",
    "sns.heatmap(cf_matrix, annot=True)"
   ]
  },
  {
   "cell_type": "markdown",
   "id": "fc42ef7a",
   "metadata": {
    "papermill": {
     "duration": 0.855212,
     "end_time": "2022-10-20T08:30:52.022345",
     "exception": false,
     "start_time": "2022-10-20T08:30:51.167133",
     "status": "completed"
    },
    "tags": []
   },
   "source": [
    "Thus, this model gives us the same result as the Random Forest model."
   ]
  },
  {
   "cell_type": "markdown",
   "id": "e783b357",
   "metadata": {
    "papermill": {
     "duration": 0.854874,
     "end_time": "2022-10-20T08:30:53.831317",
     "exception": false,
     "start_time": "2022-10-20T08:30:52.976443",
     "status": "completed"
    },
    "tags": []
   },
   "source": [
    "While the models are accurate, it is worth noting that they work with labelled data. \n",
    "\n",
    "We should also try to come up with something for unlabelled data as the majority of recent data will be unlabelled. \n",
    "An Isolation Forest model can be used for this purpose, with our original data ratio where we had more Benign requests than Malicious ones."
   ]
  },
  {
   "cell_type": "code",
   "execution_count": null,
   "id": "d3965adc",
   "metadata": {
    "execution": {
     "iopub.execute_input": "2022-10-20T08:30:55.634430Z",
     "iopub.status.busy": "2022-10-20T08:30:55.633305Z",
     "iopub.status.idle": "2022-10-20T08:30:56.034846Z",
     "shell.execute_reply": "2022-10-20T08:30:56.033635Z"
    },
    "papermill": {
     "duration": 1.261028,
     "end_time": "2022-10-20T08:30:56.037798",
     "exception": false,
     "start_time": "2022-10-20T08:30:54.776770",
     "status": "completed"
    },
    "tags": []
   },
   "outputs": [],
   "source": [
    "# value set to 1 and -1 as isolation forest assigns 1 to inliers and -1 to outliers\n",
    "df.replace(to_replace=\"Benign\", value=0, inplace=True)\n",
    "df.replace(to_replace=\"Malicious\", value=1, inplace=True)"
   ]
  },
  {
   "cell_type": "markdown",
   "id": "a1904521",
   "metadata": {
    "papermill": {
     "duration": 0.855622,
     "end_time": "2022-10-20T08:30:57.820059",
     "exception": false,
     "start_time": "2022-10-20T08:30:56.964437",
     "status": "completed"
    },
    "tags": []
   },
   "source": [
    "We split the data into training and testing sets."
   ]
  },
  {
   "cell_type": "code",
   "execution_count": null,
   "id": "e3e30b6d",
   "metadata": {
    "execution": {
     "iopub.execute_input": "2022-10-20T08:30:59.629204Z",
     "iopub.status.busy": "2022-10-20T08:30:59.628763Z",
     "iopub.status.idle": "2022-10-20T08:31:02.293087Z",
     "shell.execute_reply": "2022-10-20T08:31:02.291809Z"
    },
    "papermill": {
     "duration": 3.522713,
     "end_time": "2022-10-20T08:31:02.295863",
     "exception": false,
     "start_time": "2022-10-20T08:30:58.773150",
     "status": "completed"
    },
    "tags": []
   },
   "outputs": [],
   "source": [
    "train, test = train_test_split(df, test_size=0.3, random_state=RANDOM_STATE_SEED)"
   ]
  },
  {
   "cell_type": "code",
   "execution_count": null,
   "id": "fb4dbd08",
   "metadata": {
    "execution": {
     "iopub.execute_input": "2022-10-20T08:31:04.093243Z",
     "iopub.status.busy": "2022-10-20T08:31:04.092608Z",
     "iopub.status.idle": "2022-10-20T08:31:04.101566Z",
     "shell.execute_reply": "2022-10-20T08:31:04.100297Z"
    },
    "papermill": {
     "duration": 0.875123,
     "end_time": "2022-10-20T08:31:04.105110",
     "exception": false,
     "start_time": "2022-10-20T08:31:03.229987",
     "status": "completed"
    },
    "tags": []
   },
   "outputs": [
    {
     "data": {
      "text/plain": [
       "Index(['Dst Port', 'Protocol', 'Timestamp', 'Flow Duration', 'Tot Fwd Pkts',\n",
       "       'Tot Bwd Pkts', 'TotLen Fwd Pkts', 'TotLen Bwd Pkts', 'Fwd Pkt Len Max',\n",
       "       'Fwd Pkt Len Min', 'Fwd Pkt Len Mean', 'Fwd Pkt Len Std',\n",
       "       'Bwd Pkt Len Max', 'Bwd Pkt Len Min', 'Bwd Pkt Len Mean',\n",
       "       'Bwd Pkt Len Std', 'Flow Byts/s', 'Flow Pkts/s', 'Flow IAT Mean',\n",
       "       'Flow IAT Std', 'Flow IAT Max', 'Flow IAT Min', 'Fwd IAT Tot',\n",
       "       'Fwd IAT Mean', 'Fwd IAT Std', 'Fwd IAT Max', 'Fwd IAT Min',\n",
       "       'Bwd IAT Tot', 'Bwd IAT Mean', 'Bwd IAT Std', 'Bwd IAT Max',\n",
       "       'Bwd IAT Min', 'Fwd PSH Flags', 'Bwd PSH Flags', 'Fwd URG Flags',\n",
       "       'Bwd URG Flags', 'Fwd Header Len', 'Bwd Header Len', 'Fwd Pkts/s',\n",
       "       'Bwd Pkts/s', 'Pkt Len Min', 'Pkt Len Max', 'Pkt Len Mean',\n",
       "       'Pkt Len Std', 'Pkt Len Var', 'FIN Flag Cnt', 'SYN Flag Cnt',\n",
       "       'RST Flag Cnt', 'PSH Flag Cnt', 'ACK Flag Cnt', 'URG Flag Cnt',\n",
       "       'CWE Flag Count', 'ECE Flag Cnt', 'Down/Up Ratio', 'Pkt Size Avg',\n",
       "       'Fwd Seg Size Avg', 'Bwd Seg Size Avg', 'Fwd Byts/b Avg',\n",
       "       'Fwd Pkts/b Avg', 'Fwd Blk Rate Avg', 'Bwd Byts/b Avg',\n",
       "       'Bwd Pkts/b Avg', 'Bwd Blk Rate Avg', 'Subflow Fwd Pkts',\n",
       "       'Subflow Fwd Byts', 'Subflow Bwd Pkts', 'Subflow Bwd Byts',\n",
       "       'Init Fwd Win Byts', 'Init Bwd Win Byts', 'Fwd Act Data Pkts',\n",
       "       'Fwd Seg Size Min', 'Active Mean', 'Active Std', 'Active Max',\n",
       "       'Active Min', 'Idle Mean', 'Idle Std', 'Idle Max', 'Idle Min', 'Label'],\n",
       "      dtype='object')"
      ]
     },
     "execution_count": 53,
     "metadata": {},
     "output_type": "execute_result"
    }
   ],
   "source": [
    "# display columns\n",
    "train.columns"
   ]
  },
  {
   "cell_type": "code",
   "execution_count": null,
   "id": "dc1d7e5f",
   "metadata": {
    "execution": {
     "iopub.execute_input": "2022-10-20T08:31:05.911220Z",
     "iopub.status.busy": "2022-10-20T08:31:05.910783Z",
     "iopub.status.idle": "2022-10-20T08:31:06.175404Z",
     "shell.execute_reply": "2022-10-20T08:31:06.173765Z"
    },
    "papermill": {
     "duration": 1.13561,
     "end_time": "2022-10-20T08:31:06.178136",
     "exception": false,
     "start_time": "2022-10-20T08:31:05.042526",
     "status": "completed"
    },
    "tags": []
   },
   "outputs": [
    {
     "name": "stdout",
     "output_type": "stream",
     "text": [
      "<class 'pandas.core.frame.DataFrame'>\n",
      "Int64Index: 731325 entries, 515047 to 473471\n",
      "Data columns (total 80 columns):\n",
      " #   Column             Non-Null Count   Dtype  \n",
      "---  ------             --------------   -----  \n",
      " 0   Dst Port           731325 non-null  int64  \n",
      " 1   Protocol           731325 non-null  int64  \n",
      " 2   Timestamp          731325 non-null  object \n",
      " 3   Flow Duration      731325 non-null  int64  \n",
      " 4   Tot Fwd Pkts       731325 non-null  int64  \n",
      " 5   Tot Bwd Pkts       731325 non-null  int64  \n",
      " 6   TotLen Fwd Pkts    731325 non-null  int64  \n",
      " 7   TotLen Bwd Pkts    731325 non-null  int64  \n",
      " 8   Fwd Pkt Len Max    731325 non-null  int64  \n",
      " 9   Fwd Pkt Len Min    731325 non-null  int64  \n",
      " 10  Fwd Pkt Len Mean   731325 non-null  float64\n",
      " 11  Fwd Pkt Len Std    731325 non-null  float64\n",
      " 12  Bwd Pkt Len Max    731325 non-null  int64  \n",
      " 13  Bwd Pkt Len Min    731325 non-null  int64  \n",
      " 14  Bwd Pkt Len Mean   731325 non-null  float64\n",
      " 15  Bwd Pkt Len Std    731325 non-null  float64\n",
      " 16  Flow Byts/s        731325 non-null  float64\n",
      " 17  Flow Pkts/s        731325 non-null  float64\n",
      " 18  Flow IAT Mean      731325 non-null  float64\n",
      " 19  Flow IAT Std       731325 non-null  float64\n",
      " 20  Flow IAT Max       731325 non-null  int64  \n",
      " 21  Flow IAT Min       731325 non-null  int64  \n",
      " 22  Fwd IAT Tot        731325 non-null  int64  \n",
      " 23  Fwd IAT Mean       731325 non-null  float64\n",
      " 24  Fwd IAT Std        731325 non-null  float64\n",
      " 25  Fwd IAT Max        731325 non-null  int64  \n",
      " 26  Fwd IAT Min        731325 non-null  int64  \n",
      " 27  Bwd IAT Tot        731325 non-null  int64  \n",
      " 28  Bwd IAT Mean       731325 non-null  float64\n",
      " 29  Bwd IAT Std        731325 non-null  float64\n",
      " 30  Bwd IAT Max        731325 non-null  int64  \n",
      " 31  Bwd IAT Min        731325 non-null  int64  \n",
      " 32  Fwd PSH Flags      731325 non-null  int64  \n",
      " 33  Bwd PSH Flags      731325 non-null  int64  \n",
      " 34  Fwd URG Flags      731325 non-null  int64  \n",
      " 35  Bwd URG Flags      731325 non-null  int64  \n",
      " 36  Fwd Header Len     731325 non-null  int64  \n",
      " 37  Bwd Header Len     731325 non-null  int64  \n",
      " 38  Fwd Pkts/s         731325 non-null  float64\n",
      " 39  Bwd Pkts/s         731325 non-null  float64\n",
      " 40  Pkt Len Min        731325 non-null  int64  \n",
      " 41  Pkt Len Max        731325 non-null  int64  \n",
      " 42  Pkt Len Mean       731325 non-null  float64\n",
      " 43  Pkt Len Std        731325 non-null  float64\n",
      " 44  Pkt Len Var        731325 non-null  float64\n",
      " 45  FIN Flag Cnt       731325 non-null  int64  \n",
      " 46  SYN Flag Cnt       731325 non-null  int64  \n",
      " 47  RST Flag Cnt       731325 non-null  int64  \n",
      " 48  PSH Flag Cnt       731325 non-null  int64  \n",
      " 49  ACK Flag Cnt       731325 non-null  int64  \n",
      " 50  URG Flag Cnt       731325 non-null  int64  \n",
      " 51  CWE Flag Count     731325 non-null  int64  \n",
      " 52  ECE Flag Cnt       731325 non-null  int64  \n",
      " 53  Down/Up Ratio      731325 non-null  int64  \n",
      " 54  Pkt Size Avg       731325 non-null  float64\n",
      " 55  Fwd Seg Size Avg   731325 non-null  float64\n",
      " 56  Bwd Seg Size Avg   731325 non-null  float64\n",
      " 57  Fwd Byts/b Avg     731325 non-null  int64  \n",
      " 58  Fwd Pkts/b Avg     731325 non-null  int64  \n",
      " 59  Fwd Blk Rate Avg   731325 non-null  int64  \n",
      " 60  Bwd Byts/b Avg     731325 non-null  int64  \n",
      " 61  Bwd Pkts/b Avg     731325 non-null  int64  \n",
      " 62  Bwd Blk Rate Avg   731325 non-null  int64  \n",
      " 63  Subflow Fwd Pkts   731325 non-null  int64  \n",
      " 64  Subflow Fwd Byts   731325 non-null  int64  \n",
      " 65  Subflow Bwd Pkts   731325 non-null  int64  \n",
      " 66  Subflow Bwd Byts   731325 non-null  int64  \n",
      " 67  Init Fwd Win Byts  731325 non-null  int64  \n",
      " 68  Init Bwd Win Byts  731325 non-null  int64  \n",
      " 69  Fwd Act Data Pkts  731325 non-null  int64  \n",
      " 70  Fwd Seg Size Min   731325 non-null  int64  \n",
      " 71  Active Mean        731325 non-null  float64\n",
      " 72  Active Std         731325 non-null  float64\n",
      " 73  Active Max         731325 non-null  int64  \n",
      " 74  Active Min         731325 non-null  int64  \n",
      " 75  Idle Mean          731325 non-null  float64\n",
      " 76  Idle Std           731325 non-null  float64\n",
      " 77  Idle Max           731325 non-null  int64  \n",
      " 78  Idle Min           731325 non-null  int64  \n",
      " 79  Label              731325 non-null  int64  \n",
      "dtypes: float64(24), int64(55), object(1)\n",
      "memory usage: 451.9+ MB\n"
     ]
    }
   ],
   "source": [
    "# feature info\n",
    "train.info()"
   ]
  },
  {
   "cell_type": "markdown",
   "id": "03c9b277",
   "metadata": {
    "papermill": {
     "duration": 0.86384,
     "end_time": "2022-10-20T08:31:07.973250",
     "exception": false,
     "start_time": "2022-10-20T08:31:07.109410",
     "status": "completed"
    },
    "tags": []
   },
   "source": [
    "All of our data except the 'Timestamp' column is numerical. These numerical columns contain different ranges of values, which can confuse our model.\n",
    "Thus, we must normalize our data."
   ]
  },
  {
   "cell_type": "code",
   "execution_count": null,
   "id": "d16e7db9",
   "metadata": {
    "execution": {
     "iopub.execute_input": "2022-10-20T08:31:09.804239Z",
     "iopub.status.busy": "2022-10-20T08:31:09.802830Z",
     "iopub.status.idle": "2022-10-20T08:31:10.570359Z",
     "shell.execute_reply": "2022-10-20T08:31:10.569048Z"
    },
    "papermill": {
     "duration": 1.657011,
     "end_time": "2022-10-20T08:31:10.573079",
     "exception": false,
     "start_time": "2022-10-20T08:31:08.916068",
     "status": "completed"
    },
    "tags": []
   },
   "outputs": [],
   "source": [
    "min_max_scaler = MinMaxScaler().fit(train[['Flow Duration', 'Tot Fwd Pkts',\n",
    "       'Tot Bwd Pkts', 'TotLen Fwd Pkts', 'TotLen Bwd Pkts', 'Fwd Pkt Len Max',\n",
    "       'Fwd Pkt Len Min', 'Fwd Pkt Len Mean', 'Fwd Pkt Len Std',\n",
    "       'Bwd Pkt Len Max', 'Bwd Pkt Len Min', 'Bwd Pkt Len Mean',\n",
    "       'Bwd Pkt Len Std', 'Flow Byts/s', 'Flow Pkts/s', 'Flow IAT Mean',\n",
    "       'Flow IAT Std', 'Flow IAT Max', 'Flow IAT Min', 'Fwd IAT Tot',\n",
    "       'Fwd IAT Mean', 'Fwd IAT Std', 'Fwd IAT Max', 'Fwd IAT Min',\n",
    "       'Bwd IAT Tot', 'Bwd IAT Mean', 'Bwd IAT Std', 'Bwd IAT Max',\n",
    "       'Bwd IAT Min', 'Fwd PSH Flags', 'Bwd PSH Flags', 'Fwd URG Flags',\n",
    "       'Bwd URG Flags', 'Fwd Header Len', 'Bwd Header Len', 'Fwd Pkts/s',\n",
    "       'Bwd Pkts/s', 'Pkt Len Min', 'Pkt Len Max', 'Pkt Len Mean',\n",
    "       'Pkt Len Std', 'Pkt Len Var', 'FIN Flag Cnt', 'SYN Flag Cnt',\n",
    "       'RST Flag Cnt', 'PSH Flag Cnt', 'ACK Flag Cnt', 'URG Flag Cnt',\n",
    "       'CWE Flag Count', 'ECE Flag Cnt', 'Down/Up Ratio', 'Pkt Size Avg',\n",
    "       'Fwd Seg Size Avg', 'Bwd Seg Size Avg', 'Fwd Byts/b Avg',\n",
    "       'Fwd Pkts/b Avg', 'Fwd Blk Rate Avg', 'Bwd Byts/b Avg',\n",
    "       'Bwd Pkts/b Avg', 'Bwd Blk Rate Avg', 'Subflow Fwd Pkts',\n",
    "       'Subflow Fwd Byts', 'Subflow Bwd Pkts', 'Subflow Bwd Byts',\n",
    "       'Init Fwd Win Byts', 'Init Bwd Win Byts', 'Fwd Act Data Pkts',\n",
    "       'Fwd Seg Size Min', 'Active Mean', 'Active Std', 'Active Max',\n",
    "       'Active Min', 'Idle Mean', 'Idle Std', 'Idle Max', 'Idle Min']])"
   ]
  },
  {
   "cell_type": "code",
   "execution_count": null,
   "id": "a50c6896",
   "metadata": {
    "execution": {
     "iopub.execute_input": "2022-10-20T08:31:12.409985Z",
     "iopub.status.busy": "2022-10-20T08:31:12.409500Z",
     "iopub.status.idle": "2022-10-20T08:31:12.417779Z",
     "shell.execute_reply": "2022-10-20T08:31:12.416541Z"
    },
    "papermill": {
     "duration": 0.906023,
     "end_time": "2022-10-20T08:31:12.420232",
     "exception": false,
     "start_time": "2022-10-20T08:31:11.514209",
     "status": "completed"
    },
    "tags": []
   },
   "outputs": [],
   "source": [
    "numerical_columns = ['Flow Duration', 'Tot Fwd Pkts',\n",
    "       'Tot Bwd Pkts', 'TotLen Fwd Pkts', 'TotLen Bwd Pkts', 'Fwd Pkt Len Max',\n",
    "       'Fwd Pkt Len Min', 'Fwd Pkt Len Mean', 'Fwd Pkt Len Std',\n",
    "       'Bwd Pkt Len Max', 'Bwd Pkt Len Min', 'Bwd Pkt Len Mean',\n",
    "       'Bwd Pkt Len Std', 'Flow Byts/s', 'Flow Pkts/s', 'Flow IAT Mean',\n",
    "       'Flow IAT Std', 'Flow IAT Max', 'Flow IAT Min', 'Fwd IAT Tot',\n",
    "       'Fwd IAT Mean', 'Fwd IAT Std', 'Fwd IAT Max', 'Fwd IAT Min',\n",
    "       'Bwd IAT Tot', 'Bwd IAT Mean', 'Bwd IAT Std', 'Bwd IAT Max',\n",
    "       'Bwd IAT Min', 'Fwd PSH Flags', 'Bwd PSH Flags', 'Fwd URG Flags',\n",
    "       'Bwd URG Flags', 'Fwd Header Len', 'Bwd Header Len', 'Fwd Pkts/s',\n",
    "       'Bwd Pkts/s', 'Pkt Len Min', 'Pkt Len Max', 'Pkt Len Mean',\n",
    "       'Pkt Len Std', 'Pkt Len Var', 'FIN Flag Cnt', 'SYN Flag Cnt',\n",
    "       'RST Flag Cnt', 'PSH Flag Cnt', 'ACK Flag Cnt', 'URG Flag Cnt',\n",
    "       'CWE Flag Count', 'ECE Flag Cnt', 'Down/Up Ratio', 'Pkt Size Avg',\n",
    "       'Fwd Seg Size Avg', 'Bwd Seg Size Avg', 'Fwd Byts/b Avg',\n",
    "       'Fwd Pkts/b Avg', 'Fwd Blk Rate Avg', 'Bwd Byts/b Avg',\n",
    "       'Bwd Pkts/b Avg', 'Bwd Blk Rate Avg', 'Subflow Fwd Pkts',\n",
    "       'Subflow Fwd Byts', 'Subflow Bwd Pkts', 'Subflow Bwd Byts',\n",
    "       'Init Fwd Win Byts', 'Init Bwd Win Byts', 'Fwd Act Data Pkts',\n",
    "       'Fwd Seg Size Min', 'Active Mean', 'Active Std', 'Active Max',\n",
    "       'Active Min', 'Idle Mean', 'Idle Std', 'Idle Max', 'Idle Min']"
   ]
  },
  {
   "cell_type": "code",
   "execution_count": null,
   "id": "39a24b6b",
   "metadata": {
    "execution": {
     "iopub.execute_input": "2022-10-20T08:31:14.216109Z",
     "iopub.status.busy": "2022-10-20T08:31:14.215107Z",
     "iopub.status.idle": "2022-10-20T08:31:20.331703Z",
     "shell.execute_reply": "2022-10-20T08:31:20.330215Z"
    },
    "papermill": {
     "duration": 6.975089,
     "end_time": "2022-10-20T08:31:20.334556",
     "exception": false,
     "start_time": "2022-10-20T08:31:13.359467",
     "status": "completed"
    },
    "tags": []
   },
   "outputs": [],
   "source": [
    "train[numerical_columns] = min_max_scaler.transform(train[numerical_columns])"
   ]
  },
  {
   "cell_type": "code",
   "execution_count": null,
   "id": "df387184",
   "metadata": {
    "execution": {
     "iopub.execute_input": "2022-10-20T08:31:22.195929Z",
     "iopub.status.busy": "2022-10-20T08:31:22.194840Z",
     "iopub.status.idle": "2022-10-20T08:31:22.775230Z",
     "shell.execute_reply": "2022-10-20T08:31:22.773989Z"
    },
    "papermill": {
     "duration": 1.5071,
     "end_time": "2022-10-20T08:31:22.777874",
     "exception": false,
     "start_time": "2022-10-20T08:31:21.270774",
     "status": "completed"
    },
    "tags": []
   },
   "outputs": [
    {
     "data": {
      "text/html": [
       "<div>\n",
       "<style scoped>\n",
       "    .dataframe tbody tr th:only-of-type {\n",
       "        vertical-align: middle;\n",
       "    }\n",
       "\n",
       "    .dataframe tbody tr th {\n",
       "        vertical-align: top;\n",
       "    }\n",
       "\n",
       "    .dataframe thead th {\n",
       "        text-align: right;\n",
       "    }\n",
       "</style>\n",
       "<table border=\"1\" class=\"dataframe\">\n",
       "  <thead>\n",
       "    <tr style=\"text-align: right;\">\n",
       "      <th></th>\n",
       "      <th>Dst Port</th>\n",
       "      <th>Protocol</th>\n",
       "      <th>Timestamp</th>\n",
       "      <th>Flow Duration</th>\n",
       "      <th>Tot Fwd Pkts</th>\n",
       "      <th>Tot Bwd Pkts</th>\n",
       "      <th>TotLen Fwd Pkts</th>\n",
       "      <th>TotLen Bwd Pkts</th>\n",
       "      <th>Fwd Pkt Len Max</th>\n",
       "      <th>Fwd Pkt Len Min</th>\n",
       "      <th>...</th>\n",
       "      <th>Fwd Seg Size Min</th>\n",
       "      <th>Active Mean</th>\n",
       "      <th>Active Std</th>\n",
       "      <th>Active Max</th>\n",
       "      <th>Active Min</th>\n",
       "      <th>Idle Mean</th>\n",
       "      <th>Idle Std</th>\n",
       "      <th>Idle Max</th>\n",
       "      <th>Idle Min</th>\n",
       "      <th>Label</th>\n",
       "    </tr>\n",
       "  </thead>\n",
       "  <tbody>\n",
       "    <tr>\n",
       "      <th>515047</th>\n",
       "      <td>53</td>\n",
       "      <td>17</td>\n",
       "      <td>14/02/2018 11:11:09</td>\n",
       "      <td>0.999869</td>\n",
       "      <td>0.000000</td>\n",
       "      <td>0.000109</td>\n",
       "      <td>0.000005</td>\n",
       "      <td>0.000007</td>\n",
       "      <td>0.000621</td>\n",
       "      <td>0.03268</td>\n",
       "      <td>...</td>\n",
       "      <td>0.181818</td>\n",
       "      <td>0.0</td>\n",
       "      <td>0.0</td>\n",
       "      <td>0.0</td>\n",
       "      <td>0.0</td>\n",
       "      <td>0.0</td>\n",
       "      <td>0.0</td>\n",
       "      <td>0.0</td>\n",
       "      <td>0.0</td>\n",
       "      <td>0</td>\n",
       "    </tr>\n",
       "    <tr>\n",
       "      <th>546837</th>\n",
       "      <td>3389</td>\n",
       "      <td>6</td>\n",
       "      <td>14/02/2018 03:37:30</td>\n",
       "      <td>0.999873</td>\n",
       "      <td>0.001564</td>\n",
       "      <td>0.000761</td>\n",
       "      <td>0.000134</td>\n",
       "      <td>0.000118</td>\n",
       "      <td>0.010506</td>\n",
       "      <td>0.00000</td>\n",
       "      <td>...</td>\n",
       "      <td>0.454545</td>\n",
       "      <td>0.0</td>\n",
       "      <td>0.0</td>\n",
       "      <td>0.0</td>\n",
       "      <td>0.0</td>\n",
       "      <td>0.0</td>\n",
       "      <td>0.0</td>\n",
       "      <td>0.0</td>\n",
       "      <td>0.0</td>\n",
       "      <td>0</td>\n",
       "    </tr>\n",
       "    <tr>\n",
       "      <th>7424</th>\n",
       "      <td>21</td>\n",
       "      <td>6</td>\n",
       "      <td>14/02/2018 10:37:06</td>\n",
       "      <td>0.999869</td>\n",
       "      <td>0.000000</td>\n",
       "      <td>0.000109</td>\n",
       "      <td>0.000000</td>\n",
       "      <td>0.000000</td>\n",
       "      <td>0.000000</td>\n",
       "      <td>0.00000</td>\n",
       "      <td>...</td>\n",
       "      <td>0.909091</td>\n",
       "      <td>0.0</td>\n",
       "      <td>0.0</td>\n",
       "      <td>0.0</td>\n",
       "      <td>0.0</td>\n",
       "      <td>0.0</td>\n",
       "      <td>0.0</td>\n",
       "      <td>0.0</td>\n",
       "      <td>0.0</td>\n",
       "      <td>1</td>\n",
       "    </tr>\n",
       "    <tr>\n",
       "      <th>289213</th>\n",
       "      <td>22</td>\n",
       "      <td>6</td>\n",
       "      <td>14/02/2018 02:47:50</td>\n",
       "      <td>0.999869</td>\n",
       "      <td>0.000000</td>\n",
       "      <td>0.000109</td>\n",
       "      <td>0.000000</td>\n",
       "      <td>0.000000</td>\n",
       "      <td>0.000000</td>\n",
       "      <td>0.00000</td>\n",
       "      <td>...</td>\n",
       "      <td>0.727273</td>\n",
       "      <td>0.0</td>\n",
       "      <td>0.0</td>\n",
       "      <td>0.0</td>\n",
       "      <td>0.0</td>\n",
       "      <td>0.0</td>\n",
       "      <td>0.0</td>\n",
       "      <td>0.0</td>\n",
       "      <td>0.0</td>\n",
       "      <td>1</td>\n",
       "    </tr>\n",
       "    <tr>\n",
       "      <th>126528</th>\n",
       "      <td>21</td>\n",
       "      <td>6</td>\n",
       "      <td>14/02/2018 11:36:55</td>\n",
       "      <td>0.999869</td>\n",
       "      <td>0.000000</td>\n",
       "      <td>0.000109</td>\n",
       "      <td>0.000000</td>\n",
       "      <td>0.000000</td>\n",
       "      <td>0.000000</td>\n",
       "      <td>0.00000</td>\n",
       "      <td>...</td>\n",
       "      <td>0.909091</td>\n",
       "      <td>0.0</td>\n",
       "      <td>0.0</td>\n",
       "      <td>0.0</td>\n",
       "      <td>0.0</td>\n",
       "      <td>0.0</td>\n",
       "      <td>0.0</td>\n",
       "      <td>0.0</td>\n",
       "      <td>0.0</td>\n",
       "      <td>1</td>\n",
       "    </tr>\n",
       "    <tr>\n",
       "      <th>...</th>\n",
       "      <td>...</td>\n",
       "      <td>...</td>\n",
       "      <td>...</td>\n",
       "      <td>...</td>\n",
       "      <td>...</td>\n",
       "      <td>...</td>\n",
       "      <td>...</td>\n",
       "      <td>...</td>\n",
       "      <td>...</td>\n",
       "      <td>...</td>\n",
       "      <td>...</td>\n",
       "      <td>...</td>\n",
       "      <td>...</td>\n",
       "      <td>...</td>\n",
       "      <td>...</td>\n",
       "      <td>...</td>\n",
       "      <td>...</td>\n",
       "      <td>...</td>\n",
       "      <td>...</td>\n",
       "      <td>...</td>\n",
       "      <td>...</td>\n",
       "    </tr>\n",
       "    <tr>\n",
       "      <th>565481</th>\n",
       "      <td>3389</td>\n",
       "      <td>6</td>\n",
       "      <td>14/02/2018 03:43:51</td>\n",
       "      <td>0.999876</td>\n",
       "      <td>0.001760</td>\n",
       "      <td>0.000761</td>\n",
       "      <td>0.000135</td>\n",
       "      <td>0.000118</td>\n",
       "      <td>0.010506</td>\n",
       "      <td>0.00000</td>\n",
       "      <td>...</td>\n",
       "      <td>0.454545</td>\n",
       "      <td>0.0</td>\n",
       "      <td>0.0</td>\n",
       "      <td>0.0</td>\n",
       "      <td>0.0</td>\n",
       "      <td>0.0</td>\n",
       "      <td>0.0</td>\n",
       "      <td>0.0</td>\n",
       "      <td>0.0</td>\n",
       "      <td>0</td>\n",
       "    </tr>\n",
       "    <tr>\n",
       "      <th>413144</th>\n",
       "      <td>80</td>\n",
       "      <td>6</td>\n",
       "      <td>14/02/2018 09:09:23</td>\n",
       "      <td>0.999875</td>\n",
       "      <td>0.000587</td>\n",
       "      <td>0.000435</td>\n",
       "      <td>0.000011</td>\n",
       "      <td>0.000017</td>\n",
       "      <td>0.001505</td>\n",
       "      <td>0.00000</td>\n",
       "      <td>...</td>\n",
       "      <td>0.454545</td>\n",
       "      <td>0.0</td>\n",
       "      <td>0.0</td>\n",
       "      <td>0.0</td>\n",
       "      <td>0.0</td>\n",
       "      <td>0.0</td>\n",
       "      <td>0.0</td>\n",
       "      <td>0.0</td>\n",
       "      <td>0.0</td>\n",
       "      <td>0</td>\n",
       "    </tr>\n",
       "    <tr>\n",
       "      <th>255371</th>\n",
       "      <td>22</td>\n",
       "      <td>6</td>\n",
       "      <td>14/02/2018 02:31:33</td>\n",
       "      <td>0.999869</td>\n",
       "      <td>0.000000</td>\n",
       "      <td>0.000109</td>\n",
       "      <td>0.000000</td>\n",
       "      <td>0.000000</td>\n",
       "      <td>0.000000</td>\n",
       "      <td>0.00000</td>\n",
       "      <td>...</td>\n",
       "      <td>0.727273</td>\n",
       "      <td>0.0</td>\n",
       "      <td>0.0</td>\n",
       "      <td>0.0</td>\n",
       "      <td>0.0</td>\n",
       "      <td>0.0</td>\n",
       "      <td>0.0</td>\n",
       "      <td>0.0</td>\n",
       "      <td>0.0</td>\n",
       "      <td>1</td>\n",
       "    </tr>\n",
       "    <tr>\n",
       "      <th>761507</th>\n",
       "      <td>3389</td>\n",
       "      <td>6</td>\n",
       "      <td>14/02/2018 01:34:32</td>\n",
       "      <td>0.999872</td>\n",
       "      <td>0.001369</td>\n",
       "      <td>0.000761</td>\n",
       "      <td>0.000132</td>\n",
       "      <td>0.000118</td>\n",
       "      <td>0.010258</td>\n",
       "      <td>0.00000</td>\n",
       "      <td>...</td>\n",
       "      <td>0.454545</td>\n",
       "      <td>0.0</td>\n",
       "      <td>0.0</td>\n",
       "      <td>0.0</td>\n",
       "      <td>0.0</td>\n",
       "      <td>0.0</td>\n",
       "      <td>0.0</td>\n",
       "      <td>0.0</td>\n",
       "      <td>0.0</td>\n",
       "      <td>0</td>\n",
       "    </tr>\n",
       "    <tr>\n",
       "      <th>473471</th>\n",
       "      <td>3389</td>\n",
       "      <td>6</td>\n",
       "      <td>14/02/2018 01:26:48</td>\n",
       "      <td>0.999876</td>\n",
       "      <td>0.001760</td>\n",
       "      <td>0.000761</td>\n",
       "      <td>0.000135</td>\n",
       "      <td>0.000118</td>\n",
       "      <td>0.010506</td>\n",
       "      <td>0.00000</td>\n",
       "      <td>...</td>\n",
       "      <td>0.454545</td>\n",
       "      <td>0.0</td>\n",
       "      <td>0.0</td>\n",
       "      <td>0.0</td>\n",
       "      <td>0.0</td>\n",
       "      <td>0.0</td>\n",
       "      <td>0.0</td>\n",
       "      <td>0.0</td>\n",
       "      <td>0.0</td>\n",
       "      <td>0</td>\n",
       "    </tr>\n",
       "  </tbody>\n",
       "</table>\n",
       "<p>731325 rows × 80 columns</p>\n",
       "</div>"
      ],
      "text/plain": [
       "        Dst Port  Protocol            Timestamp  Flow Duration  Tot Fwd Pkts  \\\n",
       "515047        53        17  14/02/2018 11:11:09       0.999869      0.000000   \n",
       "546837      3389         6  14/02/2018 03:37:30       0.999873      0.001564   \n",
       "7424          21         6  14/02/2018 10:37:06       0.999869      0.000000   \n",
       "289213        22         6  14/02/2018 02:47:50       0.999869      0.000000   \n",
       "126528        21         6  14/02/2018 11:36:55       0.999869      0.000000   \n",
       "...          ...       ...                  ...            ...           ...   \n",
       "565481      3389         6  14/02/2018 03:43:51       0.999876      0.001760   \n",
       "413144        80         6  14/02/2018 09:09:23       0.999875      0.000587   \n",
       "255371        22         6  14/02/2018 02:31:33       0.999869      0.000000   \n",
       "761507      3389         6  14/02/2018 01:34:32       0.999872      0.001369   \n",
       "473471      3389         6  14/02/2018 01:26:48       0.999876      0.001760   \n",
       "\n",
       "        Tot Bwd Pkts  TotLen Fwd Pkts  TotLen Bwd Pkts  Fwd Pkt Len Max  \\\n",
       "515047      0.000109         0.000005         0.000007         0.000621   \n",
       "546837      0.000761         0.000134         0.000118         0.010506   \n",
       "7424        0.000109         0.000000         0.000000         0.000000   \n",
       "289213      0.000109         0.000000         0.000000         0.000000   \n",
       "126528      0.000109         0.000000         0.000000         0.000000   \n",
       "...              ...              ...              ...              ...   \n",
       "565481      0.000761         0.000135         0.000118         0.010506   \n",
       "413144      0.000435         0.000011         0.000017         0.001505   \n",
       "255371      0.000109         0.000000         0.000000         0.000000   \n",
       "761507      0.000761         0.000132         0.000118         0.010258   \n",
       "473471      0.000761         0.000135         0.000118         0.010506   \n",
       "\n",
       "        Fwd Pkt Len Min  ...  Fwd Seg Size Min  Active Mean  Active Std  \\\n",
       "515047          0.03268  ...          0.181818          0.0         0.0   \n",
       "546837          0.00000  ...          0.454545          0.0         0.0   \n",
       "7424            0.00000  ...          0.909091          0.0         0.0   \n",
       "289213          0.00000  ...          0.727273          0.0         0.0   \n",
       "126528          0.00000  ...          0.909091          0.0         0.0   \n",
       "...                 ...  ...               ...          ...         ...   \n",
       "565481          0.00000  ...          0.454545          0.0         0.0   \n",
       "413144          0.00000  ...          0.454545          0.0         0.0   \n",
       "255371          0.00000  ...          0.727273          0.0         0.0   \n",
       "761507          0.00000  ...          0.454545          0.0         0.0   \n",
       "473471          0.00000  ...          0.454545          0.0         0.0   \n",
       "\n",
       "        Active Max  Active Min  Idle Mean  Idle Std  Idle Max  Idle Min  Label  \n",
       "515047         0.0         0.0        0.0       0.0       0.0       0.0      0  \n",
       "546837         0.0         0.0        0.0       0.0       0.0       0.0      0  \n",
       "7424           0.0         0.0        0.0       0.0       0.0       0.0      1  \n",
       "289213         0.0         0.0        0.0       0.0       0.0       0.0      1  \n",
       "126528         0.0         0.0        0.0       0.0       0.0       0.0      1  \n",
       "...            ...         ...        ...       ...       ...       ...    ...  \n",
       "565481         0.0         0.0        0.0       0.0       0.0       0.0      0  \n",
       "413144         0.0         0.0        0.0       0.0       0.0       0.0      0  \n",
       "255371         0.0         0.0        0.0       0.0       0.0       0.0      1  \n",
       "761507         0.0         0.0        0.0       0.0       0.0       0.0      0  \n",
       "473471         0.0         0.0        0.0       0.0       0.0       0.0      0  \n",
       "\n",
       "[731325 rows x 80 columns]"
      ]
     },
     "execution_count": 58,
     "metadata": {},
     "output_type": "execute_result"
    }
   ],
   "source": [
    "train"
   ]
  },
  {
   "cell_type": "code",
   "execution_count": null,
   "id": "04fc37e9",
   "metadata": {
    "execution": {
     "iopub.execute_input": "2022-10-20T08:31:24.614348Z",
     "iopub.status.busy": "2022-10-20T08:31:24.613885Z",
     "iopub.status.idle": "2022-10-20T08:31:28.291944Z",
     "shell.execute_reply": "2022-10-20T08:31:28.290496Z"
    },
    "papermill": {
     "duration": 4.543497,
     "end_time": "2022-10-20T08:31:28.294864",
     "exception": false,
     "start_time": "2022-10-20T08:31:23.751367",
     "status": "completed"
    },
    "tags": []
   },
   "outputs": [
    {
     "data": {
      "text/html": [
       "<div>\n",
       "<style scoped>\n",
       "    .dataframe tbody tr th:only-of-type {\n",
       "        vertical-align: middle;\n",
       "    }\n",
       "\n",
       "    .dataframe tbody tr th {\n",
       "        vertical-align: top;\n",
       "    }\n",
       "\n",
       "    .dataframe thead th {\n",
       "        text-align: right;\n",
       "    }\n",
       "</style>\n",
       "<table border=\"1\" class=\"dataframe\">\n",
       "  <thead>\n",
       "    <tr style=\"text-align: right;\">\n",
       "      <th></th>\n",
       "      <th>Dst Port</th>\n",
       "      <th>Protocol</th>\n",
       "      <th>Flow Duration</th>\n",
       "      <th>Tot Fwd Pkts</th>\n",
       "      <th>Tot Bwd Pkts</th>\n",
       "      <th>TotLen Fwd Pkts</th>\n",
       "      <th>TotLen Bwd Pkts</th>\n",
       "      <th>Fwd Pkt Len Max</th>\n",
       "      <th>Fwd Pkt Len Min</th>\n",
       "      <th>Fwd Pkt Len Mean</th>\n",
       "      <th>...</th>\n",
       "      <th>Fwd Seg Size Min</th>\n",
       "      <th>Active Mean</th>\n",
       "      <th>Active Std</th>\n",
       "      <th>Active Max</th>\n",
       "      <th>Active Min</th>\n",
       "      <th>Idle Mean</th>\n",
       "      <th>Idle Std</th>\n",
       "      <th>Idle Max</th>\n",
       "      <th>Idle Min</th>\n",
       "      <th>Label</th>\n",
       "    </tr>\n",
       "  </thead>\n",
       "  <tbody>\n",
       "    <tr>\n",
       "      <th>count</th>\n",
       "      <td>731325.000000</td>\n",
       "      <td>731325.000000</td>\n",
       "      <td>731325.000000</td>\n",
       "      <td>731325.000000</td>\n",
       "      <td>731325.000000</td>\n",
       "      <td>731325.000000</td>\n",
       "      <td>731325.000000</td>\n",
       "      <td>731325.000000</td>\n",
       "      <td>731325.000000</td>\n",
       "      <td>731325.000000</td>\n",
       "      <td>...</td>\n",
       "      <td>731325.000000</td>\n",
       "      <td>731325.000000</td>\n",
       "      <td>731325.000000</td>\n",
       "      <td>731325.000000</td>\n",
       "      <td>731325.000000</td>\n",
       "      <td>731325.000000</td>\n",
       "      <td>731325.000000</td>\n",
       "      <td>731325.000000</td>\n",
       "      <td>731325.000000</td>\n",
       "      <td>731325.000000</td>\n",
       "    </tr>\n",
       "    <tr>\n",
       "      <th>mean</th>\n",
       "      <td>4717.423187</td>\n",
       "      <td>8.110380</td>\n",
       "      <td>0.999876</td>\n",
       "      <td>0.001018</td>\n",
       "      <td>0.000781</td>\n",
       "      <td>0.000052</td>\n",
       "      <td>0.000332</td>\n",
       "      <td>0.002723</td>\n",
       "      <td>0.006858</td>\n",
       "      <td>0.003472</td>\n",
       "      <td>...</td>\n",
       "      <td>0.529321</td>\n",
       "      <td>0.000472</td>\n",
       "      <td>0.000375</td>\n",
       "      <td>0.000805</td>\n",
       "      <td>0.000367</td>\n",
       "      <td>0.000009</td>\n",
       "      <td>0.000003</td>\n",
       "      <td>0.000005</td>\n",
       "      <td>0.000170</td>\n",
       "      <td>0.364276</td>\n",
       "    </tr>\n",
       "    <tr>\n",
       "      <th>std</th>\n",
       "      <td>14211.955032</td>\n",
       "      <td>4.463489</td>\n",
       "      <td>0.001604</td>\n",
       "      <td>0.008560</td>\n",
       "      <td>0.011188</td>\n",
       "      <td>0.001454</td>\n",
       "      <td>0.011102</td>\n",
       "      <td>0.004447</td>\n",
       "      <td>0.015839</td>\n",
       "      <td>0.004725</td>\n",
       "      <td>...</td>\n",
       "      <td>0.251651</td>\n",
       "      <td>0.005469</td>\n",
       "      <td>0.003934</td>\n",
       "      <td>0.006898</td>\n",
       "      <td>0.005275</td>\n",
       "      <td>0.001536</td>\n",
       "      <td>0.001507</td>\n",
       "      <td>0.001495</td>\n",
       "      <td>0.001482</td>\n",
       "      <td>0.481227</td>\n",
       "    </tr>\n",
       "    <tr>\n",
       "      <th>min</th>\n",
       "      <td>0.000000</td>\n",
       "      <td>0.000000</td>\n",
       "      <td>0.000000</td>\n",
       "      <td>0.000000</td>\n",
       "      <td>0.000000</td>\n",
       "      <td>0.000000</td>\n",
       "      <td>0.000000</td>\n",
       "      <td>0.000000</td>\n",
       "      <td>0.000000</td>\n",
       "      <td>0.000000</td>\n",
       "      <td>...</td>\n",
       "      <td>0.000000</td>\n",
       "      <td>0.000000</td>\n",
       "      <td>0.000000</td>\n",
       "      <td>0.000000</td>\n",
       "      <td>0.000000</td>\n",
       "      <td>0.000000</td>\n",
       "      <td>0.000000</td>\n",
       "      <td>0.000000</td>\n",
       "      <td>0.000000</td>\n",
       "      <td>0.000000</td>\n",
       "    </tr>\n",
       "    <tr>\n",
       "      <th>25%</th>\n",
       "      <td>22.000000</td>\n",
       "      <td>6.000000</td>\n",
       "      <td>0.999869</td>\n",
       "      <td>0.000000</td>\n",
       "      <td>0.000109</td>\n",
       "      <td>0.000000</td>\n",
       "      <td>0.000000</td>\n",
       "      <td>0.000000</td>\n",
       "      <td>0.000000</td>\n",
       "      <td>0.000000</td>\n",
       "      <td>...</td>\n",
       "      <td>0.454545</td>\n",
       "      <td>0.000000</td>\n",
       "      <td>0.000000</td>\n",
       "      <td>0.000000</td>\n",
       "      <td>0.000000</td>\n",
       "      <td>0.000000</td>\n",
       "      <td>0.000000</td>\n",
       "      <td>0.000000</td>\n",
       "      <td>0.000000</td>\n",
       "      <td>0.000000</td>\n",
       "    </tr>\n",
       "    <tr>\n",
       "      <th>50%</th>\n",
       "      <td>53.000000</td>\n",
       "      <td>6.000000</td>\n",
       "      <td>0.999869</td>\n",
       "      <td>0.000196</td>\n",
       "      <td>0.000109</td>\n",
       "      <td>0.000004</td>\n",
       "      <td>0.000004</td>\n",
       "      <td>0.000543</td>\n",
       "      <td>0.000000</td>\n",
       "      <td>0.002288</td>\n",
       "      <td>...</td>\n",
       "      <td>0.454545</td>\n",
       "      <td>0.000000</td>\n",
       "      <td>0.000000</td>\n",
       "      <td>0.000000</td>\n",
       "      <td>0.000000</td>\n",
       "      <td>0.000000</td>\n",
       "      <td>0.000000</td>\n",
       "      <td>0.000000</td>\n",
       "      <td>0.000000</td>\n",
       "      <td>0.000000</td>\n",
       "    </tr>\n",
       "    <tr>\n",
       "      <th>75%</th>\n",
       "      <td>443.000000</td>\n",
       "      <td>6.000000</td>\n",
       "      <td>0.999870</td>\n",
       "      <td>0.001369</td>\n",
       "      <td>0.000761</td>\n",
       "      <td>0.000053</td>\n",
       "      <td>0.000059</td>\n",
       "      <td>0.003135</td>\n",
       "      <td>0.000000</td>\n",
       "      <td>0.004992</td>\n",
       "      <td>...</td>\n",
       "      <td>0.727273</td>\n",
       "      <td>0.000000</td>\n",
       "      <td>0.000000</td>\n",
       "      <td>0.000000</td>\n",
       "      <td>0.000000</td>\n",
       "      <td>0.000000</td>\n",
       "      <td>0.000000</td>\n",
       "      <td>0.000000</td>\n",
       "      <td>0.000000</td>\n",
       "      <td>1.000000</td>\n",
       "    </tr>\n",
       "    <tr>\n",
       "      <th>max</th>\n",
       "      <td>65533.000000</td>\n",
       "      <td>17.000000</td>\n",
       "      <td>1.000000</td>\n",
       "      <td>1.000000</td>\n",
       "      <td>1.000000</td>\n",
       "      <td>1.000000</td>\n",
       "      <td>1.000000</td>\n",
       "      <td>1.000000</td>\n",
       "      <td>1.000000</td>\n",
       "      <td>1.000000</td>\n",
       "      <td>...</td>\n",
       "      <td>1.000000</td>\n",
       "      <td>1.000000</td>\n",
       "      <td>1.000000</td>\n",
       "      <td>1.000000</td>\n",
       "      <td>1.000000</td>\n",
       "      <td>1.000000</td>\n",
       "      <td>1.000000</td>\n",
       "      <td>1.000000</td>\n",
       "      <td>1.000000</td>\n",
       "      <td>1.000000</td>\n",
       "    </tr>\n",
       "  </tbody>\n",
       "</table>\n",
       "<p>8 rows × 79 columns</p>\n",
       "</div>"
      ],
      "text/plain": [
       "            Dst Port       Protocol  Flow Duration   Tot Fwd Pkts  \\\n",
       "count  731325.000000  731325.000000  731325.000000  731325.000000   \n",
       "mean     4717.423187       8.110380       0.999876       0.001018   \n",
       "std     14211.955032       4.463489       0.001604       0.008560   \n",
       "min         0.000000       0.000000       0.000000       0.000000   \n",
       "25%        22.000000       6.000000       0.999869       0.000000   \n",
       "50%        53.000000       6.000000       0.999869       0.000196   \n",
       "75%       443.000000       6.000000       0.999870       0.001369   \n",
       "max     65533.000000      17.000000       1.000000       1.000000   \n",
       "\n",
       "        Tot Bwd Pkts  TotLen Fwd Pkts  TotLen Bwd Pkts  Fwd Pkt Len Max  \\\n",
       "count  731325.000000    731325.000000    731325.000000    731325.000000   \n",
       "mean        0.000781         0.000052         0.000332         0.002723   \n",
       "std         0.011188         0.001454         0.011102         0.004447   \n",
       "min         0.000000         0.000000         0.000000         0.000000   \n",
       "25%         0.000109         0.000000         0.000000         0.000000   \n",
       "50%         0.000109         0.000004         0.000004         0.000543   \n",
       "75%         0.000761         0.000053         0.000059         0.003135   \n",
       "max         1.000000         1.000000         1.000000         1.000000   \n",
       "\n",
       "       Fwd Pkt Len Min  Fwd Pkt Len Mean  ...  Fwd Seg Size Min  \\\n",
       "count    731325.000000     731325.000000  ...     731325.000000   \n",
       "mean          0.006858          0.003472  ...          0.529321   \n",
       "std           0.015839          0.004725  ...          0.251651   \n",
       "min           0.000000          0.000000  ...          0.000000   \n",
       "25%           0.000000          0.000000  ...          0.454545   \n",
       "50%           0.000000          0.002288  ...          0.454545   \n",
       "75%           0.000000          0.004992  ...          0.727273   \n",
       "max           1.000000          1.000000  ...          1.000000   \n",
       "\n",
       "         Active Mean     Active Std     Active Max     Active Min  \\\n",
       "count  731325.000000  731325.000000  731325.000000  731325.000000   \n",
       "mean        0.000472       0.000375       0.000805       0.000367   \n",
       "std         0.005469       0.003934       0.006898       0.005275   \n",
       "min         0.000000       0.000000       0.000000       0.000000   \n",
       "25%         0.000000       0.000000       0.000000       0.000000   \n",
       "50%         0.000000       0.000000       0.000000       0.000000   \n",
       "75%         0.000000       0.000000       0.000000       0.000000   \n",
       "max         1.000000       1.000000       1.000000       1.000000   \n",
       "\n",
       "           Idle Mean       Idle Std       Idle Max       Idle Min  \\\n",
       "count  731325.000000  731325.000000  731325.000000  731325.000000   \n",
       "mean        0.000009       0.000003       0.000005       0.000170   \n",
       "std         0.001536       0.001507       0.001495       0.001482   \n",
       "min         0.000000       0.000000       0.000000       0.000000   \n",
       "25%         0.000000       0.000000       0.000000       0.000000   \n",
       "50%         0.000000       0.000000       0.000000       0.000000   \n",
       "75%         0.000000       0.000000       0.000000       0.000000   \n",
       "max         1.000000       1.000000       1.000000       1.000000   \n",
       "\n",
       "               Label  \n",
       "count  731325.000000  \n",
       "mean        0.364276  \n",
       "std         0.481227  \n",
       "min         0.000000  \n",
       "25%         0.000000  \n",
       "50%         0.000000  \n",
       "75%         1.000000  \n",
       "max         1.000000  \n",
       "\n",
       "[8 rows x 79 columns]"
      ]
     },
     "execution_count": 59,
     "metadata": {},
     "output_type": "execute_result"
    }
   ],
   "source": [
    "train.describe()"
   ]
  },
  {
   "cell_type": "code",
   "execution_count": null,
   "id": "2632ff68",
   "metadata": {
    "execution": {
     "iopub.execute_input": "2022-10-20T08:31:30.091891Z",
     "iopub.status.busy": "2022-10-20T08:31:30.091421Z",
     "iopub.status.idle": "2022-10-20T08:31:30.349121Z",
     "shell.execute_reply": "2022-10-20T08:31:30.347671Z"
    },
    "papermill": {
     "duration": 1.120498,
     "end_time": "2022-10-20T08:31:30.351901",
     "exception": false,
     "start_time": "2022-10-20T08:31:29.231403",
     "status": "completed"
    },
    "tags": []
   },
   "outputs": [
    {
     "name": "stdout",
     "output_type": "stream",
     "text": [
      "<class 'pandas.core.frame.DataFrame'>\n",
      "Int64Index: 731325 entries, 515047 to 473471\n",
      "Data columns (total 80 columns):\n",
      " #   Column             Non-Null Count   Dtype  \n",
      "---  ------             --------------   -----  \n",
      " 0   Dst Port           731325 non-null  int64  \n",
      " 1   Protocol           731325 non-null  int64  \n",
      " 2   Timestamp          731325 non-null  object \n",
      " 3   Flow Duration      731325 non-null  float64\n",
      " 4   Tot Fwd Pkts       731325 non-null  float64\n",
      " 5   Tot Bwd Pkts       731325 non-null  float64\n",
      " 6   TotLen Fwd Pkts    731325 non-null  float64\n",
      " 7   TotLen Bwd Pkts    731325 non-null  float64\n",
      " 8   Fwd Pkt Len Max    731325 non-null  float64\n",
      " 9   Fwd Pkt Len Min    731325 non-null  float64\n",
      " 10  Fwd Pkt Len Mean   731325 non-null  float64\n",
      " 11  Fwd Pkt Len Std    731325 non-null  float64\n",
      " 12  Bwd Pkt Len Max    731325 non-null  float64\n",
      " 13  Bwd Pkt Len Min    731325 non-null  float64\n",
      " 14  Bwd Pkt Len Mean   731325 non-null  float64\n",
      " 15  Bwd Pkt Len Std    731325 non-null  float64\n",
      " 16  Flow Byts/s        731325 non-null  float64\n",
      " 17  Flow Pkts/s        731325 non-null  float64\n",
      " 18  Flow IAT Mean      731325 non-null  float64\n",
      " 19  Flow IAT Std       731325 non-null  float64\n",
      " 20  Flow IAT Max       731325 non-null  float64\n",
      " 21  Flow IAT Min       731325 non-null  float64\n",
      " 22  Fwd IAT Tot        731325 non-null  float64\n",
      " 23  Fwd IAT Mean       731325 non-null  float64\n",
      " 24  Fwd IAT Std        731325 non-null  float64\n",
      " 25  Fwd IAT Max        731325 non-null  float64\n",
      " 26  Fwd IAT Min        731325 non-null  float64\n",
      " 27  Bwd IAT Tot        731325 non-null  float64\n",
      " 28  Bwd IAT Mean       731325 non-null  float64\n",
      " 29  Bwd IAT Std        731325 non-null  float64\n",
      " 30  Bwd IAT Max        731325 non-null  float64\n",
      " 31  Bwd IAT Min        731325 non-null  float64\n",
      " 32  Fwd PSH Flags      731325 non-null  float64\n",
      " 33  Bwd PSH Flags      731325 non-null  float64\n",
      " 34  Fwd URG Flags      731325 non-null  float64\n",
      " 35  Bwd URG Flags      731325 non-null  float64\n",
      " 36  Fwd Header Len     731325 non-null  float64\n",
      " 37  Bwd Header Len     731325 non-null  float64\n",
      " 38  Fwd Pkts/s         731325 non-null  float64\n",
      " 39  Bwd Pkts/s         731325 non-null  float64\n",
      " 40  Pkt Len Min        731325 non-null  float64\n",
      " 41  Pkt Len Max        731325 non-null  float64\n",
      " 42  Pkt Len Mean       731325 non-null  float64\n",
      " 43  Pkt Len Std        731325 non-null  float64\n",
      " 44  Pkt Len Var        731325 non-null  float64\n",
      " 45  FIN Flag Cnt       731325 non-null  float64\n",
      " 46  SYN Flag Cnt       731325 non-null  float64\n",
      " 47  RST Flag Cnt       731325 non-null  float64\n",
      " 48  PSH Flag Cnt       731325 non-null  float64\n",
      " 49  ACK Flag Cnt       731325 non-null  float64\n",
      " 50  URG Flag Cnt       731325 non-null  float64\n",
      " 51  CWE Flag Count     731325 non-null  float64\n",
      " 52  ECE Flag Cnt       731325 non-null  float64\n",
      " 53  Down/Up Ratio      731325 non-null  float64\n",
      " 54  Pkt Size Avg       731325 non-null  float64\n",
      " 55  Fwd Seg Size Avg   731325 non-null  float64\n",
      " 56  Bwd Seg Size Avg   731325 non-null  float64\n",
      " 57  Fwd Byts/b Avg     731325 non-null  float64\n",
      " 58  Fwd Pkts/b Avg     731325 non-null  float64\n",
      " 59  Fwd Blk Rate Avg   731325 non-null  float64\n",
      " 60  Bwd Byts/b Avg     731325 non-null  float64\n",
      " 61  Bwd Pkts/b Avg     731325 non-null  float64\n",
      " 62  Bwd Blk Rate Avg   731325 non-null  float64\n",
      " 63  Subflow Fwd Pkts   731325 non-null  float64\n",
      " 64  Subflow Fwd Byts   731325 non-null  float64\n",
      " 65  Subflow Bwd Pkts   731325 non-null  float64\n",
      " 66  Subflow Bwd Byts   731325 non-null  float64\n",
      " 67  Init Fwd Win Byts  731325 non-null  float64\n",
      " 68  Init Bwd Win Byts  731325 non-null  float64\n",
      " 69  Fwd Act Data Pkts  731325 non-null  float64\n",
      " 70  Fwd Seg Size Min   731325 non-null  float64\n",
      " 71  Active Mean        731325 non-null  float64\n",
      " 72  Active Std         731325 non-null  float64\n",
      " 73  Active Max         731325 non-null  float64\n",
      " 74  Active Min         731325 non-null  float64\n",
      " 75  Idle Mean          731325 non-null  float64\n",
      " 76  Idle Std           731325 non-null  float64\n",
      " 77  Idle Max           731325 non-null  float64\n",
      " 78  Idle Min           731325 non-null  float64\n",
      " 79  Label              731325 non-null  int64  \n",
      "dtypes: float64(76), int64(3), object(1)\n",
      "memory usage: 451.9+ MB\n"
     ]
    }
   ],
   "source": [
    "train.info()"
   ]
  },
  {
   "cell_type": "code",
   "execution_count": null,
   "id": "8ee1662d",
   "metadata": {
    "execution": {
     "iopub.execute_input": "2022-10-20T08:31:32.157728Z",
     "iopub.status.busy": "2022-10-20T08:31:32.157277Z",
     "iopub.status.idle": "2022-10-20T08:31:32.523599Z",
     "shell.execute_reply": "2022-10-20T08:31:32.522523Z"
    },
    "papermill": {
     "duration": 1.240789,
     "end_time": "2022-10-20T08:31:32.526073",
     "exception": false,
     "start_time": "2022-10-20T08:31:31.285284",
     "status": "completed"
    },
    "tags": []
   },
   "outputs": [],
   "source": [
    "train.drop(['Timestamp'], axis=1,inplace=True)\n",
    "test.drop(['Timestamp'],axis=1,inplace=True)"
   ]
  },
  {
   "cell_type": "code",
   "execution_count": null,
   "id": "9c71f545",
   "metadata": {
    "execution": {
     "iopub.execute_input": "2022-10-20T08:31:34.398057Z",
     "iopub.status.busy": "2022-10-20T08:31:34.397606Z",
     "iopub.status.idle": "2022-10-20T08:31:34.565726Z",
     "shell.execute_reply": "2022-10-20T08:31:34.564367Z"
    },
    "papermill": {
     "duration": 1.098289,
     "end_time": "2022-10-20T08:31:34.568343",
     "exception": false,
     "start_time": "2022-10-20T08:31:33.470054",
     "status": "completed"
    },
    "tags": []
   },
   "outputs": [
    {
     "name": "stdout",
     "output_type": "stream",
     "text": [
      "<class 'pandas.core.frame.DataFrame'>\n",
      "Int64Index: 731325 entries, 515047 to 473471\n",
      "Data columns (total 79 columns):\n",
      " #   Column             Non-Null Count   Dtype  \n",
      "---  ------             --------------   -----  \n",
      " 0   Dst Port           731325 non-null  int64  \n",
      " 1   Protocol           731325 non-null  int64  \n",
      " 2   Flow Duration      731325 non-null  float64\n",
      " 3   Tot Fwd Pkts       731325 non-null  float64\n",
      " 4   Tot Bwd Pkts       731325 non-null  float64\n",
      " 5   TotLen Fwd Pkts    731325 non-null  float64\n",
      " 6   TotLen Bwd Pkts    731325 non-null  float64\n",
      " 7   Fwd Pkt Len Max    731325 non-null  float64\n",
      " 8   Fwd Pkt Len Min    731325 non-null  float64\n",
      " 9   Fwd Pkt Len Mean   731325 non-null  float64\n",
      " 10  Fwd Pkt Len Std    731325 non-null  float64\n",
      " 11  Bwd Pkt Len Max    731325 non-null  float64\n",
      " 12  Bwd Pkt Len Min    731325 non-null  float64\n",
      " 13  Bwd Pkt Len Mean   731325 non-null  float64\n",
      " 14  Bwd Pkt Len Std    731325 non-null  float64\n",
      " 15  Flow Byts/s        731325 non-null  float64\n",
      " 16  Flow Pkts/s        731325 non-null  float64\n",
      " 17  Flow IAT Mean      731325 non-null  float64\n",
      " 18  Flow IAT Std       731325 non-null  float64\n",
      " 19  Flow IAT Max       731325 non-null  float64\n",
      " 20  Flow IAT Min       731325 non-null  float64\n",
      " 21  Fwd IAT Tot        731325 non-null  float64\n",
      " 22  Fwd IAT Mean       731325 non-null  float64\n",
      " 23  Fwd IAT Std        731325 non-null  float64\n",
      " 24  Fwd IAT Max        731325 non-null  float64\n",
      " 25  Fwd IAT Min        731325 non-null  float64\n",
      " 26  Bwd IAT Tot        731325 non-null  float64\n",
      " 27  Bwd IAT Mean       731325 non-null  float64\n",
      " 28  Bwd IAT Std        731325 non-null  float64\n",
      " 29  Bwd IAT Max        731325 non-null  float64\n",
      " 30  Bwd IAT Min        731325 non-null  float64\n",
      " 31  Fwd PSH Flags      731325 non-null  float64\n",
      " 32  Bwd PSH Flags      731325 non-null  float64\n",
      " 33  Fwd URG Flags      731325 non-null  float64\n",
      " 34  Bwd URG Flags      731325 non-null  float64\n",
      " 35  Fwd Header Len     731325 non-null  float64\n",
      " 36  Bwd Header Len     731325 non-null  float64\n",
      " 37  Fwd Pkts/s         731325 non-null  float64\n",
      " 38  Bwd Pkts/s         731325 non-null  float64\n",
      " 39  Pkt Len Min        731325 non-null  float64\n",
      " 40  Pkt Len Max        731325 non-null  float64\n",
      " 41  Pkt Len Mean       731325 non-null  float64\n",
      " 42  Pkt Len Std        731325 non-null  float64\n",
      " 43  Pkt Len Var        731325 non-null  float64\n",
      " 44  FIN Flag Cnt       731325 non-null  float64\n",
      " 45  SYN Flag Cnt       731325 non-null  float64\n",
      " 46  RST Flag Cnt       731325 non-null  float64\n",
      " 47  PSH Flag Cnt       731325 non-null  float64\n",
      " 48  ACK Flag Cnt       731325 non-null  float64\n",
      " 49  URG Flag Cnt       731325 non-null  float64\n",
      " 50  CWE Flag Count     731325 non-null  float64\n",
      " 51  ECE Flag Cnt       731325 non-null  float64\n",
      " 52  Down/Up Ratio      731325 non-null  float64\n",
      " 53  Pkt Size Avg       731325 non-null  float64\n",
      " 54  Fwd Seg Size Avg   731325 non-null  float64\n",
      " 55  Bwd Seg Size Avg   731325 non-null  float64\n",
      " 56  Fwd Byts/b Avg     731325 non-null  float64\n",
      " 57  Fwd Pkts/b Avg     731325 non-null  float64\n",
      " 58  Fwd Blk Rate Avg   731325 non-null  float64\n",
      " 59  Bwd Byts/b Avg     731325 non-null  float64\n",
      " 60  Bwd Pkts/b Avg     731325 non-null  float64\n",
      " 61  Bwd Blk Rate Avg   731325 non-null  float64\n",
      " 62  Subflow Fwd Pkts   731325 non-null  float64\n",
      " 63  Subflow Fwd Byts   731325 non-null  float64\n",
      " 64  Subflow Bwd Pkts   731325 non-null  float64\n",
      " 65  Subflow Bwd Byts   731325 non-null  float64\n",
      " 66  Init Fwd Win Byts  731325 non-null  float64\n",
      " 67  Init Bwd Win Byts  731325 non-null  float64\n",
      " 68  Fwd Act Data Pkts  731325 non-null  float64\n",
      " 69  Fwd Seg Size Min   731325 non-null  float64\n",
      " 70  Active Mean        731325 non-null  float64\n",
      " 71  Active Std         731325 non-null  float64\n",
      " 72  Active Max         731325 non-null  float64\n",
      " 73  Active Min         731325 non-null  float64\n",
      " 74  Idle Mean          731325 non-null  float64\n",
      " 75  Idle Std           731325 non-null  float64\n",
      " 76  Idle Max           731325 non-null  float64\n",
      " 77  Idle Min           731325 non-null  float64\n",
      " 78  Label              731325 non-null  int64  \n",
      "dtypes: float64(76), int64(3)\n",
      "memory usage: 446.4 MB\n"
     ]
    }
   ],
   "source": [
    "train.info()"
   ]
  },
  {
   "cell_type": "code",
   "execution_count": null,
   "id": "00116853",
   "metadata": {
    "execution": {
     "iopub.execute_input": "2022-10-20T08:31:36.379638Z",
     "iopub.status.busy": "2022-10-20T08:31:36.378585Z",
     "iopub.status.idle": "2022-10-20T08:31:38.371086Z",
     "shell.execute_reply": "2022-10-20T08:31:38.369773Z"
    },
    "papermill": {
     "duration": 2.858272,
     "end_time": "2022-10-20T08:31:38.374051",
     "exception": false,
     "start_time": "2022-10-20T08:31:35.515779",
     "status": "completed"
    },
    "tags": []
   },
   "outputs": [],
   "source": [
    "test[numerical_columns] = min_max_scaler.transform(test[numerical_columns])"
   ]
  },
  {
   "cell_type": "code",
   "execution_count": null,
   "id": "7a1a4189",
   "metadata": {
    "execution": {
     "iopub.execute_input": "2022-10-20T08:31:40.170670Z",
     "iopub.status.busy": "2022-10-20T08:31:40.169426Z",
     "iopub.status.idle": "2022-10-20T08:31:40.553452Z",
     "shell.execute_reply": "2022-10-20T08:31:40.552291Z"
    },
    "papermill": {
     "duration": 1.244567,
     "end_time": "2022-10-20T08:31:40.555983",
     "exception": false,
     "start_time": "2022-10-20T08:31:39.311416",
     "status": "completed"
    },
    "tags": []
   },
   "outputs": [
    {
     "data": {
      "text/html": [
       "<div>\n",
       "<style scoped>\n",
       "    .dataframe tbody tr th:only-of-type {\n",
       "        vertical-align: middle;\n",
       "    }\n",
       "\n",
       "    .dataframe tbody tr th {\n",
       "        vertical-align: top;\n",
       "    }\n",
       "\n",
       "    .dataframe thead th {\n",
       "        text-align: right;\n",
       "    }\n",
       "</style>\n",
       "<table border=\"1\" class=\"dataframe\">\n",
       "  <thead>\n",
       "    <tr style=\"text-align: right;\">\n",
       "      <th></th>\n",
       "      <th>Flow Duration</th>\n",
       "      <th>Tot Fwd Pkts</th>\n",
       "      <th>Tot Bwd Pkts</th>\n",
       "      <th>TotLen Fwd Pkts</th>\n",
       "      <th>TotLen Bwd Pkts</th>\n",
       "      <th>Fwd Pkt Len Max</th>\n",
       "      <th>Fwd Pkt Len Min</th>\n",
       "      <th>Fwd Pkt Len Mean</th>\n",
       "      <th>Fwd Pkt Len Std</th>\n",
       "      <th>Bwd Pkt Len Max</th>\n",
       "      <th>...</th>\n",
       "      <th>Fwd Act Data Pkts</th>\n",
       "      <th>Fwd Seg Size Min</th>\n",
       "      <th>Active Mean</th>\n",
       "      <th>Active Std</th>\n",
       "      <th>Active Max</th>\n",
       "      <th>Active Min</th>\n",
       "      <th>Idle Mean</th>\n",
       "      <th>Idle Std</th>\n",
       "      <th>Idle Max</th>\n",
       "      <th>Idle Min</th>\n",
       "    </tr>\n",
       "  </thead>\n",
       "  <tbody>\n",
       "    <tr>\n",
       "      <th>551947</th>\n",
       "      <td>0.999869</td>\n",
       "      <td>0.000000</td>\n",
       "      <td>0.000109</td>\n",
       "      <td>0.000000</td>\n",
       "      <td>0.000000</td>\n",
       "      <td>0.000000</td>\n",
       "      <td>0.000000</td>\n",
       "      <td>0.000000</td>\n",
       "      <td>0.000000</td>\n",
       "      <td>0.000000</td>\n",
       "      <td>...</td>\n",
       "      <td>0.000000</td>\n",
       "      <td>0.454545</td>\n",
       "      <td>0.000000</td>\n",
       "      <td>0.000000</td>\n",
       "      <td>0.00000</td>\n",
       "      <td>0.000000</td>\n",
       "      <td>0.00000</td>\n",
       "      <td>0.000000e+00</td>\n",
       "      <td>0.000000</td>\n",
       "      <td>0.000000</td>\n",
       "    </tr>\n",
       "    <tr>\n",
       "      <th>627330</th>\n",
       "      <td>0.999869</td>\n",
       "      <td>0.000000</td>\n",
       "      <td>0.000109</td>\n",
       "      <td>0.000004</td>\n",
       "      <td>0.000009</td>\n",
       "      <td>0.000497</td>\n",
       "      <td>0.026144</td>\n",
       "      <td>0.002853</td>\n",
       "      <td>0.000000</td>\n",
       "      <td>0.082877</td>\n",
       "      <td>...</td>\n",
       "      <td>0.000000</td>\n",
       "      <td>0.181818</td>\n",
       "      <td>0.000000</td>\n",
       "      <td>0.000000</td>\n",
       "      <td>0.00000</td>\n",
       "      <td>0.000000</td>\n",
       "      <td>0.00000</td>\n",
       "      <td>0.000000e+00</td>\n",
       "      <td>0.000000</td>\n",
       "      <td>0.000000</td>\n",
       "    </tr>\n",
       "    <tr>\n",
       "      <th>806080</th>\n",
       "      <td>0.999869</td>\n",
       "      <td>0.000196</td>\n",
       "      <td>0.000000</td>\n",
       "      <td>0.000000</td>\n",
       "      <td>0.000000</td>\n",
       "      <td>0.000000</td>\n",
       "      <td>0.000000</td>\n",
       "      <td>0.000000</td>\n",
       "      <td>0.000000</td>\n",
       "      <td>0.000000</td>\n",
       "      <td>...</td>\n",
       "      <td>0.000000</td>\n",
       "      <td>0.454545</td>\n",
       "      <td>0.000000</td>\n",
       "      <td>0.000000</td>\n",
       "      <td>0.00000</td>\n",
       "      <td>0.000000</td>\n",
       "      <td>0.00000</td>\n",
       "      <td>0.000000e+00</td>\n",
       "      <td>0.000000</td>\n",
       "      <td>0.000000</td>\n",
       "    </tr>\n",
       "    <tr>\n",
       "      <th>639487</th>\n",
       "      <td>0.999870</td>\n",
       "      <td>0.000391</td>\n",
       "      <td>0.000435</td>\n",
       "      <td>0.000051</td>\n",
       "      <td>0.000064</td>\n",
       "      <td>0.006766</td>\n",
       "      <td>0.000000</td>\n",
       "      <td>0.012956</td>\n",
       "      <td>0.015972</td>\n",
       "      <td>0.588356</td>\n",
       "      <td>...</td>\n",
       "      <td>0.001038</td>\n",
       "      <td>0.454545</td>\n",
       "      <td>0.000000</td>\n",
       "      <td>0.000000</td>\n",
       "      <td>0.00000</td>\n",
       "      <td>0.000000</td>\n",
       "      <td>0.00000</td>\n",
       "      <td>0.000000e+00</td>\n",
       "      <td>0.000000</td>\n",
       "      <td>0.000000</td>\n",
       "    </tr>\n",
       "    <tr>\n",
       "      <th>749848</th>\n",
       "      <td>0.999869</td>\n",
       "      <td>0.000391</td>\n",
       "      <td>0.000000</td>\n",
       "      <td>0.000000</td>\n",
       "      <td>0.000000</td>\n",
       "      <td>0.000000</td>\n",
       "      <td>0.000000</td>\n",
       "      <td>0.000000</td>\n",
       "      <td>0.000000</td>\n",
       "      <td>0.000000</td>\n",
       "      <td>...</td>\n",
       "      <td>0.000000</td>\n",
       "      <td>0.454545</td>\n",
       "      <td>0.000000</td>\n",
       "      <td>0.000000</td>\n",
       "      <td>0.00000</td>\n",
       "      <td>0.000000</td>\n",
       "      <td>0.00000</td>\n",
       "      <td>0.000000e+00</td>\n",
       "      <td>0.000000</td>\n",
       "      <td>0.000000</td>\n",
       "    </tr>\n",
       "    <tr>\n",
       "      <th>...</th>\n",
       "      <td>...</td>\n",
       "      <td>...</td>\n",
       "      <td>...</td>\n",
       "      <td>...</td>\n",
       "      <td>...</td>\n",
       "      <td>...</td>\n",
       "      <td>...</td>\n",
       "      <td>...</td>\n",
       "      <td>...</td>\n",
       "      <td>...</td>\n",
       "      <td>...</td>\n",
       "      <td>...</td>\n",
       "      <td>...</td>\n",
       "      <td>...</td>\n",
       "      <td>...</td>\n",
       "      <td>...</td>\n",
       "      <td>...</td>\n",
       "      <td>...</td>\n",
       "      <td>...</td>\n",
       "      <td>...</td>\n",
       "      <td>...</td>\n",
       "    </tr>\n",
       "    <tr>\n",
       "      <th>140072</th>\n",
       "      <td>0.999869</td>\n",
       "      <td>0.000000</td>\n",
       "      <td>0.000109</td>\n",
       "      <td>0.000000</td>\n",
       "      <td>0.000000</td>\n",
       "      <td>0.000000</td>\n",
       "      <td>0.000000</td>\n",
       "      <td>0.000000</td>\n",
       "      <td>0.000000</td>\n",
       "      <td>0.000000</td>\n",
       "      <td>...</td>\n",
       "      <td>0.000000</td>\n",
       "      <td>0.909091</td>\n",
       "      <td>0.000000</td>\n",
       "      <td>0.000000</td>\n",
       "      <td>0.00000</td>\n",
       "      <td>0.000000</td>\n",
       "      <td>0.00000</td>\n",
       "      <td>0.000000e+00</td>\n",
       "      <td>0.000000</td>\n",
       "      <td>0.000000</td>\n",
       "    </tr>\n",
       "    <tr>\n",
       "      <th>576147</th>\n",
       "      <td>0.999935</td>\n",
       "      <td>0.001955</td>\n",
       "      <td>0.000978</td>\n",
       "      <td>0.000390</td>\n",
       "      <td>0.000340</td>\n",
       "      <td>0.012741</td>\n",
       "      <td>0.000000</td>\n",
       "      <td>0.026907</td>\n",
       "      <td>0.022580</td>\n",
       "      <td>1.000000</td>\n",
       "      <td>...</td>\n",
       "      <td>0.006231</td>\n",
       "      <td>0.454545</td>\n",
       "      <td>0.000000</td>\n",
       "      <td>0.000000</td>\n",
       "      <td>0.00000</td>\n",
       "      <td>0.000000</td>\n",
       "      <td>0.00000</td>\n",
       "      <td>0.000000e+00</td>\n",
       "      <td>0.000000</td>\n",
       "      <td>0.000000</td>\n",
       "    </tr>\n",
       "    <tr>\n",
       "      <th>771940</th>\n",
       "      <td>0.999996</td>\n",
       "      <td>0.008213</td>\n",
       "      <td>0.007175</td>\n",
       "      <td>0.000120</td>\n",
       "      <td>0.005646</td>\n",
       "      <td>0.008721</td>\n",
       "      <td>0.000000</td>\n",
       "      <td>0.002121</td>\n",
       "      <td>0.006881</td>\n",
       "      <td>1.000000</td>\n",
       "      <td>...</td>\n",
       "      <td>0.013499</td>\n",
       "      <td>0.454545</td>\n",
       "      <td>0.001165</td>\n",
       "      <td>0.006788</td>\n",
       "      <td>0.01179</td>\n",
       "      <td>0.000101</td>\n",
       "      <td>0.00003</td>\n",
       "      <td>9.480207e-08</td>\n",
       "      <td>0.000011</td>\n",
       "      <td>0.000788</td>\n",
       "    </tr>\n",
       "    <tr>\n",
       "      <th>137204</th>\n",
       "      <td>0.999869</td>\n",
       "      <td>0.000000</td>\n",
       "      <td>0.000109</td>\n",
       "      <td>0.000000</td>\n",
       "      <td>0.000000</td>\n",
       "      <td>0.000000</td>\n",
       "      <td>0.000000</td>\n",
       "      <td>0.000000</td>\n",
       "      <td>0.000000</td>\n",
       "      <td>0.000000</td>\n",
       "      <td>...</td>\n",
       "      <td>0.000000</td>\n",
       "      <td>0.909091</td>\n",
       "      <td>0.000000</td>\n",
       "      <td>0.000000</td>\n",
       "      <td>0.00000</td>\n",
       "      <td>0.000000</td>\n",
       "      <td>0.00000</td>\n",
       "      <td>0.000000e+00</td>\n",
       "      <td>0.000000</td>\n",
       "      <td>0.000000</td>\n",
       "    </tr>\n",
       "    <tr>\n",
       "      <th>240695</th>\n",
       "      <td>0.999869</td>\n",
       "      <td>0.000000</td>\n",
       "      <td>0.000109</td>\n",
       "      <td>0.000000</td>\n",
       "      <td>0.000000</td>\n",
       "      <td>0.000000</td>\n",
       "      <td>0.000000</td>\n",
       "      <td>0.000000</td>\n",
       "      <td>0.000000</td>\n",
       "      <td>0.000000</td>\n",
       "      <td>...</td>\n",
       "      <td>0.000000</td>\n",
       "      <td>0.727273</td>\n",
       "      <td>0.000000</td>\n",
       "      <td>0.000000</td>\n",
       "      <td>0.00000</td>\n",
       "      <td>0.000000</td>\n",
       "      <td>0.00000</td>\n",
       "      <td>0.000000e+00</td>\n",
       "      <td>0.000000</td>\n",
       "      <td>0.000000</td>\n",
       "    </tr>\n",
       "  </tbody>\n",
       "</table>\n",
       "<p>313426 rows × 76 columns</p>\n",
       "</div>"
      ],
      "text/plain": [
       "        Flow Duration  Tot Fwd Pkts  Tot Bwd Pkts  TotLen Fwd Pkts  \\\n",
       "551947       0.999869      0.000000      0.000109         0.000000   \n",
       "627330       0.999869      0.000000      0.000109         0.000004   \n",
       "806080       0.999869      0.000196      0.000000         0.000000   \n",
       "639487       0.999870      0.000391      0.000435         0.000051   \n",
       "749848       0.999869      0.000391      0.000000         0.000000   \n",
       "...               ...           ...           ...              ...   \n",
       "140072       0.999869      0.000000      0.000109         0.000000   \n",
       "576147       0.999935      0.001955      0.000978         0.000390   \n",
       "771940       0.999996      0.008213      0.007175         0.000120   \n",
       "137204       0.999869      0.000000      0.000109         0.000000   \n",
       "240695       0.999869      0.000000      0.000109         0.000000   \n",
       "\n",
       "        TotLen Bwd Pkts  Fwd Pkt Len Max  Fwd Pkt Len Min  Fwd Pkt Len Mean  \\\n",
       "551947         0.000000         0.000000         0.000000          0.000000   \n",
       "627330         0.000009         0.000497         0.026144          0.002853   \n",
       "806080         0.000000         0.000000         0.000000          0.000000   \n",
       "639487         0.000064         0.006766         0.000000          0.012956   \n",
       "749848         0.000000         0.000000         0.000000          0.000000   \n",
       "...                 ...              ...              ...               ...   \n",
       "140072         0.000000         0.000000         0.000000          0.000000   \n",
       "576147         0.000340         0.012741         0.000000          0.026907   \n",
       "771940         0.005646         0.008721         0.000000          0.002121   \n",
       "137204         0.000000         0.000000         0.000000          0.000000   \n",
       "240695         0.000000         0.000000         0.000000          0.000000   \n",
       "\n",
       "        Fwd Pkt Len Std  Bwd Pkt Len Max  ...  Fwd Act Data Pkts  \\\n",
       "551947         0.000000         0.000000  ...           0.000000   \n",
       "627330         0.000000         0.082877  ...           0.000000   \n",
       "806080         0.000000         0.000000  ...           0.000000   \n",
       "639487         0.015972         0.588356  ...           0.001038   \n",
       "749848         0.000000         0.000000  ...           0.000000   \n",
       "...                 ...              ...  ...                ...   \n",
       "140072         0.000000         0.000000  ...           0.000000   \n",
       "576147         0.022580         1.000000  ...           0.006231   \n",
       "771940         0.006881         1.000000  ...           0.013499   \n",
       "137204         0.000000         0.000000  ...           0.000000   \n",
       "240695         0.000000         0.000000  ...           0.000000   \n",
       "\n",
       "        Fwd Seg Size Min  Active Mean  Active Std  Active Max  Active Min  \\\n",
       "551947          0.454545     0.000000    0.000000     0.00000    0.000000   \n",
       "627330          0.181818     0.000000    0.000000     0.00000    0.000000   \n",
       "806080          0.454545     0.000000    0.000000     0.00000    0.000000   \n",
       "639487          0.454545     0.000000    0.000000     0.00000    0.000000   \n",
       "749848          0.454545     0.000000    0.000000     0.00000    0.000000   \n",
       "...                  ...          ...         ...         ...         ...   \n",
       "140072          0.909091     0.000000    0.000000     0.00000    0.000000   \n",
       "576147          0.454545     0.000000    0.000000     0.00000    0.000000   \n",
       "771940          0.454545     0.001165    0.006788     0.01179    0.000101   \n",
       "137204          0.909091     0.000000    0.000000     0.00000    0.000000   \n",
       "240695          0.727273     0.000000    0.000000     0.00000    0.000000   \n",
       "\n",
       "        Idle Mean      Idle Std  Idle Max  Idle Min  \n",
       "551947    0.00000  0.000000e+00  0.000000  0.000000  \n",
       "627330    0.00000  0.000000e+00  0.000000  0.000000  \n",
       "806080    0.00000  0.000000e+00  0.000000  0.000000  \n",
       "639487    0.00000  0.000000e+00  0.000000  0.000000  \n",
       "749848    0.00000  0.000000e+00  0.000000  0.000000  \n",
       "...           ...           ...       ...       ...  \n",
       "140072    0.00000  0.000000e+00  0.000000  0.000000  \n",
       "576147    0.00000  0.000000e+00  0.000000  0.000000  \n",
       "771940    0.00003  9.480207e-08  0.000011  0.000788  \n",
       "137204    0.00000  0.000000e+00  0.000000  0.000000  \n",
       "240695    0.00000  0.000000e+00  0.000000  0.000000  \n",
       "\n",
       "[313426 rows x 76 columns]"
      ]
     },
     "execution_count": 64,
     "metadata": {},
     "output_type": "execute_result"
    }
   ],
   "source": [
    "test[numerical_columns]"
   ]
  },
  {
   "cell_type": "code",
   "execution_count": null,
   "id": "68c4eb34",
   "metadata": {
    "execution": {
     "iopub.execute_input": "2022-10-20T08:31:42.370658Z",
     "iopub.status.busy": "2022-10-20T08:31:42.370157Z",
     "iopub.status.idle": "2022-10-20T08:31:43.705005Z",
     "shell.execute_reply": "2022-10-20T08:31:43.703559Z"
    },
    "papermill": {
     "duration": 2.279149,
     "end_time": "2022-10-20T08:31:43.707553",
     "exception": false,
     "start_time": "2022-10-20T08:31:41.428404",
     "status": "completed"
    },
    "tags": []
   },
   "outputs": [
    {
     "data": {
      "text/html": [
       "<div>\n",
       "<style scoped>\n",
       "    .dataframe tbody tr th:only-of-type {\n",
       "        vertical-align: middle;\n",
       "    }\n",
       "\n",
       "    .dataframe tbody tr th {\n",
       "        vertical-align: top;\n",
       "    }\n",
       "\n",
       "    .dataframe thead th {\n",
       "        text-align: right;\n",
       "    }\n",
       "</style>\n",
       "<table border=\"1\" class=\"dataframe\">\n",
       "  <thead>\n",
       "    <tr style=\"text-align: right;\">\n",
       "      <th></th>\n",
       "      <th>Dst Port</th>\n",
       "      <th>Protocol</th>\n",
       "      <th>Flow Duration</th>\n",
       "      <th>Tot Fwd Pkts</th>\n",
       "      <th>Tot Bwd Pkts</th>\n",
       "      <th>TotLen Fwd Pkts</th>\n",
       "      <th>TotLen Bwd Pkts</th>\n",
       "      <th>Fwd Pkt Len Max</th>\n",
       "      <th>Fwd Pkt Len Min</th>\n",
       "      <th>Fwd Pkt Len Mean</th>\n",
       "      <th>...</th>\n",
       "      <th>Fwd Seg Size Min</th>\n",
       "      <th>Active Mean</th>\n",
       "      <th>Active Std</th>\n",
       "      <th>Active Max</th>\n",
       "      <th>Active Min</th>\n",
       "      <th>Idle Mean</th>\n",
       "      <th>Idle Std</th>\n",
       "      <th>Idle Max</th>\n",
       "      <th>Idle Min</th>\n",
       "      <th>Label</th>\n",
       "    </tr>\n",
       "  </thead>\n",
       "  <tbody>\n",
       "    <tr>\n",
       "      <th>count</th>\n",
       "      <td>313426.000000</td>\n",
       "      <td>313426.000000</td>\n",
       "      <td>313426.000000</td>\n",
       "      <td>313426.000000</td>\n",
       "      <td>313426.000000</td>\n",
       "      <td>313426.000000</td>\n",
       "      <td>313426.000000</td>\n",
       "      <td>313426.000000</td>\n",
       "      <td>313426.000000</td>\n",
       "      <td>313426.000000</td>\n",
       "      <td>...</td>\n",
       "      <td>313426.000000</td>\n",
       "      <td>313426.000000</td>\n",
       "      <td>313426.000000</td>\n",
       "      <td>313426.000000</td>\n",
       "      <td>313426.000000</td>\n",
       "      <td>313426.000000</td>\n",
       "      <td>313426.000000</td>\n",
       "      <td>313426.000000</td>\n",
       "      <td>313426.000000</td>\n",
       "      <td>313426.000000</td>\n",
       "    </tr>\n",
       "    <tr>\n",
       "      <th>mean</th>\n",
       "      <td>4698.162871</td>\n",
       "      <td>8.126684</td>\n",
       "      <td>0.999878</td>\n",
       "      <td>0.001029</td>\n",
       "      <td>0.000801</td>\n",
       "      <td>0.000055</td>\n",
       "      <td>0.000353</td>\n",
       "      <td>0.002707</td>\n",
       "      <td>0.006923</td>\n",
       "      <td>0.003462</td>\n",
       "      <td>...</td>\n",
       "      <td>0.529432</td>\n",
       "      <td>0.000462</td>\n",
       "      <td>0.000373</td>\n",
       "      <td>0.000788</td>\n",
       "      <td>0.000357</td>\n",
       "      <td>0.000010</td>\n",
       "      <td>0.000004</td>\n",
       "      <td>0.000006</td>\n",
       "      <td>0.000168</td>\n",
       "      <td>0.365442</td>\n",
       "    </tr>\n",
       "    <tr>\n",
       "      <th>std</th>\n",
       "      <td>14188.925828</td>\n",
       "      <td>4.475017</td>\n",
       "      <td>0.000533</td>\n",
       "      <td>0.009059</td>\n",
       "      <td>0.011951</td>\n",
       "      <td>0.002548</td>\n",
       "      <td>0.011840</td>\n",
       "      <td>0.004523</td>\n",
       "      <td>0.016172</td>\n",
       "      <td>0.004837</td>\n",
       "      <td>...</td>\n",
       "      <td>0.252226</td>\n",
       "      <td>0.004828</td>\n",
       "      <td>0.003566</td>\n",
       "      <td>0.006288</td>\n",
       "      <td>0.004635</td>\n",
       "      <td>0.001817</td>\n",
       "      <td>0.001828</td>\n",
       "      <td>0.001845</td>\n",
       "      <td>0.001352</td>\n",
       "      <td>0.481555</td>\n",
       "    </tr>\n",
       "    <tr>\n",
       "      <th>min</th>\n",
       "      <td>0.000000</td>\n",
       "      <td>0.000000</td>\n",
       "      <td>0.701925</td>\n",
       "      <td>0.000000</td>\n",
       "      <td>0.000000</td>\n",
       "      <td>0.000000</td>\n",
       "      <td>0.000000</td>\n",
       "      <td>0.000000</td>\n",
       "      <td>0.000000</td>\n",
       "      <td>0.000000</td>\n",
       "      <td>...</td>\n",
       "      <td>0.000000</td>\n",
       "      <td>0.000000</td>\n",
       "      <td>0.000000</td>\n",
       "      <td>0.000000</td>\n",
       "      <td>0.000000</td>\n",
       "      <td>0.000000</td>\n",
       "      <td>0.000000</td>\n",
       "      <td>0.000000</td>\n",
       "      <td>0.000000</td>\n",
       "      <td>0.000000</td>\n",
       "    </tr>\n",
       "    <tr>\n",
       "      <th>25%</th>\n",
       "      <td>22.000000</td>\n",
       "      <td>6.000000</td>\n",
       "      <td>0.999869</td>\n",
       "      <td>0.000000</td>\n",
       "      <td>0.000109</td>\n",
       "      <td>0.000000</td>\n",
       "      <td>0.000000</td>\n",
       "      <td>0.000000</td>\n",
       "      <td>0.000000</td>\n",
       "      <td>0.000000</td>\n",
       "      <td>...</td>\n",
       "      <td>0.454545</td>\n",
       "      <td>0.000000</td>\n",
       "      <td>0.000000</td>\n",
       "      <td>0.000000</td>\n",
       "      <td>0.000000</td>\n",
       "      <td>0.000000</td>\n",
       "      <td>0.000000</td>\n",
       "      <td>0.000000</td>\n",
       "      <td>0.000000</td>\n",
       "      <td>0.000000</td>\n",
       "    </tr>\n",
       "    <tr>\n",
       "      <th>50%</th>\n",
       "      <td>53.000000</td>\n",
       "      <td>6.000000</td>\n",
       "      <td>0.999869</td>\n",
       "      <td>0.000196</td>\n",
       "      <td>0.000109</td>\n",
       "      <td>0.000004</td>\n",
       "      <td>0.000004</td>\n",
       "      <td>0.000528</td>\n",
       "      <td>0.000000</td>\n",
       "      <td>0.002288</td>\n",
       "      <td>...</td>\n",
       "      <td>0.454545</td>\n",
       "      <td>0.000000</td>\n",
       "      <td>0.000000</td>\n",
       "      <td>0.000000</td>\n",
       "      <td>0.000000</td>\n",
       "      <td>0.000000</td>\n",
       "      <td>0.000000</td>\n",
       "      <td>0.000000</td>\n",
       "      <td>0.000000</td>\n",
       "      <td>0.000000</td>\n",
       "    </tr>\n",
       "    <tr>\n",
       "      <th>75%</th>\n",
       "      <td>443.000000</td>\n",
       "      <td>6.000000</td>\n",
       "      <td>0.999870</td>\n",
       "      <td>0.001173</td>\n",
       "      <td>0.000652</td>\n",
       "      <td>0.000053</td>\n",
       "      <td>0.000057</td>\n",
       "      <td>0.003088</td>\n",
       "      <td>0.000000</td>\n",
       "      <td>0.004957</td>\n",
       "      <td>...</td>\n",
       "      <td>0.727273</td>\n",
       "      <td>0.000000</td>\n",
       "      <td>0.000000</td>\n",
       "      <td>0.000000</td>\n",
       "      <td>0.000000</td>\n",
       "      <td>0.000000</td>\n",
       "      <td>0.000000</td>\n",
       "      <td>0.000000</td>\n",
       "      <td>0.000000</td>\n",
       "      <td>1.000000</td>\n",
       "    </tr>\n",
       "    <tr>\n",
       "      <th>max</th>\n",
       "      <td>65533.000000</td>\n",
       "      <td>17.000000</td>\n",
       "      <td>1.000000</td>\n",
       "      <td>0.965976</td>\n",
       "      <td>0.987497</td>\n",
       "      <td>1.008940</td>\n",
       "      <td>0.985387</td>\n",
       "      <td>0.733333</td>\n",
       "      <td>1.192810</td>\n",
       "      <td>0.735931</td>\n",
       "      <td>...</td>\n",
       "      <td>1.090909</td>\n",
       "      <td>0.916304</td>\n",
       "      <td>0.370338</td>\n",
       "      <td>0.916304</td>\n",
       "      <td>0.916304</td>\n",
       "      <td>1.017063</td>\n",
       "      <td>1.023203</td>\n",
       "      <td>1.033055</td>\n",
       "      <td>0.615568</td>\n",
       "      <td>1.000000</td>\n",
       "    </tr>\n",
       "  </tbody>\n",
       "</table>\n",
       "<p>8 rows × 79 columns</p>\n",
       "</div>"
      ],
      "text/plain": [
       "            Dst Port       Protocol  Flow Duration   Tot Fwd Pkts  \\\n",
       "count  313426.000000  313426.000000  313426.000000  313426.000000   \n",
       "mean     4698.162871       8.126684       0.999878       0.001029   \n",
       "std     14188.925828       4.475017       0.000533       0.009059   \n",
       "min         0.000000       0.000000       0.701925       0.000000   \n",
       "25%        22.000000       6.000000       0.999869       0.000000   \n",
       "50%        53.000000       6.000000       0.999869       0.000196   \n",
       "75%       443.000000       6.000000       0.999870       0.001173   \n",
       "max     65533.000000      17.000000       1.000000       0.965976   \n",
       "\n",
       "        Tot Bwd Pkts  TotLen Fwd Pkts  TotLen Bwd Pkts  Fwd Pkt Len Max  \\\n",
       "count  313426.000000    313426.000000    313426.000000    313426.000000   \n",
       "mean        0.000801         0.000055         0.000353         0.002707   \n",
       "std         0.011951         0.002548         0.011840         0.004523   \n",
       "min         0.000000         0.000000         0.000000         0.000000   \n",
       "25%         0.000109         0.000000         0.000000         0.000000   \n",
       "50%         0.000109         0.000004         0.000004         0.000528   \n",
       "75%         0.000652         0.000053         0.000057         0.003088   \n",
       "max         0.987497         1.008940         0.985387         0.733333   \n",
       "\n",
       "       Fwd Pkt Len Min  Fwd Pkt Len Mean  ...  Fwd Seg Size Min  \\\n",
       "count    313426.000000     313426.000000  ...     313426.000000   \n",
       "mean          0.006923          0.003462  ...          0.529432   \n",
       "std           0.016172          0.004837  ...          0.252226   \n",
       "min           0.000000          0.000000  ...          0.000000   \n",
       "25%           0.000000          0.000000  ...          0.454545   \n",
       "50%           0.000000          0.002288  ...          0.454545   \n",
       "75%           0.000000          0.004957  ...          0.727273   \n",
       "max           1.192810          0.735931  ...          1.090909   \n",
       "\n",
       "         Active Mean     Active Std     Active Max     Active Min  \\\n",
       "count  313426.000000  313426.000000  313426.000000  313426.000000   \n",
       "mean        0.000462       0.000373       0.000788       0.000357   \n",
       "std         0.004828       0.003566       0.006288       0.004635   \n",
       "min         0.000000       0.000000       0.000000       0.000000   \n",
       "25%         0.000000       0.000000       0.000000       0.000000   \n",
       "50%         0.000000       0.000000       0.000000       0.000000   \n",
       "75%         0.000000       0.000000       0.000000       0.000000   \n",
       "max         0.916304       0.370338       0.916304       0.916304   \n",
       "\n",
       "           Idle Mean       Idle Std       Idle Max       Idle Min  \\\n",
       "count  313426.000000  313426.000000  313426.000000  313426.000000   \n",
       "mean        0.000010       0.000004       0.000006       0.000168   \n",
       "std         0.001817       0.001828       0.001845       0.001352   \n",
       "min         0.000000       0.000000       0.000000       0.000000   \n",
       "25%         0.000000       0.000000       0.000000       0.000000   \n",
       "50%         0.000000       0.000000       0.000000       0.000000   \n",
       "75%         0.000000       0.000000       0.000000       0.000000   \n",
       "max         1.017063       1.023203       1.033055       0.615568   \n",
       "\n",
       "               Label  \n",
       "count  313426.000000  \n",
       "mean        0.365442  \n",
       "std         0.481555  \n",
       "min         0.000000  \n",
       "25%         0.000000  \n",
       "50%         0.000000  \n",
       "75%         1.000000  \n",
       "max         1.000000  \n",
       "\n",
       "[8 rows x 79 columns]"
      ]
     },
     "execution_count": 65,
     "metadata": {},
     "output_type": "execute_result"
    }
   ],
   "source": [
    "test.describe()"
   ]
  },
  {
   "cell_type": "code",
   "execution_count": null,
   "id": "5b6ef137",
   "metadata": {
    "execution": {
     "iopub.execute_input": "2022-10-20T08:31:45.585924Z",
     "iopub.status.busy": "2022-10-20T08:31:45.585061Z",
     "iopub.status.idle": "2022-10-20T08:31:45.668755Z",
     "shell.execute_reply": "2022-10-20T08:31:45.666795Z"
    },
    "papermill": {
     "duration": 1.011982,
     "end_time": "2022-10-20T08:31:45.671227",
     "exception": false,
     "start_time": "2022-10-20T08:31:44.659245",
     "status": "completed"
    },
    "tags": []
   },
   "outputs": [
    {
     "name": "stdout",
     "output_type": "stream",
     "text": [
      "<class 'pandas.core.frame.DataFrame'>\n",
      "Int64Index: 313426 entries, 551947 to 240695\n",
      "Data columns (total 79 columns):\n",
      " #   Column             Non-Null Count   Dtype  \n",
      "---  ------             --------------   -----  \n",
      " 0   Dst Port           313426 non-null  int64  \n",
      " 1   Protocol           313426 non-null  int64  \n",
      " 2   Flow Duration      313426 non-null  float64\n",
      " 3   Tot Fwd Pkts       313426 non-null  float64\n",
      " 4   Tot Bwd Pkts       313426 non-null  float64\n",
      " 5   TotLen Fwd Pkts    313426 non-null  float64\n",
      " 6   TotLen Bwd Pkts    313426 non-null  float64\n",
      " 7   Fwd Pkt Len Max    313426 non-null  float64\n",
      " 8   Fwd Pkt Len Min    313426 non-null  float64\n",
      " 9   Fwd Pkt Len Mean   313426 non-null  float64\n",
      " 10  Fwd Pkt Len Std    313426 non-null  float64\n",
      " 11  Bwd Pkt Len Max    313426 non-null  float64\n",
      " 12  Bwd Pkt Len Min    313426 non-null  float64\n",
      " 13  Bwd Pkt Len Mean   313426 non-null  float64\n",
      " 14  Bwd Pkt Len Std    313426 non-null  float64\n",
      " 15  Flow Byts/s        313426 non-null  float64\n",
      " 16  Flow Pkts/s        313426 non-null  float64\n",
      " 17  Flow IAT Mean      313426 non-null  float64\n",
      " 18  Flow IAT Std       313426 non-null  float64\n",
      " 19  Flow IAT Max       313426 non-null  float64\n",
      " 20  Flow IAT Min       313426 non-null  float64\n",
      " 21  Fwd IAT Tot        313426 non-null  float64\n",
      " 22  Fwd IAT Mean       313426 non-null  float64\n",
      " 23  Fwd IAT Std        313426 non-null  float64\n",
      " 24  Fwd IAT Max        313426 non-null  float64\n",
      " 25  Fwd IAT Min        313426 non-null  float64\n",
      " 26  Bwd IAT Tot        313426 non-null  float64\n",
      " 27  Bwd IAT Mean       313426 non-null  float64\n",
      " 28  Bwd IAT Std        313426 non-null  float64\n",
      " 29  Bwd IAT Max        313426 non-null  float64\n",
      " 30  Bwd IAT Min        313426 non-null  float64\n",
      " 31  Fwd PSH Flags      313426 non-null  float64\n",
      " 32  Bwd PSH Flags      313426 non-null  float64\n",
      " 33  Fwd URG Flags      313426 non-null  float64\n",
      " 34  Bwd URG Flags      313426 non-null  float64\n",
      " 35  Fwd Header Len     313426 non-null  float64\n",
      " 36  Bwd Header Len     313426 non-null  float64\n",
      " 37  Fwd Pkts/s         313426 non-null  float64\n",
      " 38  Bwd Pkts/s         313426 non-null  float64\n",
      " 39  Pkt Len Min        313426 non-null  float64\n",
      " 40  Pkt Len Max        313426 non-null  float64\n",
      " 41  Pkt Len Mean       313426 non-null  float64\n",
      " 42  Pkt Len Std        313426 non-null  float64\n",
      " 43  Pkt Len Var        313426 non-null  float64\n",
      " 44  FIN Flag Cnt       313426 non-null  float64\n",
      " 45  SYN Flag Cnt       313426 non-null  float64\n",
      " 46  RST Flag Cnt       313426 non-null  float64\n",
      " 47  PSH Flag Cnt       313426 non-null  float64\n",
      " 48  ACK Flag Cnt       313426 non-null  float64\n",
      " 49  URG Flag Cnt       313426 non-null  float64\n",
      " 50  CWE Flag Count     313426 non-null  float64\n",
      " 51  ECE Flag Cnt       313426 non-null  float64\n",
      " 52  Down/Up Ratio      313426 non-null  float64\n",
      " 53  Pkt Size Avg       313426 non-null  float64\n",
      " 54  Fwd Seg Size Avg   313426 non-null  float64\n",
      " 55  Bwd Seg Size Avg   313426 non-null  float64\n",
      " 56  Fwd Byts/b Avg     313426 non-null  float64\n",
      " 57  Fwd Pkts/b Avg     313426 non-null  float64\n",
      " 58  Fwd Blk Rate Avg   313426 non-null  float64\n",
      " 59  Bwd Byts/b Avg     313426 non-null  float64\n",
      " 60  Bwd Pkts/b Avg     313426 non-null  float64\n",
      " 61  Bwd Blk Rate Avg   313426 non-null  float64\n",
      " 62  Subflow Fwd Pkts   313426 non-null  float64\n",
      " 63  Subflow Fwd Byts   313426 non-null  float64\n",
      " 64  Subflow Bwd Pkts   313426 non-null  float64\n",
      " 65  Subflow Bwd Byts   313426 non-null  float64\n",
      " 66  Init Fwd Win Byts  313426 non-null  float64\n",
      " 67  Init Bwd Win Byts  313426 non-null  float64\n",
      " 68  Fwd Act Data Pkts  313426 non-null  float64\n",
      " 69  Fwd Seg Size Min   313426 non-null  float64\n",
      " 70  Active Mean        313426 non-null  float64\n",
      " 71  Active Std         313426 non-null  float64\n",
      " 72  Active Max         313426 non-null  float64\n",
      " 73  Active Min         313426 non-null  float64\n",
      " 74  Idle Mean          313426 non-null  float64\n",
      " 75  Idle Std           313426 non-null  float64\n",
      " 76  Idle Max           313426 non-null  float64\n",
      " 77  Idle Min           313426 non-null  float64\n",
      " 78  Label              313426 non-null  int64  \n",
      "dtypes: float64(76), int64(3)\n",
      "memory usage: 191.3 MB\n"
     ]
    }
   ],
   "source": [
    "test.info()"
   ]
  },
  {
   "cell_type": "code",
   "execution_count": null,
   "id": "39f4efaf",
   "metadata": {
    "execution": {
     "iopub.execute_input": "2022-10-20T08:31:47.491798Z",
     "iopub.status.busy": "2022-10-20T08:31:47.490925Z",
     "iopub.status.idle": "2022-10-20T08:31:47.548125Z",
     "shell.execute_reply": "2022-10-20T08:31:47.546672Z"
    },
    "papermill": {
     "duration": 0.935509,
     "end_time": "2022-10-20T08:31:47.550674",
     "exception": false,
     "start_time": "2022-10-20T08:31:46.615165",
     "status": "completed"
    },
    "tags": []
   },
   "outputs": [
    {
     "name": "stdout",
     "output_type": "stream",
     "text": [
      "Full dataset:\n",
      "\n",
      "Benign: 663808\n",
      "Malicious: 380943\n",
      "---------------\n",
      "Training set:\n",
      "\n",
      "Benign: 464921\n",
      "Malicious: 266404\n",
      "---------------\n",
      "Test set:\n",
      "\n",
      "Benign: 198887\n",
      "Malicious: 114539\n"
     ]
    }
   ],
   "source": [
    "print(\"Full dataset:\\n\")\n",
    "print(\"Benign: \" + str(df[\"Label\"].value_counts()[[0]].sum()))\n",
    "print(\"Malicious: \" + str(df[\"Label\"].value_counts()[[1]].sum()))\n",
    "print(\"---------------\")\n",
    "\n",
    "print(\"Training set:\\n\")\n",
    "print(\"Benign: \" + str(train[\"Label\"].value_counts()[[0]].sum()))\n",
    "print(\"Malicious: \" + str(train[\"Label\"].value_counts()[[1]].sum()))\n",
    "print(\"---------------\")\n",
    "\n",
    "print(\"Test set:\\n\")\n",
    "print(\"Benign: \" + str(test[\"Label\"].value_counts()[[0]].sum()))\n",
    "print(\"Malicious: \" + str(test[\"Label\"].value_counts()[[1]].sum()))"
   ]
  },
  {
   "cell_type": "code",
   "execution_count": null,
   "id": "568393b3",
   "metadata": {
    "execution": {
     "iopub.execute_input": "2022-10-20T08:31:49.429430Z",
     "iopub.status.busy": "2022-10-20T08:31:49.428677Z",
     "iopub.status.idle": "2022-10-20T08:31:49.905708Z",
     "shell.execute_reply": "2022-10-20T08:31:49.904394Z"
    },
    "papermill": {
     "duration": 1.423808,
     "end_time": "2022-10-20T08:31:49.908420",
     "exception": false,
     "start_time": "2022-10-20T08:31:48.484612",
     "status": "completed"
    },
    "tags": []
   },
   "outputs": [
    {
     "data": {
      "text/plain": [
       "551947    0\n",
       "627330    0\n",
       "806080    0\n",
       "639487    0\n",
       "749848    0\n",
       "         ..\n",
       "140072    1\n",
       "576147    0\n",
       "771940    0\n",
       "137204    1\n",
       "240695    1\n",
       "Name: Label, Length: 313426, dtype: int64"
      ]
     },
     "execution_count": 68,
     "metadata": {},
     "output_type": "execute_result"
    }
   ],
   "source": [
    "y_train = train.pop(\"Label\")\n",
    "X_train = train.values\n",
    "y_test = test.pop(\"Label\")\n",
    "X_test = test.values\n",
    "\n",
    "\n",
    "y_test"
   ]
  },
  {
   "cell_type": "code",
   "execution_count": null,
   "id": "d9f64b91",
   "metadata": {
    "execution": {
     "iopub.execute_input": "2022-10-20T08:31:51.717056Z",
     "iopub.status.busy": "2022-10-20T08:31:51.716202Z",
     "iopub.status.idle": "2022-10-20T08:31:51.724472Z",
     "shell.execute_reply": "2022-10-20T08:31:51.723645Z"
    },
    "papermill": {
     "duration": 0.953088,
     "end_time": "2022-10-20T08:31:51.726546",
     "exception": false,
     "start_time": "2022-10-20T08:31:50.773458",
     "status": "completed"
    },
    "tags": []
   },
   "outputs": [
    {
     "data": {
      "text/plain": [
       "515047    0\n",
       "546837    0\n",
       "7424      1\n",
       "289213    1\n",
       "126528    1\n",
       "         ..\n",
       "565481    0\n",
       "413144    0\n",
       "255371    1\n",
       "761507    0\n",
       "473471    0\n",
       "Name: Label, Length: 731325, dtype: int64"
      ]
     },
     "execution_count": 69,
     "metadata": {},
     "output_type": "execute_result"
    }
   ],
   "source": [
    "y_train"
   ]
  },
  {
   "cell_type": "markdown",
   "id": "a56ec1ea",
   "metadata": {
    "papermill": {
     "duration": 1.00422,
     "end_time": "2022-10-20T08:31:53.592558",
     "exception": false,
     "start_time": "2022-10-20T08:31:52.588338",
     "status": "completed"
    },
    "tags": []
   },
   "source": [
    "We need to change the labels as an Isolation Forest will give us 1 for a Benign input (inlier) and a -1 for a Malicious input (outlier)."
   ]
  },
  {
   "cell_type": "code",
   "execution_count": null,
   "id": "c321ea11",
   "metadata": {
    "execution": {
     "iopub.execute_input": "2022-10-20T08:31:55.319106Z",
     "iopub.status.busy": "2022-10-20T08:31:55.318671Z",
     "iopub.status.idle": "2022-10-20T08:31:55.608573Z",
     "shell.execute_reply": "2022-10-20T08:31:55.607417Z"
    },
    "papermill": {
     "duration": 1.152089,
     "end_time": "2022-10-20T08:31:55.610895",
     "exception": false,
     "start_time": "2022-10-20T08:31:54.458806",
     "status": "completed"
    },
    "tags": []
   },
   "outputs": [
    {
     "name": "stderr",
     "output_type": "stream",
     "text": [
      "C:\\Users\\Om\\AppData\\Local\\Temp\\ipykernel_18888\\843431635.py:10: SettingWithCopyWarning:\n",
      "\n",
      "\n",
      "A value is trying to be set on a copy of a slice from a DataFrame\n",
      "\n",
      "See the caveats in the documentation: https://pandas.pydata.org/pandas-docs/stable/user_guide/indexing.html#returning-a-view-versus-a-copy\n",
      "\n",
      "C:\\Users\\Om\\AppData\\Local\\Temp\\ipykernel_18888\\843431635.py:11: SettingWithCopyWarning:\n",
      "\n",
      "\n",
      "A value is trying to be set on a copy of a slice from a DataFrame\n",
      "\n",
      "See the caveats in the documentation: https://pandas.pydata.org/pandas-docs/stable/user_guide/indexing.html#returning-a-view-versus-a-copy\n",
      "\n",
      "C:\\Users\\Om\\AppData\\Local\\Temp\\ipykernel_18888\\843431635.py:14: SettingWithCopyWarning:\n",
      "\n",
      "\n",
      "A value is trying to be set on a copy of a slice from a DataFrame\n",
      "\n",
      "See the caveats in the documentation: https://pandas.pydata.org/pandas-docs/stable/user_guide/indexing.html#returning-a-view-versus-a-copy\n",
      "\n",
      "C:\\Users\\Om\\AppData\\Local\\Temp\\ipykernel_18888\\843431635.py:15: SettingWithCopyWarning:\n",
      "\n",
      "\n",
      "A value is trying to be set on a copy of a slice from a DataFrame\n",
      "\n",
      "See the caveats in the documentation: https://pandas.pydata.org/pandas-docs/stable/user_guide/indexing.html#returning-a-view-versus-a-copy\n",
      "\n"
     ]
    },
    {
     "name": "stdout",
     "output_type": "stream",
     "text": [
      "{1: 464921, -1: 266404}\n"
     ]
    },
    {
     "data": {
      "text/plain": [
       "{1: 198887, -1: 114539}"
      ]
     },
     "execution_count": 70,
     "metadata": {},
     "output_type": "execute_result"
    }
   ],
   "source": [
    "def freq_count(data):\n",
    "    mp = dict();\n",
    "    for i in data:\n",
    "        if i in mp:\n",
    "            mp[i] = mp[i]+1\n",
    "        else:\n",
    "            mp[i] = 1\n",
    "    return mp\n",
    "\n",
    "y_train[y_train == 1] = -1\n",
    "y_train[y_train == 0] = 1\n",
    "print(freq_count(y_train))\n",
    "\n",
    "y_test[y_test == 1] = -1\n",
    "y_test[y_test == 0] = 1\n",
    "freq_count(y_test)"
   ]
  },
  {
   "cell_type": "code",
   "execution_count": null,
   "id": "912d9be1",
   "metadata": {
    "execution": {
     "iopub.execute_input": "2022-10-20T08:31:57.538480Z",
     "iopub.status.busy": "2022-10-20T08:31:57.537077Z",
     "iopub.status.idle": "2022-10-20T08:31:57.543360Z",
     "shell.execute_reply": "2022-10-20T08:31:57.542055Z"
    },
    "papermill": {
     "duration": 0.945625,
     "end_time": "2022-10-20T08:31:57.545756",
     "exception": false,
     "start_time": "2022-10-20T08:31:56.600131",
     "status": "completed"
    },
    "tags": []
   },
   "outputs": [],
   "source": [
    "from sklearn.ensemble import IsolationForest\n",
    "iFM = IsolationForest(\n",
    "    n_estimators = 100,\n",
    "    max_samples = \"auto\",\n",
    "    random_state = 42,\n",
    "    warm_start = False\n",
    ")"
   ]
  },
  {
   "cell_type": "code",
   "execution_count": null,
   "id": "7d988a79",
   "metadata": {
    "execution": {
     "iopub.execute_input": "2022-10-20T08:31:59.337432Z",
     "iopub.status.busy": "2022-10-20T08:31:59.336561Z",
     "iopub.status.idle": "2022-10-20T08:31:59.342405Z",
     "shell.execute_reply": "2022-10-20T08:31:59.341533Z"
    },
    "papermill": {
     "duration": 0.940041,
     "end_time": "2022-10-20T08:31:59.344654",
     "exception": false,
     "start_time": "2022-10-20T08:31:58.404613",
     "status": "completed"
    },
    "tags": []
   },
   "outputs": [],
   "source": [
    "hyperparameters = {\n",
    "    'n_estimators': [50, 75, 100, 125, 150]\n",
    "}\n",
    "\n",
    "isolationForestCV = GridSearchCV(\n",
    "    estimator=iFM,\n",
    "    scoring = 'accuracy',\n",
    "    param_grid=hyperparameters,\n",
    "    cv=5,\n",
    "    verbose=1,\n",
    "    n_jobs=-1  # Use all available CPU cores\n",
    ")"
   ]
  },
  {
   "cell_type": "code",
   "execution_count": null,
   "id": "420d99a2",
   "metadata": {
    "execution": {
     "iopub.execute_input": "2022-10-20T08:32:01.135451Z",
     "iopub.status.busy": "2022-10-20T08:32:01.134983Z",
     "iopub.status.idle": "2022-10-20T08:47:52.016952Z",
     "shell.execute_reply": "2022-10-20T08:47:52.015649Z"
    },
    "papermill": {
     "duration": 952.769317,
     "end_time": "2022-10-20T08:47:52.970475",
     "exception": false,
     "start_time": "2022-10-20T08:32:00.201158",
     "status": "completed"
    },
    "tags": []
   },
   "outputs": [
    {
     "name": "stdout",
     "output_type": "stream",
     "text": [
      "Fitting 5 folds for each of 5 candidates, totalling 25 fits\n"
     ]
    },
    {
     "data": {
      "text/html": [
       "<style>#sk-container-id-3 {color: black;}#sk-container-id-3 pre{padding: 0;}#sk-container-id-3 div.sk-toggleable {background-color: white;}#sk-container-id-3 label.sk-toggleable__label {cursor: pointer;display: block;width: 100%;margin-bottom: 0;padding: 0.3em;box-sizing: border-box;text-align: center;}#sk-container-id-3 label.sk-toggleable__label-arrow:before {content: \"▸\";float: left;margin-right: 0.25em;color: #696969;}#sk-container-id-3 label.sk-toggleable__label-arrow:hover:before {color: black;}#sk-container-id-3 div.sk-estimator:hover label.sk-toggleable__label-arrow:before {color: black;}#sk-container-id-3 div.sk-toggleable__content {max-height: 0;max-width: 0;overflow: hidden;text-align: left;background-color: #f0f8ff;}#sk-container-id-3 div.sk-toggleable__content pre {margin: 0.2em;color: black;border-radius: 0.25em;background-color: #f0f8ff;}#sk-container-id-3 input.sk-toggleable__control:checked~div.sk-toggleable__content {max-height: 200px;max-width: 100%;overflow: auto;}#sk-container-id-3 input.sk-toggleable__control:checked~label.sk-toggleable__label-arrow:before {content: \"▾\";}#sk-container-id-3 div.sk-estimator input.sk-toggleable__control:checked~label.sk-toggleable__label {background-color: #d4ebff;}#sk-container-id-3 div.sk-label input.sk-toggleable__control:checked~label.sk-toggleable__label {background-color: #d4ebff;}#sk-container-id-3 input.sk-hidden--visually {border: 0;clip: rect(1px 1px 1px 1px);clip: rect(1px, 1px, 1px, 1px);height: 1px;margin: -1px;overflow: hidden;padding: 0;position: absolute;width: 1px;}#sk-container-id-3 div.sk-estimator {font-family: monospace;background-color: #f0f8ff;border: 1px dotted black;border-radius: 0.25em;box-sizing: border-box;margin-bottom: 0.5em;}#sk-container-id-3 div.sk-estimator:hover {background-color: #d4ebff;}#sk-container-id-3 div.sk-parallel-item::after {content: \"\";width: 100%;border-bottom: 1px solid gray;flex-grow: 1;}#sk-container-id-3 div.sk-label:hover label.sk-toggleable__label {background-color: #d4ebff;}#sk-container-id-3 div.sk-serial::before {content: \"\";position: absolute;border-left: 1px solid gray;box-sizing: border-box;top: 0;bottom: 0;left: 50%;z-index: 0;}#sk-container-id-3 div.sk-serial {display: flex;flex-direction: column;align-items: center;background-color: white;padding-right: 0.2em;padding-left: 0.2em;position: relative;}#sk-container-id-3 div.sk-item {position: relative;z-index: 1;}#sk-container-id-3 div.sk-parallel {display: flex;align-items: stretch;justify-content: center;background-color: white;position: relative;}#sk-container-id-3 div.sk-item::before, #sk-container-id-3 div.sk-parallel-item::before {content: \"\";position: absolute;border-left: 1px solid gray;box-sizing: border-box;top: 0;bottom: 0;left: 50%;z-index: -1;}#sk-container-id-3 div.sk-parallel-item {display: flex;flex-direction: column;z-index: 1;position: relative;background-color: white;}#sk-container-id-3 div.sk-parallel-item:first-child::after {align-self: flex-end;width: 50%;}#sk-container-id-3 div.sk-parallel-item:last-child::after {align-self: flex-start;width: 50%;}#sk-container-id-3 div.sk-parallel-item:only-child::after {width: 0;}#sk-container-id-3 div.sk-dashed-wrapped {border: 1px dashed gray;margin: 0 0.4em 0.5em 0.4em;box-sizing: border-box;padding-bottom: 0.4em;background-color: white;}#sk-container-id-3 div.sk-label label {font-family: monospace;font-weight: bold;display: inline-block;line-height: 1.2em;}#sk-container-id-3 div.sk-label-container {text-align: center;}#sk-container-id-3 div.sk-container {/* jupyter's `normalize.less` sets `[hidden] { display: none; }` but bootstrap.min.css set `[hidden] { display: none !important; }` so we also need the `!important` here to be able to override the default hidden behavior on the sphinx rendered scikit-learn.org. See: https://github.com/scikit-learn/scikit-learn/issues/21755 */display: inline-block !important;position: relative;}#sk-container-id-3 div.sk-text-repr-fallback {display: none;}</style><div id=\"sk-container-id-3\" class=\"sk-top-container\"><div class=\"sk-text-repr-fallback\"><pre>GridSearchCV(cv=5, estimator=IsolationForest(random_state=42), n_jobs=-1,\n",
       "             param_grid={&#x27;n_estimators&#x27;: [50, 75, 100, 125, 150]},\n",
       "             scoring=&#x27;accuracy&#x27;, verbose=1)</pre><b>In a Jupyter environment, please rerun this cell to show the HTML representation or trust the notebook. <br />On GitHub, the HTML representation is unable to render, please try loading this page with nbviewer.org.</b></div><div class=\"sk-container\" hidden><div class=\"sk-item sk-dashed-wrapped\"><div class=\"sk-label-container\"><div class=\"sk-label sk-toggleable\"><input class=\"sk-toggleable__control sk-hidden--visually\" id=\"sk-estimator-id-5\" type=\"checkbox\" ><label for=\"sk-estimator-id-5\" class=\"sk-toggleable__label sk-toggleable__label-arrow\">GridSearchCV</label><div class=\"sk-toggleable__content\"><pre>GridSearchCV(cv=5, estimator=IsolationForest(random_state=42), n_jobs=-1,\n",
       "             param_grid={&#x27;n_estimators&#x27;: [50, 75, 100, 125, 150]},\n",
       "             scoring=&#x27;accuracy&#x27;, verbose=1)</pre></div></div></div><div class=\"sk-parallel\"><div class=\"sk-parallel-item\"><div class=\"sk-item\"><div class=\"sk-label-container\"><div class=\"sk-label sk-toggleable\"><input class=\"sk-toggleable__control sk-hidden--visually\" id=\"sk-estimator-id-6\" type=\"checkbox\" ><label for=\"sk-estimator-id-6\" class=\"sk-toggleable__label sk-toggleable__label-arrow\">estimator: IsolationForest</label><div class=\"sk-toggleable__content\"><pre>IsolationForest(random_state=42)</pre></div></div></div><div class=\"sk-serial\"><div class=\"sk-item\"><div class=\"sk-estimator sk-toggleable\"><input class=\"sk-toggleable__control sk-hidden--visually\" id=\"sk-estimator-id-7\" type=\"checkbox\" ><label for=\"sk-estimator-id-7\" class=\"sk-toggleable__label sk-toggleable__label-arrow\">IsolationForest</label><div class=\"sk-toggleable__content\"><pre>IsolationForest(random_state=42)</pre></div></div></div></div></div></div></div></div></div></div>"
      ],
      "text/plain": [
       "GridSearchCV(cv=5, estimator=IsolationForest(random_state=42), n_jobs=-1,\n",
       "             param_grid={'n_estimators': [50, 75, 100, 125, 150]},\n",
       "             scoring='accuracy', verbose=1)"
      ]
     },
     "execution_count": 73,
     "metadata": {},
     "output_type": "execute_result"
    }
   ],
   "source": [
    "isolationForestCV.fit(X = X_train, y = y_train)"
   ]
  },
  {
   "cell_type": "code",
   "execution_count": null,
   "id": "475d8560",
   "metadata": {
    "execution": {
     "iopub.execute_input": "2022-10-20T08:47:54.789710Z",
     "iopub.status.busy": "2022-10-20T08:47:54.789231Z",
     "iopub.status.idle": "2022-10-20T08:47:54.796099Z",
     "shell.execute_reply": "2022-10-20T08:47:54.794991Z"
    },
    "papermill": {
     "duration": 0.951466,
     "end_time": "2022-10-20T08:47:54.798395",
     "exception": false,
     "start_time": "2022-10-20T08:47:53.846929",
     "status": "completed"
    },
    "tags": []
   },
   "outputs": [
    {
     "name": "stdout",
     "output_type": "stream",
     "text": [
      "Accuracy score on Validation set: \n",
      "\n",
      "0.551437459405873\n",
      "---------------\n",
      "Best performing hyperparameters on Validation set: \n",
      "{'n_estimators': 50}\n",
      "---------------\n",
      "IsolationForest(n_estimators=50, random_state=42)\n"
     ]
    }
   ],
   "source": [
    "print(\"Accuracy score on Validation set: \\n\")\n",
    "print(isolationForestCV.best_score_ )\n",
    "print(\"---------------\")\n",
    "print(\"Best performing hyperparameters on Validation set: \")\n",
    "print(isolationForestCV.best_params_)\n",
    "print(\"---------------\")\n",
    "print(isolationForestCV.best_estimator_)"
   ]
  },
  {
   "cell_type": "code",
   "execution_count": null,
   "id": "fa99f809",
   "metadata": {},
   "outputs": [],
   "source": [
    "joblib.dump(isolationForestCV, 'isolationForest.joblib')"
   ]
  },
  {
   "cell_type": "code",
   "execution_count": null,
   "id": "440ef2e6",
   "metadata": {
    "execution": {
     "iopub.execute_input": "2022-10-20T08:47:56.594022Z",
     "iopub.status.busy": "2022-10-20T08:47:56.593186Z",
     "iopub.status.idle": "2022-10-20T08:47:56.597617Z",
     "shell.execute_reply": "2022-10-20T08:47:56.596816Z"
    },
    "papermill": {
     "duration": 0.939769,
     "end_time": "2022-10-20T08:47:56.599680",
     "exception": false,
     "start_time": "2022-10-20T08:47:55.659911",
     "status": "completed"
    },
    "tags": []
   },
   "outputs": [],
   "source": [
    "model = isolationForestCV.best_estimator_"
   ]
  },
  {
   "cell_type": "code",
   "execution_count": null,
   "id": "d9f8b4c4",
   "metadata": {
    "execution": {
     "iopub.execute_input": "2022-10-20T08:47:58.407219Z",
     "iopub.status.busy": "2022-10-20T08:47:58.406286Z",
     "iopub.status.idle": "2022-10-20T08:47:58.413539Z",
     "shell.execute_reply": "2022-10-20T08:47:58.412640Z"
    },
    "papermill": {
     "duration": 0.959435,
     "end_time": "2022-10-20T08:47:58.415756",
     "exception": false,
     "start_time": "2022-10-20T08:47:57.456321",
     "status": "completed"
    },
    "tags": []
   },
   "outputs": [
    {
     "data": {
      "text/html": [
       "<style>#sk-container-id-4 {color: black;}#sk-container-id-4 pre{padding: 0;}#sk-container-id-4 div.sk-toggleable {background-color: white;}#sk-container-id-4 label.sk-toggleable__label {cursor: pointer;display: block;width: 100%;margin-bottom: 0;padding: 0.3em;box-sizing: border-box;text-align: center;}#sk-container-id-4 label.sk-toggleable__label-arrow:before {content: \"▸\";float: left;margin-right: 0.25em;color: #696969;}#sk-container-id-4 label.sk-toggleable__label-arrow:hover:before {color: black;}#sk-container-id-4 div.sk-estimator:hover label.sk-toggleable__label-arrow:before {color: black;}#sk-container-id-4 div.sk-toggleable__content {max-height: 0;max-width: 0;overflow: hidden;text-align: left;background-color: #f0f8ff;}#sk-container-id-4 div.sk-toggleable__content pre {margin: 0.2em;color: black;border-radius: 0.25em;background-color: #f0f8ff;}#sk-container-id-4 input.sk-toggleable__control:checked~div.sk-toggleable__content {max-height: 200px;max-width: 100%;overflow: auto;}#sk-container-id-4 input.sk-toggleable__control:checked~label.sk-toggleable__label-arrow:before {content: \"▾\";}#sk-container-id-4 div.sk-estimator input.sk-toggleable__control:checked~label.sk-toggleable__label {background-color: #d4ebff;}#sk-container-id-4 div.sk-label input.sk-toggleable__control:checked~label.sk-toggleable__label {background-color: #d4ebff;}#sk-container-id-4 input.sk-hidden--visually {border: 0;clip: rect(1px 1px 1px 1px);clip: rect(1px, 1px, 1px, 1px);height: 1px;margin: -1px;overflow: hidden;padding: 0;position: absolute;width: 1px;}#sk-container-id-4 div.sk-estimator {font-family: monospace;background-color: #f0f8ff;border: 1px dotted black;border-radius: 0.25em;box-sizing: border-box;margin-bottom: 0.5em;}#sk-container-id-4 div.sk-estimator:hover {background-color: #d4ebff;}#sk-container-id-4 div.sk-parallel-item::after {content: \"\";width: 100%;border-bottom: 1px solid gray;flex-grow: 1;}#sk-container-id-4 div.sk-label:hover label.sk-toggleable__label {background-color: #d4ebff;}#sk-container-id-4 div.sk-serial::before {content: \"\";position: absolute;border-left: 1px solid gray;box-sizing: border-box;top: 0;bottom: 0;left: 50%;z-index: 0;}#sk-container-id-4 div.sk-serial {display: flex;flex-direction: column;align-items: center;background-color: white;padding-right: 0.2em;padding-left: 0.2em;position: relative;}#sk-container-id-4 div.sk-item {position: relative;z-index: 1;}#sk-container-id-4 div.sk-parallel {display: flex;align-items: stretch;justify-content: center;background-color: white;position: relative;}#sk-container-id-4 div.sk-item::before, #sk-container-id-4 div.sk-parallel-item::before {content: \"\";position: absolute;border-left: 1px solid gray;box-sizing: border-box;top: 0;bottom: 0;left: 50%;z-index: -1;}#sk-container-id-4 div.sk-parallel-item {display: flex;flex-direction: column;z-index: 1;position: relative;background-color: white;}#sk-container-id-4 div.sk-parallel-item:first-child::after {align-self: flex-end;width: 50%;}#sk-container-id-4 div.sk-parallel-item:last-child::after {align-self: flex-start;width: 50%;}#sk-container-id-4 div.sk-parallel-item:only-child::after {width: 0;}#sk-container-id-4 div.sk-dashed-wrapped {border: 1px dashed gray;margin: 0 0.4em 0.5em 0.4em;box-sizing: border-box;padding-bottom: 0.4em;background-color: white;}#sk-container-id-4 div.sk-label label {font-family: monospace;font-weight: bold;display: inline-block;line-height: 1.2em;}#sk-container-id-4 div.sk-label-container {text-align: center;}#sk-container-id-4 div.sk-container {/* jupyter's `normalize.less` sets `[hidden] { display: none; }` but bootstrap.min.css set `[hidden] { display: none !important; }` so we also need the `!important` here to be able to override the default hidden behavior on the sphinx rendered scikit-learn.org. See: https://github.com/scikit-learn/scikit-learn/issues/21755 */display: inline-block !important;position: relative;}#sk-container-id-4 div.sk-text-repr-fallback {display: none;}</style><div id=\"sk-container-id-4\" class=\"sk-top-container\"><div class=\"sk-text-repr-fallback\"><pre>IsolationForest(n_estimators=50, random_state=42)</pre><b>In a Jupyter environment, please rerun this cell to show the HTML representation or trust the notebook. <br />On GitHub, the HTML representation is unable to render, please try loading this page with nbviewer.org.</b></div><div class=\"sk-container\" hidden><div class=\"sk-item\"><div class=\"sk-estimator sk-toggleable\"><input class=\"sk-toggleable__control sk-hidden--visually\" id=\"sk-estimator-id-8\" type=\"checkbox\" checked><label for=\"sk-estimator-id-8\" class=\"sk-toggleable__label sk-toggleable__label-arrow\">IsolationForest</label><div class=\"sk-toggleable__content\"><pre>IsolationForest(n_estimators=50, random_state=42)</pre></div></div></div></div></div>"
      ],
      "text/plain": [
       "IsolationForest(n_estimators=50, random_state=42)"
      ]
     },
     "execution_count": 76,
     "metadata": {},
     "output_type": "execute_result"
    }
   ],
   "source": [
    "model"
   ]
  },
  {
   "cell_type": "code",
   "execution_count": null,
   "id": "02c1e392",
   "metadata": {
    "execution": {
     "iopub.execute_input": "2022-10-20T08:48:00.119877Z",
     "iopub.status.busy": "2022-10-20T08:48:00.119460Z",
     "iopub.status.idle": "2022-10-20T08:48:10.177436Z",
     "shell.execute_reply": "2022-10-20T08:48:10.176036Z"
    },
    "papermill": {
     "duration": 10.912383,
     "end_time": "2022-10-20T08:48:10.180149",
     "exception": false,
     "start_time": "2022-10-20T08:47:59.267766",
     "status": "completed"
    },
    "tags": []
   },
   "outputs": [
    {
     "data": {
      "text/plain": [
       "{1: 285455, -1: 27971}"
      ]
     },
     "execution_count": 77,
     "metadata": {},
     "output_type": "execute_result"
    }
   ],
   "source": [
    "predictions = model.predict(X_test)\n",
    "freq_count(predictions)"
   ]
  },
  {
   "cell_type": "code",
   "execution_count": null,
   "id": "e5f88553",
   "metadata": {},
   "outputs": [],
   "source": [
    "joblib.dump(model, 'isolationForest.joblib')"
   ]
  },
  {
   "cell_type": "code",
   "execution_count": null,
   "id": "74778fed",
   "metadata": {
    "execution": {
     "iopub.execute_input": "2022-10-20T08:48:12.039466Z",
     "iopub.status.busy": "2022-10-20T08:48:12.038713Z",
     "iopub.status.idle": "2022-10-20T08:48:12.077995Z",
     "shell.execute_reply": "2022-10-20T08:48:12.076994Z"
    },
    "papermill": {
     "duration": 0.969491,
     "end_time": "2022-10-20T08:48:12.080354",
     "exception": false,
     "start_time": "2022-10-20T08:48:11.110863",
     "status": "completed"
    },
    "tags": []
   },
   "outputs": [
    {
     "name": "stdout",
     "output_type": "stream",
     "text": [
      "0.5453153216389196\n"
     ]
    }
   ],
   "source": [
    "print(accuracy_score(y_test, predictions))"
   ]
  },
  {
   "cell_type": "code",
   "execution_count": null,
   "id": "088cf9a2",
   "metadata": {
    "execution": {
     "iopub.execute_input": "2022-10-20T08:48:13.859499Z",
     "iopub.status.busy": "2022-10-20T08:48:13.858626Z",
     "iopub.status.idle": "2022-10-20T08:48:14.131996Z",
     "shell.execute_reply": "2022-10-20T08:48:14.130681Z"
    },
    "papermill": {
     "duration": 1.210143,
     "end_time": "2022-10-20T08:48:14.134565",
     "exception": false,
     "start_time": "2022-10-20T08:48:12.924422",
     "status": "completed"
    },
    "tags": []
   },
   "outputs": [
    {
     "data": {
      "text/plain": [
       "array([[     0, 114539],\n",
       "       [ 27971, 170916]], dtype=int64)"
      ]
     },
     "execution_count": 79,
     "metadata": {},
     "output_type": "execute_result"
    }
   ],
   "source": [
    "from sklearn.metrics import confusion_matrix\n",
    "cf_matrix = confusion_matrix(y_test, predictions)\n",
    "cf_matrix"
   ]
  },
  {
   "cell_type": "code",
   "execution_count": null,
   "id": "5aded4cd",
   "metadata": {
    "execution": {
     "iopub.execute_input": "2022-10-20T08:48:15.954294Z",
     "iopub.status.busy": "2022-10-20T08:48:15.953821Z",
     "iopub.status.idle": "2022-10-20T08:48:16.206165Z",
     "shell.execute_reply": "2022-10-20T08:48:16.204811Z"
    },
    "papermill": {
     "duration": 1.2178,
     "end_time": "2022-10-20T08:48:16.208796",
     "exception": false,
     "start_time": "2022-10-20T08:48:14.990996",
     "status": "completed"
    },
    "tags": []
   },
   "outputs": [
    {
     "data": {
      "text/plain": [
       "<AxesSubplot:>"
      ]
     },
     "execution_count": 80,
     "metadata": {},
     "output_type": "execute_result"
    },
    {
     "data": {
      "image/png": "[encoded data removed]",
      "text/plain": [
       "<Figure size 432x288 with 2 Axes>"
      ]
     },
     "metadata": {
      "needs_background": "light"
     },
     "output_type": "display_data"
    }
   ],
   "source": [
    "import seaborn as sns\n",
    "sns.heatmap(cf_matrix, annot=True)"
   ]
  },
  {
   "cell_type": "code",
   "execution_count": null,
   "id": "257a5818",
   "metadata": {},
   "outputs": [],
   "source": [
    "from sklearn.svm import SVC\n",
    "from sklearn.model_selection import GridSearchCV\n",
    "\n",
    "# Initialize the Support Vector Machine Classifier\n",
    "svm_model = SVC()\n",
    "\n",
    "# Define Hyperparameters for tuning\n",
    "hyperparameters = {\n",
    "    'C': [0.1, 1, 10, 100],  # Regularization parameter\n",
    "    'kernel': ['linear', 'poly', 'rbf', 'sigmoid'],  # Specifies the kernel type\n",
    "    'gamma': ['scale', 'auto']  # Kernel coefficient\n",
    "}\n",
    "\n",
    "# Setup GridSearchCV for hyperparameter tuning\n",
    "SVMCV = GridSearchCV(estimator=svm_model, param_grid=hyperparameters, cv=5, verbose=1, n_jobs=-1)\n",
    "\n",
    "# Fit the model to your training dataset\n",
    "# Replace 'X_train' and 'y_train' with your actual training data\n",
    "SVMCV.fit(X = X_train, y = y_train)\n",
    "\n",
    "# After fitting, you can access the best parameters and best estimator\n",
    "print(\"Best Parameters: \", SVMCV.best_params_)\n",
    "print(\"Best Estimator: \", SVMCV.best_estimator_)\n",
    "\n",
    "# Note: Make sure to scale your features before training as SVM is sensitive to unscaled data.\n"
   ]
  },
  {
   "cell_type": "code",
   "execution_count": null,
   "id": "21b5b8a3",
   "metadata": {},
   "outputs": [],
   "source": [
    "model = SVMCV.best_estimator_"
   ]
  },
  {
   "cell_type": "code",
   "execution_count": null,
   "id": "602a910f",
   "metadata": {},
   "outputs": [],
   "source": [
    "joblib.dump(model, 'SVM.joblib')"
   ]
  }
 ],
 "metadata": {
  "kernelspec": {
   "display_name": "nghia",
   "language": "python",
   "name": "nghia"
  },
  "language_info": {
   "codemirror_mode": {
    "name": "ipython",
    "version": 3
   },
   "file_extension": ".py",
   "mimetype": "text/x-python",
   "name": "python",
   "nbconvert_exporter": "python",
   "pygments_lexer": "ipython3",
   "version": "3.9.18"
  },
  "papermill": {
   "default_parameters": {},
   "duration": 2780.337578,
   "end_time": "2022-10-20T08:48:23.365133",
   "environment_variables": {},
   "exception": null,
   "input_path": "__notebook__.ipynb",
   "output_path": "__notebook__.ipynb",
   "parameters": {},
   "start_time": "2022-10-20T08:02:03.027555",
   "version": "2.3.4"
  }
 },
 "nbformat": 4,
 "nbformat_minor": 5
}
